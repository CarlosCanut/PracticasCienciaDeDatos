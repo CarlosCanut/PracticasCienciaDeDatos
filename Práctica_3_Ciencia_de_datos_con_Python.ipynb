{
  "nbformat": 4,
  "nbformat_minor": 0,
  "metadata": {
    "colab": {
      "name": "Práctica 3 - Ciencia de datos con Python",
      "provenance": [],
      "collapsed_sections": [
        "eHrUOpbnznfM",
        "H9qKKV8n8M9M",
        "4KYZz_YdMU6I"
      ]
    },
    "kernelspec": {
      "display_name": "Python 3",
      "name": "python3"
    }
  },
  "cells": [
    {
      "cell_type": "markdown",
      "metadata": {
        "id": "Jre3wzw27bHc"
      },
      "source": [
        "# Inferencia y contraste de hipótesis en dos poblaciones"
      ]
    },
    {
      "cell_type": "markdown",
      "metadata": {
        "id": "t3IKzw8m7fKB"
      },
      "source": [
        "En esta práctica vamos a centrarnos en aplicar conceptos de contraste de inferencia y contraste de hipótesis a conjuntos de datos reales. En este caso, vamos a dar un golpe de timón y trabajaremos con Python y con sus herramientas asociadas. Las razones detrás de esta elección son varias:\n",
        "*   Python es uno de los lenguajes de programación más populares en los últimos años, con múltiples aplicaciones a campos como la estadística, la inteligencia artificial, y la ciencia de datos. Además, también es un lenguaje multipropósito que puede emplearse para la construcción de muchos tipos de aplicaciones. Esto hace de su aprendizaje una herramienta versátil que puede ser útil en más de un contexto.\n",
        "*   La realidad laboral del científico de datos supone principalmente trabajar con dos tecnologías reinantes en el ecosistema: Python y R. Pese a que R está más orientado al análisis estadístico, queremos aprovechar vuestro bagaje en Python dado el ajustado calendario de prácticas.\n",
        "*  Existen multitud de paquetes (¡y van aumentando!) para facilitar el trabajo del analista y el científico de datos. En esta práctica trabajaremos con algunos de ellos."
      ]
    },
    {
      "cell_type": "markdown",
      "metadata": {
        "id": "rzySIL399H4C"
      },
      "source": [
        "# Instalando los paquetes de Python adecuados e importándolos"
      ]
    },
    {
      "cell_type": "markdown",
      "metadata": {
        "id": "Ix-7bGLz9QVh"
      },
      "source": [
        "Primero que nada, instalaremos algunos paquetes de Python que necesitaremos para la práctica. Aunque estos no vienen instalados por defecto en el entorno de Google Colab, pueden ser instalados fácilmente con *pip install nombre_paquete*. Además, importaremos algunas funciones y paquetes que sí están instalados por defecto en Google Colab como ahora *Pandas*, *Seaborn*, *Matplotlib*, o *Scipy*.\n",
        "\n",
        "El siguiente fragmento de código realiza estas instalaciones e importaciones. Asegúrate de ejecutarlo cada vez que inicies este notebook de nuevo."
      ]
    },
    {
      "cell_type": "code",
      "metadata": {
        "id": "ee05MUsKpsG5",
        "colab": {
          "base_uri": "https://localhost:8080/"
        },
        "outputId": "bea97e59-a863-4673-eb4b-483b775a103e"
      },
      "source": [
        "!pip install researchpy\n",
        "!pip install statsmodels\n",
        "import seaborn as sns\n",
        "import pandas as pd\n",
        "import matplotlib.pyplot as plt\n",
        "import matplotlib.gridspec as gridspec\n",
        "import requests\n",
        "import io\n",
        "import math\n",
        "from scipy import stats\n",
        "import numpy as np\n",
        "import researchpy as rp\n",
        "import statsmodels.api as sm"
      ],
      "execution_count": 180,
      "outputs": [
        {
          "output_type": "stream",
          "text": [
            "Requirement already satisfied: researchpy in /usr/local/lib/python3.6/dist-packages (0.2.3)\n",
            "Requirement already satisfied: scipy in /usr/local/lib/python3.6/dist-packages (from researchpy) (1.4.1)\n",
            "Requirement already satisfied: numpy in /usr/local/lib/python3.6/dist-packages (from researchpy) (1.18.5)\n",
            "Requirement already satisfied: statsmodels in /usr/local/lib/python3.6/dist-packages (from researchpy) (0.10.2)\n",
            "Requirement already satisfied: pandas in /usr/local/lib/python3.6/dist-packages (from researchpy) (1.1.4)\n",
            "Requirement already satisfied: patsy>=0.4.0 in /usr/local/lib/python3.6/dist-packages (from statsmodels->researchpy) (0.5.1)\n",
            "Requirement already satisfied: pytz>=2017.2 in /usr/local/lib/python3.6/dist-packages (from pandas->researchpy) (2018.9)\n",
            "Requirement already satisfied: python-dateutil>=2.7.3 in /usr/local/lib/python3.6/dist-packages (from pandas->researchpy) (2.8.1)\n",
            "Requirement already satisfied: six in /usr/local/lib/python3.6/dist-packages (from patsy>=0.4.0->statsmodels->researchpy) (1.15.0)\n",
            "Requirement already satisfied: statsmodels in /usr/local/lib/python3.6/dist-packages (0.10.2)\n",
            "Requirement already satisfied: scipy>=0.18 in /usr/local/lib/python3.6/dist-packages (from statsmodels) (1.4.1)\n",
            "Requirement already satisfied: numpy>=1.11 in /usr/local/lib/python3.6/dist-packages (from statsmodels) (1.18.5)\n",
            "Requirement already satisfied: pandas>=0.19 in /usr/local/lib/python3.6/dist-packages (from statsmodels) (1.1.4)\n",
            "Requirement already satisfied: patsy>=0.4.0 in /usr/local/lib/python3.6/dist-packages (from statsmodels) (0.5.1)\n",
            "Requirement already satisfied: pytz>=2017.2 in /usr/local/lib/python3.6/dist-packages (from pandas>=0.19->statsmodels) (2018.9)\n",
            "Requirement already satisfied: python-dateutil>=2.7.3 in /usr/local/lib/python3.6/dist-packages (from pandas>=0.19->statsmodels) (2.8.1)\n",
            "Requirement already satisfied: six in /usr/local/lib/python3.6/dist-packages (from patsy>=0.4.0->statsmodels) (1.15.0)\n"
          ],
          "name": "stdout"
        }
      ]
    },
    {
      "cell_type": "markdown",
      "metadata": {
        "id": "HTz45AQm94eu"
      },
      "source": [
        "# Cargando un archivo CSV desde Internet"
      ]
    },
    {
      "cell_type": "markdown",
      "metadata": {
        "id": "nl-eWf7L9-8o"
      },
      "source": [
        "Los archivos CSV (*comma separated value*) son formatos de fichero plano que se emplean para representar datos estructurados tabularmente (i.e., en forma de tabla). Para esta práctica vamos a utilizar un conjunto de datos procedente del juego FIFA 2020. Éste contiene información sobre jugadores de fútbol de diferentes ligas, así como los atributos de valoración de estos jugadores en el videojuego FIFA. Estas valoraciones han sido dadas por un grupo de expertos en fútbol, que son parte del equipo de trabajo de EA Sports.\n",
        "\n",
        "El conjunto de datos se encuentra en un repositorio de Git, pero podemos cargarlo fácilmente con ayuda del paquete *requests* (empleado para realizar peticiones HTTP) y a través de *Pandas*. Éste último es un paquete de Python especializado en la representación, transformación, y análisis de datos tabulares. \n",
        "\n",
        "El siguiente fragmento de código carga el conjunto de datos en un *Dataframe*, que es la clase empleada en Pandas para el almacenamiento de datos tabulares. Ejecuta el código para cargar el conjunto de datos."
      ]
    },
    {
      "cell_type": "code",
      "metadata": {
        "id": "FQY6jKnkwB5B"
      },
      "source": [
        "string_csv = requests.get(\"https://gitlab.com/drvicsana/ciencia-datos/-/raw/master/datasets/fifa/players_20.csv\").content\n",
        "string_stream = io.StringIO(string_csv.decode(\"utf-8\"))\n",
        "player_df = pd.read_csv(string_stream)"
      ],
      "execution_count": 97,
      "outputs": []
    },
    {
      "cell_type": "markdown",
      "metadata": {
        "id": "iUz3XDYwH98l"
      },
      "source": [
        "# Describiendo la forma general de un conjunto de datos"
      ]
    },
    {
      "cell_type": "markdown",
      "metadata": {
        "id": "hlxj8ENVAETd"
      },
      "source": [
        "Bien, ya hemos cargado el conjunto de datos en nuestro notebook, y éste ha quedado almacenado en un *Dataframe* al que hemos nombrado como *player_df*. Éste contiene la información de todos los jugadores de fútbol presentes en el videojuego FIFA 2020. Normalmente, una vez hemos cargado un conjunto de datos resulta interesante visualizar parte de sus contenidos para hacernos una idea del tipo de valores ante los cuales nos encontramos. Podemos analizar la cabecera (i.e., los primeros registros del *Dataframe* o tabla) a partir del método *head*. Ejecuta el siguiente fragmento de código."
      ]
    },
    {
      "cell_type": "code",
      "metadata": {
        "id": "fzIRAHD8wQ3S",
        "colab": {
          "base_uri": "https://localhost:8080/",
          "height": 479
        },
        "outputId": "a8bad23d-778f-467c-df60-f71037003cc3"
      },
      "source": [
        "player_df.head()"
      ],
      "execution_count": 98,
      "outputs": [
        {
          "output_type": "execute_result",
          "data": {
            "text/html": [
              "<div>\n",
              "<style scoped>\n",
              "    .dataframe tbody tr th:only-of-type {\n",
              "        vertical-align: middle;\n",
              "    }\n",
              "\n",
              "    .dataframe tbody tr th {\n",
              "        vertical-align: top;\n",
              "    }\n",
              "\n",
              "    .dataframe thead th {\n",
              "        text-align: right;\n",
              "    }\n",
              "</style>\n",
              "<table border=\"1\" class=\"dataframe\">\n",
              "  <thead>\n",
              "    <tr style=\"text-align: right;\">\n",
              "      <th></th>\n",
              "      <th>sofifa_id</th>\n",
              "      <th>player_url</th>\n",
              "      <th>short_name</th>\n",
              "      <th>long_name</th>\n",
              "      <th>age</th>\n",
              "      <th>dob</th>\n",
              "      <th>height_cm</th>\n",
              "      <th>weight_kg</th>\n",
              "      <th>nationality</th>\n",
              "      <th>club</th>\n",
              "      <th>overall</th>\n",
              "      <th>potential</th>\n",
              "      <th>value_eur</th>\n",
              "      <th>wage_eur</th>\n",
              "      <th>player_positions</th>\n",
              "      <th>preferred_foot</th>\n",
              "      <th>international_reputation</th>\n",
              "      <th>weak_foot</th>\n",
              "      <th>skill_moves</th>\n",
              "      <th>work_rate</th>\n",
              "      <th>body_type</th>\n",
              "      <th>real_face</th>\n",
              "      <th>release_clause_eur</th>\n",
              "      <th>player_tags</th>\n",
              "      <th>team_position</th>\n",
              "      <th>team_jersey_number</th>\n",
              "      <th>loaned_from</th>\n",
              "      <th>joined</th>\n",
              "      <th>contract_valid_until</th>\n",
              "      <th>nation_position</th>\n",
              "      <th>nation_jersey_number</th>\n",
              "      <th>pace</th>\n",
              "      <th>shooting</th>\n",
              "      <th>passing</th>\n",
              "      <th>dribbling</th>\n",
              "      <th>defending</th>\n",
              "      <th>physic</th>\n",
              "      <th>gk_diving</th>\n",
              "      <th>gk_handling</th>\n",
              "      <th>gk_kicking</th>\n",
              "      <th>...</th>\n",
              "      <th>mentality_aggression</th>\n",
              "      <th>mentality_interceptions</th>\n",
              "      <th>mentality_positioning</th>\n",
              "      <th>mentality_vision</th>\n",
              "      <th>mentality_penalties</th>\n",
              "      <th>mentality_composure</th>\n",
              "      <th>defending_marking</th>\n",
              "      <th>defending_standing_tackle</th>\n",
              "      <th>defending_sliding_tackle</th>\n",
              "      <th>goalkeeping_diving</th>\n",
              "      <th>goalkeeping_handling</th>\n",
              "      <th>goalkeeping_kicking</th>\n",
              "      <th>goalkeeping_positioning</th>\n",
              "      <th>goalkeeping_reflexes</th>\n",
              "      <th>ls</th>\n",
              "      <th>st</th>\n",
              "      <th>rs</th>\n",
              "      <th>lw</th>\n",
              "      <th>lf</th>\n",
              "      <th>cf</th>\n",
              "      <th>rf</th>\n",
              "      <th>rw</th>\n",
              "      <th>lam</th>\n",
              "      <th>cam</th>\n",
              "      <th>ram</th>\n",
              "      <th>lm</th>\n",
              "      <th>lcm</th>\n",
              "      <th>cm</th>\n",
              "      <th>rcm</th>\n",
              "      <th>rm</th>\n",
              "      <th>lwb</th>\n",
              "      <th>ldm</th>\n",
              "      <th>cdm</th>\n",
              "      <th>rdm</th>\n",
              "      <th>rwb</th>\n",
              "      <th>lb</th>\n",
              "      <th>lcb</th>\n",
              "      <th>cb</th>\n",
              "      <th>rcb</th>\n",
              "      <th>rb</th>\n",
              "    </tr>\n",
              "  </thead>\n",
              "  <tbody>\n",
              "    <tr>\n",
              "      <th>0</th>\n",
              "      <td>158023</td>\n",
              "      <td>https://sofifa.com/player/158023/lionel-messi/...</td>\n",
              "      <td>L. Messi</td>\n",
              "      <td>Lionel Andrés Messi Cuccittini</td>\n",
              "      <td>32</td>\n",
              "      <td>1987-06-24</td>\n",
              "      <td>170</td>\n",
              "      <td>72</td>\n",
              "      <td>Argentina</td>\n",
              "      <td>FC Barcelona</td>\n",
              "      <td>94</td>\n",
              "      <td>94</td>\n",
              "      <td>95500000</td>\n",
              "      <td>565000</td>\n",
              "      <td>RW, CF, ST</td>\n",
              "      <td>Left</td>\n",
              "      <td>5</td>\n",
              "      <td>4</td>\n",
              "      <td>4</td>\n",
              "      <td>Medium/Low</td>\n",
              "      <td>Messi</td>\n",
              "      <td>Yes</td>\n",
              "      <td>195800000.0</td>\n",
              "      <td>#Dribbler, #Distance Shooter, #Crosser, #FK Sp...</td>\n",
              "      <td>RW</td>\n",
              "      <td>10.0</td>\n",
              "      <td>NaN</td>\n",
              "      <td>2004-07-01</td>\n",
              "      <td>2021.0</td>\n",
              "      <td>NaN</td>\n",
              "      <td>NaN</td>\n",
              "      <td>87.0</td>\n",
              "      <td>92.0</td>\n",
              "      <td>92.0</td>\n",
              "      <td>96.0</td>\n",
              "      <td>39.0</td>\n",
              "      <td>66.0</td>\n",
              "      <td>NaN</td>\n",
              "      <td>NaN</td>\n",
              "      <td>NaN</td>\n",
              "      <td>...</td>\n",
              "      <td>48</td>\n",
              "      <td>40</td>\n",
              "      <td>94</td>\n",
              "      <td>94</td>\n",
              "      <td>75</td>\n",
              "      <td>96</td>\n",
              "      <td>33</td>\n",
              "      <td>37</td>\n",
              "      <td>26</td>\n",
              "      <td>6</td>\n",
              "      <td>11</td>\n",
              "      <td>15</td>\n",
              "      <td>14</td>\n",
              "      <td>8</td>\n",
              "      <td>89+2</td>\n",
              "      <td>89+2</td>\n",
              "      <td>89+2</td>\n",
              "      <td>93+2</td>\n",
              "      <td>93+2</td>\n",
              "      <td>93+2</td>\n",
              "      <td>93+2</td>\n",
              "      <td>93+2</td>\n",
              "      <td>93+2</td>\n",
              "      <td>93+2</td>\n",
              "      <td>93+2</td>\n",
              "      <td>92+2</td>\n",
              "      <td>87+2</td>\n",
              "      <td>87+2</td>\n",
              "      <td>87+2</td>\n",
              "      <td>92+2</td>\n",
              "      <td>68+2</td>\n",
              "      <td>66+2</td>\n",
              "      <td>66+2</td>\n",
              "      <td>66+2</td>\n",
              "      <td>68+2</td>\n",
              "      <td>63+2</td>\n",
              "      <td>52+2</td>\n",
              "      <td>52+2</td>\n",
              "      <td>52+2</td>\n",
              "      <td>63+2</td>\n",
              "    </tr>\n",
              "    <tr>\n",
              "      <th>1</th>\n",
              "      <td>20801</td>\n",
              "      <td>https://sofifa.com/player/20801/c-ronaldo-dos-...</td>\n",
              "      <td>Cristiano Ronaldo</td>\n",
              "      <td>Cristiano Ronaldo dos Santos Aveiro</td>\n",
              "      <td>34</td>\n",
              "      <td>1985-02-05</td>\n",
              "      <td>187</td>\n",
              "      <td>83</td>\n",
              "      <td>Portugal</td>\n",
              "      <td>Juventus</td>\n",
              "      <td>93</td>\n",
              "      <td>93</td>\n",
              "      <td>58500000</td>\n",
              "      <td>405000</td>\n",
              "      <td>ST, LW</td>\n",
              "      <td>Right</td>\n",
              "      <td>5</td>\n",
              "      <td>4</td>\n",
              "      <td>5</td>\n",
              "      <td>High/Low</td>\n",
              "      <td>C. Ronaldo</td>\n",
              "      <td>Yes</td>\n",
              "      <td>96500000.0</td>\n",
              "      <td>#Speedster, #Dribbler, #Distance Shooter, #Acr...</td>\n",
              "      <td>LW</td>\n",
              "      <td>7.0</td>\n",
              "      <td>NaN</td>\n",
              "      <td>2018-07-10</td>\n",
              "      <td>2022.0</td>\n",
              "      <td>LS</td>\n",
              "      <td>7.0</td>\n",
              "      <td>90.0</td>\n",
              "      <td>93.0</td>\n",
              "      <td>82.0</td>\n",
              "      <td>89.0</td>\n",
              "      <td>35.0</td>\n",
              "      <td>78.0</td>\n",
              "      <td>NaN</td>\n",
              "      <td>NaN</td>\n",
              "      <td>NaN</td>\n",
              "      <td>...</td>\n",
              "      <td>63</td>\n",
              "      <td>29</td>\n",
              "      <td>95</td>\n",
              "      <td>82</td>\n",
              "      <td>85</td>\n",
              "      <td>95</td>\n",
              "      <td>28</td>\n",
              "      <td>32</td>\n",
              "      <td>24</td>\n",
              "      <td>7</td>\n",
              "      <td>11</td>\n",
              "      <td>15</td>\n",
              "      <td>14</td>\n",
              "      <td>11</td>\n",
              "      <td>91+3</td>\n",
              "      <td>91+3</td>\n",
              "      <td>91+3</td>\n",
              "      <td>89+3</td>\n",
              "      <td>90+3</td>\n",
              "      <td>90+3</td>\n",
              "      <td>90+3</td>\n",
              "      <td>89+3</td>\n",
              "      <td>88+3</td>\n",
              "      <td>88+3</td>\n",
              "      <td>88+3</td>\n",
              "      <td>88+3</td>\n",
              "      <td>81+3</td>\n",
              "      <td>81+3</td>\n",
              "      <td>81+3</td>\n",
              "      <td>88+3</td>\n",
              "      <td>65+3</td>\n",
              "      <td>61+3</td>\n",
              "      <td>61+3</td>\n",
              "      <td>61+3</td>\n",
              "      <td>65+3</td>\n",
              "      <td>61+3</td>\n",
              "      <td>53+3</td>\n",
              "      <td>53+3</td>\n",
              "      <td>53+3</td>\n",
              "      <td>61+3</td>\n",
              "    </tr>\n",
              "    <tr>\n",
              "      <th>2</th>\n",
              "      <td>190871</td>\n",
              "      <td>https://sofifa.com/player/190871/neymar-da-sil...</td>\n",
              "      <td>Neymar Jr</td>\n",
              "      <td>Neymar da Silva Santos Junior</td>\n",
              "      <td>27</td>\n",
              "      <td>1992-02-05</td>\n",
              "      <td>175</td>\n",
              "      <td>68</td>\n",
              "      <td>Brazil</td>\n",
              "      <td>Paris Saint-Germain</td>\n",
              "      <td>92</td>\n",
              "      <td>92</td>\n",
              "      <td>105500000</td>\n",
              "      <td>290000</td>\n",
              "      <td>LW, CAM</td>\n",
              "      <td>Right</td>\n",
              "      <td>5</td>\n",
              "      <td>5</td>\n",
              "      <td>5</td>\n",
              "      <td>High/Medium</td>\n",
              "      <td>Neymar</td>\n",
              "      <td>Yes</td>\n",
              "      <td>195200000.0</td>\n",
              "      <td>#Speedster, #Dribbler, #Playmaker  , #Crosser,...</td>\n",
              "      <td>CAM</td>\n",
              "      <td>10.0</td>\n",
              "      <td>NaN</td>\n",
              "      <td>2017-08-03</td>\n",
              "      <td>2022.0</td>\n",
              "      <td>LW</td>\n",
              "      <td>10.0</td>\n",
              "      <td>91.0</td>\n",
              "      <td>85.0</td>\n",
              "      <td>87.0</td>\n",
              "      <td>95.0</td>\n",
              "      <td>32.0</td>\n",
              "      <td>58.0</td>\n",
              "      <td>NaN</td>\n",
              "      <td>NaN</td>\n",
              "      <td>NaN</td>\n",
              "      <td>...</td>\n",
              "      <td>51</td>\n",
              "      <td>36</td>\n",
              "      <td>87</td>\n",
              "      <td>90</td>\n",
              "      <td>90</td>\n",
              "      <td>94</td>\n",
              "      <td>27</td>\n",
              "      <td>26</td>\n",
              "      <td>29</td>\n",
              "      <td>9</td>\n",
              "      <td>9</td>\n",
              "      <td>15</td>\n",
              "      <td>15</td>\n",
              "      <td>11</td>\n",
              "      <td>84+3</td>\n",
              "      <td>84+3</td>\n",
              "      <td>84+3</td>\n",
              "      <td>90+3</td>\n",
              "      <td>89+3</td>\n",
              "      <td>89+3</td>\n",
              "      <td>89+3</td>\n",
              "      <td>90+3</td>\n",
              "      <td>90+3</td>\n",
              "      <td>90+3</td>\n",
              "      <td>90+3</td>\n",
              "      <td>89+3</td>\n",
              "      <td>82+3</td>\n",
              "      <td>82+3</td>\n",
              "      <td>82+3</td>\n",
              "      <td>89+3</td>\n",
              "      <td>66+3</td>\n",
              "      <td>61+3</td>\n",
              "      <td>61+3</td>\n",
              "      <td>61+3</td>\n",
              "      <td>66+3</td>\n",
              "      <td>61+3</td>\n",
              "      <td>46+3</td>\n",
              "      <td>46+3</td>\n",
              "      <td>46+3</td>\n",
              "      <td>61+3</td>\n",
              "    </tr>\n",
              "    <tr>\n",
              "      <th>3</th>\n",
              "      <td>200389</td>\n",
              "      <td>https://sofifa.com/player/200389/jan-oblak/20/...</td>\n",
              "      <td>J. Oblak</td>\n",
              "      <td>Jan Oblak</td>\n",
              "      <td>26</td>\n",
              "      <td>1993-01-07</td>\n",
              "      <td>188</td>\n",
              "      <td>87</td>\n",
              "      <td>Slovenia</td>\n",
              "      <td>Atlético Madrid</td>\n",
              "      <td>91</td>\n",
              "      <td>93</td>\n",
              "      <td>77500000</td>\n",
              "      <td>125000</td>\n",
              "      <td>GK</td>\n",
              "      <td>Right</td>\n",
              "      <td>3</td>\n",
              "      <td>3</td>\n",
              "      <td>1</td>\n",
              "      <td>Medium/Medium</td>\n",
              "      <td>Normal</td>\n",
              "      <td>Yes</td>\n",
              "      <td>164700000.0</td>\n",
              "      <td>NaN</td>\n",
              "      <td>GK</td>\n",
              "      <td>13.0</td>\n",
              "      <td>NaN</td>\n",
              "      <td>2014-07-16</td>\n",
              "      <td>2023.0</td>\n",
              "      <td>GK</td>\n",
              "      <td>1.0</td>\n",
              "      <td>NaN</td>\n",
              "      <td>NaN</td>\n",
              "      <td>NaN</td>\n",
              "      <td>NaN</td>\n",
              "      <td>NaN</td>\n",
              "      <td>NaN</td>\n",
              "      <td>87.0</td>\n",
              "      <td>92.0</td>\n",
              "      <td>78.0</td>\n",
              "      <td>...</td>\n",
              "      <td>34</td>\n",
              "      <td>19</td>\n",
              "      <td>11</td>\n",
              "      <td>65</td>\n",
              "      <td>11</td>\n",
              "      <td>68</td>\n",
              "      <td>27</td>\n",
              "      <td>12</td>\n",
              "      <td>18</td>\n",
              "      <td>87</td>\n",
              "      <td>92</td>\n",
              "      <td>78</td>\n",
              "      <td>90</td>\n",
              "      <td>89</td>\n",
              "      <td>NaN</td>\n",
              "      <td>NaN</td>\n",
              "      <td>NaN</td>\n",
              "      <td>NaN</td>\n",
              "      <td>NaN</td>\n",
              "      <td>NaN</td>\n",
              "      <td>NaN</td>\n",
              "      <td>NaN</td>\n",
              "      <td>NaN</td>\n",
              "      <td>NaN</td>\n",
              "      <td>NaN</td>\n",
              "      <td>NaN</td>\n",
              "      <td>NaN</td>\n",
              "      <td>NaN</td>\n",
              "      <td>NaN</td>\n",
              "      <td>NaN</td>\n",
              "      <td>NaN</td>\n",
              "      <td>NaN</td>\n",
              "      <td>NaN</td>\n",
              "      <td>NaN</td>\n",
              "      <td>NaN</td>\n",
              "      <td>NaN</td>\n",
              "      <td>NaN</td>\n",
              "      <td>NaN</td>\n",
              "      <td>NaN</td>\n",
              "      <td>NaN</td>\n",
              "    </tr>\n",
              "    <tr>\n",
              "      <th>4</th>\n",
              "      <td>183277</td>\n",
              "      <td>https://sofifa.com/player/183277/eden-hazard/2...</td>\n",
              "      <td>E. Hazard</td>\n",
              "      <td>Eden Hazard</td>\n",
              "      <td>28</td>\n",
              "      <td>1991-01-07</td>\n",
              "      <td>175</td>\n",
              "      <td>74</td>\n",
              "      <td>Belgium</td>\n",
              "      <td>Real Madrid</td>\n",
              "      <td>91</td>\n",
              "      <td>91</td>\n",
              "      <td>90000000</td>\n",
              "      <td>470000</td>\n",
              "      <td>LW, CF</td>\n",
              "      <td>Right</td>\n",
              "      <td>4</td>\n",
              "      <td>4</td>\n",
              "      <td>4</td>\n",
              "      <td>High/Medium</td>\n",
              "      <td>Normal</td>\n",
              "      <td>Yes</td>\n",
              "      <td>184500000.0</td>\n",
              "      <td>#Speedster, #Dribbler, #Acrobat</td>\n",
              "      <td>LW</td>\n",
              "      <td>7.0</td>\n",
              "      <td>NaN</td>\n",
              "      <td>2019-07-01</td>\n",
              "      <td>2024.0</td>\n",
              "      <td>LF</td>\n",
              "      <td>10.0</td>\n",
              "      <td>91.0</td>\n",
              "      <td>83.0</td>\n",
              "      <td>86.0</td>\n",
              "      <td>94.0</td>\n",
              "      <td>35.0</td>\n",
              "      <td>66.0</td>\n",
              "      <td>NaN</td>\n",
              "      <td>NaN</td>\n",
              "      <td>NaN</td>\n",
              "      <td>...</td>\n",
              "      <td>54</td>\n",
              "      <td>41</td>\n",
              "      <td>87</td>\n",
              "      <td>89</td>\n",
              "      <td>88</td>\n",
              "      <td>91</td>\n",
              "      <td>34</td>\n",
              "      <td>27</td>\n",
              "      <td>22</td>\n",
              "      <td>11</td>\n",
              "      <td>12</td>\n",
              "      <td>6</td>\n",
              "      <td>8</td>\n",
              "      <td>8</td>\n",
              "      <td>83+3</td>\n",
              "      <td>83+3</td>\n",
              "      <td>83+3</td>\n",
              "      <td>89+3</td>\n",
              "      <td>88+3</td>\n",
              "      <td>88+3</td>\n",
              "      <td>88+3</td>\n",
              "      <td>89+3</td>\n",
              "      <td>89+3</td>\n",
              "      <td>89+3</td>\n",
              "      <td>89+3</td>\n",
              "      <td>89+3</td>\n",
              "      <td>83+3</td>\n",
              "      <td>83+3</td>\n",
              "      <td>83+3</td>\n",
              "      <td>89+3</td>\n",
              "      <td>66+3</td>\n",
              "      <td>63+3</td>\n",
              "      <td>63+3</td>\n",
              "      <td>63+3</td>\n",
              "      <td>66+3</td>\n",
              "      <td>61+3</td>\n",
              "      <td>49+3</td>\n",
              "      <td>49+3</td>\n",
              "      <td>49+3</td>\n",
              "      <td>61+3</td>\n",
              "    </tr>\n",
              "  </tbody>\n",
              "</table>\n",
              "<p>5 rows × 104 columns</p>\n",
              "</div>"
            ],
            "text/plain": [
              "   sofifa_id                                         player_url  ...   rcb    rb\n",
              "0     158023  https://sofifa.com/player/158023/lionel-messi/...  ...  52+2  63+2\n",
              "1      20801  https://sofifa.com/player/20801/c-ronaldo-dos-...  ...  53+3  61+3\n",
              "2     190871  https://sofifa.com/player/190871/neymar-da-sil...  ...  46+3  61+3\n",
              "3     200389  https://sofifa.com/player/200389/jan-oblak/20/...  ...   NaN   NaN\n",
              "4     183277  https://sofifa.com/player/183277/eden-hazard/2...  ...  49+3  61+3\n",
              "\n",
              "[5 rows x 104 columns]"
            ]
          },
          "metadata": {
            "tags": []
          },
          "execution_count": 98
        }
      ]
    },
    {
      "cell_type": "markdown",
      "metadata": {
        "id": "oPaI5SwKAr7f"
      },
      "source": [
        "Como vemos, el *Dataframe* contiene información muy variada sobre cada uno de los jugadores de fútbol como ahora su nombre, edad, peso, altura, club de procedencia, posición, y las valoraciones del jugador en diferentes aspectos de juego. Si nos fijamos en la última fila de información aportada por el método *head*, veremos que hay un total de 104 columnas. No te preocupes, para esta práctica únicamente trabajaremos con un subconjunto de ellas.\n",
        "\n",
        "Como habrás podido observar, los datos están organizados de forma tabular. Esta representación de datos es muy cómoda cuando trabajamos con datos estructurados (i.e., todos tienen el mismo esquema) ya que estamos habituados a trabajar con esta abstracción en otros contextos como hojas de cálculo o bases de datos de tipo SQL. No obstante, el mundo se vuelve algo más complicado si tuviéramos que trabajar con datos no estructurados.\n",
        "\n",
        "Hemos visto cuántas columnas tiene cada registro de nuestro conjunto de datos, pero no sabemos nada del número de registros con el que contamos. Podemos solicitarle al *Dataframe* esta información con el atributo *shape*. Éste contiene el número de filas y de columnas del conjunto de datos. "
      ]
    },
    {
      "cell_type": "code",
      "metadata": {
        "id": "-gDQNGHXwYf8",
        "colab": {
          "base_uri": "https://localhost:8080/"
        },
        "outputId": "82291954-e8a9-4298-db19-7ecd3683fe59"
      },
      "source": [
        "player_df.shape"
      ],
      "execution_count": 99,
      "outputs": [
        {
          "output_type": "execute_result",
          "data": {
            "text/plain": [
              "(18278, 104)"
            ]
          },
          "metadata": {
            "tags": []
          },
          "execution_count": 99
        }
      ]
    },
    {
      "cell_type": "markdown",
      "metadata": {
        "id": "lXqOJFjACBNr"
      },
      "source": [
        "# Filtrando datos de un *Dataframe*"
      ]
    },
    {
      "cell_type": "markdown",
      "metadata": {
        "id": "MDdMx_K2CL8N"
      },
      "source": [
        "Como habrás podido observar, el conjunto de datos cuenta con casi cerca de 20 mil jugadores de fútbol. Para esta práctica no vamos a trabajar con este conjunto de datos tan grande, sino que trabajaremos con un subconjunto: los jugadores de la primera división española. Para conseguir trabajar con este conjunto reducido, tendremos que filtrar los registros con los que contamos. Esta no es una tarea complicada en *Pandas*, como veremos en este y en algunos ejemplos posteriores.\n",
        "\n",
        "Primero que nada, vamos a crearnos una lista con los nombres de los conjuntos de la primera división española. Esta lista está compuesta por cada uno de los nombres de los equipos de la primera división."
      ]
    },
    {
      "cell_type": "code",
      "metadata": {
        "id": "zThxTdvawryF"
      },
      "source": [
        "spanish_teams = [\"Real Madrid\", \"FC Barcelona\", \"Atlético Madrid\", \"Valencia CF\", \"Villarreal CF\", \"Real Valladolid CF\", \n",
        "                 \"Athletic Club de Bilbao\", \"Cádiz CF\", \"Granada CF\", \"Real Betis\", \"RCD Espanyol\", \"Real Sociedad\", \"Deportivo Alavés\", \"Elche CF\", \"Sevilla FC\", \n",
        "                 \"CA Osasuna\", \"SD Eibar\", \"RC Celta\", \"Levante UD\", \"SD Huesca\" ]"
      ],
      "execution_count": 100,
      "outputs": []
    },
    {
      "cell_type": "markdown",
      "metadata": {
        "id": "9FbRa60xDnIB"
      },
      "source": [
        "Para filtrar un *Dataframe* y quedarnos únicamente con aquellos registros que cumplen una determinada condición empleamos la siguiente sintáxis:\n",
        "\n",
        "```\n",
        "dataframe[ conjunto de booleanos ]\n",
        "```\n",
        "\n",
        "Debemos proporcionar un conjunto de valores booleanos, uno por cada registro del *Dataframe*, donde *True* indica que queremos conservar el registro y *False* que no queremos conservarlo. Hay múltiples formas de generar esa lista de booleanos de acuerdo a nuestro propósito. \n",
        "\n",
        "En *Pandas* podemos acceder directamente a los datos de una columna con diversas notaciones:\n",
        "\n",
        "```\n",
        "dataframe[ \"nombre de la columna\" ]\n",
        "dataframe.nombre_de_la_columna\n",
        "```\n",
        "\n",
        "Podemos determinar si cada uno los valores de una columna cumplen con una determinada condición o no. Por ejemplo:\n",
        "\n",
        "```\n",
        "dataframe.nombre_de_la_columna == \"Valencia CF\"\n",
        "dataframe.nombre_de_la_columna > 23\n",
        "```\n",
        "\n",
        "Esto genera un conjunto de booleanos con valores de cierto o falso dependiendo de si cada uno de los registros cumplen con la condición o no. Veamos ahora cómo vamos a filtrar los datos de nuestro conjunto para quedarnos únicamente con aquellos jugadores que pertenecen a la primera división. "
      ]
    },
    {
      "cell_type": "code",
      "metadata": {
        "id": "oTCDMHaRxBgB"
      },
      "source": [
        "spanish_players_df = player_df[ player_df.club.isin(spanish_teams) ]"
      ],
      "execution_count": 101,
      "outputs": []
    },
    {
      "cell_type": "markdown",
      "metadata": {
        "id": "HTTiKBSAFsBb"
      },
      "source": [
        "Fíjate que usamos el método *isin* para la columna seleccionada. Este método devuelve un conjunto de valores booleanos. *True* cuando el valor de la columna se encuentra en el conjunto pasado como parámetro al método *isin* y *False* en caso contrario. Con esto filtraremos el *Dataframe*, pero debemos guardarlo en otra variable para poder trabajar con este nuevo *Dataframe*. En este caso, lo guardamos en la variable *spanish_players_df*. Explora la cabecera de este nuevo *Dataframe* con el método *head*."
      ]
    },
    {
      "cell_type": "code",
      "metadata": {
        "id": "MU_EU08tGTY5",
        "colab": {
          "base_uri": "https://localhost:8080/",
          "height": 446
        },
        "outputId": "061829ea-a696-428d-9178-8328d6910747"
      },
      "source": [
        "# Tu código aquí\n",
        "spanish_players_df.head(5)"
      ],
      "execution_count": 102,
      "outputs": [
        {
          "output_type": "execute_result",
          "data": {
            "text/html": [
              "<div>\n",
              "<style scoped>\n",
              "    .dataframe tbody tr th:only-of-type {\n",
              "        vertical-align: middle;\n",
              "    }\n",
              "\n",
              "    .dataframe tbody tr th {\n",
              "        vertical-align: top;\n",
              "    }\n",
              "\n",
              "    .dataframe thead th {\n",
              "        text-align: right;\n",
              "    }\n",
              "</style>\n",
              "<table border=\"1\" class=\"dataframe\">\n",
              "  <thead>\n",
              "    <tr style=\"text-align: right;\">\n",
              "      <th></th>\n",
              "      <th>sofifa_id</th>\n",
              "      <th>player_url</th>\n",
              "      <th>short_name</th>\n",
              "      <th>long_name</th>\n",
              "      <th>age</th>\n",
              "      <th>dob</th>\n",
              "      <th>height_cm</th>\n",
              "      <th>weight_kg</th>\n",
              "      <th>nationality</th>\n",
              "      <th>club</th>\n",
              "      <th>overall</th>\n",
              "      <th>potential</th>\n",
              "      <th>value_eur</th>\n",
              "      <th>wage_eur</th>\n",
              "      <th>player_positions</th>\n",
              "      <th>preferred_foot</th>\n",
              "      <th>international_reputation</th>\n",
              "      <th>weak_foot</th>\n",
              "      <th>skill_moves</th>\n",
              "      <th>work_rate</th>\n",
              "      <th>body_type</th>\n",
              "      <th>real_face</th>\n",
              "      <th>release_clause_eur</th>\n",
              "      <th>player_tags</th>\n",
              "      <th>team_position</th>\n",
              "      <th>team_jersey_number</th>\n",
              "      <th>loaned_from</th>\n",
              "      <th>joined</th>\n",
              "      <th>contract_valid_until</th>\n",
              "      <th>nation_position</th>\n",
              "      <th>nation_jersey_number</th>\n",
              "      <th>pace</th>\n",
              "      <th>shooting</th>\n",
              "      <th>passing</th>\n",
              "      <th>dribbling</th>\n",
              "      <th>defending</th>\n",
              "      <th>physic</th>\n",
              "      <th>gk_diving</th>\n",
              "      <th>gk_handling</th>\n",
              "      <th>gk_kicking</th>\n",
              "      <th>...</th>\n",
              "      <th>mentality_aggression</th>\n",
              "      <th>mentality_interceptions</th>\n",
              "      <th>mentality_positioning</th>\n",
              "      <th>mentality_vision</th>\n",
              "      <th>mentality_penalties</th>\n",
              "      <th>mentality_composure</th>\n",
              "      <th>defending_marking</th>\n",
              "      <th>defending_standing_tackle</th>\n",
              "      <th>defending_sliding_tackle</th>\n",
              "      <th>goalkeeping_diving</th>\n",
              "      <th>goalkeeping_handling</th>\n",
              "      <th>goalkeeping_kicking</th>\n",
              "      <th>goalkeeping_positioning</th>\n",
              "      <th>goalkeeping_reflexes</th>\n",
              "      <th>ls</th>\n",
              "      <th>st</th>\n",
              "      <th>rs</th>\n",
              "      <th>lw</th>\n",
              "      <th>lf</th>\n",
              "      <th>cf</th>\n",
              "      <th>rf</th>\n",
              "      <th>rw</th>\n",
              "      <th>lam</th>\n",
              "      <th>cam</th>\n",
              "      <th>ram</th>\n",
              "      <th>lm</th>\n",
              "      <th>lcm</th>\n",
              "      <th>cm</th>\n",
              "      <th>rcm</th>\n",
              "      <th>rm</th>\n",
              "      <th>lwb</th>\n",
              "      <th>ldm</th>\n",
              "      <th>cdm</th>\n",
              "      <th>rdm</th>\n",
              "      <th>rwb</th>\n",
              "      <th>lb</th>\n",
              "      <th>lcb</th>\n",
              "      <th>cb</th>\n",
              "      <th>rcb</th>\n",
              "      <th>rb</th>\n",
              "    </tr>\n",
              "  </thead>\n",
              "  <tbody>\n",
              "    <tr>\n",
              "      <th>0</th>\n",
              "      <td>158023</td>\n",
              "      <td>https://sofifa.com/player/158023/lionel-messi/...</td>\n",
              "      <td>L. Messi</td>\n",
              "      <td>Lionel Andrés Messi Cuccittini</td>\n",
              "      <td>32</td>\n",
              "      <td>1987-06-24</td>\n",
              "      <td>170</td>\n",
              "      <td>72</td>\n",
              "      <td>Argentina</td>\n",
              "      <td>FC Barcelona</td>\n",
              "      <td>94</td>\n",
              "      <td>94</td>\n",
              "      <td>95500000</td>\n",
              "      <td>565000</td>\n",
              "      <td>RW, CF, ST</td>\n",
              "      <td>Left</td>\n",
              "      <td>5</td>\n",
              "      <td>4</td>\n",
              "      <td>4</td>\n",
              "      <td>Medium/Low</td>\n",
              "      <td>Messi</td>\n",
              "      <td>Yes</td>\n",
              "      <td>195800000.0</td>\n",
              "      <td>#Dribbler, #Distance Shooter, #Crosser, #FK Sp...</td>\n",
              "      <td>RW</td>\n",
              "      <td>10.0</td>\n",
              "      <td>NaN</td>\n",
              "      <td>2004-07-01</td>\n",
              "      <td>2021.0</td>\n",
              "      <td>NaN</td>\n",
              "      <td>NaN</td>\n",
              "      <td>87.0</td>\n",
              "      <td>92.0</td>\n",
              "      <td>92.0</td>\n",
              "      <td>96.0</td>\n",
              "      <td>39.0</td>\n",
              "      <td>66.0</td>\n",
              "      <td>NaN</td>\n",
              "      <td>NaN</td>\n",
              "      <td>NaN</td>\n",
              "      <td>...</td>\n",
              "      <td>48</td>\n",
              "      <td>40</td>\n",
              "      <td>94</td>\n",
              "      <td>94</td>\n",
              "      <td>75</td>\n",
              "      <td>96</td>\n",
              "      <td>33</td>\n",
              "      <td>37</td>\n",
              "      <td>26</td>\n",
              "      <td>6</td>\n",
              "      <td>11</td>\n",
              "      <td>15</td>\n",
              "      <td>14</td>\n",
              "      <td>8</td>\n",
              "      <td>89+2</td>\n",
              "      <td>89+2</td>\n",
              "      <td>89+2</td>\n",
              "      <td>93+2</td>\n",
              "      <td>93+2</td>\n",
              "      <td>93+2</td>\n",
              "      <td>93+2</td>\n",
              "      <td>93+2</td>\n",
              "      <td>93+2</td>\n",
              "      <td>93+2</td>\n",
              "      <td>93+2</td>\n",
              "      <td>92+2</td>\n",
              "      <td>87+2</td>\n",
              "      <td>87+2</td>\n",
              "      <td>87+2</td>\n",
              "      <td>92+2</td>\n",
              "      <td>68+2</td>\n",
              "      <td>66+2</td>\n",
              "      <td>66+2</td>\n",
              "      <td>66+2</td>\n",
              "      <td>68+2</td>\n",
              "      <td>63+2</td>\n",
              "      <td>52+2</td>\n",
              "      <td>52+2</td>\n",
              "      <td>52+2</td>\n",
              "      <td>63+2</td>\n",
              "    </tr>\n",
              "    <tr>\n",
              "      <th>3</th>\n",
              "      <td>200389</td>\n",
              "      <td>https://sofifa.com/player/200389/jan-oblak/20/...</td>\n",
              "      <td>J. Oblak</td>\n",
              "      <td>Jan Oblak</td>\n",
              "      <td>26</td>\n",
              "      <td>1993-01-07</td>\n",
              "      <td>188</td>\n",
              "      <td>87</td>\n",
              "      <td>Slovenia</td>\n",
              "      <td>Atlético Madrid</td>\n",
              "      <td>91</td>\n",
              "      <td>93</td>\n",
              "      <td>77500000</td>\n",
              "      <td>125000</td>\n",
              "      <td>GK</td>\n",
              "      <td>Right</td>\n",
              "      <td>3</td>\n",
              "      <td>3</td>\n",
              "      <td>1</td>\n",
              "      <td>Medium/Medium</td>\n",
              "      <td>Normal</td>\n",
              "      <td>Yes</td>\n",
              "      <td>164700000.0</td>\n",
              "      <td>NaN</td>\n",
              "      <td>GK</td>\n",
              "      <td>13.0</td>\n",
              "      <td>NaN</td>\n",
              "      <td>2014-07-16</td>\n",
              "      <td>2023.0</td>\n",
              "      <td>GK</td>\n",
              "      <td>1.0</td>\n",
              "      <td>NaN</td>\n",
              "      <td>NaN</td>\n",
              "      <td>NaN</td>\n",
              "      <td>NaN</td>\n",
              "      <td>NaN</td>\n",
              "      <td>NaN</td>\n",
              "      <td>87.0</td>\n",
              "      <td>92.0</td>\n",
              "      <td>78.0</td>\n",
              "      <td>...</td>\n",
              "      <td>34</td>\n",
              "      <td>19</td>\n",
              "      <td>11</td>\n",
              "      <td>65</td>\n",
              "      <td>11</td>\n",
              "      <td>68</td>\n",
              "      <td>27</td>\n",
              "      <td>12</td>\n",
              "      <td>18</td>\n",
              "      <td>87</td>\n",
              "      <td>92</td>\n",
              "      <td>78</td>\n",
              "      <td>90</td>\n",
              "      <td>89</td>\n",
              "      <td>NaN</td>\n",
              "      <td>NaN</td>\n",
              "      <td>NaN</td>\n",
              "      <td>NaN</td>\n",
              "      <td>NaN</td>\n",
              "      <td>NaN</td>\n",
              "      <td>NaN</td>\n",
              "      <td>NaN</td>\n",
              "      <td>NaN</td>\n",
              "      <td>NaN</td>\n",
              "      <td>NaN</td>\n",
              "      <td>NaN</td>\n",
              "      <td>NaN</td>\n",
              "      <td>NaN</td>\n",
              "      <td>NaN</td>\n",
              "      <td>NaN</td>\n",
              "      <td>NaN</td>\n",
              "      <td>NaN</td>\n",
              "      <td>NaN</td>\n",
              "      <td>NaN</td>\n",
              "      <td>NaN</td>\n",
              "      <td>NaN</td>\n",
              "      <td>NaN</td>\n",
              "      <td>NaN</td>\n",
              "      <td>NaN</td>\n",
              "      <td>NaN</td>\n",
              "    </tr>\n",
              "    <tr>\n",
              "      <th>4</th>\n",
              "      <td>183277</td>\n",
              "      <td>https://sofifa.com/player/183277/eden-hazard/2...</td>\n",
              "      <td>E. Hazard</td>\n",
              "      <td>Eden Hazard</td>\n",
              "      <td>28</td>\n",
              "      <td>1991-01-07</td>\n",
              "      <td>175</td>\n",
              "      <td>74</td>\n",
              "      <td>Belgium</td>\n",
              "      <td>Real Madrid</td>\n",
              "      <td>91</td>\n",
              "      <td>91</td>\n",
              "      <td>90000000</td>\n",
              "      <td>470000</td>\n",
              "      <td>LW, CF</td>\n",
              "      <td>Right</td>\n",
              "      <td>4</td>\n",
              "      <td>4</td>\n",
              "      <td>4</td>\n",
              "      <td>High/Medium</td>\n",
              "      <td>Normal</td>\n",
              "      <td>Yes</td>\n",
              "      <td>184500000.0</td>\n",
              "      <td>#Speedster, #Dribbler, #Acrobat</td>\n",
              "      <td>LW</td>\n",
              "      <td>7.0</td>\n",
              "      <td>NaN</td>\n",
              "      <td>2019-07-01</td>\n",
              "      <td>2024.0</td>\n",
              "      <td>LF</td>\n",
              "      <td>10.0</td>\n",
              "      <td>91.0</td>\n",
              "      <td>83.0</td>\n",
              "      <td>86.0</td>\n",
              "      <td>94.0</td>\n",
              "      <td>35.0</td>\n",
              "      <td>66.0</td>\n",
              "      <td>NaN</td>\n",
              "      <td>NaN</td>\n",
              "      <td>NaN</td>\n",
              "      <td>...</td>\n",
              "      <td>54</td>\n",
              "      <td>41</td>\n",
              "      <td>87</td>\n",
              "      <td>89</td>\n",
              "      <td>88</td>\n",
              "      <td>91</td>\n",
              "      <td>34</td>\n",
              "      <td>27</td>\n",
              "      <td>22</td>\n",
              "      <td>11</td>\n",
              "      <td>12</td>\n",
              "      <td>6</td>\n",
              "      <td>8</td>\n",
              "      <td>8</td>\n",
              "      <td>83+3</td>\n",
              "      <td>83+3</td>\n",
              "      <td>83+3</td>\n",
              "      <td>89+3</td>\n",
              "      <td>88+3</td>\n",
              "      <td>88+3</td>\n",
              "      <td>88+3</td>\n",
              "      <td>89+3</td>\n",
              "      <td>89+3</td>\n",
              "      <td>89+3</td>\n",
              "      <td>89+3</td>\n",
              "      <td>89+3</td>\n",
              "      <td>83+3</td>\n",
              "      <td>83+3</td>\n",
              "      <td>83+3</td>\n",
              "      <td>89+3</td>\n",
              "      <td>66+3</td>\n",
              "      <td>63+3</td>\n",
              "      <td>63+3</td>\n",
              "      <td>63+3</td>\n",
              "      <td>66+3</td>\n",
              "      <td>61+3</td>\n",
              "      <td>49+3</td>\n",
              "      <td>49+3</td>\n",
              "      <td>49+3</td>\n",
              "      <td>61+3</td>\n",
              "    </tr>\n",
              "    <tr>\n",
              "      <th>6</th>\n",
              "      <td>192448</td>\n",
              "      <td>https://sofifa.com/player/192448/marc-andre-te...</td>\n",
              "      <td>M. ter Stegen</td>\n",
              "      <td>Marc-André ter Stegen</td>\n",
              "      <td>27</td>\n",
              "      <td>1992-04-30</td>\n",
              "      <td>187</td>\n",
              "      <td>85</td>\n",
              "      <td>Germany</td>\n",
              "      <td>FC Barcelona</td>\n",
              "      <td>90</td>\n",
              "      <td>93</td>\n",
              "      <td>67500000</td>\n",
              "      <td>250000</td>\n",
              "      <td>GK</td>\n",
              "      <td>Right</td>\n",
              "      <td>3</td>\n",
              "      <td>4</td>\n",
              "      <td>1</td>\n",
              "      <td>Medium/Medium</td>\n",
              "      <td>Normal</td>\n",
              "      <td>Yes</td>\n",
              "      <td>143400000.0</td>\n",
              "      <td>NaN</td>\n",
              "      <td>GK</td>\n",
              "      <td>1.0</td>\n",
              "      <td>NaN</td>\n",
              "      <td>2014-07-01</td>\n",
              "      <td>2022.0</td>\n",
              "      <td>SUB</td>\n",
              "      <td>22.0</td>\n",
              "      <td>NaN</td>\n",
              "      <td>NaN</td>\n",
              "      <td>NaN</td>\n",
              "      <td>NaN</td>\n",
              "      <td>NaN</td>\n",
              "      <td>NaN</td>\n",
              "      <td>88.0</td>\n",
              "      <td>85.0</td>\n",
              "      <td>88.0</td>\n",
              "      <td>...</td>\n",
              "      <td>43</td>\n",
              "      <td>22</td>\n",
              "      <td>11</td>\n",
              "      <td>70</td>\n",
              "      <td>25</td>\n",
              "      <td>70</td>\n",
              "      <td>25</td>\n",
              "      <td>13</td>\n",
              "      <td>10</td>\n",
              "      <td>88</td>\n",
              "      <td>85</td>\n",
              "      <td>88</td>\n",
              "      <td>88</td>\n",
              "      <td>90</td>\n",
              "      <td>NaN</td>\n",
              "      <td>NaN</td>\n",
              "      <td>NaN</td>\n",
              "      <td>NaN</td>\n",
              "      <td>NaN</td>\n",
              "      <td>NaN</td>\n",
              "      <td>NaN</td>\n",
              "      <td>NaN</td>\n",
              "      <td>NaN</td>\n",
              "      <td>NaN</td>\n",
              "      <td>NaN</td>\n",
              "      <td>NaN</td>\n",
              "      <td>NaN</td>\n",
              "      <td>NaN</td>\n",
              "      <td>NaN</td>\n",
              "      <td>NaN</td>\n",
              "      <td>NaN</td>\n",
              "      <td>NaN</td>\n",
              "      <td>NaN</td>\n",
              "      <td>NaN</td>\n",
              "      <td>NaN</td>\n",
              "      <td>NaN</td>\n",
              "      <td>NaN</td>\n",
              "      <td>NaN</td>\n",
              "      <td>NaN</td>\n",
              "      <td>NaN</td>\n",
              "    </tr>\n",
              "    <tr>\n",
              "      <th>8</th>\n",
              "      <td>177003</td>\n",
              "      <td>https://sofifa.com/player/177003/luka-modric/2...</td>\n",
              "      <td>L. Modrić</td>\n",
              "      <td>Luka Modrić</td>\n",
              "      <td>33</td>\n",
              "      <td>1985-09-09</td>\n",
              "      <td>172</td>\n",
              "      <td>66</td>\n",
              "      <td>Croatia</td>\n",
              "      <td>Real Madrid</td>\n",
              "      <td>90</td>\n",
              "      <td>90</td>\n",
              "      <td>45000000</td>\n",
              "      <td>340000</td>\n",
              "      <td>CM</td>\n",
              "      <td>Right</td>\n",
              "      <td>4</td>\n",
              "      <td>4</td>\n",
              "      <td>4</td>\n",
              "      <td>High/High</td>\n",
              "      <td>Lean</td>\n",
              "      <td>Yes</td>\n",
              "      <td>92300000.0</td>\n",
              "      <td>#Dribbler, #Playmaker  , #Crosser, #Acrobat, #...</td>\n",
              "      <td>RCM</td>\n",
              "      <td>10.0</td>\n",
              "      <td>NaN</td>\n",
              "      <td>2012-08-01</td>\n",
              "      <td>2020.0</td>\n",
              "      <td>NaN</td>\n",
              "      <td>NaN</td>\n",
              "      <td>74.0</td>\n",
              "      <td>76.0</td>\n",
              "      <td>89.0</td>\n",
              "      <td>89.0</td>\n",
              "      <td>72.0</td>\n",
              "      <td>66.0</td>\n",
              "      <td>NaN</td>\n",
              "      <td>NaN</td>\n",
              "      <td>NaN</td>\n",
              "      <td>...</td>\n",
              "      <td>62</td>\n",
              "      <td>82</td>\n",
              "      <td>79</td>\n",
              "      <td>91</td>\n",
              "      <td>82</td>\n",
              "      <td>92</td>\n",
              "      <td>68</td>\n",
              "      <td>76</td>\n",
              "      <td>71</td>\n",
              "      <td>13</td>\n",
              "      <td>9</td>\n",
              "      <td>7</td>\n",
              "      <td>14</td>\n",
              "      <td>9</td>\n",
              "      <td>77+3</td>\n",
              "      <td>77+3</td>\n",
              "      <td>77+3</td>\n",
              "      <td>84+3</td>\n",
              "      <td>83+3</td>\n",
              "      <td>83+3</td>\n",
              "      <td>83+3</td>\n",
              "      <td>84+3</td>\n",
              "      <td>86+3</td>\n",
              "      <td>86+3</td>\n",
              "      <td>86+3</td>\n",
              "      <td>85+3</td>\n",
              "      <td>87+3</td>\n",
              "      <td>87+3</td>\n",
              "      <td>87+3</td>\n",
              "      <td>85+3</td>\n",
              "      <td>81+3</td>\n",
              "      <td>81+3</td>\n",
              "      <td>81+3</td>\n",
              "      <td>81+3</td>\n",
              "      <td>81+3</td>\n",
              "      <td>79+3</td>\n",
              "      <td>72+3</td>\n",
              "      <td>72+3</td>\n",
              "      <td>72+3</td>\n",
              "      <td>79+3</td>\n",
              "    </tr>\n",
              "  </tbody>\n",
              "</table>\n",
              "<p>5 rows × 104 columns</p>\n",
              "</div>"
            ],
            "text/plain": [
              "   sofifa_id                                         player_url  ...   rcb    rb\n",
              "0     158023  https://sofifa.com/player/158023/lionel-messi/...  ...  52+2  63+2\n",
              "3     200389  https://sofifa.com/player/200389/jan-oblak/20/...  ...   NaN   NaN\n",
              "4     183277  https://sofifa.com/player/183277/eden-hazard/2...  ...  49+3  61+3\n",
              "6     192448  https://sofifa.com/player/192448/marc-andre-te...  ...   NaN   NaN\n",
              "8     177003  https://sofifa.com/player/177003/luka-modric/2...  ...  72+3  79+3\n",
              "\n",
              "[5 rows x 104 columns]"
            ]
          },
          "metadata": {
            "tags": []
          },
          "execution_count": 102
        }
      ]
    },
    {
      "cell_type": "markdown",
      "metadata": {
        "id": "5i0haba1GXGY"
      },
      "source": [
        "# Resumiendo los valores de nuestras columnas"
      ]
    },
    {
      "cell_type": "markdown",
      "metadata": {
        "id": "1c2OGgeiGeuS"
      },
      "source": [
        "En muchos casos, querremos resumir la información de cada una de nuestras columans del *Dataframe* en forma de medidas descriptivas. El método *describe* nos permite obtener estas medidas descriptivas para las columnas de tipo numéricas. Más concretamente, obtiene información como la media, la desviación típica, el valor mínimo, primer cuartil, mediana, tercer cuartil, y el máximo."
      ]
    },
    {
      "cell_type": "code",
      "metadata": {
        "id": "Qp1KXLC40r1W",
        "colab": {
          "base_uri": "https://localhost:8080/",
          "height": 304
        },
        "outputId": "53fe2f44-7c89-4fb6-d489-836b3e58db8f"
      },
      "source": [
        "spanish_players_df.describe()"
      ],
      "execution_count": 103,
      "outputs": [
        {
          "output_type": "execute_result",
          "data": {
            "text/html": [
              "<div>\n",
              "<style scoped>\n",
              "    .dataframe tbody tr th:only-of-type {\n",
              "        vertical-align: middle;\n",
              "    }\n",
              "\n",
              "    .dataframe tbody tr th {\n",
              "        vertical-align: top;\n",
              "    }\n",
              "\n",
              "    .dataframe thead th {\n",
              "        text-align: right;\n",
              "    }\n",
              "</style>\n",
              "<table border=\"1\" class=\"dataframe\">\n",
              "  <thead>\n",
              "    <tr style=\"text-align: right;\">\n",
              "      <th></th>\n",
              "      <th>sofifa_id</th>\n",
              "      <th>age</th>\n",
              "      <th>height_cm</th>\n",
              "      <th>weight_kg</th>\n",
              "      <th>overall</th>\n",
              "      <th>potential</th>\n",
              "      <th>value_eur</th>\n",
              "      <th>wage_eur</th>\n",
              "      <th>international_reputation</th>\n",
              "      <th>weak_foot</th>\n",
              "      <th>skill_moves</th>\n",
              "      <th>release_clause_eur</th>\n",
              "      <th>team_jersey_number</th>\n",
              "      <th>contract_valid_until</th>\n",
              "      <th>nation_jersey_number</th>\n",
              "      <th>pace</th>\n",
              "      <th>shooting</th>\n",
              "      <th>passing</th>\n",
              "      <th>dribbling</th>\n",
              "      <th>defending</th>\n",
              "      <th>physic</th>\n",
              "      <th>gk_diving</th>\n",
              "      <th>gk_handling</th>\n",
              "      <th>gk_kicking</th>\n",
              "      <th>gk_reflexes</th>\n",
              "      <th>gk_speed</th>\n",
              "      <th>gk_positioning</th>\n",
              "      <th>attacking_crossing</th>\n",
              "      <th>attacking_finishing</th>\n",
              "      <th>attacking_heading_accuracy</th>\n",
              "      <th>attacking_short_passing</th>\n",
              "      <th>attacking_volleys</th>\n",
              "      <th>skill_dribbling</th>\n",
              "      <th>skill_curve</th>\n",
              "      <th>skill_fk_accuracy</th>\n",
              "      <th>skill_long_passing</th>\n",
              "      <th>skill_ball_control</th>\n",
              "      <th>movement_acceleration</th>\n",
              "      <th>movement_sprint_speed</th>\n",
              "      <th>movement_agility</th>\n",
              "      <th>movement_reactions</th>\n",
              "      <th>movement_balance</th>\n",
              "      <th>power_shot_power</th>\n",
              "      <th>power_jumping</th>\n",
              "      <th>power_stamina</th>\n",
              "      <th>power_strength</th>\n",
              "      <th>power_long_shots</th>\n",
              "      <th>mentality_aggression</th>\n",
              "      <th>mentality_interceptions</th>\n",
              "      <th>mentality_positioning</th>\n",
              "      <th>mentality_vision</th>\n",
              "      <th>mentality_penalties</th>\n",
              "      <th>mentality_composure</th>\n",
              "      <th>defending_marking</th>\n",
              "      <th>defending_standing_tackle</th>\n",
              "      <th>defending_sliding_tackle</th>\n",
              "      <th>goalkeeping_diving</th>\n",
              "      <th>goalkeeping_handling</th>\n",
              "      <th>goalkeeping_kicking</th>\n",
              "      <th>goalkeeping_positioning</th>\n",
              "      <th>goalkeeping_reflexes</th>\n",
              "    </tr>\n",
              "  </thead>\n",
              "  <tbody>\n",
              "    <tr>\n",
              "      <th>count</th>\n",
              "      <td>614.000000</td>\n",
              "      <td>614.000000</td>\n",
              "      <td>614.000000</td>\n",
              "      <td>614.000000</td>\n",
              "      <td>614.000000</td>\n",
              "      <td>614.000000</td>\n",
              "      <td>6.140000e+02</td>\n",
              "      <td>614.000000</td>\n",
              "      <td>614.000000</td>\n",
              "      <td>614.000000</td>\n",
              "      <td>614.000000</td>\n",
              "      <td>5.770000e+02</td>\n",
              "      <td>614.000000</td>\n",
              "      <td>614.000000</td>\n",
              "      <td>59.000000</td>\n",
              "      <td>552.000000</td>\n",
              "      <td>552.000000</td>\n",
              "      <td>552.000000</td>\n",
              "      <td>552.000000</td>\n",
              "      <td>552.000000</td>\n",
              "      <td>552.000000</td>\n",
              "      <td>62.000000</td>\n",
              "      <td>62.000000</td>\n",
              "      <td>62.000000</td>\n",
              "      <td>62.000000</td>\n",
              "      <td>62.000000</td>\n",
              "      <td>62.000000</td>\n",
              "      <td>614.000000</td>\n",
              "      <td>614.000000</td>\n",
              "      <td>614.000000</td>\n",
              "      <td>614.000000</td>\n",
              "      <td>614.000000</td>\n",
              "      <td>614.000000</td>\n",
              "      <td>614.000000</td>\n",
              "      <td>614.000000</td>\n",
              "      <td>614.000000</td>\n",
              "      <td>614.000000</td>\n",
              "      <td>614.000000</td>\n",
              "      <td>614.000000</td>\n",
              "      <td>614.000000</td>\n",
              "      <td>614.000000</td>\n",
              "      <td>614.000000</td>\n",
              "      <td>614.000000</td>\n",
              "      <td>614.000000</td>\n",
              "      <td>614.000000</td>\n",
              "      <td>614.000000</td>\n",
              "      <td>614.000000</td>\n",
              "      <td>614.000000</td>\n",
              "      <td>614.000000</td>\n",
              "      <td>614.000000</td>\n",
              "      <td>614.000000</td>\n",
              "      <td>614.000000</td>\n",
              "      <td>614.000000</td>\n",
              "      <td>614.000000</td>\n",
              "      <td>614.000000</td>\n",
              "      <td>614.000000</td>\n",
              "      <td>614.000000</td>\n",
              "      <td>614.000000</td>\n",
              "      <td>614.000000</td>\n",
              "      <td>614.000000</td>\n",
              "      <td>614.000000</td>\n",
              "    </tr>\n",
              "    <tr>\n",
              "      <th>mean</th>\n",
              "      <td>216336.793160</td>\n",
              "      <td>25.161238</td>\n",
              "      <td>180.749186</td>\n",
              "      <td>74.491857</td>\n",
              "      <td>73.071661</td>\n",
              "      <td>78.469055</td>\n",
              "      <td>9.078265e+06</td>\n",
              "      <td>32283.387622</td>\n",
              "      <td>1.364821</td>\n",
              "      <td>3.065147</td>\n",
              "      <td>2.653094</td>\n",
              "      <td>1.998753e+07</td>\n",
              "      <td>17.190554</td>\n",
              "      <td>2021.526059</td>\n",
              "      <td>10.983051</td>\n",
              "      <td>67.771739</td>\n",
              "      <td>59.273551</td>\n",
              "      <td>64.648551</td>\n",
              "      <td>68.682971</td>\n",
              "      <td>57.375000</td>\n",
              "      <td>65.978261</td>\n",
              "      <td>71.870968</td>\n",
              "      <td>69.403226</td>\n",
              "      <td>68.225806</td>\n",
              "      <td>72.548387</td>\n",
              "      <td>40.951613</td>\n",
              "      <td>70.274194</td>\n",
              "      <td>56.842020</td>\n",
              "      <td>52.610749</td>\n",
              "      <td>57.415309</td>\n",
              "      <td>66.648208</td>\n",
              "      <td>48.267101</td>\n",
              "      <td>61.933225</td>\n",
              "      <td>55.394137</td>\n",
              "      <td>48.457655</td>\n",
              "      <td>59.986971</td>\n",
              "      <td>66.232899</td>\n",
              "      <td>65.201954</td>\n",
              "      <td>64.970684</td>\n",
              "      <td>65.470684</td>\n",
              "      <td>69.420195</td>\n",
              "      <td>65.280130</td>\n",
              "      <td>64.705212</td>\n",
              "      <td>66.692182</td>\n",
              "      <td>64.283388</td>\n",
              "      <td>65.570033</td>\n",
              "      <td>54.053746</td>\n",
              "      <td>59.697068</td>\n",
              "      <td>52.684039</td>\n",
              "      <td>56.511401</td>\n",
              "      <td>60.382736</td>\n",
              "      <td>52.674267</td>\n",
              "      <td>65.566775</td>\n",
              "      <td>53.239414</td>\n",
              "      <td>52.796417</td>\n",
              "      <td>50.338762</td>\n",
              "      <td>16.812704</td>\n",
              "      <td>16.462541</td>\n",
              "      <td>16.301303</td>\n",
              "      <td>16.486971</td>\n",
              "      <td>16.763844</td>\n",
              "    </tr>\n",
              "    <tr>\n",
              "      <th>std</th>\n",
              "      <td>26997.672579</td>\n",
              "      <td>4.370866</td>\n",
              "      <td>6.435446</td>\n",
              "      <td>6.505295</td>\n",
              "      <td>7.181048</td>\n",
              "      <td>5.432203</td>\n",
              "      <td>1.241140e+07</td>\n",
              "      <td>60105.246065</td>\n",
              "      <td>0.738457</td>\n",
              "      <td>0.645469</td>\n",
              "      <td>0.880372</td>\n",
              "      <td>2.679938e+07</td>\n",
              "      <td>10.242787</td>\n",
              "      <td>1.396268</td>\n",
              "      <td>6.814011</td>\n",
              "      <td>12.201220</td>\n",
              "      <td>14.690126</td>\n",
              "      <td>10.476126</td>\n",
              "      <td>10.288358</td>\n",
              "      <td>17.860793</td>\n",
              "      <td>11.044189</td>\n",
              "      <td>8.669683</td>\n",
              "      <td>8.923095</td>\n",
              "      <td>8.112769</td>\n",
              "      <td>9.089135</td>\n",
              "      <td>11.379342</td>\n",
              "      <td>9.495762</td>\n",
              "      <td>19.575915</td>\n",
              "      <td>21.536341</td>\n",
              "      <td>18.943080</td>\n",
              "      <td>15.088213</td>\n",
              "      <td>19.220715</td>\n",
              "      <td>19.932196</td>\n",
              "      <td>20.091821</td>\n",
              "      <td>19.081110</td>\n",
              "      <td>15.678140</td>\n",
              "      <td>17.882145</td>\n",
              "      <td>14.899717</td>\n",
              "      <td>14.772968</td>\n",
              "      <td>13.852460</td>\n",
              "      <td>9.022682</td>\n",
              "      <td>13.995211</td>\n",
              "      <td>12.706477</td>\n",
              "      <td>12.146524</td>\n",
              "      <td>15.538023</td>\n",
              "      <td>13.293922</td>\n",
              "      <td>20.848996</td>\n",
              "      <td>18.132720</td>\n",
              "      <td>22.920058</td>\n",
              "      <td>21.450555</td>\n",
              "      <td>15.027276</td>\n",
              "      <td>16.655557</td>\n",
              "      <td>11.456903</td>\n",
              "      <td>20.851366</td>\n",
              "      <td>23.877869</td>\n",
              "      <td>23.749767</td>\n",
              "      <td>18.882718</td>\n",
              "      <td>18.220448</td>\n",
              "      <td>17.848157</td>\n",
              "      <td>18.542548</td>\n",
              "      <td>19.182508</td>\n",
              "    </tr>\n",
              "    <tr>\n",
              "      <th>min</th>\n",
              "      <td>45186.000000</td>\n",
              "      <td>17.000000</td>\n",
              "      <td>163.000000</td>\n",
              "      <td>56.000000</td>\n",
              "      <td>54.000000</td>\n",
              "      <td>62.000000</td>\n",
              "      <td>9.000000e+04</td>\n",
              "      <td>1000.000000</td>\n",
              "      <td>1.000000</td>\n",
              "      <td>1.000000</td>\n",
              "      <td>1.000000</td>\n",
              "      <td>1.620000e+05</td>\n",
              "      <td>1.000000</td>\n",
              "      <td>2020.000000</td>\n",
              "      <td>1.000000</td>\n",
              "      <td>31.000000</td>\n",
              "      <td>21.000000</td>\n",
              "      <td>35.000000</td>\n",
              "      <td>39.000000</td>\n",
              "      <td>16.000000</td>\n",
              "      <td>33.000000</td>\n",
              "      <td>56.000000</td>\n",
              "      <td>54.000000</td>\n",
              "      <td>46.000000</td>\n",
              "      <td>53.000000</td>\n",
              "      <td>16.000000</td>\n",
              "      <td>50.000000</td>\n",
              "      <td>9.000000</td>\n",
              "      <td>5.000000</td>\n",
              "      <td>9.000000</td>\n",
              "      <td>15.000000</td>\n",
              "      <td>5.000000</td>\n",
              "      <td>6.000000</td>\n",
              "      <td>10.000000</td>\n",
              "      <td>9.000000</td>\n",
              "      <td>14.000000</td>\n",
              "      <td>9.000000</td>\n",
              "      <td>16.000000</td>\n",
              "      <td>15.000000</td>\n",
              "      <td>22.000000</td>\n",
              "      <td>35.000000</td>\n",
              "      <td>22.000000</td>\n",
              "      <td>26.000000</td>\n",
              "      <td>30.000000</td>\n",
              "      <td>22.000000</td>\n",
              "      <td>29.000000</td>\n",
              "      <td>5.000000</td>\n",
              "      <td>15.000000</td>\n",
              "      <td>6.000000</td>\n",
              "      <td>4.000000</td>\n",
              "      <td>11.000000</td>\n",
              "      <td>9.000000</td>\n",
              "      <td>23.000000</td>\n",
              "      <td>6.000000</td>\n",
              "      <td>10.000000</td>\n",
              "      <td>10.000000</td>\n",
              "      <td>1.000000</td>\n",
              "      <td>1.000000</td>\n",
              "      <td>1.000000</td>\n",
              "      <td>1.000000</td>\n",
              "      <td>1.000000</td>\n",
              "    </tr>\n",
              "    <tr>\n",
              "      <th>25%</th>\n",
              "      <td>199618.250000</td>\n",
              "      <td>22.000000</td>\n",
              "      <td>176.000000</td>\n",
              "      <td>70.000000</td>\n",
              "      <td>68.000000</td>\n",
              "      <td>75.000000</td>\n",
              "      <td>1.100000e+06</td>\n",
              "      <td>6000.000000</td>\n",
              "      <td>1.000000</td>\n",
              "      <td>3.000000</td>\n",
              "      <td>2.000000</td>\n",
              "      <td>2.600000e+06</td>\n",
              "      <td>9.000000</td>\n",
              "      <td>2020.000000</td>\n",
              "      <td>5.500000</td>\n",
              "      <td>61.000000</td>\n",
              "      <td>50.000000</td>\n",
              "      <td>58.000000</td>\n",
              "      <td>63.000000</td>\n",
              "      <td>40.000000</td>\n",
              "      <td>59.000000</td>\n",
              "      <td>65.000000</td>\n",
              "      <td>62.000000</td>\n",
              "      <td>63.000000</td>\n",
              "      <td>65.250000</td>\n",
              "      <td>31.500000</td>\n",
              "      <td>62.000000</td>\n",
              "      <td>45.000000</td>\n",
              "      <td>37.000000</td>\n",
              "      <td>48.250000</td>\n",
              "      <td>62.000000</td>\n",
              "      <td>36.000000</td>\n",
              "      <td>56.000000</td>\n",
              "      <td>42.000000</td>\n",
              "      <td>35.000000</td>\n",
              "      <td>52.000000</td>\n",
              "      <td>63.000000</td>\n",
              "      <td>58.000000</td>\n",
              "      <td>58.000000</td>\n",
              "      <td>58.250000</td>\n",
              "      <td>63.000000</td>\n",
              "      <td>57.000000</td>\n",
              "      <td>56.000000</td>\n",
              "      <td>60.000000</td>\n",
              "      <td>56.250000</td>\n",
              "      <td>58.000000</td>\n",
              "      <td>41.000000</td>\n",
              "      <td>48.000000</td>\n",
              "      <td>29.000000</td>\n",
              "      <td>45.000000</td>\n",
              "      <td>50.000000</td>\n",
              "      <td>43.000000</td>\n",
              "      <td>58.000000</td>\n",
              "      <td>36.000000</td>\n",
              "      <td>29.000000</td>\n",
              "      <td>27.000000</td>\n",
              "      <td>9.000000</td>\n",
              "      <td>8.000000</td>\n",
              "      <td>8.000000</td>\n",
              "      <td>8.000000</td>\n",
              "      <td>8.000000</td>\n",
              "    </tr>\n",
              "    <tr>\n",
              "      <th>50%</th>\n",
              "      <td>221421.000000</td>\n",
              "      <td>25.000000</td>\n",
              "      <td>181.000000</td>\n",
              "      <td>75.000000</td>\n",
              "      <td>73.500000</td>\n",
              "      <td>78.000000</td>\n",
              "      <td>4.900000e+06</td>\n",
              "      <td>17000.000000</td>\n",
              "      <td>1.000000</td>\n",
              "      <td>3.000000</td>\n",
              "      <td>3.000000</td>\n",
              "      <td>1.040000e+07</td>\n",
              "      <td>17.000000</td>\n",
              "      <td>2021.000000</td>\n",
              "      <td>10.000000</td>\n",
              "      <td>69.000000</td>\n",
              "      <td>62.000000</td>\n",
              "      <td>65.000000</td>\n",
              "      <td>70.000000</td>\n",
              "      <td>63.000000</td>\n",
              "      <td>67.500000</td>\n",
              "      <td>72.000000</td>\n",
              "      <td>68.000000</td>\n",
              "      <td>67.000000</td>\n",
              "      <td>73.000000</td>\n",
              "      <td>43.000000</td>\n",
              "      <td>71.000000</td>\n",
              "      <td>61.000000</td>\n",
              "      <td>58.000000</td>\n",
              "      <td>62.000000</td>\n",
              "      <td>70.000000</td>\n",
              "      <td>49.000000</td>\n",
              "      <td>68.000000</td>\n",
              "      <td>60.000000</td>\n",
              "      <td>48.000000</td>\n",
              "      <td>63.000000</td>\n",
              "      <td>70.500000</td>\n",
              "      <td>67.000000</td>\n",
              "      <td>67.000000</td>\n",
              "      <td>68.000000</td>\n",
              "      <td>70.000000</td>\n",
              "      <td>67.000000</td>\n",
              "      <td>65.000000</td>\n",
              "      <td>67.000000</td>\n",
              "      <td>67.000000</td>\n",
              "      <td>67.000000</td>\n",
              "      <td>59.000000</td>\n",
              "      <td>63.000000</td>\n",
              "      <td>60.000000</td>\n",
              "      <td>63.000000</td>\n",
              "      <td>63.000000</td>\n",
              "      <td>54.000000</td>\n",
              "      <td>66.000000</td>\n",
              "      <td>60.000000</td>\n",
              "      <td>62.500000</td>\n",
              "      <td>59.000000</td>\n",
              "      <td>11.000000</td>\n",
              "      <td>11.000000</td>\n",
              "      <td>11.000000</td>\n",
              "      <td>11.000000</td>\n",
              "      <td>11.000000</td>\n",
              "    </tr>\n",
              "    <tr>\n",
              "      <th>75%</th>\n",
              "      <td>239249.750000</td>\n",
              "      <td>28.000000</td>\n",
              "      <td>186.000000</td>\n",
              "      <td>79.000000</td>\n",
              "      <td>78.000000</td>\n",
              "      <td>82.000000</td>\n",
              "      <td>1.150000e+07</td>\n",
              "      <td>27000.000000</td>\n",
              "      <td>1.000000</td>\n",
              "      <td>3.000000</td>\n",
              "      <td>3.000000</td>\n",
              "      <td>2.630000e+07</td>\n",
              "      <td>25.000000</td>\n",
              "      <td>2022.000000</td>\n",
              "      <td>17.500000</td>\n",
              "      <td>76.000000</td>\n",
              "      <td>71.000000</td>\n",
              "      <td>72.000000</td>\n",
              "      <td>76.000000</td>\n",
              "      <td>72.000000</td>\n",
              "      <td>74.000000</td>\n",
              "      <td>78.750000</td>\n",
              "      <td>74.000000</td>\n",
              "      <td>75.000000</td>\n",
              "      <td>79.750000</td>\n",
              "      <td>47.750000</td>\n",
              "      <td>77.000000</td>\n",
              "      <td>72.000000</td>\n",
              "      <td>70.000000</td>\n",
              "      <td>71.000000</td>\n",
              "      <td>76.000000</td>\n",
              "      <td>62.750000</td>\n",
              "      <td>76.000000</td>\n",
              "      <td>70.750000</td>\n",
              "      <td>63.000000</td>\n",
              "      <td>71.750000</td>\n",
              "      <td>77.000000</td>\n",
              "      <td>75.000000</td>\n",
              "      <td>75.000000</td>\n",
              "      <td>75.000000</td>\n",
              "      <td>76.000000</td>\n",
              "      <td>75.000000</td>\n",
              "      <td>75.000000</td>\n",
              "      <td>75.000000</td>\n",
              "      <td>75.000000</td>\n",
              "      <td>74.000000</td>\n",
              "      <td>70.000000</td>\n",
              "      <td>73.000000</td>\n",
              "      <td>73.000000</td>\n",
              "      <td>72.000000</td>\n",
              "      <td>72.000000</td>\n",
              "      <td>65.000000</td>\n",
              "      <td>74.000000</td>\n",
              "      <td>70.000000</td>\n",
              "      <td>73.750000</td>\n",
              "      <td>71.000000</td>\n",
              "      <td>14.000000</td>\n",
              "      <td>14.000000</td>\n",
              "      <td>14.000000</td>\n",
              "      <td>14.000000</td>\n",
              "      <td>14.000000</td>\n",
              "    </tr>\n",
              "    <tr>\n",
              "      <th>max</th>\n",
              "      <td>252866.000000</td>\n",
              "      <td>40.000000</td>\n",
              "      <td>199.000000</td>\n",
              "      <td>96.000000</td>\n",
              "      <td>94.000000</td>\n",
              "      <td>94.000000</td>\n",
              "      <td>9.550000e+07</td>\n",
              "      <td>565000.000000</td>\n",
              "      <td>5.000000</td>\n",
              "      <td>5.000000</td>\n",
              "      <td>5.000000</td>\n",
              "      <td>1.958000e+08</td>\n",
              "      <td>55.000000</td>\n",
              "      <td>2026.000000</td>\n",
              "      <td>23.000000</td>\n",
              "      <td>94.000000</td>\n",
              "      <td>92.000000</td>\n",
              "      <td>92.000000</td>\n",
              "      <td>96.000000</td>\n",
              "      <td>88.000000</td>\n",
              "      <td>89.000000</td>\n",
              "      <td>90.000000</td>\n",
              "      <td>92.000000</td>\n",
              "      <td>88.000000</td>\n",
              "      <td>90.000000</td>\n",
              "      <td>65.000000</td>\n",
              "      <td>90.000000</td>\n",
              "      <td>91.000000</td>\n",
              "      <td>95.000000</td>\n",
              "      <td>93.000000</td>\n",
              "      <td>92.000000</td>\n",
              "      <td>90.000000</td>\n",
              "      <td>97.000000</td>\n",
              "      <td>93.000000</td>\n",
              "      <td>94.000000</td>\n",
              "      <td>92.000000</td>\n",
              "      <td>96.000000</td>\n",
              "      <td>94.000000</td>\n",
              "      <td>95.000000</td>\n",
              "      <td>95.000000</td>\n",
              "      <td>95.000000</td>\n",
              "      <td>95.000000</td>\n",
              "      <td>92.000000</td>\n",
              "      <td>93.000000</td>\n",
              "      <td>93.000000</td>\n",
              "      <td>93.000000</td>\n",
              "      <td>94.000000</td>\n",
              "      <td>93.000000</td>\n",
              "      <td>89.000000</td>\n",
              "      <td>94.000000</td>\n",
              "      <td>94.000000</td>\n",
              "      <td>88.000000</td>\n",
              "      <td>96.000000</td>\n",
              "      <td>90.000000</td>\n",
              "      <td>88.000000</td>\n",
              "      <td>90.000000</td>\n",
              "      <td>90.000000</td>\n",
              "      <td>92.000000</td>\n",
              "      <td>88.000000</td>\n",
              "      <td>90.000000</td>\n",
              "      <td>90.000000</td>\n",
              "    </tr>\n",
              "  </tbody>\n",
              "</table>\n",
              "</div>"
            ],
            "text/plain": [
              "           sofifa_id         age  ...  goalkeeping_positioning  goalkeeping_reflexes\n",
              "count     614.000000  614.000000  ...               614.000000            614.000000\n",
              "mean   216336.793160   25.161238  ...                16.486971             16.763844\n",
              "std     26997.672579    4.370866  ...                18.542548             19.182508\n",
              "min     45186.000000   17.000000  ...                 1.000000              1.000000\n",
              "25%    199618.250000   22.000000  ...                 8.000000              8.000000\n",
              "50%    221421.000000   25.000000  ...                11.000000             11.000000\n",
              "75%    239249.750000   28.000000  ...                14.000000             14.000000\n",
              "max    252866.000000   40.000000  ...                90.000000             90.000000\n",
              "\n",
              "[8 rows x 61 columns]"
            ]
          },
          "metadata": {
            "tags": []
          },
          "execution_count": 103
        }
      ]
    },
    {
      "cell_type": "markdown",
      "metadata": {
        "id": "d48g130xHU6J"
      },
      "source": [
        "También podemos describir las columnas categóricas con el propio método *describe*, pero especificando que queremos la descripción de aquellos atributos de tipo categórico (i.e., *object* en Pandas)."
      ]
    },
    {
      "cell_type": "code",
      "metadata": {
        "id": "3gk_k8uo07r3",
        "colab": {
          "base_uri": "https://localhost:8080/",
          "height": 236
        },
        "outputId": "b81cc401-1d79-4d23-9a58-b46e148af02a"
      },
      "source": [
        "spanish_players_df.describe(include=[\"object\"])"
      ],
      "execution_count": 104,
      "outputs": [
        {
          "output_type": "execute_result",
          "data": {
            "text/html": [
              "<div>\n",
              "<style scoped>\n",
              "    .dataframe tbody tr th:only-of-type {\n",
              "        vertical-align: middle;\n",
              "    }\n",
              "\n",
              "    .dataframe tbody tr th {\n",
              "        vertical-align: top;\n",
              "    }\n",
              "\n",
              "    .dataframe thead th {\n",
              "        text-align: right;\n",
              "    }\n",
              "</style>\n",
              "<table border=\"1\" class=\"dataframe\">\n",
              "  <thead>\n",
              "    <tr style=\"text-align: right;\">\n",
              "      <th></th>\n",
              "      <th>player_url</th>\n",
              "      <th>short_name</th>\n",
              "      <th>long_name</th>\n",
              "      <th>dob</th>\n",
              "      <th>nationality</th>\n",
              "      <th>club</th>\n",
              "      <th>player_positions</th>\n",
              "      <th>preferred_foot</th>\n",
              "      <th>work_rate</th>\n",
              "      <th>body_type</th>\n",
              "      <th>real_face</th>\n",
              "      <th>player_tags</th>\n",
              "      <th>team_position</th>\n",
              "      <th>loaned_from</th>\n",
              "      <th>joined</th>\n",
              "      <th>nation_position</th>\n",
              "      <th>player_traits</th>\n",
              "      <th>ls</th>\n",
              "      <th>st</th>\n",
              "      <th>rs</th>\n",
              "      <th>lw</th>\n",
              "      <th>lf</th>\n",
              "      <th>cf</th>\n",
              "      <th>rf</th>\n",
              "      <th>rw</th>\n",
              "      <th>lam</th>\n",
              "      <th>cam</th>\n",
              "      <th>ram</th>\n",
              "      <th>lm</th>\n",
              "      <th>lcm</th>\n",
              "      <th>cm</th>\n",
              "      <th>rcm</th>\n",
              "      <th>rm</th>\n",
              "      <th>lwb</th>\n",
              "      <th>ldm</th>\n",
              "      <th>cdm</th>\n",
              "      <th>rdm</th>\n",
              "      <th>rwb</th>\n",
              "      <th>lb</th>\n",
              "      <th>lcb</th>\n",
              "      <th>cb</th>\n",
              "      <th>rcb</th>\n",
              "      <th>rb</th>\n",
              "    </tr>\n",
              "  </thead>\n",
              "  <tbody>\n",
              "    <tr>\n",
              "      <th>count</th>\n",
              "      <td>614</td>\n",
              "      <td>614</td>\n",
              "      <td>614</td>\n",
              "      <td>614</td>\n",
              "      <td>614</td>\n",
              "      <td>614</td>\n",
              "      <td>614</td>\n",
              "      <td>614</td>\n",
              "      <td>614</td>\n",
              "      <td>614</td>\n",
              "      <td>614</td>\n",
              "      <td>89</td>\n",
              "      <td>614</td>\n",
              "      <td>37</td>\n",
              "      <td>577</td>\n",
              "      <td>59</td>\n",
              "      <td>324</td>\n",
              "      <td>552</td>\n",
              "      <td>552</td>\n",
              "      <td>552</td>\n",
              "      <td>552</td>\n",
              "      <td>552</td>\n",
              "      <td>552</td>\n",
              "      <td>552</td>\n",
              "      <td>552</td>\n",
              "      <td>552</td>\n",
              "      <td>552</td>\n",
              "      <td>552</td>\n",
              "      <td>552</td>\n",
              "      <td>552</td>\n",
              "      <td>552</td>\n",
              "      <td>552</td>\n",
              "      <td>552</td>\n",
              "      <td>552</td>\n",
              "      <td>552</td>\n",
              "      <td>552</td>\n",
              "      <td>552</td>\n",
              "      <td>552</td>\n",
              "      <td>552</td>\n",
              "      <td>552</td>\n",
              "      <td>552</td>\n",
              "      <td>552</td>\n",
              "      <td>552</td>\n",
              "    </tr>\n",
              "    <tr>\n",
              "      <th>unique</th>\n",
              "      <td>614</td>\n",
              "      <td>606</td>\n",
              "      <td>614</td>\n",
              "      <td>579</td>\n",
              "      <td>52</td>\n",
              "      <td>20</td>\n",
              "      <td>137</td>\n",
              "      <td>2</td>\n",
              "      <td>8</td>\n",
              "      <td>5</td>\n",
              "      <td>2</td>\n",
              "      <td>37</td>\n",
              "      <td>21</td>\n",
              "      <td>24</td>\n",
              "      <td>227</td>\n",
              "      <td>18</td>\n",
              "      <td>152</td>\n",
              "      <td>68</td>\n",
              "      <td>68</td>\n",
              "      <td>68</td>\n",
              "      <td>72</td>\n",
              "      <td>72</td>\n",
              "      <td>72</td>\n",
              "      <td>72</td>\n",
              "      <td>72</td>\n",
              "      <td>68</td>\n",
              "      <td>68</td>\n",
              "      <td>68</td>\n",
              "      <td>71</td>\n",
              "      <td>60</td>\n",
              "      <td>60</td>\n",
              "      <td>60</td>\n",
              "      <td>71</td>\n",
              "      <td>69</td>\n",
              "      <td>73</td>\n",
              "      <td>73</td>\n",
              "      <td>73</td>\n",
              "      <td>69</td>\n",
              "      <td>74</td>\n",
              "      <td>84</td>\n",
              "      <td>84</td>\n",
              "      <td>84</td>\n",
              "      <td>74</td>\n",
              "    </tr>\n",
              "    <tr>\n",
              "      <th>top</th>\n",
              "      <td>https://sofifa.com/player/207732/roger-marti-s...</td>\n",
              "      <td>Joaquín</td>\n",
              "      <td>Felipe Augusto de Almeida Monteiro</td>\n",
              "      <td>1992-09-23</td>\n",
              "      <td>Spain</td>\n",
              "      <td>RC Celta</td>\n",
              "      <td>CB</td>\n",
              "      <td>Right</td>\n",
              "      <td>Medium/Medium</td>\n",
              "      <td>Normal</td>\n",
              "      <td>No</td>\n",
              "      <td>#Strength</td>\n",
              "      <td>SUB</td>\n",
              "      <td>Real Madrid</td>\n",
              "      <td>2019-07-01</td>\n",
              "      <td>SUB</td>\n",
              "      <td>Early Crosser</td>\n",
              "      <td>65+2</td>\n",
              "      <td>65+2</td>\n",
              "      <td>65+2</td>\n",
              "      <td>73+2</td>\n",
              "      <td>72+2</td>\n",
              "      <td>72+2</td>\n",
              "      <td>72+2</td>\n",
              "      <td>73+2</td>\n",
              "      <td>71+2</td>\n",
              "      <td>71+2</td>\n",
              "      <td>71+2</td>\n",
              "      <td>72+2</td>\n",
              "      <td>72+2</td>\n",
              "      <td>72+2</td>\n",
              "      <td>72+2</td>\n",
              "      <td>72+2</td>\n",
              "      <td>69+2</td>\n",
              "      <td>74+2</td>\n",
              "      <td>74+2</td>\n",
              "      <td>74+2</td>\n",
              "      <td>69+2</td>\n",
              "      <td>69+2</td>\n",
              "      <td>67+2</td>\n",
              "      <td>67+2</td>\n",
              "      <td>67+2</td>\n",
              "      <td>69+2</td>\n",
              "    </tr>\n",
              "    <tr>\n",
              "      <th>freq</th>\n",
              "      <td>1</td>\n",
              "      <td>3</td>\n",
              "      <td>1</td>\n",
              "      <td>2</td>\n",
              "      <td>413</td>\n",
              "      <td>33</td>\n",
              "      <td>86</td>\n",
              "      <td>448</td>\n",
              "      <td>295</td>\n",
              "      <td>355</td>\n",
              "      <td>375</td>\n",
              "      <td>22</td>\n",
              "      <td>238</td>\n",
              "      <td>6</td>\n",
              "      <td>57</td>\n",
              "      <td>26</td>\n",
              "      <td>20</td>\n",
              "      <td>26</td>\n",
              "      <td>26</td>\n",
              "      <td>26</td>\n",
              "      <td>31</td>\n",
              "      <td>25</td>\n",
              "      <td>25</td>\n",
              "      <td>25</td>\n",
              "      <td>31</td>\n",
              "      <td>26</td>\n",
              "      <td>26</td>\n",
              "      <td>26</td>\n",
              "      <td>28</td>\n",
              "      <td>29</td>\n",
              "      <td>29</td>\n",
              "      <td>29</td>\n",
              "      <td>28</td>\n",
              "      <td>27</td>\n",
              "      <td>23</td>\n",
              "      <td>23</td>\n",
              "      <td>23</td>\n",
              "      <td>27</td>\n",
              "      <td>31</td>\n",
              "      <td>20</td>\n",
              "      <td>20</td>\n",
              "      <td>20</td>\n",
              "      <td>31</td>\n",
              "    </tr>\n",
              "  </tbody>\n",
              "</table>\n",
              "</div>"
            ],
            "text/plain": [
              "                                               player_url  ...    rb\n",
              "count                                                 614  ...   552\n",
              "unique                                                614  ...    74\n",
              "top     https://sofifa.com/player/207732/roger-marti-s...  ...  69+2\n",
              "freq                                                    1  ...    31\n",
              "\n",
              "[4 rows x 43 columns]"
            ]
          },
          "metadata": {
            "tags": []
          },
          "execution_count": 104
        }
      ]
    },
    {
      "cell_type": "markdown",
      "metadata": {
        "id": "99nlVqdvHn0E"
      },
      "source": [
        "La información proporcionada es el número de valores únicos en cada columna, el valor más repetido, y la frecuencia del valor más repetido."
      ]
    },
    {
      "cell_type": "markdown",
      "metadata": {
        "id": "NyKPx_3fH6Lf"
      },
      "source": [
        "# Creando nuevas columnas a partir de nuestro conjunto de datos"
      ]
    },
    {
      "cell_type": "markdown",
      "metadata": {
        "id": "H3hI4erEIehr"
      },
      "source": [
        "Muchas veces, es frecuente tener que transformar los registros existentes para generar nuevos atributos o columnas con información nueva y transformada. Esta nueva información puede ser útil para realizar nuevos análisis o puede ser más predictiva a la hora de incorporarla en un modelo de aprendizaje automático.\n",
        "\n",
        "En este breve ejemplo vamos a crear una nueva columna llamada *main_position* que contendrá la posición principal del jugador de fútbol. También crearemos la columna *continent*, que contendrá el continente en el que nació el jugador. Las siguientes funciones permiten determinar la posición principal del jugador a partir de la  columna *player_positions*. "
      ]
    },
    {
      "cell_type": "code",
      "metadata": {
        "id": "c0kawAjx1IhZ"
      },
      "source": [
        "defender_positions = [ \"SW\", \"RWB\", \"LWB\", \"RB\", \"LB\", \"CB\" ]\n",
        "midfield_positions = [ \"DM\", \"RW\", \"LW\", \"LM\", \"RM\", \"CM\", \"AM\" ]\n",
        "forward_positions = [ \"CF\", \"RF\", \"LF\", \"ST\" ]\n",
        "goalkeeper_positions = [\"GK\"]\n",
        "\n",
        "def from_string_position_to_list(positions_string):\n",
        "  return positions_string.replace(\" \", \"\").split(\",\")\n",
        "\n",
        "def is_position(positions_string, prospective_positions):\n",
        "  list_positions = from_string_position_to_list(positions_string)\n",
        "  found = False\n",
        "  for position in list_positions :\n",
        "    if position in prospective_positions :\n",
        "      found = True\n",
        "  return found\n",
        "\n",
        "def determine_main_position(positions_string):\n",
        "  count_defender = 0\n",
        "  count_midfield = 0\n",
        "  count_forward = 0\n",
        "  count_goalkeeper = 0\n",
        "  list_positions = from_string_position_to_list(positions_string)\n",
        "  for position in list_positions :\n",
        "    if position in defender_positions :\n",
        "      count_defender = count_defender + 1\n",
        "    elif position in midfield_positions :\n",
        "      count_midfield = count_midfield + 1\n",
        "    elif position in forward_positions :\n",
        "      count_forward = count_forward + 1\n",
        "    elif position in goalkeeper_positions :\n",
        "      count_goalkeeper = count_goalkeeper + 1\n",
        "  \n",
        "  return max( [ (count_defender, \"DF\"), (count_midfield, \"MF\"), (count_forward, \"FW\"), (count_goalkeeper, \"GK\") ] )[1]\n",
        "\n",
        "is_defender = lambda s : is_position(s, defender_positions)\n",
        "is_midfielder = lambda s : is_position(s, midfield_positions)\n",
        "is_forward = lambda s : is_position(s, forward_positions)\n",
        "is_goalkeeper = lambda s: is_position(s, goalkeeper_positions)\n",
        "\n",
        "country_to_continent = { \"Argentina\": \"America\", \"Slovenia\": \"Europe\", \"Belgium\":\"Europe\", \"Germany\": \"Europe\", \"Croatia\":\"Europe\",\n",
        "                        \"Spain\": \"Europe\", \"Uruguay\":\"America\", \"France\":\"Europe\", \"Brazil\":\"America\", \"Costa Rica\":\"America\",\n",
        "                        \"Netherlands\":\"Europe\", \"Wales\": \"Europe\", \"Colombia\":\"America\", \"Chile\":\"America\", \"Serbia\":\"Europe\",\n",
        "                        \"Portugal\":\"Europe\", \"Ghana\":\"Africa\", \"Montenegro\":\"Europe\", \"Mexico\":\"America\", \"Denmark\":\"Europe\",\n",
        "                        \"Central African Rep.\":\"Africa\", \"Czech Republic\":\"Europe\", \"Algeria\":\"Africa\", \"Israel\":\"Asia\",\n",
        "                        \"England\":\"Europe\", \"Slovakia\":\"Europe\", \"Dominican Republic\":\"America\", \"Cameroon\":\"Africa\",\n",
        "                        \"China PR\":\"Asia\", \"Japan\":\"Asia\", \"Russia\":\"Asia\", \"Norway\":\"Europe\", \"Turkey\":\"Asia\",\n",
        "                        \"FYR Macedonia\":\"Europe\", \"Senegal\":\"Africa\", \"Morocco\":\"Africa\", \"Italy\":\"Europe\",\n",
        "                        \"Ukraine\":\"Europe\", \"Korea Republic\":\"Asia\", \"Nigeria\":\"Africa\", \"Sweden\":\"Europe\", \"Venezuela\":\"America\",\n",
        "                        \"Bosnia Herzegovina\":\"Europe\", \"Ivory Coast\":\"Africa\", \"Romania\":\"Europe\", \"Equatorial Guinea\":\"Africa\",\n",
        "                        \"Ecuador\":\"America\", \"Albania\":\"Europe\", \"Mauritania\":\"Africa\", \"Benin\":\"Africa\", \"Switzerland\":\"Europe\",\n",
        "                        \"DR Congo\":\"Africa\"}\n",
        "\n",
        "\n"
      ],
      "execution_count": 105,
      "outputs": []
    },
    {
      "cell_type": "markdown",
      "metadata": {
        "id": "Jwg6szCDJma2"
      },
      "source": [
        "Veamos ahora cómo podemos crear nuevas columnas. Primero que nada, para crear una columna, necesitaremos un conjunto de datos con los nuevos valores para la columna a crear. Obviamente, necesitaremos un valor para cada registro o fila con la que contamos en nuestro conjunto de datos. Podemos aplicar una función a cada una de las filas para generar esta nueva información. Para ello, podemos emplear el método *apply* proporcionándole una función que se aplicará a cada una de las filas del *Dataframe*. La sintáxis es la siguiente:\n",
        "\n",
        "```\n",
        "dataframe.apply( funcion, axis=1 )\n",
        "```\n",
        "Como vemos, debemos pasar una función como parámetro. Esta función puede ser una función ya definida o una que definamos en el momento con la sintaxis de función lambda. La opción *axis=1* es importante para que esta función se aplique a nivel de fila. Veamos un ejemplo sencillo."
      ]
    },
    {
      "cell_type": "code",
      "metadata": {
        "id": "DIrbWpQeP3vA",
        "colab": {
          "base_uri": "https://localhost:8080/"
        },
        "outputId": "33275b15-6214-42ab-d81d-eeb965ae1a86"
      },
      "source": [
        "spanish_players_df.apply( lambda row: row.age*2, axis=1 )"
      ],
      "execution_count": 106,
      "outputs": [
        {
          "output_type": "execute_result",
          "data": {
            "text/plain": [
              "0        64\n",
              "3        52\n",
              "4        56\n",
              "6        54\n",
              "8        66\n",
              "         ..\n",
              "16009    36\n",
              "16594    40\n",
              "16780    36\n",
              "17006    48\n",
              "17355    34\n",
              "Length: 614, dtype: int64"
            ]
          },
          "metadata": {
            "tags": []
          },
          "execution_count": 106
        }
      ]
    },
    {
      "cell_type": "markdown",
      "metadata": {
        "id": "Q_JU5hx3P8BM"
      },
      "source": [
        "Como vemos, la función proporcionada multiplica la edad en cada fila por dos. Se devuelven tantos valores como resultados de aplicar esta función a cada una de las filas del conjunto de datos. Este conjunto de datos podemos utilizarlo para crear una nueva columna con el método *assign*\n",
        "\n",
        "```\n",
        "dataframe.assign( nombre_columna= conjunto de datos para la nueva columna )\n",
        "```\n",
        "\n",
        "A este método se le debe proporcionar un nombre de columna, así como el conjunto de datos que asignaremos a la nueva columna. Este conjunto de datos puede proceder, por ejemplo, del resultado de aplicar el método *apply*. Veamos ahora como creamos las columnas para *main_position* y *continent* para nuestro *Dataframe*. Ojo, ¡debemos reasignar el *Dataframe* para guardar la nueva versión!"
      ]
    },
    {
      "cell_type": "code",
      "metadata": {
        "id": "i-9-uUHS3Dtw"
      },
      "source": [
        "spanish_players_df = spanish_players_df.assign( main_position = spanish_players_df.apply( lambda row: determine_main_position(row.player_positions), axis=1 ) )\n",
        "spanish_players_df = spanish_players_df.assign( continent = spanish_players_df.apply(lambda row: country_to_continent[row.nationality], axis=1) )"
      ],
      "execution_count": 107,
      "outputs": []
    },
    {
      "cell_type": "markdown",
      "metadata": {
        "id": "8isOFHQcRJVX"
      },
      "source": [
        "Ahora crea una nuevas columnas *is_defender* y *is_forward* de tipo booleano y que determine si el jugador es defensa y delantero respectivamente."
      ]
    },
    {
      "cell_type": "code",
      "metadata": {
        "id": "tjwSQ7y135c3",
        "colab": {
          "base_uri": "https://localhost:8080/",
          "height": 446
        },
        "outputId": "b7a886f0-1153-4be6-a251-1b2f8b2e4668"
      },
      "source": [
        "# Tu código aquí\n",
        "# defensa\n",
        "spanish_players_df = spanish_players_df.assign( is_defender = spanish_players_df.apply( lambda row : True if (\"DF\" == row.main_position) else False, axis=1 ))\n",
        "# delantero\n",
        "spanish_players_df = spanish_players_df.assign( is_forward = spanish_players_df.apply( lambda row : True if (\"FW\" == row.main_position) else False, axis=1 ))\n",
        "spanish_players_df.head()\n"
      ],
      "execution_count": 108,
      "outputs": [
        {
          "output_type": "execute_result",
          "data": {
            "text/html": [
              "<div>\n",
              "<style scoped>\n",
              "    .dataframe tbody tr th:only-of-type {\n",
              "        vertical-align: middle;\n",
              "    }\n",
              "\n",
              "    .dataframe tbody tr th {\n",
              "        vertical-align: top;\n",
              "    }\n",
              "\n",
              "    .dataframe thead th {\n",
              "        text-align: right;\n",
              "    }\n",
              "</style>\n",
              "<table border=\"1\" class=\"dataframe\">\n",
              "  <thead>\n",
              "    <tr style=\"text-align: right;\">\n",
              "      <th></th>\n",
              "      <th>sofifa_id</th>\n",
              "      <th>player_url</th>\n",
              "      <th>short_name</th>\n",
              "      <th>long_name</th>\n",
              "      <th>age</th>\n",
              "      <th>dob</th>\n",
              "      <th>height_cm</th>\n",
              "      <th>weight_kg</th>\n",
              "      <th>nationality</th>\n",
              "      <th>club</th>\n",
              "      <th>overall</th>\n",
              "      <th>potential</th>\n",
              "      <th>value_eur</th>\n",
              "      <th>wage_eur</th>\n",
              "      <th>player_positions</th>\n",
              "      <th>preferred_foot</th>\n",
              "      <th>international_reputation</th>\n",
              "      <th>weak_foot</th>\n",
              "      <th>skill_moves</th>\n",
              "      <th>work_rate</th>\n",
              "      <th>body_type</th>\n",
              "      <th>real_face</th>\n",
              "      <th>release_clause_eur</th>\n",
              "      <th>player_tags</th>\n",
              "      <th>team_position</th>\n",
              "      <th>team_jersey_number</th>\n",
              "      <th>loaned_from</th>\n",
              "      <th>joined</th>\n",
              "      <th>contract_valid_until</th>\n",
              "      <th>nation_position</th>\n",
              "      <th>nation_jersey_number</th>\n",
              "      <th>pace</th>\n",
              "      <th>shooting</th>\n",
              "      <th>passing</th>\n",
              "      <th>dribbling</th>\n",
              "      <th>defending</th>\n",
              "      <th>physic</th>\n",
              "      <th>gk_diving</th>\n",
              "      <th>gk_handling</th>\n",
              "      <th>gk_kicking</th>\n",
              "      <th>...</th>\n",
              "      <th>mentality_penalties</th>\n",
              "      <th>mentality_composure</th>\n",
              "      <th>defending_marking</th>\n",
              "      <th>defending_standing_tackle</th>\n",
              "      <th>defending_sliding_tackle</th>\n",
              "      <th>goalkeeping_diving</th>\n",
              "      <th>goalkeeping_handling</th>\n",
              "      <th>goalkeeping_kicking</th>\n",
              "      <th>goalkeeping_positioning</th>\n",
              "      <th>goalkeeping_reflexes</th>\n",
              "      <th>ls</th>\n",
              "      <th>st</th>\n",
              "      <th>rs</th>\n",
              "      <th>lw</th>\n",
              "      <th>lf</th>\n",
              "      <th>cf</th>\n",
              "      <th>rf</th>\n",
              "      <th>rw</th>\n",
              "      <th>lam</th>\n",
              "      <th>cam</th>\n",
              "      <th>ram</th>\n",
              "      <th>lm</th>\n",
              "      <th>lcm</th>\n",
              "      <th>cm</th>\n",
              "      <th>rcm</th>\n",
              "      <th>rm</th>\n",
              "      <th>lwb</th>\n",
              "      <th>ldm</th>\n",
              "      <th>cdm</th>\n",
              "      <th>rdm</th>\n",
              "      <th>rwb</th>\n",
              "      <th>lb</th>\n",
              "      <th>lcb</th>\n",
              "      <th>cb</th>\n",
              "      <th>rcb</th>\n",
              "      <th>rb</th>\n",
              "      <th>main_position</th>\n",
              "      <th>continent</th>\n",
              "      <th>is_defender</th>\n",
              "      <th>is_forward</th>\n",
              "    </tr>\n",
              "  </thead>\n",
              "  <tbody>\n",
              "    <tr>\n",
              "      <th>0</th>\n",
              "      <td>158023</td>\n",
              "      <td>https://sofifa.com/player/158023/lionel-messi/...</td>\n",
              "      <td>L. Messi</td>\n",
              "      <td>Lionel Andrés Messi Cuccittini</td>\n",
              "      <td>32</td>\n",
              "      <td>1987-06-24</td>\n",
              "      <td>170</td>\n",
              "      <td>72</td>\n",
              "      <td>Argentina</td>\n",
              "      <td>FC Barcelona</td>\n",
              "      <td>94</td>\n",
              "      <td>94</td>\n",
              "      <td>95500000</td>\n",
              "      <td>565000</td>\n",
              "      <td>RW, CF, ST</td>\n",
              "      <td>Left</td>\n",
              "      <td>5</td>\n",
              "      <td>4</td>\n",
              "      <td>4</td>\n",
              "      <td>Medium/Low</td>\n",
              "      <td>Messi</td>\n",
              "      <td>Yes</td>\n",
              "      <td>195800000.0</td>\n",
              "      <td>#Dribbler, #Distance Shooter, #Crosser, #FK Sp...</td>\n",
              "      <td>RW</td>\n",
              "      <td>10.0</td>\n",
              "      <td>NaN</td>\n",
              "      <td>2004-07-01</td>\n",
              "      <td>2021.0</td>\n",
              "      <td>NaN</td>\n",
              "      <td>NaN</td>\n",
              "      <td>87.0</td>\n",
              "      <td>92.0</td>\n",
              "      <td>92.0</td>\n",
              "      <td>96.0</td>\n",
              "      <td>39.0</td>\n",
              "      <td>66.0</td>\n",
              "      <td>NaN</td>\n",
              "      <td>NaN</td>\n",
              "      <td>NaN</td>\n",
              "      <td>...</td>\n",
              "      <td>75</td>\n",
              "      <td>96</td>\n",
              "      <td>33</td>\n",
              "      <td>37</td>\n",
              "      <td>26</td>\n",
              "      <td>6</td>\n",
              "      <td>11</td>\n",
              "      <td>15</td>\n",
              "      <td>14</td>\n",
              "      <td>8</td>\n",
              "      <td>89+2</td>\n",
              "      <td>89+2</td>\n",
              "      <td>89+2</td>\n",
              "      <td>93+2</td>\n",
              "      <td>93+2</td>\n",
              "      <td>93+2</td>\n",
              "      <td>93+2</td>\n",
              "      <td>93+2</td>\n",
              "      <td>93+2</td>\n",
              "      <td>93+2</td>\n",
              "      <td>93+2</td>\n",
              "      <td>92+2</td>\n",
              "      <td>87+2</td>\n",
              "      <td>87+2</td>\n",
              "      <td>87+2</td>\n",
              "      <td>92+2</td>\n",
              "      <td>68+2</td>\n",
              "      <td>66+2</td>\n",
              "      <td>66+2</td>\n",
              "      <td>66+2</td>\n",
              "      <td>68+2</td>\n",
              "      <td>63+2</td>\n",
              "      <td>52+2</td>\n",
              "      <td>52+2</td>\n",
              "      <td>52+2</td>\n",
              "      <td>63+2</td>\n",
              "      <td>FW</td>\n",
              "      <td>America</td>\n",
              "      <td>False</td>\n",
              "      <td>True</td>\n",
              "    </tr>\n",
              "    <tr>\n",
              "      <th>3</th>\n",
              "      <td>200389</td>\n",
              "      <td>https://sofifa.com/player/200389/jan-oblak/20/...</td>\n",
              "      <td>J. Oblak</td>\n",
              "      <td>Jan Oblak</td>\n",
              "      <td>26</td>\n",
              "      <td>1993-01-07</td>\n",
              "      <td>188</td>\n",
              "      <td>87</td>\n",
              "      <td>Slovenia</td>\n",
              "      <td>Atlético Madrid</td>\n",
              "      <td>91</td>\n",
              "      <td>93</td>\n",
              "      <td>77500000</td>\n",
              "      <td>125000</td>\n",
              "      <td>GK</td>\n",
              "      <td>Right</td>\n",
              "      <td>3</td>\n",
              "      <td>3</td>\n",
              "      <td>1</td>\n",
              "      <td>Medium/Medium</td>\n",
              "      <td>Normal</td>\n",
              "      <td>Yes</td>\n",
              "      <td>164700000.0</td>\n",
              "      <td>NaN</td>\n",
              "      <td>GK</td>\n",
              "      <td>13.0</td>\n",
              "      <td>NaN</td>\n",
              "      <td>2014-07-16</td>\n",
              "      <td>2023.0</td>\n",
              "      <td>GK</td>\n",
              "      <td>1.0</td>\n",
              "      <td>NaN</td>\n",
              "      <td>NaN</td>\n",
              "      <td>NaN</td>\n",
              "      <td>NaN</td>\n",
              "      <td>NaN</td>\n",
              "      <td>NaN</td>\n",
              "      <td>87.0</td>\n",
              "      <td>92.0</td>\n",
              "      <td>78.0</td>\n",
              "      <td>...</td>\n",
              "      <td>11</td>\n",
              "      <td>68</td>\n",
              "      <td>27</td>\n",
              "      <td>12</td>\n",
              "      <td>18</td>\n",
              "      <td>87</td>\n",
              "      <td>92</td>\n",
              "      <td>78</td>\n",
              "      <td>90</td>\n",
              "      <td>89</td>\n",
              "      <td>NaN</td>\n",
              "      <td>NaN</td>\n",
              "      <td>NaN</td>\n",
              "      <td>NaN</td>\n",
              "      <td>NaN</td>\n",
              "      <td>NaN</td>\n",
              "      <td>NaN</td>\n",
              "      <td>NaN</td>\n",
              "      <td>NaN</td>\n",
              "      <td>NaN</td>\n",
              "      <td>NaN</td>\n",
              "      <td>NaN</td>\n",
              "      <td>NaN</td>\n",
              "      <td>NaN</td>\n",
              "      <td>NaN</td>\n",
              "      <td>NaN</td>\n",
              "      <td>NaN</td>\n",
              "      <td>NaN</td>\n",
              "      <td>NaN</td>\n",
              "      <td>NaN</td>\n",
              "      <td>NaN</td>\n",
              "      <td>NaN</td>\n",
              "      <td>NaN</td>\n",
              "      <td>NaN</td>\n",
              "      <td>NaN</td>\n",
              "      <td>NaN</td>\n",
              "      <td>GK</td>\n",
              "      <td>Europe</td>\n",
              "      <td>False</td>\n",
              "      <td>False</td>\n",
              "    </tr>\n",
              "    <tr>\n",
              "      <th>4</th>\n",
              "      <td>183277</td>\n",
              "      <td>https://sofifa.com/player/183277/eden-hazard/2...</td>\n",
              "      <td>E. Hazard</td>\n",
              "      <td>Eden Hazard</td>\n",
              "      <td>28</td>\n",
              "      <td>1991-01-07</td>\n",
              "      <td>175</td>\n",
              "      <td>74</td>\n",
              "      <td>Belgium</td>\n",
              "      <td>Real Madrid</td>\n",
              "      <td>91</td>\n",
              "      <td>91</td>\n",
              "      <td>90000000</td>\n",
              "      <td>470000</td>\n",
              "      <td>LW, CF</td>\n",
              "      <td>Right</td>\n",
              "      <td>4</td>\n",
              "      <td>4</td>\n",
              "      <td>4</td>\n",
              "      <td>High/Medium</td>\n",
              "      <td>Normal</td>\n",
              "      <td>Yes</td>\n",
              "      <td>184500000.0</td>\n",
              "      <td>#Speedster, #Dribbler, #Acrobat</td>\n",
              "      <td>LW</td>\n",
              "      <td>7.0</td>\n",
              "      <td>NaN</td>\n",
              "      <td>2019-07-01</td>\n",
              "      <td>2024.0</td>\n",
              "      <td>LF</td>\n",
              "      <td>10.0</td>\n",
              "      <td>91.0</td>\n",
              "      <td>83.0</td>\n",
              "      <td>86.0</td>\n",
              "      <td>94.0</td>\n",
              "      <td>35.0</td>\n",
              "      <td>66.0</td>\n",
              "      <td>NaN</td>\n",
              "      <td>NaN</td>\n",
              "      <td>NaN</td>\n",
              "      <td>...</td>\n",
              "      <td>88</td>\n",
              "      <td>91</td>\n",
              "      <td>34</td>\n",
              "      <td>27</td>\n",
              "      <td>22</td>\n",
              "      <td>11</td>\n",
              "      <td>12</td>\n",
              "      <td>6</td>\n",
              "      <td>8</td>\n",
              "      <td>8</td>\n",
              "      <td>83+3</td>\n",
              "      <td>83+3</td>\n",
              "      <td>83+3</td>\n",
              "      <td>89+3</td>\n",
              "      <td>88+3</td>\n",
              "      <td>88+3</td>\n",
              "      <td>88+3</td>\n",
              "      <td>89+3</td>\n",
              "      <td>89+3</td>\n",
              "      <td>89+3</td>\n",
              "      <td>89+3</td>\n",
              "      <td>89+3</td>\n",
              "      <td>83+3</td>\n",
              "      <td>83+3</td>\n",
              "      <td>83+3</td>\n",
              "      <td>89+3</td>\n",
              "      <td>66+3</td>\n",
              "      <td>63+3</td>\n",
              "      <td>63+3</td>\n",
              "      <td>63+3</td>\n",
              "      <td>66+3</td>\n",
              "      <td>61+3</td>\n",
              "      <td>49+3</td>\n",
              "      <td>49+3</td>\n",
              "      <td>49+3</td>\n",
              "      <td>61+3</td>\n",
              "      <td>MF</td>\n",
              "      <td>Europe</td>\n",
              "      <td>False</td>\n",
              "      <td>False</td>\n",
              "    </tr>\n",
              "    <tr>\n",
              "      <th>6</th>\n",
              "      <td>192448</td>\n",
              "      <td>https://sofifa.com/player/192448/marc-andre-te...</td>\n",
              "      <td>M. ter Stegen</td>\n",
              "      <td>Marc-André ter Stegen</td>\n",
              "      <td>27</td>\n",
              "      <td>1992-04-30</td>\n",
              "      <td>187</td>\n",
              "      <td>85</td>\n",
              "      <td>Germany</td>\n",
              "      <td>FC Barcelona</td>\n",
              "      <td>90</td>\n",
              "      <td>93</td>\n",
              "      <td>67500000</td>\n",
              "      <td>250000</td>\n",
              "      <td>GK</td>\n",
              "      <td>Right</td>\n",
              "      <td>3</td>\n",
              "      <td>4</td>\n",
              "      <td>1</td>\n",
              "      <td>Medium/Medium</td>\n",
              "      <td>Normal</td>\n",
              "      <td>Yes</td>\n",
              "      <td>143400000.0</td>\n",
              "      <td>NaN</td>\n",
              "      <td>GK</td>\n",
              "      <td>1.0</td>\n",
              "      <td>NaN</td>\n",
              "      <td>2014-07-01</td>\n",
              "      <td>2022.0</td>\n",
              "      <td>SUB</td>\n",
              "      <td>22.0</td>\n",
              "      <td>NaN</td>\n",
              "      <td>NaN</td>\n",
              "      <td>NaN</td>\n",
              "      <td>NaN</td>\n",
              "      <td>NaN</td>\n",
              "      <td>NaN</td>\n",
              "      <td>88.0</td>\n",
              "      <td>85.0</td>\n",
              "      <td>88.0</td>\n",
              "      <td>...</td>\n",
              "      <td>25</td>\n",
              "      <td>70</td>\n",
              "      <td>25</td>\n",
              "      <td>13</td>\n",
              "      <td>10</td>\n",
              "      <td>88</td>\n",
              "      <td>85</td>\n",
              "      <td>88</td>\n",
              "      <td>88</td>\n",
              "      <td>90</td>\n",
              "      <td>NaN</td>\n",
              "      <td>NaN</td>\n",
              "      <td>NaN</td>\n",
              "      <td>NaN</td>\n",
              "      <td>NaN</td>\n",
              "      <td>NaN</td>\n",
              "      <td>NaN</td>\n",
              "      <td>NaN</td>\n",
              "      <td>NaN</td>\n",
              "      <td>NaN</td>\n",
              "      <td>NaN</td>\n",
              "      <td>NaN</td>\n",
              "      <td>NaN</td>\n",
              "      <td>NaN</td>\n",
              "      <td>NaN</td>\n",
              "      <td>NaN</td>\n",
              "      <td>NaN</td>\n",
              "      <td>NaN</td>\n",
              "      <td>NaN</td>\n",
              "      <td>NaN</td>\n",
              "      <td>NaN</td>\n",
              "      <td>NaN</td>\n",
              "      <td>NaN</td>\n",
              "      <td>NaN</td>\n",
              "      <td>NaN</td>\n",
              "      <td>NaN</td>\n",
              "      <td>GK</td>\n",
              "      <td>Europe</td>\n",
              "      <td>False</td>\n",
              "      <td>False</td>\n",
              "    </tr>\n",
              "    <tr>\n",
              "      <th>8</th>\n",
              "      <td>177003</td>\n",
              "      <td>https://sofifa.com/player/177003/luka-modric/2...</td>\n",
              "      <td>L. Modrić</td>\n",
              "      <td>Luka Modrić</td>\n",
              "      <td>33</td>\n",
              "      <td>1985-09-09</td>\n",
              "      <td>172</td>\n",
              "      <td>66</td>\n",
              "      <td>Croatia</td>\n",
              "      <td>Real Madrid</td>\n",
              "      <td>90</td>\n",
              "      <td>90</td>\n",
              "      <td>45000000</td>\n",
              "      <td>340000</td>\n",
              "      <td>CM</td>\n",
              "      <td>Right</td>\n",
              "      <td>4</td>\n",
              "      <td>4</td>\n",
              "      <td>4</td>\n",
              "      <td>High/High</td>\n",
              "      <td>Lean</td>\n",
              "      <td>Yes</td>\n",
              "      <td>92300000.0</td>\n",
              "      <td>#Dribbler, #Playmaker  , #Crosser, #Acrobat, #...</td>\n",
              "      <td>RCM</td>\n",
              "      <td>10.0</td>\n",
              "      <td>NaN</td>\n",
              "      <td>2012-08-01</td>\n",
              "      <td>2020.0</td>\n",
              "      <td>NaN</td>\n",
              "      <td>NaN</td>\n",
              "      <td>74.0</td>\n",
              "      <td>76.0</td>\n",
              "      <td>89.0</td>\n",
              "      <td>89.0</td>\n",
              "      <td>72.0</td>\n",
              "      <td>66.0</td>\n",
              "      <td>NaN</td>\n",
              "      <td>NaN</td>\n",
              "      <td>NaN</td>\n",
              "      <td>...</td>\n",
              "      <td>82</td>\n",
              "      <td>92</td>\n",
              "      <td>68</td>\n",
              "      <td>76</td>\n",
              "      <td>71</td>\n",
              "      <td>13</td>\n",
              "      <td>9</td>\n",
              "      <td>7</td>\n",
              "      <td>14</td>\n",
              "      <td>9</td>\n",
              "      <td>77+3</td>\n",
              "      <td>77+3</td>\n",
              "      <td>77+3</td>\n",
              "      <td>84+3</td>\n",
              "      <td>83+3</td>\n",
              "      <td>83+3</td>\n",
              "      <td>83+3</td>\n",
              "      <td>84+3</td>\n",
              "      <td>86+3</td>\n",
              "      <td>86+3</td>\n",
              "      <td>86+3</td>\n",
              "      <td>85+3</td>\n",
              "      <td>87+3</td>\n",
              "      <td>87+3</td>\n",
              "      <td>87+3</td>\n",
              "      <td>85+3</td>\n",
              "      <td>81+3</td>\n",
              "      <td>81+3</td>\n",
              "      <td>81+3</td>\n",
              "      <td>81+3</td>\n",
              "      <td>81+3</td>\n",
              "      <td>79+3</td>\n",
              "      <td>72+3</td>\n",
              "      <td>72+3</td>\n",
              "      <td>72+3</td>\n",
              "      <td>79+3</td>\n",
              "      <td>MF</td>\n",
              "      <td>Europe</td>\n",
              "      <td>False</td>\n",
              "      <td>False</td>\n",
              "    </tr>\n",
              "  </tbody>\n",
              "</table>\n",
              "<p>5 rows × 108 columns</p>\n",
              "</div>"
            ],
            "text/plain": [
              "   sofifa_id  ... is_forward\n",
              "0     158023  ...       True\n",
              "3     200389  ...      False\n",
              "4     183277  ...      False\n",
              "6     192448  ...      False\n",
              "8     177003  ...      False\n",
              "\n",
              "[5 rows x 108 columns]"
            ]
          },
          "metadata": {
            "tags": []
          },
          "execution_count": 108
        }
      ]
    },
    {
      "cell_type": "markdown",
      "metadata": {
        "id": "bWBA72tWIF1N"
      },
      "source": [
        "# Estadística descriptiva para datos categóricos"
      ]
    },
    {
      "cell_type": "markdown",
      "metadata": {
        "id": "Si9m39rLRY1x"
      },
      "source": [
        "Ya sabemos algo más de nuestro conjunto de datos, y también como podemos transformarlo para crear nuevos atributos en nuestros registros. Quizás es hora de analizar nuestras variables categóricas de una forma un poco más detallada. Vamos a ver como podemos aplicar algunas técnicas comúnmente aplicadas en estadística descriptiva. Comenzaremos con la estadística descriptiva para datos categóricos.\n",
        "\n",
        "Podemos contar las repeticios de cada uno de los valores de una variable categórica empleando el método *value_counts*. Este debe ser aplicado a una columna de tipo categórico. Por ejemplo, en el siguiente fragmento de código contamos las repeticiones de cada una de las posibles posiciones de lo jugadores."
      ]
    },
    {
      "cell_type": "code",
      "metadata": {
        "id": "7YIE1P8U4Rsq",
        "colab": {
          "base_uri": "https://localhost:8080/"
        },
        "outputId": "e0b50ec8-20a8-4557-efb5-662fb6cc816d"
      },
      "source": [
        "spanish_players_df.main_position.value_counts()"
      ],
      "execution_count": 109,
      "outputs": [
        {
          "output_type": "execute_result",
          "data": {
            "text/plain": [
              "MF    295\n",
              "DF    189\n",
              "FW     68\n",
              "GK     62\n",
              "Name: main_position, dtype: int64"
            ]
          },
          "metadata": {
            "tags": []
          },
          "execution_count": 109
        }
      ]
    },
    {
      "cell_type": "markdown",
      "metadata": {
        "id": "j_yOkHQySd3s"
      },
      "source": [
        "También podemos especificar que en vez de la frecuencia absoluta, queremos visualizar la frecuencia relativa. Esto se consigue con el parámetro *normalize=True*."
      ]
    },
    {
      "cell_type": "code",
      "metadata": {
        "id": "GCZjPleG5wmP",
        "colab": {
          "base_uri": "https://localhost:8080/"
        },
        "outputId": "f0400ed2-fcab-4c63-f7b0-013c56437d2e"
      },
      "source": [
        "spanish_players_df.main_position.value_counts(normalize=True)"
      ],
      "execution_count": 110,
      "outputs": [
        {
          "output_type": "execute_result",
          "data": {
            "text/plain": [
              "MF    0.480456\n",
              "DF    0.307818\n",
              "FW    0.110749\n",
              "GK    0.100977\n",
              "Name: main_position, dtype: float64"
            ]
          },
          "metadata": {
            "tags": []
          },
          "execution_count": 110
        }
      ]
    },
    {
      "cell_type": "markdown",
      "metadata": {
        "id": "qhU9coADSpPE"
      },
      "source": [
        "A veces resulta más informativo representar esta misma información en forma de un gráfico de tartas o *pie chart*. A partir de la información obtenida de *value_counts* podemos construir fácilmente un gráfico de tartas. En el siguiente ejemplo se muestra cómo construir un gráfico de tartas."
      ]
    },
    {
      "cell_type": "code",
      "metadata": {
        "id": "USrkHv8p52VP",
        "colab": {
          "base_uri": "https://localhost:8080/",
          "height": 575
        },
        "outputId": "2c3e6dcf-edb2-44a2-90e2-3e1c67c611d8"
      },
      "source": [
        "count_data = spanish_players_df.main_position.value_counts()\n",
        "plt.figure(figsize=(10, 10))\n",
        "fig = plt.pie( count_data, labels = count_data.index, autopct=\"%.2f\", textprops={\"fontsize\":14} )"
      ],
      "execution_count": 111,
      "outputs": [
        {
          "output_type": "display_data",
          "data": {
            "image/png": "[encoded data removed]",
            "text/plain": [
              "<Figure size 720x720 with 1 Axes>"
            ]
          },
          "metadata": {
            "tags": []
          }
        }
      ]
    },
    {
      "cell_type": "markdown",
      "metadata": {
        "id": "5stjRDSgTN0B"
      },
      "source": [
        "*plt* es un objeto de tipo *pyplot* que pertenece al paquete *Matplotlib*. Éste paquete se especializa en la construcción de gráficas de visualización en Python. Es bastante frecuente que, como parte del trabajo como científico de datos, tengamos que visualizar datos con este paquete de Python. En esta práctica vamos a ver algunos ejemplos. El método *pie* es el que nos permite construir el gráfico de tartas. A éste el proporcionamos los datos procedentes de *value_counts* y en labels se proporciona la etiqueta para cada uno de los datos.\n",
        "\n",
        "Con lo que sabes ahora, crea un gráfico de tartas para el atributo *continent*. **¿De qué continente son más frecuentemente los jugadores de la liga española? ¿Y qué otro continente es el más frecuente? ¿tiene sentido?**"
      ]
    },
    {
      "cell_type": "code",
      "metadata": {
        "id": "UCo_FWauzHWC",
        "colab": {
          "base_uri": "https://localhost:8080/",
          "height": 575
        },
        "outputId": "2fd62d00-73ff-4a9b-dc7c-751c7b783d09"
      },
      "source": [
        "# Tu código aquí\n",
        "count_data = spanish_players_df.continent.value_counts()\n",
        "plt.figure(figsize=(10,10))\n",
        "fig = plt.pie( count_data, labels = count_data.index, autopct=\"%.2f\", textprops={\"fontsize\":14} )"
      ],
      "execution_count": 112,
      "outputs": [
        {
          "output_type": "display_data",
          "data": {
            "image/png": "[encoded data removed]",
            "text/plain": [
              "<Figure size 720x720 with 1 Axes>"
            ]
          },
          "metadata": {
            "tags": []
          }
        }
      ]
    },
    {
      "cell_type": "markdown",
      "metadata": {
        "id": "BMCsVEdUU0Lo"
      },
      "source": [
        "Otra forma alternativa de visualizar esta información es a partir de un gráfico de barras. Podemos construir estos gráficos con *Matplotlib*, pero en este caso nos apoyaremos en *Seaborn*, un paquete de Python que trabaja sobre *Matplotlib* y que facilita algo más la construcción de algunas gráficas algo más complejas. El siguiente ejemplo construye un gráfico de barras con las posiciones de los jugadores en la liga y sus frecuencias relativas. A ojos de este gráfico, **¿qué posición es más frecuente en nuestra muestra? ¿tiene sentido?** La más frecuente es la de MF, tiene sentido ya que es donde más jugadores se acumulan en un partido."
      ]
    },
    {
      "cell_type": "code",
      "metadata": {
        "id": "zmteQdL6zY66",
        "colab": {
          "base_uri": "https://localhost:8080/",
          "height": 312
        },
        "outputId": "f50a2bed-f08e-454a-87e1-6e95500ae4da"
      },
      "source": [
        "count_data = spanish_players_df.main_position.value_counts(normalize=True)\n",
        "axes = sns.barplot( x=count_data.index, y=count_data )\n",
        "axes.set_xlabel(\"Position\")\n",
        "axes.set_ylabel(\"Percentage\")\n",
        "axes.set_title(\"Player positions\")"
      ],
      "execution_count": 113,
      "outputs": [
        {
          "output_type": "execute_result",
          "data": {
            "text/plain": [
              "Text(0.5, 1.0, 'Player positions')"
            ]
          },
          "metadata": {
            "tags": []
          },
          "execution_count": 113
        },
        {
          "output_type": "display_data",
          "data": {
            "image/png": "[encoded data removed]",
            "text/plain": [
              "<Figure size 432x288 with 1 Axes>"
            ]
          },
          "metadata": {
            "tags": [],
            "needs_background": "light"
          }
        }
      ]
    },
    {
      "cell_type": "markdown",
      "metadata": {
        "id": "wFY17Ua1Vxpo"
      },
      "source": [
        "En *sns* hemos importado el paquete *Seaborn*. A través de este objeto creamos un gráfico de barras con el método *barplot* proporcionando en el eje x los posibles valores de la variable categórica, y en el eje y los valores de frecuencias relativas.\n",
        "\n",
        "Ahora, **¿serías capaz de crear un gráfico de barras para el continente de los jugadores?**"
      ]
    },
    {
      "cell_type": "code",
      "metadata": {
        "id": "lw4fc7UC76LA",
        "colab": {
          "base_uri": "https://localhost:8080/",
          "height": 312
        },
        "outputId": "cb9b7ec9-3c67-45fd-e1db-bca6724b23b5"
      },
      "source": [
        "# Tu código aquí\n",
        "count_data = spanish_players_df.continent.value_counts(normalize=True)\n",
        "axes = sns.barplot( x=count_data.index, y=count_data )\n",
        "axes.set_xlabel(\"Continent\")\n",
        "axes.set_ylabel(\"Percentage\")\n",
        "axes.set_title(\"Player continent\")"
      ],
      "execution_count": 114,
      "outputs": [
        {
          "output_type": "execute_result",
          "data": {
            "text/plain": [
              "Text(0.5, 1.0, 'Player continent')"
            ]
          },
          "metadata": {
            "tags": []
          },
          "execution_count": 114
        },
        {
          "output_type": "display_data",
          "data": {
            "image/png": "[encoded data removed]",
            "text/plain": [
              "<Figure size 432x288 with 1 Axes>"
            ]
          },
          "metadata": {
            "tags": [],
            "needs_background": "light"
          }
        }
      ]
    },
    {
      "cell_type": "markdown",
      "metadata": {
        "id": "qinFiDn5XC9b"
      },
      "source": [
        "Estas gráficas nos permiten describir de forma individual una variable categórica en nuestra muestra. A veces es interesante estudiar cómo se comportan de forma conjunta dos o más variables. Una forma de describir este comportamiento en nuestra muestra es a través de las tablas de contingencia, como bien conoceréis de teoría.\n",
        "\n",
        "La construcción de estas tablas en *Pandas* es muy sencillo a través del método *crosstab*. A éste se le proporciona primero la variable categórica que emplearemos en las filas y tras ello la variable categórica que emplearemos para las columnas. Por defecto, calcula la frecuencia absoluta para cada combinación de valores de la variable aleatoria de las filas y de la variable aleatoria de las columnas."
      ]
    },
    {
      "cell_type": "code",
      "metadata": {
        "id": "jFprthY27l-t",
        "colab": {
          "base_uri": "https://localhost:8080/",
          "height": 136
        },
        "outputId": "03b0e035-c5ff-4e86-a82b-7612f0abf169"
      },
      "source": [
        "pd.crosstab( spanish_players_df.preferred_foot, spanish_players_df.main_position )"
      ],
      "execution_count": 115,
      "outputs": [
        {
          "output_type": "execute_result",
          "data": {
            "text/html": [
              "<div>\n",
              "<style scoped>\n",
              "    .dataframe tbody tr th:only-of-type {\n",
              "        vertical-align: middle;\n",
              "    }\n",
              "\n",
              "    .dataframe tbody tr th {\n",
              "        vertical-align: top;\n",
              "    }\n",
              "\n",
              "    .dataframe thead th {\n",
              "        text-align: right;\n",
              "    }\n",
              "</style>\n",
              "<table border=\"1\" class=\"dataframe\">\n",
              "  <thead>\n",
              "    <tr style=\"text-align: right;\">\n",
              "      <th>main_position</th>\n",
              "      <th>DF</th>\n",
              "      <th>FW</th>\n",
              "      <th>GK</th>\n",
              "      <th>MF</th>\n",
              "    </tr>\n",
              "    <tr>\n",
              "      <th>preferred_foot</th>\n",
              "      <th></th>\n",
              "      <th></th>\n",
              "      <th></th>\n",
              "      <th></th>\n",
              "    </tr>\n",
              "  </thead>\n",
              "  <tbody>\n",
              "    <tr>\n",
              "      <th>Left</th>\n",
              "      <td>56</td>\n",
              "      <td>10</td>\n",
              "      <td>8</td>\n",
              "      <td>92</td>\n",
              "    </tr>\n",
              "    <tr>\n",
              "      <th>Right</th>\n",
              "      <td>133</td>\n",
              "      <td>58</td>\n",
              "      <td>54</td>\n",
              "      <td>203</td>\n",
              "    </tr>\n",
              "  </tbody>\n",
              "</table>\n",
              "</div>"
            ],
            "text/plain": [
              "main_position    DF  FW  GK   MF\n",
              "preferred_foot                  \n",
              "Left             56  10   8   92\n",
              "Right           133  58  54  203"
            ]
          },
          "metadata": {
            "tags": []
          },
          "execution_count": 115
        }
      ]
    },
    {
      "cell_type": "markdown",
      "metadata": {
        "id": "9roCAfbMZrdq"
      },
      "source": [
        "También se puede obtener la frecuencia relativa empleando el parámetro *normalize=True*."
      ]
    },
    {
      "cell_type": "code",
      "metadata": {
        "id": "oxmJELbUZo7q",
        "colab": {
          "base_uri": "https://localhost:8080/",
          "height": 136
        },
        "outputId": "cf25461e-ba7a-4f73-f9aa-904ee6fddb61"
      },
      "source": [
        "pd.crosstab( spanish_players_df.preferred_foot, spanish_players_df.main_position, normalize=True )"
      ],
      "execution_count": 116,
      "outputs": [
        {
          "output_type": "execute_result",
          "data": {
            "text/html": [
              "<div>\n",
              "<style scoped>\n",
              "    .dataframe tbody tr th:only-of-type {\n",
              "        vertical-align: middle;\n",
              "    }\n",
              "\n",
              "    .dataframe tbody tr th {\n",
              "        vertical-align: top;\n",
              "    }\n",
              "\n",
              "    .dataframe thead th {\n",
              "        text-align: right;\n",
              "    }\n",
              "</style>\n",
              "<table border=\"1\" class=\"dataframe\">\n",
              "  <thead>\n",
              "    <tr style=\"text-align: right;\">\n",
              "      <th>main_position</th>\n",
              "      <th>DF</th>\n",
              "      <th>FW</th>\n",
              "      <th>GK</th>\n",
              "      <th>MF</th>\n",
              "    </tr>\n",
              "    <tr>\n",
              "      <th>preferred_foot</th>\n",
              "      <th></th>\n",
              "      <th></th>\n",
              "      <th></th>\n",
              "      <th></th>\n",
              "    </tr>\n",
              "  </thead>\n",
              "  <tbody>\n",
              "    <tr>\n",
              "      <th>Left</th>\n",
              "      <td>0.091205</td>\n",
              "      <td>0.016287</td>\n",
              "      <td>0.013029</td>\n",
              "      <td>0.149837</td>\n",
              "    </tr>\n",
              "    <tr>\n",
              "      <th>Right</th>\n",
              "      <td>0.216612</td>\n",
              "      <td>0.094463</td>\n",
              "      <td>0.087948</td>\n",
              "      <td>0.330619</td>\n",
              "    </tr>\n",
              "  </tbody>\n",
              "</table>\n",
              "</div>"
            ],
            "text/plain": [
              "main_position         DF        FW        GK        MF\n",
              "preferred_foot                                        \n",
              "Left            0.091205  0.016287  0.013029  0.149837\n",
              "Right           0.216612  0.094463  0.087948  0.330619"
            ]
          },
          "metadata": {
            "tags": []
          },
          "execution_count": 116
        }
      ]
    },
    {
      "cell_type": "markdown",
      "metadata": {
        "id": "xkrVy13FY37z"
      },
      "source": [
        "También podemos obtener las frecuencias condicionales de cada valor de la variable columnar condicionadas al valor de la variable aleatoria de las filas. Esto se consigue con el atributo *normalize=index*. "
      ]
    },
    {
      "cell_type": "code",
      "metadata": {
        "id": "9wK-4L-l8YAL",
        "colab": {
          "base_uri": "https://localhost:8080/",
          "height": 136
        },
        "outputId": "177ba600-b0f5-4238-fd18-8b7aa55adb20"
      },
      "source": [
        "pd.crosstab( spanish_players_df.preferred_foot, spanish_players_df.main_position, normalize = \"index\" )"
      ],
      "execution_count": 117,
      "outputs": [
        {
          "output_type": "execute_result",
          "data": {
            "text/html": [
              "<div>\n",
              "<style scoped>\n",
              "    .dataframe tbody tr th:only-of-type {\n",
              "        vertical-align: middle;\n",
              "    }\n",
              "\n",
              "    .dataframe tbody tr th {\n",
              "        vertical-align: top;\n",
              "    }\n",
              "\n",
              "    .dataframe thead th {\n",
              "        text-align: right;\n",
              "    }\n",
              "</style>\n",
              "<table border=\"1\" class=\"dataframe\">\n",
              "  <thead>\n",
              "    <tr style=\"text-align: right;\">\n",
              "      <th>main_position</th>\n",
              "      <th>DF</th>\n",
              "      <th>FW</th>\n",
              "      <th>GK</th>\n",
              "      <th>MF</th>\n",
              "    </tr>\n",
              "    <tr>\n",
              "      <th>preferred_foot</th>\n",
              "      <th></th>\n",
              "      <th></th>\n",
              "      <th></th>\n",
              "      <th></th>\n",
              "    </tr>\n",
              "  </thead>\n",
              "  <tbody>\n",
              "    <tr>\n",
              "      <th>Left</th>\n",
              "      <td>0.337349</td>\n",
              "      <td>0.060241</td>\n",
              "      <td>0.048193</td>\n",
              "      <td>0.554217</td>\n",
              "    </tr>\n",
              "    <tr>\n",
              "      <th>Right</th>\n",
              "      <td>0.296875</td>\n",
              "      <td>0.129464</td>\n",
              "      <td>0.120536</td>\n",
              "      <td>0.453125</td>\n",
              "    </tr>\n",
              "  </tbody>\n",
              "</table>\n",
              "</div>"
            ],
            "text/plain": [
              "main_position         DF        FW        GK        MF\n",
              "preferred_foot                                        \n",
              "Left            0.337349  0.060241  0.048193  0.554217\n",
              "Right           0.296875  0.129464  0.120536  0.453125"
            ]
          },
          "metadata": {
            "tags": []
          },
          "execution_count": 117
        }
      ]
    },
    {
      "cell_type": "markdown",
      "metadata": {
        "id": "Vr3gHYBSZNzH"
      },
      "source": [
        "De forma similar, podemos obtener las frecuencias condicionales de cada valor de la variable de las filas, condicionadas al valor de la variable aleatoria de la columna. Esto se consigue con el atributo *normalize=columns*."
      ]
    },
    {
      "cell_type": "code",
      "metadata": {
        "id": "LFD-zs1-8kU1",
        "colab": {
          "base_uri": "https://localhost:8080/",
          "height": 136
        },
        "outputId": "563df4df-6586-47c8-f40b-786d1fc41a82"
      },
      "source": [
        "pd.crosstab( spanish_players_df.preferred_foot, spanish_players_df.main_position, normalize = \"columns\" )"
      ],
      "execution_count": 118,
      "outputs": [
        {
          "output_type": "execute_result",
          "data": {
            "text/html": [
              "<div>\n",
              "<style scoped>\n",
              "    .dataframe tbody tr th:only-of-type {\n",
              "        vertical-align: middle;\n",
              "    }\n",
              "\n",
              "    .dataframe tbody tr th {\n",
              "        vertical-align: top;\n",
              "    }\n",
              "\n",
              "    .dataframe thead th {\n",
              "        text-align: right;\n",
              "    }\n",
              "</style>\n",
              "<table border=\"1\" class=\"dataframe\">\n",
              "  <thead>\n",
              "    <tr style=\"text-align: right;\">\n",
              "      <th>main_position</th>\n",
              "      <th>DF</th>\n",
              "      <th>FW</th>\n",
              "      <th>GK</th>\n",
              "      <th>MF</th>\n",
              "    </tr>\n",
              "    <tr>\n",
              "      <th>preferred_foot</th>\n",
              "      <th></th>\n",
              "      <th></th>\n",
              "      <th></th>\n",
              "      <th></th>\n",
              "    </tr>\n",
              "  </thead>\n",
              "  <tbody>\n",
              "    <tr>\n",
              "      <th>Left</th>\n",
              "      <td>0.296296</td>\n",
              "      <td>0.147059</td>\n",
              "      <td>0.129032</td>\n",
              "      <td>0.311864</td>\n",
              "    </tr>\n",
              "    <tr>\n",
              "      <th>Right</th>\n",
              "      <td>0.703704</td>\n",
              "      <td>0.852941</td>\n",
              "      <td>0.870968</td>\n",
              "      <td>0.688136</td>\n",
              "    </tr>\n",
              "  </tbody>\n",
              "</table>\n",
              "</div>"
            ],
            "text/plain": [
              "main_position         DF        FW        GK        MF\n",
              "preferred_foot                                        \n",
              "Left            0.296296  0.147059  0.129032  0.311864\n",
              "Right           0.703704  0.852941  0.870968  0.688136"
            ]
          },
          "metadata": {
            "tags": []
          },
          "execution_count": 118
        }
      ]
    },
    {
      "cell_type": "markdown",
      "metadata": {
        "id": "zNIRZqIIZbCA"
      },
      "source": [
        "En base a la información recogida de estas tablas.\n",
        "\n",
        "**¿Existe en nuestra muestra una combinación de pie dominante y posición que sea más frecuente en nuestra muestra?** Los porteros GK diestros.\n",
        "\n",
        "**Si sabemos que un jugador es zurdo, ¿cuál será de forma más probable su posición de acuerdo a nuestra muestra?** Centrocampista MF\n",
        "\n",
        "Construye ahora una tabla de contingencia donde podamos analizar en base al valor del continente, qué pie es más dominante."
      ]
    },
    {
      "cell_type": "code",
      "metadata": {
        "id": "0wfobr6cwDxI",
        "colab": {
          "base_uri": "https://localhost:8080/",
          "height": 136
        },
        "outputId": "f438165c-1bd4-4ac7-d037-4ab4ebd54f9e"
      },
      "source": [
        "#Tu código aquí\n",
        "pd.crosstab( spanish_players_df.preferred_foot, spanish_players_df.continent, normalize = \"columns\" )"
      ],
      "execution_count": 119,
      "outputs": [
        {
          "output_type": "execute_result",
          "data": {
            "text/html": [
              "<div>\n",
              "<style scoped>\n",
              "    .dataframe tbody tr th:only-of-type {\n",
              "        vertical-align: middle;\n",
              "    }\n",
              "\n",
              "    .dataframe tbody tr th {\n",
              "        vertical-align: top;\n",
              "    }\n",
              "\n",
              "    .dataframe thead th {\n",
              "        text-align: right;\n",
              "    }\n",
              "</style>\n",
              "<table border=\"1\" class=\"dataframe\">\n",
              "  <thead>\n",
              "    <tr style=\"text-align: right;\">\n",
              "      <th>continent</th>\n",
              "      <th>Africa</th>\n",
              "      <th>America</th>\n",
              "      <th>Asia</th>\n",
              "      <th>Europe</th>\n",
              "    </tr>\n",
              "    <tr>\n",
              "      <th>preferred_foot</th>\n",
              "      <th></th>\n",
              "      <th></th>\n",
              "      <th></th>\n",
              "      <th></th>\n",
              "    </tr>\n",
              "  </thead>\n",
              "  <tbody>\n",
              "    <tr>\n",
              "      <th>Left</th>\n",
              "      <td>0.266667</td>\n",
              "      <td>0.24359</td>\n",
              "      <td>0.333333</td>\n",
              "      <td>0.273642</td>\n",
              "    </tr>\n",
              "    <tr>\n",
              "      <th>Right</th>\n",
              "      <td>0.733333</td>\n",
              "      <td>0.75641</td>\n",
              "      <td>0.666667</td>\n",
              "      <td>0.726358</td>\n",
              "    </tr>\n",
              "  </tbody>\n",
              "</table>\n",
              "</div>"
            ],
            "text/plain": [
              "continent         Africa  America      Asia    Europe\n",
              "preferred_foot                                       \n",
              "Left            0.266667  0.24359  0.333333  0.273642\n",
              "Right           0.733333  0.75641  0.666667  0.726358"
            ]
          },
          "metadata": {
            "tags": []
          },
          "execution_count": 119
        }
      ]
    },
    {
      "cell_type": "markdown",
      "metadata": {
        "id": "c-a0x11FIhFQ"
      },
      "source": [
        "# Estadística descriptiva para valores numéricos"
      ]
    },
    {
      "cell_type": "markdown",
      "metadata": {
        "id": "G9ppl1nZeL2b"
      },
      "source": [
        "Hemos visto como podemos describir las variables categóricas de nuestra muestra. No obstante, en muchas ocasiones nuestra muestra también cuenta con un gran número de variables de tipo numérico. ¿Cómo podemos describir este tipo de variables?\n",
        "\n",
        "Una forma sencilla de describir este tipo de variables aleatorias es mediante la construcción de histogramas. Estos gráficos nos pueden ayudar a identificar posibles casos de normalidad en la variable aleatoria, asimetrías, e incluso supuestos comportamientos exponenciales en la variable aleatoria.\n",
        "\n",
        "La construcción de histogramas es sencilla empleando *Seaborn* y se basa en el empleo del método *histplot*. A éste se le debe proporcionar en el parámetro *data* el *Dataframe* sobre el cual trabajaremos. En el eje *x* solemos proporcionar la columna que representa a la variable numérica que queremos estudiar. Opcionalmente, con el parámetro *bins* podemos especificar el número de cubetas a construir en el histograma. Por defecto, *Seaborn* emplea un método interno para determinar el número adecuado de cubetas, aunque éste no es siempre óptimo. Veamos un ejemplo de uso de este método con la variable *overall*, la cual recoge la valoración media del jugador otorgada por los expertos del equipo de EA Sports."
      ]
    },
    {
      "cell_type": "code",
      "metadata": {
        "id": "pBEUoH36IPzQ",
        "colab": {
          "base_uri": "https://localhost:8080/",
          "height": 296
        },
        "outputId": "8e9cf942-c84c-4fb0-c775-45ed07e464be"
      },
      "source": [
        "sns.histplot(data=spanish_players_df, x=\"overall\", bins=30)"
      ],
      "execution_count": 120,
      "outputs": [
        {
          "output_type": "execute_result",
          "data": {
            "text/plain": [
              "<matplotlib.axes._subplots.AxesSubplot at 0x7fd0e0899eb8>"
            ]
          },
          "metadata": {
            "tags": []
          },
          "execution_count": 120
        },
        {
          "output_type": "display_data",
          "data": {
            "image/png": "[encoded data removed]",
            "text/plain": [
              "<Figure size 432x288 with 1 Axes>"
            ]
          },
          "metadata": {
            "tags": [],
            "needs_background": "light"
          }
        }
      ]
    },
    {
      "cell_type": "markdown",
      "metadata": {
        "id": "sC7YR5J8hZWW"
      },
      "source": [
        "Además de mostrar la frecuencia en valores absoluto para cada cubeta, también podemos hacer que la altura de la cubeta muestre o bien la densidad (el área del histograma será 1) o la probabilidad (la suma de las alturas de las cubetas será 1). Esto lo conseguimos con el parámetro *stat*. Veamos dos ejemplos."
      ]
    },
    {
      "cell_type": "code",
      "metadata": {
        "id": "JY0Q5-xMh4px",
        "colab": {
          "base_uri": "https://localhost:8080/",
          "height": 296
        },
        "outputId": "e8f65426-dedc-4550-c3c3-f3522491a524"
      },
      "source": [
        "sns.histplot(data=spanish_players_df, x=\"overall\", bins=30, stat=\"probability\")"
      ],
      "execution_count": 121,
      "outputs": [
        {
          "output_type": "execute_result",
          "data": {
            "text/plain": [
              "<matplotlib.axes._subplots.AxesSubplot at 0x7fd0e080c278>"
            ]
          },
          "metadata": {
            "tags": []
          },
          "execution_count": 121
        },
        {
          "output_type": "display_data",
          "data": {
            "image/png": "[encoded data removed]",
            "text/plain": [
              "<Figure size 432x288 with 1 Axes>"
            ]
          },
          "metadata": {
            "tags": [],
            "needs_background": "light"
          }
        }
      ]
    },
    {
      "cell_type": "code",
      "metadata": {
        "id": "bGud7e16h7nZ",
        "colab": {
          "base_uri": "https://localhost:8080/",
          "height": 296
        },
        "outputId": "1b53b210-2535-41de-f322-ea0917f8bb57"
      },
      "source": [
        "sns.histplot(data=spanish_players_df, x=\"overall\", bins=30, stat=\"density\")"
      ],
      "execution_count": 122,
      "outputs": [
        {
          "output_type": "execute_result",
          "data": {
            "text/plain": [
              "<matplotlib.axes._subplots.AxesSubplot at 0x7fd0e256df60>"
            ]
          },
          "metadata": {
            "tags": []
          },
          "execution_count": 122
        },
        {
          "output_type": "display_data",
          "data": {
            "image/png": "[encoded data removed]",
            "text/plain": [
              "<Figure size 432x288 with 1 Axes>"
            ]
          },
          "metadata": {
            "tags": [],
            "needs_background": "light"
          }
        }
      ]
    },
    {
      "cell_type": "markdown",
      "metadata": {
        "id": "T9yrp7JQf-Ah"
      },
      "source": [
        "A veces también es interesante superponer dos histogramas para la misma variable aleatoria en base al valor de una variable categórica. Esto nos permite analizar si existen diferencias en la muestra entre los histogramas construidos a partir de cada una de las categorías. Por ejemplo, en el siguiente gráfico analizamos si existen diferencias entre la forma general de los histogramas de la variable *overall* para jugadores diestros y zurdos. No se recomienda observar ambos histogramas comparando la frecuencia absoluta, ya que evidentemente existen diferencias a nivel de alturas en los histogramas. Los jugadores diestros son mucho más frecuentes.\n",
        "\n",
        "**En base a los dos histogramas representados ¿dirías que son diametralmente diferentes en la muestra?** Parece que los diestros se extienden más, pero esto debe deberse a que hay pocos datos de zurdos."
      ]
    },
    {
      "cell_type": "code",
      "metadata": {
        "id": "IbkHUU2-8qhk",
        "colab": {
          "base_uri": "https://localhost:8080/",
          "height": 296
        },
        "outputId": "c19361e8-e0ae-421f-e022-2dc67171ce4f"
      },
      "source": [
        "sns.histplot(data=spanish_players_df, x=\"overall\", bins=30, hue=\"preferred_foot\", stat=\"density\", common_norm=False)"
      ],
      "execution_count": 123,
      "outputs": [
        {
          "output_type": "execute_result",
          "data": {
            "text/plain": [
              "<matplotlib.axes._subplots.AxesSubplot at 0x7fd0e0793f28>"
            ]
          },
          "metadata": {
            "tags": []
          },
          "execution_count": 123
        },
        {
          "output_type": "display_data",
          "data": {
            "image/png": "[encoded data removed]",
            "text/plain": [
              "<Figure size 432x288 with 1 Axes>"
            ]
          },
          "metadata": {
            "tags": [],
            "needs_background": "light"
          }
        }
      ]
    },
    {
      "cell_type": "markdown",
      "metadata": {
        "id": "lTDeqauxjXLO"
      },
      "source": [
        "Ahora construye un histograma para la variable edad (*age*) con normalización en base a la densidad. \n",
        "\n",
        "**Atendiendo al histograma, ¿crees que los datos son aproximadamente normales? ¿presentan algún tipo de asimetría?** Parece que hay una asimetría por la derecha."
      ]
    },
    {
      "cell_type": "code",
      "metadata": {
        "id": "-L7pxFUc_nHs",
        "colab": {
          "base_uri": "https://localhost:8080/",
          "height": 297
        },
        "outputId": "3fe9380b-816b-47fb-b6b9-00774b7d7306"
      },
      "source": [
        "# Tu código aquí\n",
        "sns.histplot(data=spanish_players_df, x=\"age\", bins=30, stat=\"density\")"
      ],
      "execution_count": 124,
      "outputs": [
        {
          "output_type": "execute_result",
          "data": {
            "text/plain": [
              "<matplotlib.axes._subplots.AxesSubplot at 0x7fd0e06b5cc0>"
            ]
          },
          "metadata": {
            "tags": []
          },
          "execution_count": 124
        },
        {
          "output_type": "display_data",
          "data": {
            "image/png": "[encoded data removed]",
            "text/plain": [
              "<Figure size 432x288 with 1 Axes>"
            ]
          },
          "metadata": {
            "tags": [],
            "needs_background": "light"
          }
        }
      ]
    },
    {
      "cell_type": "markdown",
      "metadata": {
        "id": "9pVZkVdyj7FD"
      },
      "source": [
        "Ahora representa el salario de los jugadores en euros (*wage_eur*) en un histograma normalizado en base a la densidad.\n",
        "\n",
        "**¿Crees que el histograma se asemeja al de una distribución normal?** El histograma no parece una normal, presenta una asimetría por la derecha."
      ]
    },
    {
      "cell_type": "code",
      "metadata": {
        "id": "sHFHwcuw_veQ",
        "colab": {
          "base_uri": "https://localhost:8080/",
          "height": 307
        },
        "outputId": "74eabbfe-0430-4464-b8aa-298e07959686"
      },
      "source": [
        "#Tu código aquí\n",
        "sns.histplot(data=spanish_players_df, x=\"wage_eur\", bins=40, stat=\"density\")"
      ],
      "execution_count": 125,
      "outputs": [
        {
          "output_type": "execute_result",
          "data": {
            "text/plain": [
              "<matplotlib.axes._subplots.AxesSubplot at 0x7fd0e05b3b00>"
            ]
          },
          "metadata": {
            "tags": []
          },
          "execution_count": 125
        },
        {
          "output_type": "display_data",
          "data": {
            "image/png": "[encoded data removed]",
            "text/plain": [
              "<Figure size 432x288 with 1 Axes>"
            ]
          },
          "metadata": {
            "tags": [],
            "needs_background": "light"
          }
        }
      ]
    },
    {
      "cell_type": "markdown",
      "metadata": {
        "id": "V7EHhx_YpNjw"
      },
      "source": [
        "Ahora construye un doble histograma para la variable aleatoria edad, pero diferenciando el histograma dependiendo del pie dominante.\n",
        "\n",
        "**¿Observas diferencias notorias entre los histogramas de ambas muestras?** Parece que los datos de los diestros tienen una distribución más normal mientras que los zurdos presentan una mayor asimetría a la derecha."
      ]
    },
    {
      "cell_type": "code",
      "metadata": {
        "id": "xx3sX3LBAadT",
        "colab": {
          "base_uri": "https://localhost:8080/",
          "height": 296
        },
        "outputId": "3416f31b-6c6f-4640-abd7-d0f1cd07e663"
      },
      "source": [
        "#Tu código aquí\n",
        "sns.histplot(data=spanish_players_df, x=\"age\", bins=30, hue=\"preferred_foot\", stat=\"density\", common_norm=False)"
      ],
      "execution_count": 126,
      "outputs": [
        {
          "output_type": "execute_result",
          "data": {
            "text/plain": [
              "<matplotlib.axes._subplots.AxesSubplot at 0x7fd0e03da160>"
            ]
          },
          "metadata": {
            "tags": []
          },
          "execution_count": 126
        },
        {
          "output_type": "display_data",
          "data": {
            "image/png": "[encoded data removed]",
            "text/plain": [
              "<Figure size 432x288 with 1 Axes>"
            ]
          },
          "metadata": {
            "tags": [],
            "needs_background": "light"
          }
        }
      ]
    },
    {
      "cell_type": "markdown",
      "metadata": {
        "id": "mMc8MzYWpb8z"
      },
      "source": [
        "Otra forma alternativa de visualizar los datos de variables numéricas es mediante la construcción de gráficos de tipo caja-bigotes o *box-whisker*. Estos nos permiten analizar información como la mediana, el primer y tercer cuartil, posibles asimetrías, y datos potencialmente anómalos.\n",
        "\n",
        "La construcción de estos diagramas con *Seaborn* se realiza mediante el método *boxplot*. A éste se le pasa como parámetro la variable aleatoria o columna que queremos representar en el diagrama caja bigotes.\n",
        "\n",
        "En el siguiente ejemplo, mostramos como construir un *box-whisker* para la variable *overall* que determina la calificación general del jugador en el FIFA. Como vemos, proporcionamos por parámetro la columna en la que se encuentra la variable aleatoria en el *Dataframe*."
      ]
    },
    {
      "cell_type": "code",
      "metadata": {
        "colab": {
          "base_uri": "https://localhost:8080/",
          "height": 296
        },
        "id": "RMEyDz4_IjNA",
        "outputId": "c8ac1030-722a-4d16-fcbd-850e14e42a37"
      },
      "source": [
        "sns.histplot(data=spanish_players_df, x=\"overall\", bins=30)"
      ],
      "execution_count": 127,
      "outputs": [
        {
          "output_type": "execute_result",
          "data": {
            "text/plain": [
              "<matplotlib.axes._subplots.AxesSubplot at 0x7fd0e32fbf60>"
            ]
          },
          "metadata": {
            "tags": []
          },
          "execution_count": 127
        },
        {
          "output_type": "display_data",
          "data": {
            "image/png": "[encoded data removed]",
            "text/plain": [
              "<Figure size 432x288 with 1 Axes>"
            ]
          },
          "metadata": {
            "tags": [],
            "needs_background": "light"
          }
        }
      ]
    },
    {
      "cell_type": "code",
      "metadata": {
        "id": "uAXjQ7BK-mF1",
        "colab": {
          "base_uri": "https://localhost:8080/",
          "height": 455
        },
        "outputId": "5c5d29e5-eef8-489f-c8c4-370dfc23252d"
      },
      "source": [
        "sns.boxplot( x=spanish_players_df.overall )\n",
        "spanish_players_df[spanish_players_df['overall'] > 91]"
      ],
      "execution_count": 128,
      "outputs": [
        {
          "output_type": "execute_result",
          "data": {
            "text/html": [
              "<div>\n",
              "<style scoped>\n",
              "    .dataframe tbody tr th:only-of-type {\n",
              "        vertical-align: middle;\n",
              "    }\n",
              "\n",
              "    .dataframe tbody tr th {\n",
              "        vertical-align: top;\n",
              "    }\n",
              "\n",
              "    .dataframe thead th {\n",
              "        text-align: right;\n",
              "    }\n",
              "</style>\n",
              "<table border=\"1\" class=\"dataframe\">\n",
              "  <thead>\n",
              "    <tr style=\"text-align: right;\">\n",
              "      <th></th>\n",
              "      <th>sofifa_id</th>\n",
              "      <th>player_url</th>\n",
              "      <th>short_name</th>\n",
              "      <th>long_name</th>\n",
              "      <th>age</th>\n",
              "      <th>dob</th>\n",
              "      <th>height_cm</th>\n",
              "      <th>weight_kg</th>\n",
              "      <th>nationality</th>\n",
              "      <th>club</th>\n",
              "      <th>overall</th>\n",
              "      <th>potential</th>\n",
              "      <th>value_eur</th>\n",
              "      <th>wage_eur</th>\n",
              "      <th>player_positions</th>\n",
              "      <th>preferred_foot</th>\n",
              "      <th>international_reputation</th>\n",
              "      <th>weak_foot</th>\n",
              "      <th>skill_moves</th>\n",
              "      <th>work_rate</th>\n",
              "      <th>body_type</th>\n",
              "      <th>real_face</th>\n",
              "      <th>release_clause_eur</th>\n",
              "      <th>player_tags</th>\n",
              "      <th>team_position</th>\n",
              "      <th>team_jersey_number</th>\n",
              "      <th>loaned_from</th>\n",
              "      <th>joined</th>\n",
              "      <th>contract_valid_until</th>\n",
              "      <th>nation_position</th>\n",
              "      <th>nation_jersey_number</th>\n",
              "      <th>pace</th>\n",
              "      <th>shooting</th>\n",
              "      <th>passing</th>\n",
              "      <th>dribbling</th>\n",
              "      <th>defending</th>\n",
              "      <th>physic</th>\n",
              "      <th>gk_diving</th>\n",
              "      <th>gk_handling</th>\n",
              "      <th>gk_kicking</th>\n",
              "      <th>...</th>\n",
              "      <th>mentality_penalties</th>\n",
              "      <th>mentality_composure</th>\n",
              "      <th>defending_marking</th>\n",
              "      <th>defending_standing_tackle</th>\n",
              "      <th>defending_sliding_tackle</th>\n",
              "      <th>goalkeeping_diving</th>\n",
              "      <th>goalkeeping_handling</th>\n",
              "      <th>goalkeeping_kicking</th>\n",
              "      <th>goalkeeping_positioning</th>\n",
              "      <th>goalkeeping_reflexes</th>\n",
              "      <th>ls</th>\n",
              "      <th>st</th>\n",
              "      <th>rs</th>\n",
              "      <th>lw</th>\n",
              "      <th>lf</th>\n",
              "      <th>cf</th>\n",
              "      <th>rf</th>\n",
              "      <th>rw</th>\n",
              "      <th>lam</th>\n",
              "      <th>cam</th>\n",
              "      <th>ram</th>\n",
              "      <th>lm</th>\n",
              "      <th>lcm</th>\n",
              "      <th>cm</th>\n",
              "      <th>rcm</th>\n",
              "      <th>rm</th>\n",
              "      <th>lwb</th>\n",
              "      <th>ldm</th>\n",
              "      <th>cdm</th>\n",
              "      <th>rdm</th>\n",
              "      <th>rwb</th>\n",
              "      <th>lb</th>\n",
              "      <th>lcb</th>\n",
              "      <th>cb</th>\n",
              "      <th>rcb</th>\n",
              "      <th>rb</th>\n",
              "      <th>main_position</th>\n",
              "      <th>continent</th>\n",
              "      <th>is_defender</th>\n",
              "      <th>is_forward</th>\n",
              "    </tr>\n",
              "  </thead>\n",
              "  <tbody>\n",
              "    <tr>\n",
              "      <th>0</th>\n",
              "      <td>158023</td>\n",
              "      <td>https://sofifa.com/player/158023/lionel-messi/...</td>\n",
              "      <td>L. Messi</td>\n",
              "      <td>Lionel Andrés Messi Cuccittini</td>\n",
              "      <td>32</td>\n",
              "      <td>1987-06-24</td>\n",
              "      <td>170</td>\n",
              "      <td>72</td>\n",
              "      <td>Argentina</td>\n",
              "      <td>FC Barcelona</td>\n",
              "      <td>94</td>\n",
              "      <td>94</td>\n",
              "      <td>95500000</td>\n",
              "      <td>565000</td>\n",
              "      <td>RW, CF, ST</td>\n",
              "      <td>Left</td>\n",
              "      <td>5</td>\n",
              "      <td>4</td>\n",
              "      <td>4</td>\n",
              "      <td>Medium/Low</td>\n",
              "      <td>Messi</td>\n",
              "      <td>Yes</td>\n",
              "      <td>195800000.0</td>\n",
              "      <td>#Dribbler, #Distance Shooter, #Crosser, #FK Sp...</td>\n",
              "      <td>RW</td>\n",
              "      <td>10.0</td>\n",
              "      <td>NaN</td>\n",
              "      <td>2004-07-01</td>\n",
              "      <td>2021.0</td>\n",
              "      <td>NaN</td>\n",
              "      <td>NaN</td>\n",
              "      <td>87.0</td>\n",
              "      <td>92.0</td>\n",
              "      <td>92.0</td>\n",
              "      <td>96.0</td>\n",
              "      <td>39.0</td>\n",
              "      <td>66.0</td>\n",
              "      <td>NaN</td>\n",
              "      <td>NaN</td>\n",
              "      <td>NaN</td>\n",
              "      <td>...</td>\n",
              "      <td>75</td>\n",
              "      <td>96</td>\n",
              "      <td>33</td>\n",
              "      <td>37</td>\n",
              "      <td>26</td>\n",
              "      <td>6</td>\n",
              "      <td>11</td>\n",
              "      <td>15</td>\n",
              "      <td>14</td>\n",
              "      <td>8</td>\n",
              "      <td>89+2</td>\n",
              "      <td>89+2</td>\n",
              "      <td>89+2</td>\n",
              "      <td>93+2</td>\n",
              "      <td>93+2</td>\n",
              "      <td>93+2</td>\n",
              "      <td>93+2</td>\n",
              "      <td>93+2</td>\n",
              "      <td>93+2</td>\n",
              "      <td>93+2</td>\n",
              "      <td>93+2</td>\n",
              "      <td>92+2</td>\n",
              "      <td>87+2</td>\n",
              "      <td>87+2</td>\n",
              "      <td>87+2</td>\n",
              "      <td>92+2</td>\n",
              "      <td>68+2</td>\n",
              "      <td>66+2</td>\n",
              "      <td>66+2</td>\n",
              "      <td>66+2</td>\n",
              "      <td>68+2</td>\n",
              "      <td>63+2</td>\n",
              "      <td>52+2</td>\n",
              "      <td>52+2</td>\n",
              "      <td>52+2</td>\n",
              "      <td>63+2</td>\n",
              "      <td>FW</td>\n",
              "      <td>America</td>\n",
              "      <td>False</td>\n",
              "      <td>True</td>\n",
              "    </tr>\n",
              "  </tbody>\n",
              "</table>\n",
              "<p>1 rows × 108 columns</p>\n",
              "</div>"
            ],
            "text/plain": [
              "   sofifa_id  ... is_forward\n",
              "0     158023  ...       True\n",
              "\n",
              "[1 rows x 108 columns]"
            ]
          },
          "metadata": {
            "tags": []
          },
          "execution_count": 128
        },
        {
          "output_type": "display_data",
          "data": {
            "image/png": "[encoded data removed]",
            "text/plain": [
              "<Figure size 432x288 with 1 Axes>"
            ]
          },
          "metadata": {
            "tags": [],
            "needs_background": "light"
          }
        }
      ]
    },
    {
      "cell_type": "markdown",
      "metadata": {
        "id": "VaM5fm1m8kQU"
      },
      "source": [
        "**A la vista del gráfico anterior, ¿observas algún dato \"anómalo\"? ¿A qué jugador corresponde? ¿Lo considerarías realmente un dato anómalo? ¿Observas algún tipo de fuerte asimetría en los datos?** Se puede ver que Messi se sale de todo el conjunto de datos, pero esto no es un dato erroneo, simplemente es un jugador que tiene una puntuación muy superior a los demás. Aunque parece una distribución simétrica, tiene una pequeña asimetría por la derecha.\n"
      ]
    },
    {
      "cell_type": "markdown",
      "metadata": {
        "id": "RrK9LbyJ9Kdw"
      },
      "source": [
        "De forma similar a como hemos realizado con los histogramas, también podemos representar varios diagramas *box-whisker* para una misma variable aleatoria pero separados de acuerdo al valor de otra variable de tipo categórico. Por ejemplo, en el siguiente ejemplo observamos el diagrama caja-bigotes para la variable aleatoria *overall* pero atendiendo al pie dominante del jugador. Nótese como en este caso hemos decidido representar en el eje x el valor de la variable categórica y en el eje y la representación del propio *box-whisker*."
      ]
    },
    {
      "cell_type": "code",
      "metadata": {
        "id": "THod-2vn-ucN",
        "colab": {
          "base_uri": "https://localhost:8080/",
          "height": 297
        },
        "outputId": "f28343bd-dcf8-4a27-b0a7-c6b68b02df9f"
      },
      "source": [
        "sns.boxplot( x=spanish_players_df.preferred_foot, y=spanish_players_df.overall )"
      ],
      "execution_count": 129,
      "outputs": [
        {
          "output_type": "execute_result",
          "data": {
            "text/plain": [
              "<matplotlib.axes._subplots.AxesSubplot at 0x7fd0e1aead30>"
            ]
          },
          "metadata": {
            "tags": []
          },
          "execution_count": 129
        },
        {
          "output_type": "display_data",
          "data": {
            "image/png": "[encoded data removed]",
            "text/plain": [
              "<Figure size 432x288 with 1 Axes>"
            ]
          },
          "metadata": {
            "tags": [],
            "needs_background": "light"
          }
        }
      ]
    },
    {
      "cell_type": "markdown",
      "metadata": {
        "id": "9_5ZOvbfAb6Y"
      },
      "source": [
        "Con lo que has aprendido, representa un diagrama caja-bigotes para la variable aleatoria *age*. **¿Se observa algún tipo de asimetría? ¿Existen datos \"anómalos\"?** Parece ser una distribución simétrica. Hay varios datos anomalos pero esto solo se debe a que son jugadores con unos 40 años, que no suele ser lo más común ya que usualmente los jugadores son de unos 25 años."
      ]
    },
    {
      "cell_type": "code",
      "metadata": {
        "id": "w9CxmuR8-_Gn",
        "colab": {
          "base_uri": "https://localhost:8080/",
          "height": 691
        },
        "outputId": "79760bcd-ecd1-4fe8-a840-a4d470a80ffd"
      },
      "source": [
        "# Tu código aquí\n",
        "sns.boxplot( x=spanish_players_df.age )\n",
        "spanish_players_df[spanish_players_df['age'] > 35]"
      ],
      "execution_count": 130,
      "outputs": [
        {
          "output_type": "execute_result",
          "data": {
            "text/html": [
              "<div>\n",
              "<style scoped>\n",
              "    .dataframe tbody tr th:only-of-type {\n",
              "        vertical-align: middle;\n",
              "    }\n",
              "\n",
              "    .dataframe tbody tr th {\n",
              "        vertical-align: top;\n",
              "    }\n",
              "\n",
              "    .dataframe thead th {\n",
              "        text-align: right;\n",
              "    }\n",
              "</style>\n",
              "<table border=\"1\" class=\"dataframe\">\n",
              "  <thead>\n",
              "    <tr style=\"text-align: right;\">\n",
              "      <th></th>\n",
              "      <th>sofifa_id</th>\n",
              "      <th>player_url</th>\n",
              "      <th>short_name</th>\n",
              "      <th>long_name</th>\n",
              "      <th>age</th>\n",
              "      <th>dob</th>\n",
              "      <th>height_cm</th>\n",
              "      <th>weight_kg</th>\n",
              "      <th>nationality</th>\n",
              "      <th>club</th>\n",
              "      <th>overall</th>\n",
              "      <th>potential</th>\n",
              "      <th>value_eur</th>\n",
              "      <th>wage_eur</th>\n",
              "      <th>player_positions</th>\n",
              "      <th>preferred_foot</th>\n",
              "      <th>international_reputation</th>\n",
              "      <th>weak_foot</th>\n",
              "      <th>skill_moves</th>\n",
              "      <th>work_rate</th>\n",
              "      <th>body_type</th>\n",
              "      <th>real_face</th>\n",
              "      <th>release_clause_eur</th>\n",
              "      <th>player_tags</th>\n",
              "      <th>team_position</th>\n",
              "      <th>team_jersey_number</th>\n",
              "      <th>loaned_from</th>\n",
              "      <th>joined</th>\n",
              "      <th>contract_valid_until</th>\n",
              "      <th>nation_position</th>\n",
              "      <th>nation_jersey_number</th>\n",
              "      <th>pace</th>\n",
              "      <th>shooting</th>\n",
              "      <th>passing</th>\n",
              "      <th>dribbling</th>\n",
              "      <th>defending</th>\n",
              "      <th>physic</th>\n",
              "      <th>gk_diving</th>\n",
              "      <th>gk_handling</th>\n",
              "      <th>gk_kicking</th>\n",
              "      <th>...</th>\n",
              "      <th>mentality_penalties</th>\n",
              "      <th>mentality_composure</th>\n",
              "      <th>defending_marking</th>\n",
              "      <th>defending_standing_tackle</th>\n",
              "      <th>defending_sliding_tackle</th>\n",
              "      <th>goalkeeping_diving</th>\n",
              "      <th>goalkeeping_handling</th>\n",
              "      <th>goalkeeping_kicking</th>\n",
              "      <th>goalkeeping_positioning</th>\n",
              "      <th>goalkeeping_reflexes</th>\n",
              "      <th>ls</th>\n",
              "      <th>st</th>\n",
              "      <th>rs</th>\n",
              "      <th>lw</th>\n",
              "      <th>lf</th>\n",
              "      <th>cf</th>\n",
              "      <th>rf</th>\n",
              "      <th>rw</th>\n",
              "      <th>lam</th>\n",
              "      <th>cam</th>\n",
              "      <th>ram</th>\n",
              "      <th>lm</th>\n",
              "      <th>lcm</th>\n",
              "      <th>cm</th>\n",
              "      <th>rcm</th>\n",
              "      <th>rm</th>\n",
              "      <th>lwb</th>\n",
              "      <th>ldm</th>\n",
              "      <th>cdm</th>\n",
              "      <th>rdm</th>\n",
              "      <th>rwb</th>\n",
              "      <th>lb</th>\n",
              "      <th>lcb</th>\n",
              "      <th>cb</th>\n",
              "      <th>rcb</th>\n",
              "      <th>rb</th>\n",
              "      <th>main_position</th>\n",
              "      <th>continent</th>\n",
              "      <th>is_defender</th>\n",
              "      <th>is_forward</th>\n",
              "    </tr>\n",
              "  </thead>\n",
              "  <tbody>\n",
              "    <tr>\n",
              "      <th>288</th>\n",
              "      <td>106231</td>\n",
              "      <td>https://sofifa.com/player/106231/aritz-aduriz-...</td>\n",
              "      <td>Aduriz</td>\n",
              "      <td>Aritz Aduriz Zubeldia</td>\n",
              "      <td>38</td>\n",
              "      <td>1981-02-11</td>\n",
              "      <td>182</td>\n",
              "      <td>78</td>\n",
              "      <td>Spain</td>\n",
              "      <td>Athletic Club de Bilbao</td>\n",
              "      <td>82</td>\n",
              "      <td>82</td>\n",
              "      <td>8000000</td>\n",
              "      <td>29000</td>\n",
              "      <td>ST</td>\n",
              "      <td>Right</td>\n",
              "      <td>3</td>\n",
              "      <td>3</td>\n",
              "      <td>3</td>\n",
              "      <td>High/Medium</td>\n",
              "      <td>Normal</td>\n",
              "      <td>Yes</td>\n",
              "      <td>16800000.0</td>\n",
              "      <td>#Aerial Threat</td>\n",
              "      <td>ST</td>\n",
              "      <td>20.0</td>\n",
              "      <td>NaN</td>\n",
              "      <td>2012-07-01</td>\n",
              "      <td>2020.0</td>\n",
              "      <td>NaN</td>\n",
              "      <td>NaN</td>\n",
              "      <td>61.0</td>\n",
              "      <td>82.0</td>\n",
              "      <td>64.0</td>\n",
              "      <td>75.0</td>\n",
              "      <td>49.0</td>\n",
              "      <td>74.0</td>\n",
              "      <td>NaN</td>\n",
              "      <td>NaN</td>\n",
              "      <td>NaN</td>\n",
              "      <td>...</td>\n",
              "      <td>86</td>\n",
              "      <td>87</td>\n",
              "      <td>58</td>\n",
              "      <td>44</td>\n",
              "      <td>49</td>\n",
              "      <td>14</td>\n",
              "      <td>10</td>\n",
              "      <td>9</td>\n",
              "      <td>15</td>\n",
              "      <td>9</td>\n",
              "      <td>81+3</td>\n",
              "      <td>81+3</td>\n",
              "      <td>81+3</td>\n",
              "      <td>74+3</td>\n",
              "      <td>78+3</td>\n",
              "      <td>78+3</td>\n",
              "      <td>78+3</td>\n",
              "      <td>74+3</td>\n",
              "      <td>75+3</td>\n",
              "      <td>75+3</td>\n",
              "      <td>75+3</td>\n",
              "      <td>71+3</td>\n",
              "      <td>68+3</td>\n",
              "      <td>68+3</td>\n",
              "      <td>68+3</td>\n",
              "      <td>71+3</td>\n",
              "      <td>56+3</td>\n",
              "      <td>58+3</td>\n",
              "      <td>58+3</td>\n",
              "      <td>58+3</td>\n",
              "      <td>56+3</td>\n",
              "      <td>56+3</td>\n",
              "      <td>61+3</td>\n",
              "      <td>61+3</td>\n",
              "      <td>61+3</td>\n",
              "      <td>56+3</td>\n",
              "      <td>FW</td>\n",
              "      <td>Europe</td>\n",
              "      <td>False</td>\n",
              "      <td>True</td>\n",
              "    </tr>\n",
              "    <tr>\n",
              "      <th>487</th>\n",
              "      <td>45186</td>\n",
              "      <td>https://sofifa.com/player/45186/joaquin-sanche...</td>\n",
              "      <td>Joaquín</td>\n",
              "      <td>Joaquín Sánchez Rodríguez</td>\n",
              "      <td>37</td>\n",
              "      <td>1981-07-21</td>\n",
              "      <td>179</td>\n",
              "      <td>75</td>\n",
              "      <td>Spain</td>\n",
              "      <td>Real Betis</td>\n",
              "      <td>80</td>\n",
              "      <td>80</td>\n",
              "      <td>5000000</td>\n",
              "      <td>22000</td>\n",
              "      <td>LM, ST, RM</td>\n",
              "      <td>Right</td>\n",
              "      <td>2</td>\n",
              "      <td>3</td>\n",
              "      <td>4</td>\n",
              "      <td>High/Medium</td>\n",
              "      <td>Normal</td>\n",
              "      <td>Yes</td>\n",
              "      <td>10500000.0</td>\n",
              "      <td>NaN</td>\n",
              "      <td>LM</td>\n",
              "      <td>17.0</td>\n",
              "      <td>NaN</td>\n",
              "      <td>2015-09-01</td>\n",
              "      <td>2020.0</td>\n",
              "      <td>NaN</td>\n",
              "      <td>NaN</td>\n",
              "      <td>66.0</td>\n",
              "      <td>78.0</td>\n",
              "      <td>83.0</td>\n",
              "      <td>82.0</td>\n",
              "      <td>44.0</td>\n",
              "      <td>56.0</td>\n",
              "      <td>NaN</td>\n",
              "      <td>NaN</td>\n",
              "      <td>NaN</td>\n",
              "      <td>...</td>\n",
              "      <td>75</td>\n",
              "      <td>79</td>\n",
              "      <td>41</td>\n",
              "      <td>47</td>\n",
              "      <td>39</td>\n",
              "      <td>9</td>\n",
              "      <td>14</td>\n",
              "      <td>6</td>\n",
              "      <td>10</td>\n",
              "      <td>11</td>\n",
              "      <td>76+2</td>\n",
              "      <td>76+2</td>\n",
              "      <td>76+2</td>\n",
              "      <td>79+2</td>\n",
              "      <td>79+2</td>\n",
              "      <td>79+2</td>\n",
              "      <td>79+2</td>\n",
              "      <td>79+2</td>\n",
              "      <td>80+2</td>\n",
              "      <td>80+2</td>\n",
              "      <td>80+2</td>\n",
              "      <td>78+2</td>\n",
              "      <td>76+2</td>\n",
              "      <td>76+2</td>\n",
              "      <td>76+2</td>\n",
              "      <td>78+2</td>\n",
              "      <td>61+2</td>\n",
              "      <td>61+2</td>\n",
              "      <td>61+2</td>\n",
              "      <td>61+2</td>\n",
              "      <td>61+2</td>\n",
              "      <td>58+2</td>\n",
              "      <td>52+2</td>\n",
              "      <td>52+2</td>\n",
              "      <td>52+2</td>\n",
              "      <td>58+2</td>\n",
              "      <td>MF</td>\n",
              "      <td>Europe</td>\n",
              "      <td>False</td>\n",
              "      <td>False</td>\n",
              "    </tr>\n",
              "    <tr>\n",
              "      <th>492</th>\n",
              "      <td>146748</td>\n",
              "      <td>https://sofifa.com/player/146748/diego-lopez-r...</td>\n",
              "      <td>Diego López</td>\n",
              "      <td>Diego López Rodríguez</td>\n",
              "      <td>37</td>\n",
              "      <td>1981-11-03</td>\n",
              "      <td>196</td>\n",
              "      <td>89</td>\n",
              "      <td>Spain</td>\n",
              "      <td>RCD Espanyol</td>\n",
              "      <td>80</td>\n",
              "      <td>80</td>\n",
              "      <td>1500000</td>\n",
              "      <td>17000</td>\n",
              "      <td>GK</td>\n",
              "      <td>Right</td>\n",
              "      <td>3</td>\n",
              "      <td>3</td>\n",
              "      <td>1</td>\n",
              "      <td>Medium/Medium</td>\n",
              "      <td>Normal</td>\n",
              "      <td>Yes</td>\n",
              "      <td>3100000.0</td>\n",
              "      <td>NaN</td>\n",
              "      <td>GK</td>\n",
              "      <td>13.0</td>\n",
              "      <td>NaN</td>\n",
              "      <td>2017-07-01</td>\n",
              "      <td>2020.0</td>\n",
              "      <td>NaN</td>\n",
              "      <td>NaN</td>\n",
              "      <td>NaN</td>\n",
              "      <td>NaN</td>\n",
              "      <td>NaN</td>\n",
              "      <td>NaN</td>\n",
              "      <td>NaN</td>\n",
              "      <td>NaN</td>\n",
              "      <td>75.0</td>\n",
              "      <td>82.0</td>\n",
              "      <td>74.0</td>\n",
              "      <td>...</td>\n",
              "      <td>21</td>\n",
              "      <td>62</td>\n",
              "      <td>16</td>\n",
              "      <td>13</td>\n",
              "      <td>14</td>\n",
              "      <td>75</td>\n",
              "      <td>82</td>\n",
              "      <td>74</td>\n",
              "      <td>82</td>\n",
              "      <td>76</td>\n",
              "      <td>NaN</td>\n",
              "      <td>NaN</td>\n",
              "      <td>NaN</td>\n",
              "      <td>NaN</td>\n",
              "      <td>NaN</td>\n",
              "      <td>NaN</td>\n",
              "      <td>NaN</td>\n",
              "      <td>NaN</td>\n",
              "      <td>NaN</td>\n",
              "      <td>NaN</td>\n",
              "      <td>NaN</td>\n",
              "      <td>NaN</td>\n",
              "      <td>NaN</td>\n",
              "      <td>NaN</td>\n",
              "      <td>NaN</td>\n",
              "      <td>NaN</td>\n",
              "      <td>NaN</td>\n",
              "      <td>NaN</td>\n",
              "      <td>NaN</td>\n",
              "      <td>NaN</td>\n",
              "      <td>NaN</td>\n",
              "      <td>NaN</td>\n",
              "      <td>NaN</td>\n",
              "      <td>NaN</td>\n",
              "      <td>NaN</td>\n",
              "      <td>NaN</td>\n",
              "      <td>GK</td>\n",
              "      <td>Europe</td>\n",
              "      <td>False</td>\n",
              "      <td>False</td>\n",
              "    </tr>\n",
              "    <tr>\n",
              "      <th>2965</th>\n",
              "      <td>110638</td>\n",
              "      <td>https://sofifa.com/player/110638/alberto-cifue...</td>\n",
              "      <td>Cifuentes</td>\n",
              "      <td>Alberto Cifuentes Martínez</td>\n",
              "      <td>40</td>\n",
              "      <td>1979-05-29</td>\n",
              "      <td>189</td>\n",
              "      <td>80</td>\n",
              "      <td>Spain</td>\n",
              "      <td>Cádiz CF</td>\n",
              "      <td>73</td>\n",
              "      <td>73</td>\n",
              "      <td>400000</td>\n",
              "      <td>4000</td>\n",
              "      <td>GK</td>\n",
              "      <td>Right</td>\n",
              "      <td>1</td>\n",
              "      <td>3</td>\n",
              "      <td>1</td>\n",
              "      <td>Medium/Medium</td>\n",
              "      <td>Normal</td>\n",
              "      <td>No</td>\n",
              "      <td>640000.0</td>\n",
              "      <td>NaN</td>\n",
              "      <td>GK</td>\n",
              "      <td>1.0</td>\n",
              "      <td>NaN</td>\n",
              "      <td>2015-07-04</td>\n",
              "      <td>2020.0</td>\n",
              "      <td>NaN</td>\n",
              "      <td>NaN</td>\n",
              "      <td>NaN</td>\n",
              "      <td>NaN</td>\n",
              "      <td>NaN</td>\n",
              "      <td>NaN</td>\n",
              "      <td>NaN</td>\n",
              "      <td>NaN</td>\n",
              "      <td>67.0</td>\n",
              "      <td>74.0</td>\n",
              "      <td>65.0</td>\n",
              "      <td>...</td>\n",
              "      <td>27</td>\n",
              "      <td>53</td>\n",
              "      <td>20</td>\n",
              "      <td>13</td>\n",
              "      <td>12</td>\n",
              "      <td>67</td>\n",
              "      <td>74</td>\n",
              "      <td>65</td>\n",
              "      <td>82</td>\n",
              "      <td>71</td>\n",
              "      <td>NaN</td>\n",
              "      <td>NaN</td>\n",
              "      <td>NaN</td>\n",
              "      <td>NaN</td>\n",
              "      <td>NaN</td>\n",
              "      <td>NaN</td>\n",
              "      <td>NaN</td>\n",
              "      <td>NaN</td>\n",
              "      <td>NaN</td>\n",
              "      <td>NaN</td>\n",
              "      <td>NaN</td>\n",
              "      <td>NaN</td>\n",
              "      <td>NaN</td>\n",
              "      <td>NaN</td>\n",
              "      <td>NaN</td>\n",
              "      <td>NaN</td>\n",
              "      <td>NaN</td>\n",
              "      <td>NaN</td>\n",
              "      <td>NaN</td>\n",
              "      <td>NaN</td>\n",
              "      <td>NaN</td>\n",
              "      <td>NaN</td>\n",
              "      <td>NaN</td>\n",
              "      <td>NaN</td>\n",
              "      <td>NaN</td>\n",
              "      <td>NaN</td>\n",
              "      <td>GK</td>\n",
              "      <td>Europe</td>\n",
              "      <td>False</td>\n",
              "      <td>False</td>\n",
              "    </tr>\n",
              "    <tr>\n",
              "      <th>5240</th>\n",
              "      <td>113524</td>\n",
              "      <td>https://sofifa.com/player/113524/juan-francisc...</td>\n",
              "      <td>Nino</td>\n",
              "      <td>Juan Francisco Martínez Modesto</td>\n",
              "      <td>39</td>\n",
              "      <td>1980-06-10</td>\n",
              "      <td>169</td>\n",
              "      <td>68</td>\n",
              "      <td>Spain</td>\n",
              "      <td>Elche CF</td>\n",
              "      <td>70</td>\n",
              "      <td>70</td>\n",
              "      <td>525000</td>\n",
              "      <td>4000</td>\n",
              "      <td>CF, ST</td>\n",
              "      <td>Right</td>\n",
              "      <td>2</td>\n",
              "      <td>4</td>\n",
              "      <td>3</td>\n",
              "      <td>Medium/Low</td>\n",
              "      <td>Normal</td>\n",
              "      <td>No</td>\n",
              "      <td>814000.0</td>\n",
              "      <td>NaN</td>\n",
              "      <td>ST</td>\n",
              "      <td>7.0</td>\n",
              "      <td>NaN</td>\n",
              "      <td>2016-08-19</td>\n",
              "      <td>2020.0</td>\n",
              "      <td>NaN</td>\n",
              "      <td>NaN</td>\n",
              "      <td>58.0</td>\n",
              "      <td>72.0</td>\n",
              "      <td>63.0</td>\n",
              "      <td>69.0</td>\n",
              "      <td>46.0</td>\n",
              "      <td>55.0</td>\n",
              "      <td>NaN</td>\n",
              "      <td>NaN</td>\n",
              "      <td>NaN</td>\n",
              "      <td>...</td>\n",
              "      <td>75</td>\n",
              "      <td>81</td>\n",
              "      <td>48</td>\n",
              "      <td>42</td>\n",
              "      <td>37</td>\n",
              "      <td>10</td>\n",
              "      <td>6</td>\n",
              "      <td>15</td>\n",
              "      <td>12</td>\n",
              "      <td>6</td>\n",
              "      <td>69+2</td>\n",
              "      <td>69+2</td>\n",
              "      <td>69+2</td>\n",
              "      <td>68+2</td>\n",
              "      <td>70+2</td>\n",
              "      <td>70+2</td>\n",
              "      <td>70+2</td>\n",
              "      <td>68+2</td>\n",
              "      <td>69+2</td>\n",
              "      <td>69+2</td>\n",
              "      <td>69+2</td>\n",
              "      <td>65+2</td>\n",
              "      <td>63+2</td>\n",
              "      <td>63+2</td>\n",
              "      <td>63+2</td>\n",
              "      <td>65+2</td>\n",
              "      <td>54+2</td>\n",
              "      <td>55+2</td>\n",
              "      <td>55+2</td>\n",
              "      <td>55+2</td>\n",
              "      <td>54+2</td>\n",
              "      <td>52+2</td>\n",
              "      <td>53+2</td>\n",
              "      <td>53+2</td>\n",
              "      <td>53+2</td>\n",
              "      <td>52+2</td>\n",
              "      <td>FW</td>\n",
              "      <td>Europe</td>\n",
              "      <td>False</td>\n",
              "      <td>True</td>\n",
              "    </tr>\n",
              "  </tbody>\n",
              "</table>\n",
              "<p>5 rows × 108 columns</p>\n",
              "</div>"
            ],
            "text/plain": [
              "      sofifa_id  ... is_forward\n",
              "288      106231  ...       True\n",
              "487       45186  ...      False\n",
              "492      146748  ...      False\n",
              "2965     110638  ...      False\n",
              "5240     113524  ...       True\n",
              "\n",
              "[5 rows x 108 columns]"
            ]
          },
          "metadata": {
            "tags": []
          },
          "execution_count": 130
        },
        {
          "output_type": "display_data",
          "data": {
            "image/png": "[encoded data removed]",
            "text/plain": [
              "<Figure size 432x288 with 1 Axes>"
            ]
          },
          "metadata": {
            "tags": [],
            "needs_background": "light"
          }
        }
      ]
    },
    {
      "cell_type": "markdown",
      "metadata": {
        "id": "tR3yhvsbA9Zp"
      },
      "source": [
        "Ahora representa el diagrama *box-whisker* de la variable aleatoria *wage_eur* con el salario en euro de los jugadores. **¿Dirías que la variable aleatoria sigue una distribución normal? ¿Se asemeja este diagrama al de otra distribución de probabilidad que conozcas?** La distribución no sigue una distribución normal, se parece a una exponencial."
      ]
    },
    {
      "cell_type": "code",
      "metadata": {
        "id": "8BBTxNUwAz0N",
        "colab": {
          "base_uri": "https://localhost:8080/",
          "height": 296
        },
        "outputId": "59028d62-a309-439b-d00c-9c1f86c9c191"
      },
      "source": [
        "# Tu código aquí\n",
        "sns.boxplot( x=spanish_players_df.wage_eur )"
      ],
      "execution_count": 131,
      "outputs": [
        {
          "output_type": "execute_result",
          "data": {
            "text/plain": [
              "<matplotlib.axes._subplots.AxesSubplot at 0x7fd0e257bd30>"
            ]
          },
          "metadata": {
            "tags": []
          },
          "execution_count": 131
        },
        {
          "output_type": "display_data",
          "data": {
            "image/png": "[encoded data removed]",
            "text/plain": [
              "<Figure size 432x288 with 1 Axes>"
            ]
          },
          "metadata": {
            "tags": [],
            "needs_background": "light"
          }
        }
      ]
    },
    {
      "cell_type": "code",
      "metadata": {
        "colab": {
          "base_uri": "https://localhost:8080/",
          "height": 296
        },
        "id": "qgzWRdyqK7fi",
        "outputId": "8b90d7be-2a95-4f7f-9093-1f28e3c90ec2"
      },
      "source": [
        "sns.histplot(data=spanish_players_df, x=\"wage_eur\", bins=30)"
      ],
      "execution_count": 132,
      "outputs": [
        {
          "output_type": "execute_result",
          "data": {
            "text/plain": [
              "<matplotlib.axes._subplots.AxesSubplot at 0x7fd0e166fc88>"
            ]
          },
          "metadata": {
            "tags": []
          },
          "execution_count": 132
        },
        {
          "output_type": "display_data",
          "data": {
            "image/png": "[encoded data removed]",
            "text/plain": [
              "<Figure size 432x288 with 1 Axes>"
            ]
          },
          "metadata": {
            "tags": [],
            "needs_background": "light"
          }
        }
      ]
    },
    {
      "cell_type": "markdown",
      "metadata": {
        "id": "vmhSZluKKb-Y"
      },
      "source": [
        "# Inferencia sobre proporciones"
      ]
    },
    {
      "cell_type": "markdown",
      "metadata": {
        "id": "BEKNHlZjEI8u"
      },
      "source": [
        "Como hemos visto en la teoría de la asignatura, en base a la información contenida en una muestra podemos extraer información sobre la población mediante procesos de inferencia estadística. Uno de los casos más sencillos consiste en la inferencia sobre la proporción poblacional en una característica de tipo dicotómica (es decir, que se cumple o no). Por ejemplo, en nuestro conjunto de datos tenemos la característica *preferred_foot* que únicamente toma dos valores (*Left* o *Right*). \n",
        "\n",
        "Una herramienta muy útil a la hora de realizar inferencias sobre un parámetro poblacional es el intervalo de confianza. Un intervalo de confianza para un parámetro poblacional es un intervalo construido con un nivel de confianza $1-\\alpha$. El $(1-\\alpha)$% de las veces los intervalos construidos con este procedimiento contendrán el valor del verdadero parámetro poblacional.\n",
        "\n",
        "El intervalo de confianza de una proporción puede construirse apoyándonos en el hecho que la media muestral de la proporción sigue una distribución normal. Más concretamente el intervalo de confianza para la proporción poblacional puede construirse como:\n",
        "\n",
        "$ IC_{1-\\alpha} = p \\mp  Z_{\\alpha/2} \\sqrt{ \\frac{p(1-p)}{n}}$\n",
        "\n",
        "donde $p$ es la proporción en la muestra, $n$ es el tamaño de la muestra, y $Z_{\\alpha/2}$ es el punto en una normal estándar que es menor o igual que $\\alpha/2$\\% de los posibles valores, o lo que es lo mismo, es mayor que $(1-\\frac{\\alpha}{2})$% de los posibles valores.\n",
        "\n",
        "Veamos como podríamos calcular un intervalo de confianza (95%) para nuestra población (en este caso todos los jugadores profesionales en FIFA). Primero que nada, cogemos una muestra, por ejemplo de 100 individuos."
      ]
    },
    {
      "cell_type": "code",
      "metadata": {
        "id": "dmHw3eNVI0ln"
      },
      "source": [
        "small_sample = player_df.sample(n=100)"
      ],
      "execution_count": 133,
      "outputs": []
    },
    {
      "cell_type": "markdown",
      "metadata": {
        "id": "PnH04x2UI_CQ"
      },
      "source": [
        "A continuación, calculamos la proporción en la muestra. Es decir, contamos todos aquellos jugadores que son zurdos."
      ]
    },
    {
      "cell_type": "code",
      "metadata": {
        "id": "NZib09-UJQYS",
        "colab": {
          "base_uri": "https://localhost:8080/"
        },
        "outputId": "cafa6ea1-2a96-4a51-d176-49013654dfdd"
      },
      "source": [
        "p = small_sample[ small_sample.preferred_foot == \"Left\" ].shape[0]/100\n",
        "print(p)"
      ],
      "execution_count": 134,
      "outputs": [
        {
          "output_type": "stream",
          "text": [
            "0.19\n"
          ],
          "name": "stdout"
        }
      ]
    },
    {
      "cell_type": "markdown",
      "metadata": {
        "id": "43cDu3gJJfOb"
      },
      "source": [
        "Para calcular el intervalo de confianza necesitamos trabajar con la distribución normal estándarizada. Más concretamente necesitamos obtener el percentil $(1-\\frac{\\alpha}{2})$. En el siguiente fragmento de código mostramos algunas funciones útiles que podemos emplear cuando trabajamos con la distribución normal en Python (más concretamente en el paquete *Stats* de *Scipy*)."
      ]
    },
    {
      "cell_type": "code",
      "metadata": {
        "id": "euMd66goJ7wy",
        "colab": {
          "base_uri": "https://localhost:8080/"
        },
        "outputId": "665a8e03-6cc9-4ba8-9f63-b6e4e566e42d"
      },
      "source": [
        "# Genera 10 datos aleatorios procedentes de una normal con media 20 y desviación típica 2\n",
        "random_data = stats.norm.rvs(loc=20, scale=2, size= 10)\n",
        "print(random_data)\n",
        "\n",
        "# Obtiene el valor de la función de densidad para el punto 21.3 en una normal con media 20 y desviación típica 2\n",
        "print( stats.norm.pdf( 21.3, loc=20, scale=2 ) )\n",
        "\n",
        "# Obtiene la probabilidad de observar valores menores o iguales a cero en una distribución normal con media 0 y desviación típica 1\n",
        "print( stats.norm.cdf( 0 ,loc=0, scale=1 ) )\n",
        "\n",
        "#Obtiene el percentil 97.5 (mayor o igual que el 97.5% de las posibles observaciones) para una normal con media 0 y desviación típica 1\n",
        "print( stats.norm.ppf( 0.975, loc = 0, scale = 1 ) )\n",
        "\n",
        "#Obtiene los extremos del intervalo centrado en la media que contiene el 95% de las observaciones en una normal con media 0 y desviación típica 1\n",
        "print( stats.norm.interval( 0.95, loc=0, scale=1 ) )"
      ],
      "execution_count": 135,
      "outputs": [
        {
          "output_type": "stream",
          "text": [
            "[22.86314999 17.40290863 21.89311849 20.31879823 21.1188116  21.75559434\n",
            " 19.23804117 22.31297097 21.10587416 23.59433259]\n",
            "0.1614861798339571\n",
            "0.5\n",
            "1.959963984540054\n",
            "(-1.959963984540054, 1.959963984540054)\n"
          ],
          "name": "stdout"
        }
      ]
    },
    {
      "cell_type": "markdown",
      "metadata": {
        "id": "LB2jmGOGMYMl"
      },
      "source": [
        "Con esta información, ya podemos construir nuestro intervalo de confianza para la proporción poblacional.\n",
        "\n",
        "$ IC_{1-\\alpha} = p \\mp  Z_{\\alpha/2} \\sqrt{ \\frac{p(1-p)}{n}}$"
      ]
    },
    {
      "cell_type": "code",
      "metadata": {
        "id": "NXWN3ShkMXzt",
        "colab": {
          "base_uri": "https://localhost:8080/"
        },
        "outputId": "773be6dd-8760-409d-b479-72079724bc3e"
      },
      "source": [
        "lower_bound = 0\n",
        "upper_bound = 0\n",
        "Zalpha = stats.norm.ppf( 0.975, loc=0, scale=1 )\n",
        "deviation = Zalpha * math.sqrt( p*(1-p)/100 ) \n",
        "interval = ( p - deviation, p + deviation )\n",
        "print(interval)"
      ],
      "execution_count": 136,
      "outputs": [
        {
          "output_type": "stream",
          "text": [
            "(0.1131104355256953, 0.2668895644743047)\n"
          ],
          "name": "stdout"
        }
      ]
    },
    {
      "cell_type": "markdown",
      "metadata": {
        "id": "D5P0vAKrNNRU"
      },
      "source": [
        "En este particular caso que hemos planteado, podemos conocer el parámetro poblacional, ya que contamos con información de todos los jugadores profesionales en FIFA. Veamos cuál es esa proporción."
      ]
    },
    {
      "cell_type": "code",
      "metadata": {
        "id": "O9Vc6bK8Nnmn",
        "colab": {
          "base_uri": "https://localhost:8080/"
        },
        "outputId": "82a7cd05-78bc-43d9-ac70-87f6dfc2c25f"
      },
      "source": [
        "true_p = player_df[ player_df.preferred_foot == \"Left\" ].shape[0]/player_df.shape[0]\n",
        "print(true_p)"
      ],
      "execution_count": 137,
      "outputs": [
        {
          "output_type": "stream",
          "text": [
            "0.23624028887186782\n"
          ],
          "name": "stdout"
        }
      ]
    },
    {
      "cell_type": "markdown",
      "metadata": {
        "id": "Hf92E7CKN2p6"
      },
      "source": [
        "**¿Contenía el intervalo de confianza el valor de la proporción poblacional? Recuerda que en nuestro caso, un 95% de las veces que construyamos este intervalo el valor poblacional se encontrará dentro (aunque no sabemos exactamente su valor)** Si.\n",
        "\n",
        "Ahora obten una muestra de 1000 jugadores y calcula de nuevo dicho intervalo de confianza **¿Qué ha sucedido con ese intervalo comparado con el anterior? ¿Qué conclusiones extraes de la construcción de intervalos de confianza con tamaños de muestra mayores?** En el intervalo de 95%, contra más muestras más pequeño. Me parece que contra más muestras se tiene, más preciso debería ser el intervalo, por lo que únicamente se centra más hacia donde debe apuntar la población y se reduce el tamaño."
      ]
    },
    {
      "cell_type": "code",
      "metadata": {
        "id": "Vl8rpsuHO7uj",
        "colab": {
          "base_uri": "https://localhost:8080/"
        },
        "outputId": "11e561af-a3fc-4ef9-f81f-590f99c94d2b"
      },
      "source": [
        "# Tu código aquí\n",
        "small_sample = player_df.sample(n=100)\n",
        "p = small_sample[ small_sample.preferred_foot == \"Left\" ].shape[0]/100\n",
        "Zalpha = stats.norm.ppf( 0.975, loc=0, scale=1 )\n",
        "deviation = Zalpha * math.sqrt( p*(1-p)/100 ) \n",
        "interval = ( p - deviation, p + deviation )\n",
        "print(\"Intervalo de 100 muestras -> \",interval)\n",
        "print(\"Tamaño -> \",((p + deviation)-(p - deviation)))\n",
        "\n",
        "\n",
        "sample = player_df.sample(n=1000)\n",
        "p1 = sample[ sample.preferred_foot == \"Left\" ].shape[0]/1000\n",
        "Zalpha = stats.norm.ppf( 0.975, loc=0, scale=1 )\n",
        "deviation_1 = Zalpha * math.sqrt( p1*(1-p1)/1000 ) \n",
        "interval = ( p1 - deviation_1, p1 + deviation_1 )\n",
        "print(\"Intervalo de 1000 muestras -> \",interval)\n",
        "print(\"Tamaño -> \",((p1 + deviation_1)-(p1 - deviation_1)))"
      ],
      "execution_count": 138,
      "outputs": [
        {
          "output_type": "stream",
          "text": [
            "Intervalo de 100 muestras ->  (0.13016905247003796, 0.289830947529962)\n",
            "Tamaño ->  0.15966189505992406\n",
            "Intervalo de 1000 muestras ->  (0.22316208784424263, 0.27683791215575737)\n",
            "Tamaño ->  0.05367582431151474\n"
          ],
          "name": "stdout"
        }
      ]
    },
    {
      "cell_type": "markdown",
      "metadata": {
        "id": "-UsJdrN-PRaf"
      },
      "source": [
        "Ahora, en vez de construir un intervalo de confianza para un nivel de confianza del 95%, construye el intervalo de confianza del 99% para la proporción poblacional. \n",
        "**Comparado con el intervalo construido para el mismo tamaño de muestra pero con un nivel de confianza del 95%, ¿qué puedes decir de la amplitud del nuevo intervalo de confianza? ¿qué conclusiones extraes de esto?** La amplitud del intervalo aumenta, y al tener que estar estimando un mayor número de muestras, aumenta de tamaño."
      ]
    },
    {
      "cell_type": "code",
      "metadata": {
        "id": "EgbD_vXJP_p0",
        "colab": {
          "base_uri": "https://localhost:8080/"
        },
        "outputId": "cf9192cc-e4fd-40c3-d0a6-7bd348fc14dc"
      },
      "source": [
        "#Tu código aquí\n",
        "small_sample = player_df.sample(n=100)\n",
        "p = small_sample[ small_sample.preferred_foot == \"Left\" ].shape[0]/100\n",
        "Zalpha = stats.norm.ppf( 0.99, loc=0, scale=1 )\n",
        "deviation = Zalpha * math.sqrt( p*(1-p)/100 ) \n",
        "interval = ( p - deviation, p + deviation )\n",
        "print(\"Intervalo de 99% (100 muestras) -> \",interval)\n",
        "print(\"Tamaño -> \",((p + deviation)-(p - deviation)))\n",
        "\n",
        "\n",
        "sample = player_df.sample(n=1000)\n",
        "p1 = sample[ sample.preferred_foot == \"Left\" ].shape[0]/1000\n",
        "Zalpha = stats.norm.ppf( 0.99, loc=0, scale=1 )\n",
        "deviation_1 = Zalpha * math.sqrt( p1*(1-p1)/1000 ) \n",
        "interval = ( p1 - deviation_1, p1 + deviation_1 )\n",
        "print(\"Intervalo de 99% (1000 muestras) -> \",interval)\n",
        "print(\"Tamaño -> \",((p1 + deviation_1)-(p1 - deviation_1)))"
      ],
      "execution_count": 139,
      "outputs": [
        {
          "output_type": "stream",
          "text": [
            "Intervalo de 99% (100 muestras) ->  (0.12363189924207675, 0.31636810075792327)\n",
            "Tamaño ->  0.19273620151584653\n",
            "Intervalo de 99% (1000 muestras) ->  (0.19808853499342804, 0.259911465006572)\n",
            "Tamaño ->  0.06182293001314393\n"
          ],
          "name": "stdout"
        }
      ]
    },
    {
      "cell_type": "markdown",
      "metadata": {
        "id": "MVrgwD0VUYIT"
      },
      "source": [
        "En el siguiente fragmento de código mostramos precisamente la definición de intervalo de confianza. Extraemos cien muestras aleatorias, construimos el intervalo de confianza para el parámetro poblacional, y contamos el número de veces que el intervalo de confianza contiene el verdadero valor del parámetro poblacional. Al final imprimimos el porcentaje de éxitos. Podrás observar que el valor está cercano a 95%. En infinitas repeticiones este valor sería del 95%."
      ]
    },
    {
      "cell_type": "code",
      "metadata": {
        "id": "jH7ao17iTrHl",
        "colab": {
          "base_uri": "https://localhost:8080/",
          "height": 524
        },
        "outputId": "00f50289-5933-4f99-944f-1825d0b79b7f"
      },
      "source": [
        "number_success = 0\n",
        "intervals = []\n",
        "n_rep = 100\n",
        "for i in range(n_rep):\n",
        "  n = 100\n",
        "\n",
        "  small_sample = player_df.sample(n=n)\n",
        "\n",
        "  p = small_sample[ small_sample.preferred_foot == \"Left\" ].shape[0]/n\n",
        "\n",
        "  lower_bound = 0\n",
        "  upper_bound = 0\n",
        "  Zalpha = stats.norm.ppf( 0.975, loc=0, scale=1 )\n",
        "  deviation = Zalpha * math.sqrt( p*(1-p)/n ) \n",
        "  interval = ( p - deviation, p + deviation )\n",
        "\n",
        "  intervals.append(interval)\n",
        "\n",
        "  if true_p >= interval[0] and true_p <= interval[1]:\n",
        "    number_success = number_success + 1\n",
        "\n",
        "\n",
        "print(number_success/n_rep)\n",
        "\n",
        "plt.figure(figsize=(30,10))\n",
        "plt.errorbar( x=list(range(1, n_rep+1)), y=[ (x[1]+x[0])/2 for x in intervals ], yerr=[ (x[1]-x[0])/2 for x in intervals ], fmt='o' )\n",
        "plt.hlines( xmin=1, xmax=100, y=true_p, colors=\"red\" )\n"
      ],
      "execution_count": 140,
      "outputs": [
        {
          "output_type": "stream",
          "text": [
            "0.94\n"
          ],
          "name": "stdout"
        },
        {
          "output_type": "execute_result",
          "data": {
            "text/plain": [
              "<matplotlib.collections.LineCollection at 0x7fd0e1465160>"
            ]
          },
          "metadata": {
            "tags": []
          },
          "execution_count": 140
        },
        {
          "output_type": "display_data",
          "data": {
            "image/png": "[encoded data removed]",
            "text/plain": [
              "<Figure size 2160x720 with 1 Axes>"
            ]
          },
          "metadata": {
            "tags": [],
            "needs_background": "light"
          }
        }
      ]
    },
    {
      "cell_type": "markdown",
      "metadata": {
        "id": "NcXqNn4O7Yq1"
      },
      "source": [
        "#Pruebas de normalidad\n",
        "\n",
        "Una de las asunciones en muchas técnicas de inferencia estadística es el trabajo con poblaciones normales. Por tanto, un primer paso para poder aplicar algunas de estas técnicas de inferencia estadística será determinar si la variable aleatoria bajo estudio sigue una distribución normal. Existen varias alternativas a la hora de comprobar la normalidad de una variable aleatoria a partir de una muestra:\n",
        "* Pruebas de asimetría y curtosis\n",
        "*  Pruebas de normalidad de Shapiro-Wilk o Kolgomorov-Smirnov\n",
        "*  Papel probabilístico normal\n",
        "*  Histograma\n",
        "\n",
        "Los dos últimos no son métodos con unas reglas de aplicación estricta, y la asunción final de normalidad queda a análisis y juicio del propio analista. Por otro lado, las pruebas de asimetría, curtosis, y las pruebas de normalidad son contrastes de hipótesis formales con reglas de aplicación claras.\n",
        "\n",
        "## Pruebas de asimetría y curtosis\n",
        "\n",
        "Veamos como aplicar la prueba de asimetría y curtosis. La prueba de asimetría establece las siguientes hipótesis:\n",
        "\n",
        "$H_0: $ El coeficiente de asimetría (CA) de la población sigue una asimetria propia de una población normal (CA = 0)\n",
        "\n",
        "$H_1: $ El coeficiente de asimetría (CA) de la población sigue una asimetría diferente de una población normal (CA != 0)\n",
        "\n",
        "Por tanto, cuando el p-valor del test sea menor al nivel $\\alpha$ seleccionado para el problema tendremos evidencias de que $H_1$ es cierta. Rechazaremos $H_0$ y aceptaremos $H_1$, por tanto descartando normalidad.\n",
        "\n",
        "La prueba de curtosis establece las siguiente hipótesis:\n",
        "\n",
        "$H_0: $ El coeficiente de curtosis (CC) de la población sigue una curtosis propia de una población normal (CC=0)\n",
        "\n",
        "$H_1: $ El coeficiente de curtosis (CC) de la población tiene una curtosis diferente a la de una población normal (CC!=0)\n",
        "\n",
        "Veamos un ejemplo con Python, apoyándonos en *skewtest* y *kurtosistest*, disponible en *Scipy*. En el siguiente ejemplo tomamos una muestra de 100 jugadores de nuestra población de jugadores profesionales y determinamos con una confianza del 95% si en la muestra tenemos evidencias suficientes como para afirmar que los datos no se comportan como una normal.\n"
      ]
    },
    {
      "cell_type": "code",
      "metadata": {
        "id": "NlxxeZEUwl3k",
        "colab": {
          "base_uri": "https://localhost:8080/"
        },
        "outputId": "ce9c07c1-d4dc-4dcd-dec2-6f261517fa29"
      },
      "source": [
        "sample = player_df.sample(n=100)\n",
        "print( stats.skewtest( sample.overall ) )\n",
        "print( stats.kurtosistest( sample.overall ) )"
      ],
      "execution_count": 141,
      "outputs": [
        {
          "output_type": "stream",
          "text": [
            "SkewtestResult(statistic=-0.32788915976894895, pvalue=0.7429954703015995)\n",
            "KurtosistestResult(statistic=-1.1174211666179692, pvalue=0.26381428908064397)\n"
          ],
          "name": "stdout"
        }
      ]
    },
    {
      "cell_type": "markdown",
      "metadata": {
        "id": "Kz1JoA9myCj1"
      },
      "source": [
        "En el ejemplo anterior, cada uno de los contrastes devuelve el valor del estadístico asociado al contraste, así como el pvalor del contraste. En ambos casos, seguramente has obtenido p-valores mayores a 0.05. Por tanto, no podemos afirmar que con dicha muestra tengamos evidencias suficientes como para pensar que los datos no provienen de una normal. En caso de que alguno de los test hubiera obtenido un p-valor menor o igual a nuestro valor de significancia estadística (i.e., $\\alpha$) tendríamos evidencias para pensar que H1 es cierta y pensar que los datos no son normales.\n",
        "\n",
        "Ahora realiza un test de curtosis y asimetría sobre una muestra de la variable aleatoria *wage_eur* **¿Qué nos está indicando el test? ¿Concuerda esto con la información que habíamos observado en el box-whisker e histograma?** Cuando hicimos el box-whiskers y el histograma, los salarios parecia que seguían una distribución más parecida a una exponencial. Esto se corrobora ya que obtenemos valores mucho más pequeños que 0.05."
      ]
    },
    {
      "cell_type": "code",
      "metadata": {
        "id": "os7HnWXJzBh9",
        "colab": {
          "base_uri": "https://localhost:8080/"
        },
        "outputId": "c960ee6b-5595-4117-ad8e-153427b42ab3"
      },
      "source": [
        "# Tu código aquí\n",
        "sample = player_df.sample(n=100)\n",
        "print(stats.skewtest(sample.wage_eur))\n",
        "print(stats.kurtosistest(sample.wage_eur))"
      ],
      "execution_count": 142,
      "outputs": [
        {
          "output_type": "stream",
          "text": [
            "SkewtestResult(statistic=8.96221996103233, pvalue=3.1820631176050585e-19)\n",
            "KurtosistestResult(statistic=6.594622725345209, pvalue=4.2633861841380426e-11)\n"
          ],
          "name": "stdout"
        }
      ]
    },
    {
      "cell_type": "markdown",
      "metadata": {
        "id": "eHrUOpbnznfM"
      },
      "source": [
        "## Prueba de normalidad de Shapiro-Wilk y Kolmogorov-Smirnov\n",
        "\n",
        "Aunque podemos usar las pruebas de curtosis y asimetría para recoger evidencias sobre la no-normalidad de una variable aleatoria, existen también pruebas especializadas en determinar si una determinada aleatoria proviene de una población normal. \n",
        "\n",
        "La prueba de Kogolmorov-Smirnov se emplea para normalmente determinar si la función de distribución acumulada de una determinada muestra difiere significativamente de la función de distribución acumulada de una distribución teórica. Cuando la función de distribución acumulada de la muestra se compara con la de una población normal, esta prueba puede emplearse para determinar si hay evidencias de que la muestra no se comporte como una distribución normal. De forma simplificada, en el caso de tomar como referencia una distribución normal, este test establece las siguientes hipótesis:\n",
        "\n",
        "$H_0: $ La función de distribución acumulada se comporta como la función de distribución acumulada de una distribución normal.\n",
        "\n",
        "$H_1: $ La función de distribución acumulada difiere de la función de distribución acumulada de una distribución normal.\n",
        "\n",
        "Cuando el p-valor es menor al nivel de significancia ($\\alpha$) establecido para el test, podemos afirmar que tenemos suficientes evidencias para aceptar la hipótesis alternativa y asumir que la variable aleatoria no se comporta como un modelo normal. Veamos un ejemplo de cómo podemos aplicar esta prueba, también implementada en *Scipy*.\n",
        "\n"
      ]
    },
    {
      "cell_type": "code",
      "metadata": {
        "id": "NfbadyBB2PD4",
        "colab": {
          "base_uri": "https://localhost:8080/"
        },
        "outputId": "d97305b1-3878-47d4-b9af-fe36be8501e3"
      },
      "source": [
        "stats.kstest( (sample.overall-sample.overall.mean())/sample.overall.std(), 'norm'  )"
      ],
      "execution_count": 143,
      "outputs": [
        {
          "output_type": "execute_result",
          "data": {
            "text/plain": [
              "KstestResult(statistic=0.07644733606293563, pvalue=0.5911972801571284)"
            ]
          },
          "metadata": {
            "tags": []
          },
          "execution_count": 143
        }
      ]
    },
    {
      "cell_type": "markdown",
      "metadata": {
        "id": "LlmiA-CI3sNt"
      },
      "source": [
        "Nótese que la variable debe ser previamente normalizada para una correcta comparación. En este caso, de nuevo el test devuelve el valor del estadístico asociado al test y el p-valor. Muy posiblemente has obtenido un p-valor superior a un nivel de significancia de 0.05. Por tanto, no tenemos evidencias para afirmar que los datos no se comporten como una normal.\n",
        "\n",
        "Ahora realiza este mismo test sobre la variable aleatoria *age* **¿Hay suficientes evidencias como para afirmar que la variable edad no se comporte como una normal?** Hemos obtenido más de 0.05 en el valor de pvalue, no hay suficientes evidencias para afirmas que no se comporte como una normal."
      ]
    },
    {
      "cell_type": "code",
      "metadata": {
        "id": "2xcNWiwX4OxR",
        "colab": {
          "base_uri": "https://localhost:8080/"
        },
        "outputId": "6a19ad94-6f3c-4270-e5b4-8c9ec1c76075"
      },
      "source": [
        "#Tu código aquí\n",
        "stats.kstest( (sample.age-sample.age.mean())/sample.age.std(), 'norm'  )"
      ],
      "execution_count": 144,
      "outputs": [
        {
          "output_type": "execute_result",
          "data": {
            "text/plain": [
              "KstestResult(statistic=0.10673087467159492, pvalue=0.1906756430016002)"
            ]
          },
          "metadata": {
            "tags": []
          },
          "execution_count": 144
        }
      ]
    },
    {
      "cell_type": "markdown",
      "metadata": {
        "id": "QQF2LQP54JHT"
      },
      "source": [
        "Una alternativa más adecuada como prueba formal de normalidad es la prueba de Shapiro-Wilk. Esta es una prueba especializada en detectar desviaciones significativas del modelo teórico normal (a diferencia de Kolgomorov, que es genérico y se puede usar para otras distribuciones) y tiene más poder que la prueba de Kolgomorov-Smirnov a la hora de detectar desviaciones de la normalidad. De forma resumida y simplificada, decimos que una prueba tiene más poder que otra para cuando, para un mismo tamaño de muestra, es capaz de detectar diferencias más pequeñas con respecto a la hipótesis nula (i.e., rechazar la hipótesis nula cuando es falsa). En este caso, para un mismo tamaño de muestra, la prueba de Shapiro-Wilk es capaz de detectar desviaciones más pequeñas con respecto a la normalidad y rechazar la hipótesis nula. Por ello, es preferible emplear esta prueba en la práctica. A nivel formal, el test de Shapiro-Wilk establece las siguientes hipótesis:\n",
        "\n",
        "$H_0:$ La variable aleatoria estudiada procede de una población normal\n",
        "\n",
        "$H_1:$ La variable aleatoria estudiada no procede de una población normal\n",
        "\n",
        "Su aplicación en Python es más sencilla que el test de Kolgomorov Smirnov, ya que no requerimos de previa estandarización. Esto lo podemos observar en el siguiente ejemplo."
      ]
    },
    {
      "cell_type": "code",
      "metadata": {
        "id": "EGUfOgYR6PlT",
        "colab": {
          "base_uri": "https://localhost:8080/"
        },
        "outputId": "435ad714-8a7c-4139-e6af-d246fff7a486"
      },
      "source": [
        "stats.shapiro( sample.overall )"
      ],
      "execution_count": 145,
      "outputs": [
        {
          "output_type": "execute_result",
          "data": {
            "text/plain": [
              "(0.9875490069389343, 0.47557124495506287)"
            ]
          },
          "metadata": {
            "tags": []
          },
          "execution_count": 145
        }
      ]
    },
    {
      "cell_type": "markdown",
      "metadata": {
        "id": "e4YadtUT6Vbc"
      },
      "source": [
        "De nuevo, la prueba devuelve el valor del estadístico asociado, así como el p-valor de la prueba. Muy posiblemente, has obtenido un p-valor superior a un nivel de significancia de 0.05.\n",
        "\n",
        "Ahora aplica el test de shapiro a la variable aleatoria *value_eur*.**¿Qué conclusiones se extraen de la prueba? Corrobora los resultados con un histograma** Obtenemos un valor menor a 0.05, por lo afirmamos H1 y decimos que no procede de una distribución normal, cosa que se corrobora en el histograma donde se puede ver que tiene más forma de una exponencial."
      ]
    },
    {
      "cell_type": "code",
      "metadata": {
        "id": "tPqqOypE6qsX",
        "colab": {
          "base_uri": "https://localhost:8080/"
        },
        "outputId": "fa6d179a-5505-4d73-82c2-72cc29869b3c"
      },
      "source": [
        "#Tu código aquí\n",
        "stats.shapiro( sample.value_eur )"
      ],
      "execution_count": 146,
      "outputs": [
        {
          "output_type": "execute_result",
          "data": {
            "text/plain": [
              "(0.5326443910598755, 2.669710206891626e-16)"
            ]
          },
          "metadata": {
            "tags": []
          },
          "execution_count": 146
        }
      ]
    },
    {
      "cell_type": "code",
      "metadata": {
        "colab": {
          "base_uri": "https://localhost:8080/",
          "height": 0
        },
        "id": "OlgNhlZRhVy1",
        "outputId": "363f7ea1-1392-4d97-b139-e8d8bd02fbb9"
      },
      "source": [
        "sns.histplot(data=spanish_players_df, x=\"value_eur\", bins=30)"
      ],
      "execution_count": 147,
      "outputs": [
        {
          "output_type": "execute_result",
          "data": {
            "text/plain": [
              "<matplotlib.axes._subplots.AxesSubplot at 0x7fd0e15c7ac8>"
            ]
          },
          "metadata": {
            "tags": []
          },
          "execution_count": 147
        },
        {
          "output_type": "display_data",
          "data": {
            "image/png": "[encoded data removed]",
            "text/plain": [
              "<Figure size 432x288 with 1 Axes>"
            ]
          },
          "metadata": {
            "tags": [],
            "needs_background": "light"
          }
        }
      ]
    },
    {
      "cell_type": "markdown",
      "metadata": {
        "id": "H9qKKV8n8M9M"
      },
      "source": [
        "## Papel probabilístico normal\n",
        "\n",
        "Los gráficos de probabilidad son gráficos que comparan la distribución acumulada de probilidad de una muestra de datos con la distribución acumulada de probabilidad de una distribución teórica determinada. El papel probabilístico normal es un caso específico de este tipo de gráficos cuando la distribución de referencia es una normal. Existen diversas formas de construir este tipo de gráficos de probabilidad dependiendo de las escalas empleadas. En esta práctica representaremos en el eje horizontal la probabilidad teórica acumulada, mientras que en el eje y se representan las observaciones en la muestra. Cuando los datos en la muestra se comportan de forma acorde al modelo teórico con el que se compara, los puntos representados se ajustan fielmente a una recta.\n",
        "\n",
        "En Python existen muchas formas de representar estos gráficos, pero una forma sencilla es apoyándose en el paquete *StatsModels* y haciendo uso de la clase *ProbPlot*. En el siguiente ejemplo representamos el gráfico de probabilidad normal de la variable *overall* con respecto a una normal."
      ]
    },
    {
      "cell_type": "code",
      "metadata": {
        "id": "tSilONdO9WWm",
        "colab": {
          "base_uri": "https://localhost:8080/",
          "height": 0
        },
        "outputId": "8ebb7a5a-35b9-4c36-c6c8-7d93412ad7b3"
      },
      "source": [
        "plot = sm.ProbPlot( sample.overall, dist=\"norm\" )\n",
        "plot.probplot(line=\"r\")"
      ],
      "execution_count": 148,
      "outputs": [
        {
          "output_type": "execute_result",
          "data": {
            "image/png": "[encoded data removed]",
            "text/plain": [
              "<Figure size 432x288 with 1 Axes>"
            ]
          },
          "metadata": {
            "tags": []
          },
          "execution_count": 148
        },
        {
          "output_type": "display_data",
          "data": {
            "image/png": "[encoded data removed]",
            "text/plain": [
              "<Figure size 432x288 with 1 Axes>"
            ]
          },
          "metadata": {
            "tags": [],
            "needs_background": "light"
          }
        }
      ]
    },
    {
      "cell_type": "markdown",
      "metadata": {
        "id": "dsbqyJnnLswz"
      },
      "source": [
        "Ahora intenta obtener el gráfico de probabilidad normal para la variable *age*. **¿Consideras que los datos de la muestra se desvían significativamente del comportamiento teórico de la normal?** Parece que los datos llevan una distribución normal si nos guiamos por estos gráficos."
      ]
    },
    {
      "cell_type": "code",
      "metadata": {
        "id": "dPUeKZRILaEw",
        "colab": {
          "base_uri": "https://localhost:8080/",
          "height": 0
        },
        "outputId": "9412b9d1-6719-4e1f-d283-a56e28ca7aa9"
      },
      "source": [
        "#Tu código aquí\n",
        "plot = sm.ProbPlot( sample.age, dist=\"norm\" )\n",
        "plot.probplot(line=\"r\")"
      ],
      "execution_count": 149,
      "outputs": [
        {
          "output_type": "execute_result",
          "data": {
            "image/png": "[encoded data removed]",
            "text/plain": [
              "<Figure size 432x288 with 1 Axes>"
            ]
          },
          "metadata": {
            "tags": []
          },
          "execution_count": 149
        },
        {
          "output_type": "display_data",
          "data": {
            "image/png": "[encoded data removed]",
            "text/plain": [
              "<Figure size 432x288 with 1 Axes>"
            ]
          },
          "metadata": {
            "tags": [],
            "needs_background": "light"
          }
        }
      ]
    },
    {
      "cell_type": "markdown",
      "metadata": {
        "id": "8CO7PafqMA4W"
      },
      "source": [
        "Finalmente intenta obtener el gráfico de probabilidad normal para la variable *wage_eur*. **¿Consideras que los datos de la muestra se desvían significativamente del comportamiento teórico de la normal?** En este caso si que se nota que con una probabilidad de alrededor de 95% y más, podemos ver que se desvía significativamente del comportamiento de la normal."
      ]
    },
    {
      "cell_type": "code",
      "metadata": {
        "id": "oJMugT7YMFo-",
        "colab": {
          "base_uri": "https://localhost:8080/",
          "height": 0
        },
        "outputId": "138c136a-6919-4c46-82f0-17392ab0497c"
      },
      "source": [
        "#Tu código aquí\n",
        "plot = sm.ProbPlot( sample.wage_eur, dist=\"norm\" )\n",
        "plot.probplot(line=\"r\")"
      ],
      "execution_count": 150,
      "outputs": [
        {
          "output_type": "execute_result",
          "data": {
            "image/png": "[encoded data removed]",
            "text/plain": [
              "<Figure size 432x288 with 1 Axes>"
            ]
          },
          "metadata": {
            "tags": []
          },
          "execution_count": 150
        },
        {
          "output_type": "display_data",
          "data": {
            "image/png": "[encoded data removed]",
            "text/plain": [
              "<Figure size 432x288 with 1 Axes>"
            ]
          },
          "metadata": {
            "tags": [],
            "needs_background": "light"
          }
        }
      ]
    },
    {
      "cell_type": "markdown",
      "metadata": {
        "id": "4KYZz_YdMU6I"
      },
      "source": [
        "## Las pruebas de normalidad y las muestras grandes\n",
        "\n",
        "Hasta ahora hemos aplicado pruebas de diagnóstico de normalidad para detectar desviaciones de normalidad en muestras de tamaño relativamente pequeño. No obstante, en la actualidad es bastante frecuente tener acceso a muestras grandes. Esto es especialmente así en aplicaciones o dominios digitalizados.\n",
        "\n",
        "Veamos qué ocurre con las pruebas en las que no pudimos descartar normalidad cuando la muestra proporcionada es grande. En vez obtener una muestra de 100 individuos, obtengamos diversas muestras de tamaños mayores (aunque ni siquiera es grande en los estándares de muchos conjuntos de datos).\n"
      ]
    },
    {
      "cell_type": "code",
      "metadata": {
        "id": "gzmXkCKOTnyv"
      },
      "source": [
        "new_sample1 = player_df.sample(n=1000)\n",
        "new_sample2 = player_df.sample(n=2000)\n",
        "new_sample3 = player_df.sample(n=4000)"
      ],
      "execution_count": 151,
      "outputs": []
    },
    {
      "cell_type": "markdown",
      "metadata": {
        "id": "zzGWKKLUTwxo"
      },
      "source": [
        "Comprobemos ahora la normalidad para la variable *overall* a partir de la nueva muestra recogida."
      ]
    },
    {
      "cell_type": "code",
      "metadata": {
        "id": "4b3FvF1pT5P5",
        "colab": {
          "base_uri": "https://localhost:8080/"
        },
        "outputId": "b1eac0ac-d1a9-4d37-ea91-50fce4836c7d"
      },
      "source": [
        "print( stats.shapiro( new_sample1.overall ) ) \n",
        "print( stats.shapiro( new_sample2.overall ) ) \n",
        "print( stats.shapiro( new_sample3.overall ) ) \n",
        "\n",
        "print(stats.kstest( (new_sample1.overall-new_sample1.overall.mean())/new_sample1.overall.std(), 'norm'  ))\n",
        "print(stats.kstest( (new_sample2.overall-new_sample2.overall.mean())/new_sample2.overall.std(), 'norm'  ))\n",
        "print(stats.kstest( (new_sample3.overall-new_sample3.overall.mean())/new_sample3.overall.std(), 'norm'  ))"
      ],
      "execution_count": 152,
      "outputs": [
        {
          "output_type": "stream",
          "text": [
            "(0.9950453639030457, 0.002389411209151149)\n",
            "(0.9952665567398071, 5.704149771190714e-06)\n",
            "(0.9967378973960876, 1.2494356838033127e-07)\n",
            "KstestResult(statistic=0.04437679596718741, pvalue=0.03778278940102097)\n",
            "KstestResult(statistic=0.04687097922938252, pvalue=0.0002948651263744163)\n",
            "KstestResult(statistic=0.038081442343535055, pvalue=1.830341639752009e-05)\n"
          ],
          "name": "stdout"
        }
      ]
    },
    {
      "cell_type": "markdown",
      "metadata": {
        "id": "Ne_hVaH9UzEK"
      },
      "source": [
        "¿Qué ha ocurrido con el restultado de estos tests? ¿qué conclusiones arrojan? Es bastante posible que algo totalmente opuesto a lo que habíamos concluido en las pruebas anteriores.\n",
        "\n",
        "¿Significa que una de las dos pruebas de normalidad nos ha mentido? **NO**. De nuevo, debemos tener en cuenta que los contrastes de hipótesis trabajan en base los datos con los que cuentan, e intentan buscar evidencias para rechazar la hipótesis nula con la muestra proporcionada.\n",
        "\n",
        "Cuando las muestras son pequeñas, los contrastes de hipótesis únicamente son capaces de detectar grandes desviaciones en el comportamiento con respecto a la hipótesis nula. A medida que aumentamos el tamaño de muestra, estas pruebas tienen más información y por tanto más posibles evidencias para discernir si existen evidencias de diferencias entre lo esperado y lo observado. Esto hace posible que se puedan detectar desviaciones más pequeñas con respecto a la hipótesis nula. Cuando el tamaño de la muestra es lo suficientemente grande, la prueba tiene la precisión suficiente incluso para detectar diferencias muy pequeñas con respecto al comportamiento esperado.\n",
        "\n",
        "Bien, entonces con un tamaño de muestra lo suficientemente grande hemos sido capaces de detectar diferencias entre la distribución normal y el comportamiento a nivel poblacional de la variable *overall*. La distribución normal, al igual que otras distribuciones de probabilidad, son modelos teóricos. Los modelos, como bien sabemos, describen determinados aspectos o partes de la realidad. Por tanto, como modelo teórico, no se garantiza que una variable aleatoria real tenga que seguir fielmente al 100% el comportamiento de una de las distribuciones de probabilidad teóricas. De hecho, vamos a estudiar el comportamiento de la variable *overall* en toda la población, ya que tenemos acceso a toda la población. "
      ]
    },
    {
      "cell_type": "code",
      "metadata": {
        "id": "3bvI7lh6WL5V",
        "colab": {
          "base_uri": "https://localhost:8080/",
          "height": 0
        },
        "outputId": "e390f2bd-1baf-437d-c5a1-f956af3c68f5"
      },
      "source": [
        "axes = sns.kdeplot( (player_df.overall - player_df.overall.mean() )/(player_df.overall.std()), common_norm=False  )\n",
        "sns.lineplot( y=[ stats.norm.pdf(x) for x in np.arange(-3, 3, 0.01) ], x= [x for x in np.arange(-3, 3, 0.01)] )"
      ],
      "execution_count": 153,
      "outputs": [
        {
          "output_type": "execute_result",
          "data": {
            "text/plain": [
              "<matplotlib.axes._subplots.AxesSubplot at 0x7fd0e10deb00>"
            ]
          },
          "metadata": {
            "tags": []
          },
          "execution_count": 153
        },
        {
          "output_type": "display_data",
          "data": {
            "image/png": "[encoded data removed]",
            "text/plain": [
              "<Figure size 432x288 with 1 Axes>"
            ]
          },
          "metadata": {
            "tags": [],
            "needs_background": "light"
          }
        }
      ]
    },
    {
      "cell_type": "code",
      "metadata": {
        "id": "c_lyRovTeEWi",
        "colab": {
          "base_uri": "https://localhost:8080/",
          "height": 0
        },
        "outputId": "b5ce7dec-5b89-4c06-83e4-368e638432f1"
      },
      "source": [
        "sns.histplot(player_df.overall, bins=25)"
      ],
      "execution_count": 154,
      "outputs": [
        {
          "output_type": "execute_result",
          "data": {
            "text/plain": [
              "<matplotlib.axes._subplots.AxesSubplot at 0x7fd0e6968550>"
            ]
          },
          "metadata": {
            "tags": []
          },
          "execution_count": 154
        },
        {
          "output_type": "display_data",
          "data": {
            "image/png": "[encoded data removed]",
            "text/plain": [
              "<Figure size 432x288 with 1 Axes>"
            ]
          },
          "metadata": {
            "tags": [],
            "needs_background": "light"
          }
        }
      ]
    },
    {
      "cell_type": "code",
      "metadata": {
        "id": "snXmsYV_eNtD",
        "colab": {
          "base_uri": "https://localhost:8080/",
          "height": 0
        },
        "outputId": "f4a27df3-bef1-4eec-df2b-dccdd3ea1aa0"
      },
      "source": [
        "plot = sm.ProbPlot( player_df.overall, dist=\"norm\" )\n",
        "plot.probplot(line=\"r\")"
      ],
      "execution_count": 155,
      "outputs": [
        {
          "output_type": "execute_result",
          "data": {
            "image/png": "[encoded data removed]",
            "text/plain": [
              "<Figure size 432x288 with 1 Axes>"
            ]
          },
          "metadata": {
            "tags": []
          },
          "execution_count": 155
        },
        {
          "output_type": "display_data",
          "data": {
            "image/png": "[encoded data removed]",
            "text/plain": [
              "<Figure size 432x288 with 1 Axes>"
            ]
          },
          "metadata": {
            "tags": [],
            "needs_background": "light"
          }
        }
      ]
    },
    {
      "cell_type": "markdown",
      "metadata": {
        "id": "5-MEwp0Cc0ts"
      },
      "source": [
        "El primer gráfico muestra la función de densidad de una distribución normal (naranja) y la función de densidad estimada a partir de los datos de toda la población. Tras ello mostramos el histograma de la población entera, y el gráfica de probabilidad normal. Está claro que la variable aleatoria no sigue exactamente una distribución normal, y esto es lo que nos habían dicho los tests una vez hemos tenido una muestra lo suficientemente grande. Pero quizás, la pregunta que nos tengamos que hacer son las siguientes:\n",
        "*  ¿Son las diferencias lo suficientemente importantes como para escoger otro modelo o familia de técnicas?\n",
        "*  ¿Existe otra familia de distribuciones de probabilidad más apropiada para describir el comportamiento aproximado de esta variable aleatoria? ¿Se cumplen las asunciones de dichas distribuciones de probabilidad en nuestra variable aleatoria?\n",
        "*  Muchas herramientas de inferencia estadística paramétrica son relativamente robustas a desviaciones con respecto a la normalidad. Por tanto, se pueden emplear incluso en el caso de datos no normales.\n",
        "\n",
        "Recordar que al modelar una variable aleatoria como una determinada distribución de probabilidad estamos intentando modelar la realidad. Muchos de los modelos que empleamos en ingeniería y ciencia son aproximaciones al mundo real, y siempre van a cometer un cierto error asociado. Lo que buscamos, por lo general, es el modelo que es capaz de explicar mejor el mundo real. Con las variables aleatorias pasa algo parecido. \n",
        "\n",
        "Muchas variables aleatorias muestras un comportamiento *aproximadamente normal*, y debido a que no son muy diferentes en comportamiento a una distribución normal, se emplean las técnicas de inferencia paramétrica empleadas para variables normales."
      ]
    },
    {
      "cell_type": "markdown",
      "metadata": {
        "id": "tOZ3ZDzQVWID"
      },
      "source": [
        "#Inferencia sobre la media de poblaciones normales "
      ]
    },
    {
      "cell_type": "markdown",
      "metadata": {
        "id": "O-4BRTw3WW-k"
      },
      "source": [
        "Como bien habéis visto en clase de teoría, también es posible realizar inferencias sobre la media de una población normal. Dependiendo de si conocemos o no la varianza poblacional (algo raro en la práctica) nos basamos para su construcción bien en la distribución normal o en la distribución t de Student (una distribución en el muestreo).\n",
        "\n",
        "En esta práctica vamos a centrarnos en la construcción de intervalos de confianza para la media poblacional cuando NO conocemos la varianza poblacional. Este es el caso más típico y habitual en la práctica, ya que únicamente tenemos acceso a trabajar con un conjunto de datos que es una muestra de la población, y no solemos saber nada sobre esta última.\n",
        "\n",
        "Dada una muestra procedente de una población normal con tamaño $n$ y varianza desconocida, el intervalo de confianza ($1-\\alpha$)% asociado a la media poblacional es el siguiente:\n",
        "\n",
        "$IC_{1-\\alpha}= \\bar{x} \\mp t_{n-1;\\alpha/2} \\frac{s}{\\sqrt{n}}$\n",
        "\n",
        "donde $\\bar{x}$ es la media muestral, $s$ es la deviación típica en la muestra, $n$ es el tamaño de la muestra, y $t_{n-1;\\alpha/2}$ es el punto en una distribución t de Student con $n-1$ grados de libertad que es menor que $\\frac{\\alpha}{2}$% de las observaciones.\n",
        "\n",
        "Podemos trabajar con una t de Student en Python de forma similar a cómo lo hacíamos con la distribución normal.\n",
        "\n",
        "\n",
        "\n"
      ]
    },
    {
      "cell_type": "code",
      "metadata": {
        "id": "B3BNpG_CpYws",
        "colab": {
          "base_uri": "https://localhost:8080/"
        },
        "outputId": "3fa04d21-a31a-4ace-ae08-6238e6604de8"
      },
      "source": [
        "# Genera 10 datos aleatorios procedentes de una t de Student con 4 grados de libertad\n",
        "random_data = stats.t.rvs( 4, size= 10)\n",
        "print(random_data)\n",
        "\n",
        "# Obtiene el valor de la función de densidad para el punto 1 en una t de Student con 4 grados de libertad\n",
        "print( stats.t.pdf( 1, 4 ) )\n",
        "\n",
        "# Obtiene la probabilidad de observar valores menores o iguales a cero en una distribución t de student con 4 grados de libertad \n",
        "print( stats.t.cdf( 0, 4 ) )\n",
        "\n",
        "#Obtiene el percentil 97.5 (mayor o igual que el 97.5% de las posibles observaciones) para una t de student con 4 grados de libertad \n",
        "print( stats.t.ppf( 0.975, 4 ) )\n",
        "\n",
        "#Obtiene los extremos del intervalo centrado en 0 que contiene el 95% de las observaciones en una t de student con 4 grados de libertad \n",
        "print( stats.t.interval( 0.95, 4 ) )"
      ],
      "execution_count": 156,
      "outputs": [
        {
          "output_type": "stream",
          "text": [
            "[ 0.70949392 -0.35787857 -1.13371937  0.05354351 -1.29966572 -0.15845345\n",
            "  1.56817769 -0.23242914 -0.7978924  -2.75614253]\n",
            "0.21466252583997983\n",
            "0.5\n",
            "2.7764451051977987\n",
            "(-2.7764451051977987, 2.7764451051977987)\n"
          ],
          "name": "stdout"
        }
      ]
    },
    {
      "cell_type": "markdown",
      "metadata": {
        "id": "lCySwSNBi7oj"
      },
      "source": [
        "Usando nuestra muestra de jugadores, ahora construiremos un intervalo de confianza (95%) para la media poblacional de la variable *overall*."
      ]
    },
    {
      "cell_type": "code",
      "metadata": {
        "id": "gRFUOma6hFiV",
        "colab": {
          "base_uri": "https://localhost:8080/"
        },
        "outputId": "aa33c4f2-1c10-4d96-ec86-e36c36eaff51"
      },
      "source": [
        "lower_bound = 0\n",
        "upper_bound = 0\n",
        "x = sample.overall.mean()\n",
        "n = sample.shape[0]\n",
        "t = stats.t.ppf(0.975, n-1 )\n",
        "s = sample.overall.std()\n",
        "lower_bound = x - t * s/math.sqrt(n)\n",
        "upper_bound = x + t * s/math.sqrt(n)\n",
        "print(lower_bound, upper_bound)\n",
        "print(\"media muestral -> \",x)"
      ],
      "execution_count": 157,
      "outputs": [
        {
          "output_type": "stream",
          "text": [
            "64.7333009615066 67.4866990384934\n",
            "media muestral ->  66.11\n"
          ],
          "name": "stdout"
        }
      ]
    },
    {
      "cell_type": "markdown",
      "metadata": {
        "id": "53M097aLmi1T"
      },
      "source": [
        "**¿Cómo interpretarías el anterior intervalo?** Segun el intervalo, pienso que se trata de una distribución con poca dispersión y bastante apuntada en torno a 67.09, por lo que, si se trata de una normal, tendría una asimetría por la izquierda bastante considerable.\n",
        "\n",
        "En base a lo que has aprendido, construye el intervalo de confianza para la media de la variable *weight_kg*. Comprueba normalidad antes. "
      ]
    },
    {
      "cell_type": "code",
      "metadata": {
        "id": "Re-JnhWmm8GT",
        "colab": {
          "base_uri": "https://localhost:8080/",
          "height": 591
        },
        "outputId": "288d284d-7524-4519-ffec-d0a135befef4"
      },
      "source": [
        "# Tu código aquí\n",
        "sample = player_df.sample(n=100)\n",
        "print(\" alpha -> 0.05 \\n\")\n",
        "print( stats.skewtest( sample.weight_kg ) , \"\\n -> H0:  El coeficiente de asimetría (CA) de la población sigue una asimetria propia de una población normal (CA = 0)\\n\" )\n",
        "print( stats.kurtosistest( sample.weight_kg ) , \"\\n -> H0:  El coeficiente de curtosis (CC) de la población sigue una curtosis propia de una población normal (CC=0)\\n\")\n",
        "print( stats.kstest( (sample.weight_kg-sample.weight_kg.mean())/sample.weight_kg.std(), 'norm'  ) , \"\\n -> H0:  La función de distribución acumulada se comporta como la función de distribución acumulada de una distribución normal.\\n\")\n",
        "print( stats.shapiro( sample.weight_kg ) , \"\\n -> H0:  La variable aleatoria estudiada procede de una población normal\\n\")\n",
        "plot = sm.ProbPlot( sample.weight_kg, dist=\"norm\" )\n",
        "plot.probplot(line=\"r\")\n",
        "\n",
        "print(\"Despues de hacer varios tipos de pruebas de normalidad y todas diciendo que la distribución sigue una normal, concluimos que sigue una normal.\\n\")\n",
        "\n",
        "lower_bound = 0\n",
        "upper_bound = 0\n",
        "x = sample.weight_kg.mean()\n",
        "n = sample.shape[0]\n",
        "t = stats.t.ppf(0.975, n-1 )\n",
        "s = sample.weight_kg.std()\n",
        "lower_bound = x - t * s/math.sqrt(n)\n",
        "upper_bound = x + t * s/math.sqrt(n)\n",
        "print(\"(lower_bound: \",lower_bound,\", upper_bound: \", upper_bound,\")\")\n",
        "print(\"media muestral -> \",x)"
      ],
      "execution_count": 158,
      "outputs": [
        {
          "output_type": "stream",
          "text": [
            " alpha -> 0.05 \n",
            "\n",
            "SkewtestResult(statistic=1.0533823022818616, pvalue=0.29216581200162495) \n",
            " -> H0:  El coeficiente de asimetría (CA) de la población sigue una asimetria propia de una población normal (CA = 0)\n",
            "\n",
            "KurtosistestResult(statistic=0.21140212911887776, pvalue=0.8325734954903841) \n",
            " -> H0:  El coeficiente de curtosis (CC) de la población sigue una curtosis propia de una población normal (CC=0)\n",
            "\n",
            "KstestResult(statistic=0.092058927453884, pvalue=0.3455190967751117) \n",
            " -> H0:  La función de distribución acumulada se comporta como la función de distribución acumulada de una distribución normal.\n",
            "\n",
            "(0.9825605154037476, 0.2093370109796524) \n",
            " -> H0:  La variable aleatoria estudiada procede de una población normal\n",
            "\n",
            "Despues de hacer varios tipos de pruebas de normalidad y todas diciendo que la distribución sigue una normal, concluimos que sigue una normal.\n",
            "\n",
            "(lower_bound:  75.0321044494591 , upper_bound:  77.88789555054089 )\n",
            "media muestral ->  76.46\n"
          ],
          "name": "stdout"
        },
        {
          "output_type": "display_data",
          "data": {
            "image/png": "[encoded data removed]",
            "text/plain": [
              "<Figure size 432x288 with 1 Axes>"
            ]
          },
          "metadata": {
            "tags": [],
            "needs_background": "light"
          }
        }
      ]
    },
    {
      "cell_type": "markdown",
      "metadata": {
        "id": "W8PK1baInzpV"
      },
      "source": [
        "# Inferencia sobre la varianza en poblaciones normales\n",
        "\n",
        "Finalmente veremos cómo podemos calcular el intervalo de confianza para la varianza poblacional cuando trabajamos con distribuciones normales. La varianza muestral y la varianza poblacional en una población normal están relacionados por un estadístico basado en la Chi-cuadrado. Más concretamente, a partir de la varianza muestral, podemos establecer un intervalo de confianza para la varianza poblacional:\n",
        "\n",
        "$IC_{1-\\alpha}=[ (n-1) \\frac{s^2}{\\chi^2_{n-1;\\alpha}}, (n-1) \\frac{s^2}{\\chi^2_{n-1;1-\\alpha}}  ]$\n",
        "\n",
        "donde $n$ es el tamaño de la muestra, $s^2$ es la varianza muestral, y $\\chi^2_{n-1; \\alpha}$ es el punto en una distribución Chi-cuadrado con $n-1$ grados de libertad que es menor que $\\alpha$% de las observaciones. La interpretación para este tipo de intervalos es similar a la de otros intervalos de confianza.\n",
        "\n",
        "Para poder calcular este intervalo necesitamos trabajar con la distribución Chi-cuadrado. Veamos como podemos interactuar con esta distribución desde Python."
      ]
    },
    {
      "cell_type": "code",
      "metadata": {
        "id": "u9GPswqInmW5",
        "colab": {
          "base_uri": "https://localhost:8080/"
        },
        "outputId": "4a9840b3-f4fd-4f93-c694-142914d15c38"
      },
      "source": [
        "# Genera 10 datos aleatorios procedentes de una Chi cuadrado con 4 grados de libertad\n",
        "random_data = stats.chi2.rvs( 4, size= 10)\n",
        "print(random_data)\n",
        "\n",
        "# Obtiene el valor de la función de densidad para el punto 2 en una chi cuadrado con 4 grados de libertad\n",
        "print( stats.chi2.pdf( 2, 4 ) )\n",
        "\n",
        "# Obtiene la probabilidad de observar valores menores o iguales a 1 en una distribución chi cuadrado con 4 grados de libertad \n",
        "print( stats.chi2.cdf( 1, 4 ) )\n",
        "\n",
        "#Obtiene el percentil 97.5 (mayor o igual que el 97.5% de las posibles observaciones) para una chi cuadrado 4 grados de libertad \n",
        "print( stats.chi2.ppf( 0.975, 4 ) )\n",
        "\n",
        "#Obtiene los extremos del intervalo que contiene el 95% de las observaciones en una chi cuadrado con 4 grados de libertad \n",
        "print( stats.chi2.interval( 0.95, 4 ) )"
      ],
      "execution_count": 159,
      "outputs": [
        {
          "output_type": "stream",
          "text": [
            "[5.93625555 1.39675665 2.24278919 4.25095123 1.49904982 0.20840088\n",
            " 0.85527706 1.86639762 2.84859941 5.13140359]\n",
            "0.18393972058572114\n",
            "0.09020401043104986\n",
            "11.143286781877796\n",
            "(0.48441855708793014, 11.143286781877796)\n"
          ],
          "name": "stdout"
        }
      ]
    },
    {
      "cell_type": "markdown",
      "metadata": {
        "id": "AJYhZBTbs4mK"
      },
      "source": [
        "En base a esto, veamos cómo podemos calcular un intervalo de confianza (95%) para la varianza poblacional de la variable aleatoria *overall*."
      ]
    },
    {
      "cell_type": "code",
      "metadata": {
        "id": "2XSWFBfjr6AF",
        "colab": {
          "base_uri": "https://localhost:8080/"
        },
        "outputId": "9597592b-3edc-4331-f11c-5533ea48f443"
      },
      "source": [
        "lower_bound = 0\n",
        "upper_bound = 0\n",
        "n = sample.shape[0]\n",
        "s2 = sample.overall.std()\n",
        "chi1 = stats.chi2.ppf(1-0.05/2, n - 1 )\n",
        "chi2 = stats.chi2.ppf(0.05/2, n - 1 )\n",
        "lower_bound = (n-1)*s2/chi1\n",
        "upper_bound = (n-1)*s2/chi2\n",
        "print(lower_bound, upper_bound)\n",
        "print(\"varianza muestral -> \",s2)\n"
      ],
      "execution_count": 160,
      "outputs": [
        {
          "output_type": "stream",
          "text": [
            "6.273184683203743 10.981502045042438\n",
            "varianza muestral ->  8.137523759061656\n"
          ],
          "name": "stdout"
        }
      ]
    },
    {
      "cell_type": "markdown",
      "metadata": {
        "id": "J4ID6VKdwE_M"
      },
      "source": [
        "**Interpreta el significado de este intervalo anterior** La varianza de la población se encuentra dentro del intervalo definido con un 95% de fiabilidad.\n",
        "\n",
        "Ahora calcula el intervalo de confianza (99%) para la varianza poblacional de la variable aleatoria *weight_kg* e intepreta su resultado."
      ]
    },
    {
      "cell_type": "code",
      "metadata": {
        "id": "tBHKeIEVuu2p",
        "colab": {
          "base_uri": "https://localhost:8080/"
        },
        "outputId": "93368a3a-03f4-4aba-edcd-b9ee3632d976"
      },
      "source": [
        "# Tu código aquí\n",
        "lower_bound = 0\n",
        "upper_bound = 0\n",
        "n = sample.shape[0]\n",
        "s2 = sample.weight_kg.std()\n",
        "chi1 = stats.chi2.ppf(1-0.01/2, n - 1 )\n",
        "chi2 = stats.chi2.ppf(0.01/2, n - 1 )\n",
        "lower_bound = (n-1)*s2/chi1\n",
        "upper_bound = (n-1)*s2/chi2\n",
        "print(lower_bound, upper_bound)\n",
        "print(\"varianza muestral -> \",s2)\n"
      ],
      "execution_count": 161,
      "outputs": [
        {
          "output_type": "stream",
          "text": [
            "5.125886376209277 10.711612266019218\n",
            "varianza muestral ->  7.196267270346665\n"
          ],
          "name": "stdout"
        }
      ]
    },
    {
      "cell_type": "markdown",
      "metadata": {
        "id": "8ye9dQ4x1RmF"
      },
      "source": [
        "**Interpretación:**\n",
        "La varianza de la población estará dentro del intervalo definido con un 99% de confianza."
      ]
    },
    {
      "cell_type": "markdown",
      "metadata": {
        "id": "Fmz2E9a-wg3A"
      },
      "source": [
        "#Tarea: Explorando datos\n",
        "\n",
        "Ahora escoge tres variables aleatorias de la muestra *sample*, dos de las cuales deben ser normales. Estudia la normalidad de estas tres variables apoyándote en métodos gráficos y en pruebas. A continuación, para las variables normales construye el intervalo de confianza para la media y la varianza poblacional e interpreta su significado."
      ]
    },
    {
      "cell_type": "code",
      "metadata": {
        "id": "cMxoShWxwd7K",
        "colab": {
          "base_uri": "https://localhost:8080/",
          "height": 1000
        },
        "outputId": "35fbb643-b09e-46fb-a8d9-b2f771337a5f"
      },
      "source": [
        "sample = spanish_players_df.sample(n=100)\n",
        "\n",
        "# histogramas\n",
        "plt.figure(figsize=(20,5))\n",
        "plt.subplot(1,3,1)\n",
        "sns.histplot(data=spanish_players_df, x=\"potential\", bins=30)\n",
        "plt.title('Potential')\n",
        "plt.subplot(1,3,2)\n",
        "sns.histplot(data=spanish_players_df, x=\"international_reputation\", bins=30)\n",
        "plt.title('International Reputation')\n",
        "plt.subplot(1,3,3)\n",
        "sns.histplot(data=spanish_players_df, x=\"power_stamina\", bins=30)\n",
        "plt.title('Power Stamina')\n",
        "\n",
        "# Gráficos probabilisticas\n",
        "plt.figure()\n",
        "sm.ProbPlot( sample.potential, dist=\"norm\" ).probplot(line=\"r\")\n",
        "plt.title('Potential')\n",
        "sm.ProbPlot( sample.international_reputation, dist=\"norm\" ).probplot(line=\"r\")\n",
        "plt.title('International Reputation')\n",
        "sm.ProbPlot( sample.power_stamina, dist=\"norm\" ).probplot(line=\"r\")\n",
        "plt.title('Power Stamina')\n",
        "\n",
        "\n",
        "# Pruebas de normalidad\n",
        "print(\" alpha -> 0.05 \\n\")\n",
        "\n",
        "print(\"       Potential:\\n\")\n",
        "print( stats.skewtest( sample.potential ) , \"\\n    -> H0:  El coeficiente de asimetría (CA) de la población sigue una asimetria propia de una población normal (CA = 0)\" )\n",
        "print( stats.kurtosistest( sample.potential ) , \"\\n    -> H0:  El coeficiente de curtosis (CC) de la población sigue una curtosis propia de una población normal (CC=0)\")\n",
        "print( stats.kstest( (sample.potential-sample.potential.mean())/sample.potential.std(), 'norm'  ) , \"\\n    -> H0:  La función de distribución acumulada se comporta como la función de distribución acumulada de una distribución normal.\")\n",
        "print( stats.shapiro( sample.potential ) , \"\\n     -> H0:  La variable aleatoria estudiada procede de una población normal\")\n",
        "print(\"**Despues de hacer varios tipos de pruebas de normalidad y todas diciendo que la distribución sigue una normal, concluimos que sigue una normal.**\\n\")\n",
        "\n",
        "print(\"\\n\\n       International Reputation:\\n\")\n",
        "print( stats.skewtest( sample.international_reputation ) , \"\\n    -> H1:  El coeficiente de asimetría (CA) de la población sigue una asimetría diferente de una población normal (CA != 0)\" )\n",
        "print( stats.kurtosistest( sample.international_reputation ) , \"\\n    -> H1:  El coeficiente de curtosis (CC) de la población tiene una curtosis diferente a la de una población normal (CC!=0)\")\n",
        "print( stats.kstest( (sample.international_reputation-sample.international_reputation.mean())/sample.international_reputation.std(), 'norm'  ) , \"\\n    -> H1:  La función de distribución acumulada difiere de la función de distribución acumulada de una distribución normal.\")\n",
        "print( stats.shapiro( sample.international_reputation ) , \"\\n     -> H1:  La variable aleatoria estudiada no procede de una población normal\")\n",
        "print(\"**Despues de hacer varios tipos de pruebas de normalidad y todas diciendo que la distribución NO sigue una normal, concluimos que NO sigue una normal.**\\n\")\n",
        "\n",
        "print(\"\\n\\n       Power Stamina:\\n\")\n",
        "print( stats.skewtest( sample.power_stamina ) , \"\\n    -> H1:  El coeficiente de asimetría (CA) de la población sigue una asimetría diferente de una población normal (CA != 0)\" )\n",
        "print( stats.kurtosistest( sample.power_stamina ) , \"\\n    -> H0:  El coeficiente de curtosis (CC) de la población sigue una curtosis propia de una población normal (CC=0)\")\n",
        "print( stats.kstest( (sample.power_stamina-sample.power_stamina.mean())/sample.power_stamina.std(), 'norm'  ) , \"\\n    -> H0:  La función de distribución acumulada se comporta como la función de distribución acumulada de una distribución normal.\")\n",
        "print( stats.shapiro( sample.power_stamina ) , \"\\n     -> H1:  La variable aleatoria estudiada no procede de una población normal\")\n",
        "print(\"**Despues de hacer varios tipos de pruebas de normalidad, aunque el de asimetría y la de shapiro dicen que la distribución no sigue una normal, observando el gráfico probabilistico y el histograma podemos concluir que sigue una normal.**\\n\")\n",
        "\n",
        "\n",
        "# Intervalos de confianza\n",
        "\n",
        "# Media\n",
        "print(\"\\n       Media:\")\n",
        "print(\"Potential\")\n",
        "lower_bound = 0\n",
        "upper_bound = 0\n",
        "x = sample.potential.mean()\n",
        "n = sample.shape[0]\n",
        "t = stats.t.ppf(0.975, n-1 )\n",
        "s = sample.potential.std()\n",
        "lower_bound = x - t * s/math.sqrt(n)\n",
        "upper_bound = x + t * s/math.sqrt(n)\n",
        "print(\"   Hay un 95% de probabilidad de que las muestras tengan una media de entre: (\",lower_bound,\", \", upper_bound,\").\")\n",
        "\n",
        "print(\"Power Stamina\")\n",
        "lower_bound_1 = 0\n",
        "upper_bound_1 = 0\n",
        "x_1 = sample.power_stamina.mean()\n",
        "n_1 = sample.shape[0]\n",
        "t_1 = stats.t.ppf(0.975, n_1-1 )\n",
        "s_1 = sample.power_stamina.std()\n",
        "lower_bound_1 = x_1 - t_1 * s_1/math.sqrt(n_1)\n",
        "upper_bound_1 = x_1 + t_1 * s_1/math.sqrt(n_1)\n",
        "print(\"   Hay un 95% de probabilidad de que las muestras tengan una media de entre: (\",lower_bound_1,\", \", upper_bound_1,\").\")\n",
        "\n",
        "# Varianza\n",
        "print(\"\\n       Varianza:\")\n",
        "print(\"Potential\")\n",
        "lower_bound_2 = 0\n",
        "upper_bound_2 = 0\n",
        "n_2 = sample.shape[0]\n",
        "s2_2 = sample.potential.std()\n",
        "chi1_2 = stats.chi2.ppf(1-0.05/2, n_2 - 1 )\n",
        "chi2_2 = stats.chi2.ppf(0.05/2, n_2 - 1 )\n",
        "lower_bound_2 = (n_2-1)*s2_2/chi1_2\n",
        "upper_bound_2 = (n_2-1)*s2_2/chi2_2\n",
        "print(\"   Hay un 95% de probabilidad de que las muestras tengan una varianza de entre: (\",lower_bound_2,\", \", upper_bound_2,\").\")\n",
        "\n",
        "print(\"Power Stamina\")\n",
        "lower_bound_3 = 0\n",
        "upper_bound_3 = 0\n",
        "n_3 = sample.shape[0]\n",
        "s2_3 = sample.power_stamina.std()\n",
        "chi1_3 = stats.chi2.ppf(1-0.05/2, n_3 - 1 )\n",
        "chi2_3 = stats.chi2.ppf(0.05/2, n_3 - 1 )\n",
        "lower_bound_3 = (n_3-1)*s2_3/chi1_3\n",
        "upper_bound_3 = (n_3-1)*s2_3/chi2_3\n",
        "print(\"   Hay un 95% de probabilidad de que las muestras tengan una varianza de entre: (\",lower_bound_3,\", \", upper_bound_3,\").\")\n",
        "\n"
      ],
      "execution_count": 241,
      "outputs": [
        {
          "output_type": "stream",
          "text": [
            " alpha -> 0.05 \n",
            "\n",
            "       Potential:\n",
            "\n",
            "SkewtestResult(statistic=1.2231681818280378, pvalue=0.22126618060274506) \n",
            "    -> H0:  El coeficiente de asimetría (CA) de la población sigue una asimetria propia de una población normal (CA = 0)\n",
            "KurtosistestResult(statistic=-0.6237281024904199, pvalue=0.5328061639934352) \n",
            "    -> H0:  El coeficiente de curtosis (CC) de la población sigue una curtosis propia de una población normal (CC=0)\n",
            "KstestResult(statistic=0.07635854598323666, pvalue=0.5928395307723833) \n",
            "    -> H0:  La función de distribución acumulada se comporta como la función de distribución acumulada de una distribución normal.\n",
            "(0.9824889302253723, 0.20673397183418274) \n",
            "     -> H0:  La variable aleatoria estudiada procede de una población normal\n",
            "**Despues de hacer varios tipos de pruebas de normalidad y todas diciendo que la distribución sigue una normal, concluimos que sigue una normal.**\n",
            "\n",
            "\n",
            "\n",
            "       International Reputation:\n",
            "\n",
            "SkewtestResult(statistic=5.96118213504466, pvalue=2.5041965409511324e-09) \n",
            "    -> H1:  El coeficiente de asimetría (CA) de la población sigue una asimetría diferente de una población normal (CA != 0)\n",
            "KurtosistestResult(statistic=3.662904987343111, pvalue=0.000249371053091212) \n",
            "    -> H1:  El coeficiente de curtosis (CC) de la población tiene una curtosis diferente a la de una población normal (CC!=0)\n",
            "KstestResult(statistic=0.4241169880536653, pvalue=7.81739536383437e-17) \n",
            "    -> H1:  La función de distribución acumulada difiere de la función de distribución acumulada de una distribución normal.\n",
            "(0.6014403104782104, 4.584682717560622e-15) \n",
            "     -> H1:  La variable aleatoria estudiada no procede de una población normal\n",
            "**Despues de hacer varios tipos de pruebas de normalidad y todas diciendo que la distribución NO sigue una normal, concluimos que NO sigue una normal.**\n",
            "\n",
            "\n",
            "\n",
            "       Power Stamina:\n",
            "\n",
            "SkewtestResult(statistic=-2.451488445417175, pvalue=0.014226675398249004) \n",
            "    -> H1:  El coeficiente de asimetría (CA) de la población sigue una asimetría diferente de una población normal (CA != 0)\n",
            "KurtosistestResult(statistic=-0.002595290108142883, pvalue=0.997929260416497) \n",
            "    -> H0:  El coeficiente de curtosis (CC) de la población sigue una curtosis propia de una población normal (CC=0)\n",
            "KstestResult(statistic=0.10075034256822607, pvalue=0.2455269828819341) \n",
            "    -> H0:  La función de distribución acumulada se comporta como la función de distribución acumulada de una distribución normal.\n",
            "(0.9564081430435181, 0.0022483007051050663) \n",
            "     -> H1:  La variable aleatoria estudiada no procede de una población normal\n",
            "**Despues de hacer varios tipos de pruebas de normalidad, aunque el de asimetría y la de shapiro dicen que la distribución no sigue una normal, observando el gráfico probabilistico y el histograma podemos concluir que sigue una normal.**\n",
            "\n",
            "\n",
            "       Media:\n",
            "Potential\n",
            "   Hay un 95% de probabilidad de que las muestras tengan una media de entre: ( 77.20146003333632 ,  79.51853996666368 ).\n",
            "Power Stamina\n",
            "   Hay un 95% de probabilidad de que las muestras tengan una media de entre: ( 60.02515534123114 ,  66.45484465876886 ).\n",
            "\n",
            "       Varianza:\n",
            "Potential\n",
            "   Hay un 95% de probabilidad de que las muestras tengan una varianza de entre: ( 4.501089708462953 ,  7.879367232842558 ).\n",
            "Power Stamina\n",
            "   Hay un 95% de probabilidad de que las muestras tengan una varianza de entre: ( 12.49012086269469 ,  21.864538463812707 ).\n"
          ],
          "name": "stdout"
        },
        {
          "output_type": "display_data",
          "data": {
            "image/png": "[encoded data removed]",
            "text/plain": [
              "<Figure size 1440x360 with 3 Axes>"
            ]
          },
          "metadata": {
            "tags": [],
            "needs_background": "light"
          }
        },
        {
          "output_type": "display_data",
          "data": {
            "text/plain": [
              "<Figure size 432x288 with 0 Axes>"
            ]
          },
          "metadata": {
            "tags": []
          }
        },
        {
          "output_type": "display_data",
          "data": {
            "image/png": "[encoded data removed]",
            "text/plain": [
              "<Figure size 432x288 with 1 Axes>"
            ]
          },
          "metadata": {
            "tags": [],
            "needs_background": "light"
          }
        },
        {
          "output_type": "display_data",
          "data": {
            "image/png": "[encoded data removed]",
            "text/plain": [
              "<Figure size 432x288 with 1 Axes>"
            ]
          },
          "metadata": {
            "tags": [],
            "needs_background": "light"
          }
        },
        {
          "output_type": "display_data",
          "data": {
            "image/png": "[encoded data removed]",
            "text/plain": [
              "<Figure size 432x288 with 1 Axes>"
            ]
          },
          "metadata": {
            "tags": [],
            "needs_background": "light"
          }
        }
      ]
    }
  ]
}