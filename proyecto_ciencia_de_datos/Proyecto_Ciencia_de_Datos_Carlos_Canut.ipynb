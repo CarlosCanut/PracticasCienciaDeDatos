{
  "nbformat": 4,
  "nbformat_minor": 0,
  "metadata": {
    "colab": {
      "name": "Proyecto Ciencia de Datos Carlos Canut.ipynb",
      "provenance": [],
      "collapsed_sections": [],
      "toc_visible": true
    },
    "kernelspec": {
      "name": "python3",
      "display_name": "Python 3"
    }
  },
  "cells": [
    {
      "cell_type": "markdown",
      "metadata": {
        "id": "s0x--c50E5Zr"
      },
      "source": [
        ">![Google's logo](https://logodownload.org/wp-content/uploads/2014/09/lol-league-of-Legends-logo-2-1.png)"
      ]
    },
    {
      "cell_type": "markdown",
      "metadata": {
        "id": "odSit_i_-y36"
      },
      "source": [
        "# Selección del conjunto de datos"
      ]
    },
    {
      "cell_type": "code",
      "metadata": {
        "id": "G2QFeDK_-Qjf",
        "colab": {
          "base_uri": "https://localhost:8080/"
        },
        "outputId": "e6bd9ba1-6b2b-4646-e812-ba6073e7ea38"
      },
      "source": [
        "!pip install statsmodels\r\n",
        "import pandas as pd\r\n",
        "import seaborn as sns\r\n",
        "import numpy as np\r\n",
        "import matplotlib.pyplot as plt\r\n",
        "from scipy import stats\r\n",
        "import statsmodels.api as sm\r\n",
        "import math\r\n",
        "from statsmodels.formula.api import ols"
      ],
      "execution_count": null,
      "outputs": [
        {
          "output_type": "stream",
          "text": [
            "Requirement already satisfied: statsmodels in /usr/local/lib/python3.6/dist-packages (0.10.2)\n",
            "Requirement already satisfied: numpy>=1.11 in /usr/local/lib/python3.6/dist-packages (from statsmodels) (1.19.5)\n",
            "Requirement already satisfied: scipy>=0.18 in /usr/local/lib/python3.6/dist-packages (from statsmodels) (1.4.1)\n",
            "Requirement already satisfied: pandas>=0.19 in /usr/local/lib/python3.6/dist-packages (from statsmodels) (1.1.5)\n",
            "Requirement already satisfied: patsy>=0.4.0 in /usr/local/lib/python3.6/dist-packages (from statsmodels) (0.5.1)\n",
            "Requirement already satisfied: pytz>=2017.2 in /usr/local/lib/python3.6/dist-packages (from pandas>=0.19->statsmodels) (2018.9)\n",
            "Requirement already satisfied: python-dateutil>=2.7.3 in /usr/local/lib/python3.6/dist-packages (from pandas>=0.19->statsmodels) (2.8.1)\n",
            "Requirement already satisfied: six in /usr/local/lib/python3.6/dist-packages (from patsy>=0.4.0->statsmodels) (1.15.0)\n"
          ],
          "name": "stdout"
        },
        {
          "output_type": "stream",
          "text": [
            "/usr/local/lib/python3.6/dist-packages/statsmodels/tools/_testing.py:19: FutureWarning: pandas.util.testing is deprecated. Use the functions in the public API at pandas.testing instead.\n",
            "  import pandas.util.testing as tm\n"
          ],
          "name": "stderr"
        }
      ]
    },
    {
      "cell_type": "markdown",
      "metadata": {
        "id": "h6KVDNvNCUSe"
      },
      "source": [
        "Para este proyecto vamos a utilizar un conjunto de datos con todas las partidas de las principales ligas a nivel internacional de la escena de league of legends, para esto utilizaremos los datos que se ofrecen de manera pública y gratuita en la web de Oracle's Elixir (https://oracleselixir.com/):"
      ]
    },
    {
      "cell_type": "code",
      "metadata": {
        "colab": {
          "base_uri": "https://localhost:8080/",
          "height": 429
        },
        "id": "zL03a_LkCtIh",
        "outputId": "5fc3264e-11a9-4c49-8bf4-7b37f09bc2fd"
      },
      "source": [
        "all_games = pd.read_csv(\"https://oracleselixir-downloadable-match-data.s3-us-west-2.amazonaws.com/2020_LoL_esports_match_data_from_OraclesElixir_20201220.csv\")\r\n",
        "all_games.head(5)"
      ],
      "execution_count": null,
      "outputs": [
        {
          "output_type": "execute_result",
          "data": {
            "text/html": [
              "<div>\n",
              "<style scoped>\n",
              "    .dataframe tbody tr th:only-of-type {\n",
              "        vertical-align: middle;\n",
              "    }\n",
              "\n",
              "    .dataframe tbody tr th {\n",
              "        vertical-align: top;\n",
              "    }\n",
              "\n",
              "    .dataframe thead th {\n",
              "        text-align: right;\n",
              "    }\n",
              "</style>\n",
              "<table border=\"1\" class=\"dataframe\">\n",
              "  <thead>\n",
              "    <tr style=\"text-align: right;\">\n",
              "      <th></th>\n",
              "      <th>gameid</th>\n",
              "      <th>datacompleteness</th>\n",
              "      <th>url</th>\n",
              "      <th>league</th>\n",
              "      <th>year</th>\n",
              "      <th>split</th>\n",
              "      <th>playoffs</th>\n",
              "      <th>date</th>\n",
              "      <th>game</th>\n",
              "      <th>patch</th>\n",
              "      <th>playerid</th>\n",
              "      <th>side</th>\n",
              "      <th>position</th>\n",
              "      <th>player</th>\n",
              "      <th>team</th>\n",
              "      <th>champion</th>\n",
              "      <th>ban1</th>\n",
              "      <th>ban2</th>\n",
              "      <th>ban3</th>\n",
              "      <th>ban4</th>\n",
              "      <th>ban5</th>\n",
              "      <th>gamelength</th>\n",
              "      <th>result</th>\n",
              "      <th>kills</th>\n",
              "      <th>deaths</th>\n",
              "      <th>assists</th>\n",
              "      <th>teamkills</th>\n",
              "      <th>teamdeaths</th>\n",
              "      <th>doublekills</th>\n",
              "      <th>triplekills</th>\n",
              "      <th>quadrakills</th>\n",
              "      <th>pentakills</th>\n",
              "      <th>firstblood</th>\n",
              "      <th>firstbloodkill</th>\n",
              "      <th>firstbloodassist</th>\n",
              "      <th>firstbloodvictim</th>\n",
              "      <th>team kpm</th>\n",
              "      <th>ckpm</th>\n",
              "      <th>firstdragon</th>\n",
              "      <th>dragons</th>\n",
              "      <th>...</th>\n",
              "      <th>damageshare</th>\n",
              "      <th>damagetakenperminute</th>\n",
              "      <th>damagemitigatedperminute</th>\n",
              "      <th>wardsplaced</th>\n",
              "      <th>wpm</th>\n",
              "      <th>wardskilled</th>\n",
              "      <th>wcpm</th>\n",
              "      <th>controlwardsbought</th>\n",
              "      <th>visionscore</th>\n",
              "      <th>vspm</th>\n",
              "      <th>totalgold</th>\n",
              "      <th>earnedgold</th>\n",
              "      <th>earned gpm</th>\n",
              "      <th>earnedgoldshare</th>\n",
              "      <th>goldspent</th>\n",
              "      <th>gspd</th>\n",
              "      <th>total cs</th>\n",
              "      <th>minionkills</th>\n",
              "      <th>monsterkills</th>\n",
              "      <th>monsterkillsownjungle</th>\n",
              "      <th>monsterkillsenemyjungle</th>\n",
              "      <th>cspm</th>\n",
              "      <th>goldat10</th>\n",
              "      <th>xpat10</th>\n",
              "      <th>csat10</th>\n",
              "      <th>opp_goldat10</th>\n",
              "      <th>opp_xpat10</th>\n",
              "      <th>opp_csat10</th>\n",
              "      <th>golddiffat10</th>\n",
              "      <th>xpdiffat10</th>\n",
              "      <th>csdiffat10</th>\n",
              "      <th>goldat15</th>\n",
              "      <th>xpat15</th>\n",
              "      <th>csat15</th>\n",
              "      <th>opp_goldat15</th>\n",
              "      <th>opp_xpat15</th>\n",
              "      <th>opp_csat15</th>\n",
              "      <th>golddiffat15</th>\n",
              "      <th>xpdiffat15</th>\n",
              "      <th>csdiffat15</th>\n",
              "    </tr>\n",
              "  </thead>\n",
              "  <tbody>\n",
              "    <tr>\n",
              "      <th>0</th>\n",
              "      <td>ESPORTSTMNT03/1241318</td>\n",
              "      <td>complete</td>\n",
              "      <td>http://matchhistory.na.leagueoflegends.com/en/...</td>\n",
              "      <td>KeSPA</td>\n",
              "      <td>2020</td>\n",
              "      <td>NaN</td>\n",
              "      <td>0</td>\n",
              "      <td>2020-01-03 07:33:26</td>\n",
              "      <td>1</td>\n",
              "      <td>9.24</td>\n",
              "      <td>1</td>\n",
              "      <td>Blue</td>\n",
              "      <td>top</td>\n",
              "      <td>Summit</td>\n",
              "      <td>SANDBOX Gaming</td>\n",
              "      <td>Rumble</td>\n",
              "      <td>LeBlanc</td>\n",
              "      <td>Irelia</td>\n",
              "      <td>Rek'Sai</td>\n",
              "      <td>Yasuo</td>\n",
              "      <td>Renekton</td>\n",
              "      <td>2220</td>\n",
              "      <td>1</td>\n",
              "      <td>0</td>\n",
              "      <td>3</td>\n",
              "      <td>7</td>\n",
              "      <td>17</td>\n",
              "      <td>11</td>\n",
              "      <td>0.0</td>\n",
              "      <td>0.0</td>\n",
              "      <td>0.0</td>\n",
              "      <td>0.0</td>\n",
              "      <td>0.0</td>\n",
              "      <td>0.0</td>\n",
              "      <td>0.0</td>\n",
              "      <td>0.0</td>\n",
              "      <td>0.4595</td>\n",
              "      <td>0.7568</td>\n",
              "      <td>NaN</td>\n",
              "      <td>NaN</td>\n",
              "      <td>...</td>\n",
              "      <td>0.198651</td>\n",
              "      <td>464.6216</td>\n",
              "      <td>488.2162</td>\n",
              "      <td>23</td>\n",
              "      <td>0.6216</td>\n",
              "      <td>3</td>\n",
              "      <td>0.0811</td>\n",
              "      <td>10</td>\n",
              "      <td>35.0</td>\n",
              "      <td>0.9459</td>\n",
              "      <td>13302</td>\n",
              "      <td>8498</td>\n",
              "      <td>229.6757</td>\n",
              "      <td>0.189235</td>\n",
              "      <td>11350.0</td>\n",
              "      <td>NaN</td>\n",
              "      <td>285.0</td>\n",
              "      <td>276.0</td>\n",
              "      <td>9</td>\n",
              "      <td>5</td>\n",
              "      <td>0</td>\n",
              "      <td>7.7027</td>\n",
              "      <td>3348.0</td>\n",
              "      <td>4864.0</td>\n",
              "      <td>88.0</td>\n",
              "      <td>2845.0</td>\n",
              "      <td>4432.0</td>\n",
              "      <td>65.0</td>\n",
              "      <td>503.0</td>\n",
              "      <td>432.0</td>\n",
              "      <td>23.0</td>\n",
              "      <td>4888.0</td>\n",
              "      <td>7368.0</td>\n",
              "      <td>131.0</td>\n",
              "      <td>4723.0</td>\n",
              "      <td>7202.0</td>\n",
              "      <td>118.0</td>\n",
              "      <td>165.0</td>\n",
              "      <td>166.0</td>\n",
              "      <td>13.0</td>\n",
              "    </tr>\n",
              "    <tr>\n",
              "      <th>1</th>\n",
              "      <td>ESPORTSTMNT03/1241318</td>\n",
              "      <td>complete</td>\n",
              "      <td>http://matchhistory.na.leagueoflegends.com/en/...</td>\n",
              "      <td>KeSPA</td>\n",
              "      <td>2020</td>\n",
              "      <td>NaN</td>\n",
              "      <td>0</td>\n",
              "      <td>2020-01-03 07:33:26</td>\n",
              "      <td>1</td>\n",
              "      <td>9.24</td>\n",
              "      <td>2</td>\n",
              "      <td>Blue</td>\n",
              "      <td>jng</td>\n",
              "      <td>OnFleek</td>\n",
              "      <td>SANDBOX Gaming</td>\n",
              "      <td>Elise</td>\n",
              "      <td>LeBlanc</td>\n",
              "      <td>Irelia</td>\n",
              "      <td>Rek'Sai</td>\n",
              "      <td>Yasuo</td>\n",
              "      <td>Renekton</td>\n",
              "      <td>2220</td>\n",
              "      <td>1</td>\n",
              "      <td>4</td>\n",
              "      <td>0</td>\n",
              "      <td>9</td>\n",
              "      <td>17</td>\n",
              "      <td>11</td>\n",
              "      <td>1.0</td>\n",
              "      <td>0.0</td>\n",
              "      <td>0.0</td>\n",
              "      <td>0.0</td>\n",
              "      <td>0.0</td>\n",
              "      <td>0.0</td>\n",
              "      <td>0.0</td>\n",
              "      <td>0.0</td>\n",
              "      <td>0.4595</td>\n",
              "      <td>0.7568</td>\n",
              "      <td>NaN</td>\n",
              "      <td>NaN</td>\n",
              "      <td>...</td>\n",
              "      <td>0.145393</td>\n",
              "      <td>541.0541</td>\n",
              "      <td>289.1351</td>\n",
              "      <td>47</td>\n",
              "      <td>1.2703</td>\n",
              "      <td>26</td>\n",
              "      <td>0.7027</td>\n",
              "      <td>17</td>\n",
              "      <td>102.0</td>\n",
              "      <td>2.7568</td>\n",
              "      <td>13484</td>\n",
              "      <td>8680</td>\n",
              "      <td>234.5946</td>\n",
              "      <td>0.193288</td>\n",
              "      <td>12175.0</td>\n",
              "      <td>NaN</td>\n",
              "      <td>210.0</td>\n",
              "      <td>40.0</td>\n",
              "      <td>170</td>\n",
              "      <td>130</td>\n",
              "      <td>0</td>\n",
              "      <td>5.6757</td>\n",
              "      <td>2895.0</td>\n",
              "      <td>2887.0</td>\n",
              "      <td>57.0</td>\n",
              "      <td>3093.0</td>\n",
              "      <td>3010.0</td>\n",
              "      <td>67.0</td>\n",
              "      <td>-198.0</td>\n",
              "      <td>-123.0</td>\n",
              "      <td>-10.0</td>\n",
              "      <td>4385.0</td>\n",
              "      <td>4817.0</td>\n",
              "      <td>91.0</td>\n",
              "      <td>4784.0</td>\n",
              "      <td>4667.0</td>\n",
              "      <td>98.0</td>\n",
              "      <td>-399.0</td>\n",
              "      <td>150.0</td>\n",
              "      <td>-7.0</td>\n",
              "    </tr>\n",
              "    <tr>\n",
              "      <th>2</th>\n",
              "      <td>ESPORTSTMNT03/1241318</td>\n",
              "      <td>complete</td>\n",
              "      <td>http://matchhistory.na.leagueoflegends.com/en/...</td>\n",
              "      <td>KeSPA</td>\n",
              "      <td>2020</td>\n",
              "      <td>NaN</td>\n",
              "      <td>0</td>\n",
              "      <td>2020-01-03 07:33:26</td>\n",
              "      <td>1</td>\n",
              "      <td>9.24</td>\n",
              "      <td>3</td>\n",
              "      <td>Blue</td>\n",
              "      <td>mid</td>\n",
              "      <td>FATE</td>\n",
              "      <td>SANDBOX Gaming</td>\n",
              "      <td>Qiyana</td>\n",
              "      <td>LeBlanc</td>\n",
              "      <td>Irelia</td>\n",
              "      <td>Rek'Sai</td>\n",
              "      <td>Yasuo</td>\n",
              "      <td>Renekton</td>\n",
              "      <td>2220</td>\n",
              "      <td>1</td>\n",
              "      <td>5</td>\n",
              "      <td>2</td>\n",
              "      <td>5</td>\n",
              "      <td>17</td>\n",
              "      <td>11</td>\n",
              "      <td>0.0</td>\n",
              "      <td>0.0</td>\n",
              "      <td>0.0</td>\n",
              "      <td>0.0</td>\n",
              "      <td>0.0</td>\n",
              "      <td>0.0</td>\n",
              "      <td>0.0</td>\n",
              "      <td>1.0</td>\n",
              "      <td>0.4595</td>\n",
              "      <td>0.7568</td>\n",
              "      <td>NaN</td>\n",
              "      <td>NaN</td>\n",
              "      <td>...</td>\n",
              "      <td>0.223947</td>\n",
              "      <td>372.4865</td>\n",
              "      <td>243.2162</td>\n",
              "      <td>39</td>\n",
              "      <td>1.0541</td>\n",
              "      <td>32</td>\n",
              "      <td>0.8649</td>\n",
              "      <td>7</td>\n",
              "      <td>99.0</td>\n",
              "      <td>2.6757</td>\n",
              "      <td>15419</td>\n",
              "      <td>10615</td>\n",
              "      <td>286.8919</td>\n",
              "      <td>0.236379</td>\n",
              "      <td>14225.0</td>\n",
              "      <td>NaN</td>\n",
              "      <td>320.0</td>\n",
              "      <td>312.0</td>\n",
              "      <td>8</td>\n",
              "      <td>2</td>\n",
              "      <td>0</td>\n",
              "      <td>8.6486</td>\n",
              "      <td>3110.0</td>\n",
              "      <td>4153.0</td>\n",
              "      <td>80.0</td>\n",
              "      <td>3261.0</td>\n",
              "      <td>4861.0</td>\n",
              "      <td>89.0</td>\n",
              "      <td>-151.0</td>\n",
              "      <td>-708.0</td>\n",
              "      <td>-9.0</td>\n",
              "      <td>4809.0</td>\n",
              "      <td>6275.0</td>\n",
              "      <td>129.0</td>\n",
              "      <td>5218.0</td>\n",
              "      <td>8112.0</td>\n",
              "      <td>140.0</td>\n",
              "      <td>-409.0</td>\n",
              "      <td>-1837.0</td>\n",
              "      <td>-11.0</td>\n",
              "    </tr>\n",
              "    <tr>\n",
              "      <th>3</th>\n",
              "      <td>ESPORTSTMNT03/1241318</td>\n",
              "      <td>complete</td>\n",
              "      <td>http://matchhistory.na.leagueoflegends.com/en/...</td>\n",
              "      <td>KeSPA</td>\n",
              "      <td>2020</td>\n",
              "      <td>NaN</td>\n",
              "      <td>0</td>\n",
              "      <td>2020-01-03 07:33:26</td>\n",
              "      <td>1</td>\n",
              "      <td>9.24</td>\n",
              "      <td>4</td>\n",
              "      <td>Blue</td>\n",
              "      <td>bot</td>\n",
              "      <td>Leo</td>\n",
              "      <td>SANDBOX Gaming</td>\n",
              "      <td>Miss Fortune</td>\n",
              "      <td>LeBlanc</td>\n",
              "      <td>Irelia</td>\n",
              "      <td>Rek'Sai</td>\n",
              "      <td>Yasuo</td>\n",
              "      <td>Renekton</td>\n",
              "      <td>2220</td>\n",
              "      <td>1</td>\n",
              "      <td>7</td>\n",
              "      <td>1</td>\n",
              "      <td>9</td>\n",
              "      <td>17</td>\n",
              "      <td>11</td>\n",
              "      <td>2.0</td>\n",
              "      <td>0.0</td>\n",
              "      <td>0.0</td>\n",
              "      <td>0.0</td>\n",
              "      <td>0.0</td>\n",
              "      <td>0.0</td>\n",
              "      <td>0.0</td>\n",
              "      <td>0.0</td>\n",
              "      <td>0.4595</td>\n",
              "      <td>0.7568</td>\n",
              "      <td>NaN</td>\n",
              "      <td>NaN</td>\n",
              "      <td>...</td>\n",
              "      <td>0.378712</td>\n",
              "      <td>245.6216</td>\n",
              "      <td>657.4595</td>\n",
              "      <td>20</td>\n",
              "      <td>0.5405</td>\n",
              "      <td>30</td>\n",
              "      <td>0.8108</td>\n",
              "      <td>8</td>\n",
              "      <td>66.0</td>\n",
              "      <td>1.7838</td>\n",
              "      <td>18883</td>\n",
              "      <td>14079</td>\n",
              "      <td>380.5135</td>\n",
              "      <td>0.313520</td>\n",
              "      <td>16500.0</td>\n",
              "      <td>NaN</td>\n",
              "      <td>420.0</td>\n",
              "      <td>391.0</td>\n",
              "      <td>29</td>\n",
              "      <td>29</td>\n",
              "      <td>0</td>\n",
              "      <td>11.3514</td>\n",
              "      <td>3297.0</td>\n",
              "      <td>3233.0</td>\n",
              "      <td>93.0</td>\n",
              "      <td>3300.0</td>\n",
              "      <td>3250.0</td>\n",
              "      <td>90.0</td>\n",
              "      <td>-3.0</td>\n",
              "      <td>-17.0</td>\n",
              "      <td>3.0</td>\n",
              "      <td>4915.0</td>\n",
              "      <td>4959.0</td>\n",
              "      <td>136.0</td>\n",
              "      <td>4864.0</td>\n",
              "      <td>5360.0</td>\n",
              "      <td>135.0</td>\n",
              "      <td>51.0</td>\n",
              "      <td>-401.0</td>\n",
              "      <td>1.0</td>\n",
              "    </tr>\n",
              "    <tr>\n",
              "      <th>4</th>\n",
              "      <td>ESPORTSTMNT03/1241318</td>\n",
              "      <td>complete</td>\n",
              "      <td>http://matchhistory.na.leagueoflegends.com/en/...</td>\n",
              "      <td>KeSPA</td>\n",
              "      <td>2020</td>\n",
              "      <td>NaN</td>\n",
              "      <td>0</td>\n",
              "      <td>2020-01-03 07:33:26</td>\n",
              "      <td>1</td>\n",
              "      <td>9.24</td>\n",
              "      <td>5</td>\n",
              "      <td>Blue</td>\n",
              "      <td>sup</td>\n",
              "      <td>GorillA</td>\n",
              "      <td>SANDBOX Gaming</td>\n",
              "      <td>Nautilus</td>\n",
              "      <td>LeBlanc</td>\n",
              "      <td>Irelia</td>\n",
              "      <td>Rek'Sai</td>\n",
              "      <td>Yasuo</td>\n",
              "      <td>Renekton</td>\n",
              "      <td>2220</td>\n",
              "      <td>1</td>\n",
              "      <td>1</td>\n",
              "      <td>5</td>\n",
              "      <td>3</td>\n",
              "      <td>17</td>\n",
              "      <td>11</td>\n",
              "      <td>0.0</td>\n",
              "      <td>0.0</td>\n",
              "      <td>0.0</td>\n",
              "      <td>0.0</td>\n",
              "      <td>0.0</td>\n",
              "      <td>0.0</td>\n",
              "      <td>0.0</td>\n",
              "      <td>0.0</td>\n",
              "      <td>0.4595</td>\n",
              "      <td>0.7568</td>\n",
              "      <td>NaN</td>\n",
              "      <td>NaN</td>\n",
              "      <td>...</td>\n",
              "      <td>0.053296</td>\n",
              "      <td>351.5405</td>\n",
              "      <td>624.4324</td>\n",
              "      <td>62</td>\n",
              "      <td>1.6757</td>\n",
              "      <td>6</td>\n",
              "      <td>0.1622</td>\n",
              "      <td>25</td>\n",
              "      <td>78.0</td>\n",
              "      <td>2.1081</td>\n",
              "      <td>7839</td>\n",
              "      <td>3035</td>\n",
              "      <td>82.0270</td>\n",
              "      <td>0.067578</td>\n",
              "      <td>8025.0</td>\n",
              "      <td>NaN</td>\n",
              "      <td>30.0</td>\n",
              "      <td>30.0</td>\n",
              "      <td>0</td>\n",
              "      <td>0</td>\n",
              "      <td>0</td>\n",
              "      <td>0.8108</td>\n",
              "      <td>1965.0</td>\n",
              "      <td>2708.0</td>\n",
              "      <td>12.0</td>\n",
              "      <td>1999.0</td>\n",
              "      <td>2429.0</td>\n",
              "      <td>11.0</td>\n",
              "      <td>-34.0</td>\n",
              "      <td>279.0</td>\n",
              "      <td>1.0</td>\n",
              "      <td>2956.0</td>\n",
              "      <td>3800.0</td>\n",
              "      <td>20.0</td>\n",
              "      <td>3189.0</td>\n",
              "      <td>3543.0</td>\n",
              "      <td>28.0</td>\n",
              "      <td>-233.0</td>\n",
              "      <td>257.0</td>\n",
              "      <td>-8.0</td>\n",
              "    </tr>\n",
              "  </tbody>\n",
              "</table>\n",
              "<p>5 rows × 105 columns</p>\n",
              "</div>"
            ],
            "text/plain": [
              "                  gameid datacompleteness  ... xpdiffat15 csdiffat15\n",
              "0  ESPORTSTMNT03/1241318         complete  ...      166.0       13.0\n",
              "1  ESPORTSTMNT03/1241318         complete  ...      150.0       -7.0\n",
              "2  ESPORTSTMNT03/1241318         complete  ...    -1837.0      -11.0\n",
              "3  ESPORTSTMNT03/1241318         complete  ...     -401.0        1.0\n",
              "4  ESPORTSTMNT03/1241318         complete  ...      257.0       -8.0\n",
              "\n",
              "[5 rows x 105 columns]"
            ]
          },
          "metadata": {
            "tags": []
          },
          "execution_count": 2
        }
      ]
    },
    {
      "cell_type": "markdown",
      "metadata": {
        "id": "GBqQTSVhL8I8"
      },
      "source": [
        "Primero que nada vamos a eliminar todos los campos irrelevantes para el análisis y los que nos den información demasiado especifica de partida:"
      ]
    },
    {
      "cell_type": "code",
      "metadata": {
        "colab": {
          "base_uri": "https://localhost:8080/",
          "height": 400
        },
        "id": "mo7m59NUKbqh",
        "outputId": "05bbe5b0-bf52-49b6-fa86-c44f5bcc5eb2"
      },
      "source": [
        "games = all_games.drop(columns=[\"gameid\",\"datacompleteness\",\"url\",\"playerid\",\"game\",\"playoffs\",\"ban1\",\"ban2\",\"ban3\",\"ban4\",\"ban5\",\"split\"])\r\n",
        "games = games.drop(columns=[\"doublekills\",\"triplekills\",\"quadrakills\",\"pentakills\",\"firstblood\",\"firstbloodkill\",\"firstbloodassist\",\"firstbloodvictim\",\"team kpm\",\r\n",
        "                                    \"ckpm\",\"firstdragon\",\"opp_dragons\",\"elementaldrakes\",\"opp_elementaldrakes\",\"infernals\",\"mountains\",\"clouds\",\"oceans\",\"dragons (type unknown)\",\r\n",
        "                                    \"elders\",\"opp_elders\",\"firstherald\",\"opp_heralds\",\"firstbaron\",\"opp_barons\",\"firsttower\",\"opp_towers\",\"firstmidtower\",\"firsttothreetowers\",\r\n",
        "                                    \"opp_inhibitors\",\"controlwardsbought\",\"earnedgold\",\"goldspent\",\"gspd\",\"minionkills\",\"monsterkills\",\"monsterkillsownjungle\",\r\n",
        "                                    \"monsterkillsenemyjungle\",\"goldat10\",\"xpat10\",\"csat10\",\"opp_goldat10\",\"opp_xpat10\",\"opp_csat10\",\"golddiffat10\",\"xpdiffat10\",\"csdiffat10\",\"goldat15\",\r\n",
        "                                    \"xpat15\",\"csat15\",\"opp_goldat15\",\"opp_xpat15\",\"opp_csat15\",\"golddiffat15\",\"xpdiffat15\",\"csdiffat15\",\"damagemitigatedperminute\",\r\n",
        "                                    \"wcpm\",\"damagetakenperminute\",\"dragons\",\"heralds\",\"barons\",\"towers\",\"inhibitors\"])\r\n",
        "games.head(5)"
      ],
      "execution_count": null,
      "outputs": [
        {
          "output_type": "execute_result",
          "data": {
            "text/html": [
              "<div>\n",
              "<style scoped>\n",
              "    .dataframe tbody tr th:only-of-type {\n",
              "        vertical-align: middle;\n",
              "    }\n",
              "\n",
              "    .dataframe tbody tr th {\n",
              "        vertical-align: top;\n",
              "    }\n",
              "\n",
              "    .dataframe thead th {\n",
              "        text-align: right;\n",
              "    }\n",
              "</style>\n",
              "<table border=\"1\" class=\"dataframe\">\n",
              "  <thead>\n",
              "    <tr style=\"text-align: right;\">\n",
              "      <th></th>\n",
              "      <th>league</th>\n",
              "      <th>year</th>\n",
              "      <th>date</th>\n",
              "      <th>patch</th>\n",
              "      <th>side</th>\n",
              "      <th>position</th>\n",
              "      <th>player</th>\n",
              "      <th>team</th>\n",
              "      <th>champion</th>\n",
              "      <th>gamelength</th>\n",
              "      <th>result</th>\n",
              "      <th>kills</th>\n",
              "      <th>deaths</th>\n",
              "      <th>assists</th>\n",
              "      <th>teamkills</th>\n",
              "      <th>teamdeaths</th>\n",
              "      <th>damagetochampions</th>\n",
              "      <th>dpm</th>\n",
              "      <th>damageshare</th>\n",
              "      <th>wardsplaced</th>\n",
              "      <th>wpm</th>\n",
              "      <th>wardskilled</th>\n",
              "      <th>visionscore</th>\n",
              "      <th>vspm</th>\n",
              "      <th>totalgold</th>\n",
              "      <th>earned gpm</th>\n",
              "      <th>earnedgoldshare</th>\n",
              "      <th>total cs</th>\n",
              "      <th>cspm</th>\n",
              "    </tr>\n",
              "  </thead>\n",
              "  <tbody>\n",
              "    <tr>\n",
              "      <th>0</th>\n",
              "      <td>KeSPA</td>\n",
              "      <td>2020</td>\n",
              "      <td>2020-01-03 07:33:26</td>\n",
              "      <td>9.24</td>\n",
              "      <td>Blue</td>\n",
              "      <td>top</td>\n",
              "      <td>Summit</td>\n",
              "      <td>SANDBOX Gaming</td>\n",
              "      <td>Rumble</td>\n",
              "      <td>2220</td>\n",
              "      <td>1</td>\n",
              "      <td>0</td>\n",
              "      <td>3</td>\n",
              "      <td>7</td>\n",
              "      <td>17</td>\n",
              "      <td>11</td>\n",
              "      <td>15431</td>\n",
              "      <td>417.0541</td>\n",
              "      <td>0.198651</td>\n",
              "      <td>23</td>\n",
              "      <td>0.6216</td>\n",
              "      <td>3</td>\n",
              "      <td>35.0</td>\n",
              "      <td>0.9459</td>\n",
              "      <td>13302</td>\n",
              "      <td>229.6757</td>\n",
              "      <td>0.189235</td>\n",
              "      <td>285.0</td>\n",
              "      <td>7.7027</td>\n",
              "    </tr>\n",
              "    <tr>\n",
              "      <th>1</th>\n",
              "      <td>KeSPA</td>\n",
              "      <td>2020</td>\n",
              "      <td>2020-01-03 07:33:26</td>\n",
              "      <td>9.24</td>\n",
              "      <td>Blue</td>\n",
              "      <td>jng</td>\n",
              "      <td>OnFleek</td>\n",
              "      <td>SANDBOX Gaming</td>\n",
              "      <td>Elise</td>\n",
              "      <td>2220</td>\n",
              "      <td>1</td>\n",
              "      <td>4</td>\n",
              "      <td>0</td>\n",
              "      <td>9</td>\n",
              "      <td>17</td>\n",
              "      <td>11</td>\n",
              "      <td>11294</td>\n",
              "      <td>305.2432</td>\n",
              "      <td>0.145393</td>\n",
              "      <td>47</td>\n",
              "      <td>1.2703</td>\n",
              "      <td>26</td>\n",
              "      <td>102.0</td>\n",
              "      <td>2.7568</td>\n",
              "      <td>13484</td>\n",
              "      <td>234.5946</td>\n",
              "      <td>0.193288</td>\n",
              "      <td>210.0</td>\n",
              "      <td>5.6757</td>\n",
              "    </tr>\n",
              "    <tr>\n",
              "      <th>2</th>\n",
              "      <td>KeSPA</td>\n",
              "      <td>2020</td>\n",
              "      <td>2020-01-03 07:33:26</td>\n",
              "      <td>9.24</td>\n",
              "      <td>Blue</td>\n",
              "      <td>mid</td>\n",
              "      <td>FATE</td>\n",
              "      <td>SANDBOX Gaming</td>\n",
              "      <td>Qiyana</td>\n",
              "      <td>2220</td>\n",
              "      <td>1</td>\n",
              "      <td>5</td>\n",
              "      <td>2</td>\n",
              "      <td>5</td>\n",
              "      <td>17</td>\n",
              "      <td>11</td>\n",
              "      <td>17396</td>\n",
              "      <td>470.1622</td>\n",
              "      <td>0.223947</td>\n",
              "      <td>39</td>\n",
              "      <td>1.0541</td>\n",
              "      <td>32</td>\n",
              "      <td>99.0</td>\n",
              "      <td>2.6757</td>\n",
              "      <td>15419</td>\n",
              "      <td>286.8919</td>\n",
              "      <td>0.236379</td>\n",
              "      <td>320.0</td>\n",
              "      <td>8.6486</td>\n",
              "    </tr>\n",
              "    <tr>\n",
              "      <th>3</th>\n",
              "      <td>KeSPA</td>\n",
              "      <td>2020</td>\n",
              "      <td>2020-01-03 07:33:26</td>\n",
              "      <td>9.24</td>\n",
              "      <td>Blue</td>\n",
              "      <td>bot</td>\n",
              "      <td>Leo</td>\n",
              "      <td>SANDBOX Gaming</td>\n",
              "      <td>Miss Fortune</td>\n",
              "      <td>2220</td>\n",
              "      <td>1</td>\n",
              "      <td>7</td>\n",
              "      <td>1</td>\n",
              "      <td>9</td>\n",
              "      <td>17</td>\n",
              "      <td>11</td>\n",
              "      <td>29418</td>\n",
              "      <td>795.0811</td>\n",
              "      <td>0.378712</td>\n",
              "      <td>20</td>\n",
              "      <td>0.5405</td>\n",
              "      <td>30</td>\n",
              "      <td>66.0</td>\n",
              "      <td>1.7838</td>\n",
              "      <td>18883</td>\n",
              "      <td>380.5135</td>\n",
              "      <td>0.313520</td>\n",
              "      <td>420.0</td>\n",
              "      <td>11.3514</td>\n",
              "    </tr>\n",
              "    <tr>\n",
              "      <th>4</th>\n",
              "      <td>KeSPA</td>\n",
              "      <td>2020</td>\n",
              "      <td>2020-01-03 07:33:26</td>\n",
              "      <td>9.24</td>\n",
              "      <td>Blue</td>\n",
              "      <td>sup</td>\n",
              "      <td>GorillA</td>\n",
              "      <td>SANDBOX Gaming</td>\n",
              "      <td>Nautilus</td>\n",
              "      <td>2220</td>\n",
              "      <td>1</td>\n",
              "      <td>1</td>\n",
              "      <td>5</td>\n",
              "      <td>3</td>\n",
              "      <td>17</td>\n",
              "      <td>11</td>\n",
              "      <td>4140</td>\n",
              "      <td>111.8919</td>\n",
              "      <td>0.053296</td>\n",
              "      <td>62</td>\n",
              "      <td>1.6757</td>\n",
              "      <td>6</td>\n",
              "      <td>78.0</td>\n",
              "      <td>2.1081</td>\n",
              "      <td>7839</td>\n",
              "      <td>82.0270</td>\n",
              "      <td>0.067578</td>\n",
              "      <td>30.0</td>\n",
              "      <td>0.8108</td>\n",
              "    </tr>\n",
              "  </tbody>\n",
              "</table>\n",
              "</div>"
            ],
            "text/plain": [
              "  league  year                 date  ...  earnedgoldshare total cs     cspm\n",
              "0  KeSPA  2020  2020-01-03 07:33:26  ...         0.189235    285.0   7.7027\n",
              "1  KeSPA  2020  2020-01-03 07:33:26  ...         0.193288    210.0   5.6757\n",
              "2  KeSPA  2020  2020-01-03 07:33:26  ...         0.236379    320.0   8.6486\n",
              "3  KeSPA  2020  2020-01-03 07:33:26  ...         0.313520    420.0  11.3514\n",
              "4  KeSPA  2020  2020-01-03 07:33:26  ...         0.067578     30.0   0.8108\n",
              "\n",
              "[5 rows x 29 columns]"
            ]
          },
          "metadata": {
            "tags": []
          },
          "execution_count": 3
        }
      ]
    },
    {
      "cell_type": "markdown",
      "metadata": {
        "id": "-Eej1RA5Pdma"
      },
      "source": [
        "Despues de limpiar los campos con los que no vamos a trabajar, eliminaremos las partidas a las que les falte información y las que no formen parte de las ligas que vamos a analizar (ademas de añadir las partidas de las ligas no regulares a sus respectivas ligas):"
      ]
    },
    {
      "cell_type": "code",
      "metadata": {
        "colab": {
          "base_uri": "https://localhost:8080/",
          "height": 400
        },
        "id": "lxAuM2HZQFSM",
        "outputId": "5fd68e7e-d250-46de-b51e-57139aca6233"
      },
      "source": [
        "games = games.dropna()\r\n",
        "# filtrado\r\n",
        "main_leagues = ['KeSPA', 'LPL', 'LEC', 'LCS', 'LCK']\r\n",
        "games = games[ games['league'].isin(main_leagues)]\r\n",
        "# agrupamos datos de ligas\r\n",
        "games.loc[games['league'] == \"KeSPA\", 'league'] = \"LCK\"\r\n",
        "\r\n",
        "games.head(5)"
      ],
      "execution_count": null,
      "outputs": [
        {
          "output_type": "execute_result",
          "data": {
            "text/html": [
              "<div>\n",
              "<style scoped>\n",
              "    .dataframe tbody tr th:only-of-type {\n",
              "        vertical-align: middle;\n",
              "    }\n",
              "\n",
              "    .dataframe tbody tr th {\n",
              "        vertical-align: top;\n",
              "    }\n",
              "\n",
              "    .dataframe thead th {\n",
              "        text-align: right;\n",
              "    }\n",
              "</style>\n",
              "<table border=\"1\" class=\"dataframe\">\n",
              "  <thead>\n",
              "    <tr style=\"text-align: right;\">\n",
              "      <th></th>\n",
              "      <th>league</th>\n",
              "      <th>year</th>\n",
              "      <th>date</th>\n",
              "      <th>patch</th>\n",
              "      <th>side</th>\n",
              "      <th>position</th>\n",
              "      <th>player</th>\n",
              "      <th>team</th>\n",
              "      <th>champion</th>\n",
              "      <th>gamelength</th>\n",
              "      <th>result</th>\n",
              "      <th>kills</th>\n",
              "      <th>deaths</th>\n",
              "      <th>assists</th>\n",
              "      <th>teamkills</th>\n",
              "      <th>teamdeaths</th>\n",
              "      <th>damagetochampions</th>\n",
              "      <th>dpm</th>\n",
              "      <th>damageshare</th>\n",
              "      <th>wardsplaced</th>\n",
              "      <th>wpm</th>\n",
              "      <th>wardskilled</th>\n",
              "      <th>visionscore</th>\n",
              "      <th>vspm</th>\n",
              "      <th>totalgold</th>\n",
              "      <th>earned gpm</th>\n",
              "      <th>earnedgoldshare</th>\n",
              "      <th>total cs</th>\n",
              "      <th>cspm</th>\n",
              "    </tr>\n",
              "  </thead>\n",
              "  <tbody>\n",
              "    <tr>\n",
              "      <th>0</th>\n",
              "      <td>LCK</td>\n",
              "      <td>2020</td>\n",
              "      <td>2020-01-03 07:33:26</td>\n",
              "      <td>9.24</td>\n",
              "      <td>Blue</td>\n",
              "      <td>top</td>\n",
              "      <td>Summit</td>\n",
              "      <td>SANDBOX Gaming</td>\n",
              "      <td>Rumble</td>\n",
              "      <td>2220</td>\n",
              "      <td>1</td>\n",
              "      <td>0</td>\n",
              "      <td>3</td>\n",
              "      <td>7</td>\n",
              "      <td>17</td>\n",
              "      <td>11</td>\n",
              "      <td>15431</td>\n",
              "      <td>417.0541</td>\n",
              "      <td>0.198651</td>\n",
              "      <td>23</td>\n",
              "      <td>0.6216</td>\n",
              "      <td>3</td>\n",
              "      <td>35.0</td>\n",
              "      <td>0.9459</td>\n",
              "      <td>13302</td>\n",
              "      <td>229.6757</td>\n",
              "      <td>0.189235</td>\n",
              "      <td>285.0</td>\n",
              "      <td>7.7027</td>\n",
              "    </tr>\n",
              "    <tr>\n",
              "      <th>1</th>\n",
              "      <td>LCK</td>\n",
              "      <td>2020</td>\n",
              "      <td>2020-01-03 07:33:26</td>\n",
              "      <td>9.24</td>\n",
              "      <td>Blue</td>\n",
              "      <td>jng</td>\n",
              "      <td>OnFleek</td>\n",
              "      <td>SANDBOX Gaming</td>\n",
              "      <td>Elise</td>\n",
              "      <td>2220</td>\n",
              "      <td>1</td>\n",
              "      <td>4</td>\n",
              "      <td>0</td>\n",
              "      <td>9</td>\n",
              "      <td>17</td>\n",
              "      <td>11</td>\n",
              "      <td>11294</td>\n",
              "      <td>305.2432</td>\n",
              "      <td>0.145393</td>\n",
              "      <td>47</td>\n",
              "      <td>1.2703</td>\n",
              "      <td>26</td>\n",
              "      <td>102.0</td>\n",
              "      <td>2.7568</td>\n",
              "      <td>13484</td>\n",
              "      <td>234.5946</td>\n",
              "      <td>0.193288</td>\n",
              "      <td>210.0</td>\n",
              "      <td>5.6757</td>\n",
              "    </tr>\n",
              "    <tr>\n",
              "      <th>2</th>\n",
              "      <td>LCK</td>\n",
              "      <td>2020</td>\n",
              "      <td>2020-01-03 07:33:26</td>\n",
              "      <td>9.24</td>\n",
              "      <td>Blue</td>\n",
              "      <td>mid</td>\n",
              "      <td>FATE</td>\n",
              "      <td>SANDBOX Gaming</td>\n",
              "      <td>Qiyana</td>\n",
              "      <td>2220</td>\n",
              "      <td>1</td>\n",
              "      <td>5</td>\n",
              "      <td>2</td>\n",
              "      <td>5</td>\n",
              "      <td>17</td>\n",
              "      <td>11</td>\n",
              "      <td>17396</td>\n",
              "      <td>470.1622</td>\n",
              "      <td>0.223947</td>\n",
              "      <td>39</td>\n",
              "      <td>1.0541</td>\n",
              "      <td>32</td>\n",
              "      <td>99.0</td>\n",
              "      <td>2.6757</td>\n",
              "      <td>15419</td>\n",
              "      <td>286.8919</td>\n",
              "      <td>0.236379</td>\n",
              "      <td>320.0</td>\n",
              "      <td>8.6486</td>\n",
              "    </tr>\n",
              "    <tr>\n",
              "      <th>3</th>\n",
              "      <td>LCK</td>\n",
              "      <td>2020</td>\n",
              "      <td>2020-01-03 07:33:26</td>\n",
              "      <td>9.24</td>\n",
              "      <td>Blue</td>\n",
              "      <td>bot</td>\n",
              "      <td>Leo</td>\n",
              "      <td>SANDBOX Gaming</td>\n",
              "      <td>Miss Fortune</td>\n",
              "      <td>2220</td>\n",
              "      <td>1</td>\n",
              "      <td>7</td>\n",
              "      <td>1</td>\n",
              "      <td>9</td>\n",
              "      <td>17</td>\n",
              "      <td>11</td>\n",
              "      <td>29418</td>\n",
              "      <td>795.0811</td>\n",
              "      <td>0.378712</td>\n",
              "      <td>20</td>\n",
              "      <td>0.5405</td>\n",
              "      <td>30</td>\n",
              "      <td>66.0</td>\n",
              "      <td>1.7838</td>\n",
              "      <td>18883</td>\n",
              "      <td>380.5135</td>\n",
              "      <td>0.313520</td>\n",
              "      <td>420.0</td>\n",
              "      <td>11.3514</td>\n",
              "    </tr>\n",
              "    <tr>\n",
              "      <th>4</th>\n",
              "      <td>LCK</td>\n",
              "      <td>2020</td>\n",
              "      <td>2020-01-03 07:33:26</td>\n",
              "      <td>9.24</td>\n",
              "      <td>Blue</td>\n",
              "      <td>sup</td>\n",
              "      <td>GorillA</td>\n",
              "      <td>SANDBOX Gaming</td>\n",
              "      <td>Nautilus</td>\n",
              "      <td>2220</td>\n",
              "      <td>1</td>\n",
              "      <td>1</td>\n",
              "      <td>5</td>\n",
              "      <td>3</td>\n",
              "      <td>17</td>\n",
              "      <td>11</td>\n",
              "      <td>4140</td>\n",
              "      <td>111.8919</td>\n",
              "      <td>0.053296</td>\n",
              "      <td>62</td>\n",
              "      <td>1.6757</td>\n",
              "      <td>6</td>\n",
              "      <td>78.0</td>\n",
              "      <td>2.1081</td>\n",
              "      <td>7839</td>\n",
              "      <td>82.0270</td>\n",
              "      <td>0.067578</td>\n",
              "      <td>30.0</td>\n",
              "      <td>0.8108</td>\n",
              "    </tr>\n",
              "  </tbody>\n",
              "</table>\n",
              "</div>"
            ],
            "text/plain": [
              "  league  year                 date  ...  earnedgoldshare total cs     cspm\n",
              "0    LCK  2020  2020-01-03 07:33:26  ...         0.189235    285.0   7.7027\n",
              "1    LCK  2020  2020-01-03 07:33:26  ...         0.193288    210.0   5.6757\n",
              "2    LCK  2020  2020-01-03 07:33:26  ...         0.236379    320.0   8.6486\n",
              "3    LCK  2020  2020-01-03 07:33:26  ...         0.313520    420.0  11.3514\n",
              "4    LCK  2020  2020-01-03 07:33:26  ...         0.067578     30.0   0.8108\n",
              "\n",
              "[5 rows x 29 columns]"
            ]
          },
          "metadata": {
            "tags": []
          },
          "execution_count": 4
        }
      ]
    },
    {
      "cell_type": "markdown",
      "metadata": {
        "id": "58ss_eYkUVQD"
      },
      "source": [
        "Por último, como el tamaño de los datos es demasiado grande, vamos a hacer un muestreo estratificado aleatorio para obtener un total de 1000 muestras con las que trabajar."
      ]
    },
    {
      "cell_type": "code",
      "metadata": {
        "colab": {
          "base_uri": "https://localhost:8080/"
        },
        "id": "PI6ec4KFUiXR",
        "outputId": "e9749892-605f-477b-95d7-aef66807a9c4"
      },
      "source": [
        "games_sample = games.groupby('league', group_keys=False).apply(lambda x: x.sample(int(np.rint(1000*len(x)/len(games))))).sample(frac=1).reset_index(drop=True)\r\n",
        "games_sample.shape"
      ],
      "execution_count": null,
      "outputs": [
        {
          "output_type": "execute_result",
          "data": {
            "text/plain": [
              "(1001, 29)"
            ]
          },
          "metadata": {
            "tags": []
          },
          "execution_count": 5
        }
      ]
    },
    {
      "cell_type": "code",
      "metadata": {
        "colab": {
          "base_uri": "https://localhost:8080/"
        },
        "id": "CWYuEolHbEp5",
        "outputId": "91850654-297d-4185-9491-501f5dd68bcd"
      },
      "source": [
        "print(\"LEC games -> \" , games_sample[(games_sample['league'] == \"LEC\")]['league'].count())\r\n",
        "print(\"LCK games -> \" , games_sample[(games_sample['league'] == \"LCK\")]['league'].count())\r\n",
        "print(\"LPL games -> \" , games_sample[(games_sample['league'] == \"LPL\")]['league'].count())\r\n",
        "print(\"LCS games -> \" , games_sample[(games_sample['league'] == \"LCS\")]['league'].count())"
      ],
      "execution_count": null,
      "outputs": [
        {
          "output_type": "stream",
          "text": [
            "LEC games ->  141\n",
            "LCK games ->  282\n",
            "LPL games ->  424\n",
            "LCS games ->  154\n"
          ],
          "name": "stdout"
        }
      ]
    },
    {
      "cell_type": "code",
      "metadata": {
        "colab": {
          "base_uri": "https://localhost:8080/",
          "height": 400
        },
        "id": "vmlT8EuMgD88",
        "outputId": "b1739048-3893-4933-8175-d055d689b352"
      },
      "source": [
        "games_sample.head(5)"
      ],
      "execution_count": null,
      "outputs": [
        {
          "output_type": "execute_result",
          "data": {
            "text/html": [
              "<div>\n",
              "<style scoped>\n",
              "    .dataframe tbody tr th:only-of-type {\n",
              "        vertical-align: middle;\n",
              "    }\n",
              "\n",
              "    .dataframe tbody tr th {\n",
              "        vertical-align: top;\n",
              "    }\n",
              "\n",
              "    .dataframe thead th {\n",
              "        text-align: right;\n",
              "    }\n",
              "</style>\n",
              "<table border=\"1\" class=\"dataframe\">\n",
              "  <thead>\n",
              "    <tr style=\"text-align: right;\">\n",
              "      <th></th>\n",
              "      <th>league</th>\n",
              "      <th>year</th>\n",
              "      <th>date</th>\n",
              "      <th>patch</th>\n",
              "      <th>side</th>\n",
              "      <th>position</th>\n",
              "      <th>player</th>\n",
              "      <th>team</th>\n",
              "      <th>champion</th>\n",
              "      <th>gamelength</th>\n",
              "      <th>result</th>\n",
              "      <th>kills</th>\n",
              "      <th>deaths</th>\n",
              "      <th>assists</th>\n",
              "      <th>teamkills</th>\n",
              "      <th>teamdeaths</th>\n",
              "      <th>damagetochampions</th>\n",
              "      <th>dpm</th>\n",
              "      <th>damageshare</th>\n",
              "      <th>wardsplaced</th>\n",
              "      <th>wpm</th>\n",
              "      <th>wardskilled</th>\n",
              "      <th>visionscore</th>\n",
              "      <th>vspm</th>\n",
              "      <th>totalgold</th>\n",
              "      <th>earned gpm</th>\n",
              "      <th>earnedgoldshare</th>\n",
              "      <th>total cs</th>\n",
              "      <th>cspm</th>\n",
              "    </tr>\n",
              "  </thead>\n",
              "  <tbody>\n",
              "    <tr>\n",
              "      <th>0</th>\n",
              "      <td>LPL</td>\n",
              "      <td>2020</td>\n",
              "      <td>2020-06-07 12:59:00</td>\n",
              "      <td>10.11</td>\n",
              "      <td>Red</td>\n",
              "      <td>mid</td>\n",
              "      <td>FoFo</td>\n",
              "      <td>Bilibili Gaming</td>\n",
              "      <td>Twisted Fate</td>\n",
              "      <td>1809</td>\n",
              "      <td>0</td>\n",
              "      <td>0</td>\n",
              "      <td>4</td>\n",
              "      <td>6</td>\n",
              "      <td>6</td>\n",
              "      <td>15</td>\n",
              "      <td>12864</td>\n",
              "      <td>426.6667</td>\n",
              "      <td>0.228669</td>\n",
              "      <td>16</td>\n",
              "      <td>0.5307</td>\n",
              "      <td>2</td>\n",
              "      <td>16.0</td>\n",
              "      <td>0.5307</td>\n",
              "      <td>9714</td>\n",
              "      <td>190.6468</td>\n",
              "      <td>0.200811</td>\n",
              "      <td>202.0</td>\n",
              "      <td>6.6998</td>\n",
              "    </tr>\n",
              "    <tr>\n",
              "      <th>1</th>\n",
              "      <td>LCK</td>\n",
              "      <td>2020</td>\n",
              "      <td>2020-07-01 08:47:25</td>\n",
              "      <td>10.12</td>\n",
              "      <td>Blue</td>\n",
              "      <td>sup</td>\n",
              "      <td>BeryL</td>\n",
              "      <td>DAMWON Gaming</td>\n",
              "      <td>Thresh</td>\n",
              "      <td>2952</td>\n",
              "      <td>1</td>\n",
              "      <td>3</td>\n",
              "      <td>2</td>\n",
              "      <td>6</td>\n",
              "      <td>12</td>\n",
              "      <td>8</td>\n",
              "      <td>2951</td>\n",
              "      <td>59.9797</td>\n",
              "      <td>0.032232</td>\n",
              "      <td>94</td>\n",
              "      <td>1.9106</td>\n",
              "      <td>26</td>\n",
              "      <td>160.0</td>\n",
              "      <td>3.2520</td>\n",
              "      <td>11104</td>\n",
              "      <td>97.6829</td>\n",
              "      <td>0.087776</td>\n",
              "      <td>47.0</td>\n",
              "      <td>0.9553</td>\n",
              "    </tr>\n",
              "    <tr>\n",
              "      <th>2</th>\n",
              "      <td>LPL</td>\n",
              "      <td>2020</td>\n",
              "      <td>2020-01-14 11:21:00</td>\n",
              "      <td>10.01</td>\n",
              "      <td>Red</td>\n",
              "      <td>sup</td>\n",
              "      <td>LvMao</td>\n",
              "      <td>JD Gaming</td>\n",
              "      <td>Nautilus</td>\n",
              "      <td>1666</td>\n",
              "      <td>1</td>\n",
              "      <td>0</td>\n",
              "      <td>2</td>\n",
              "      <td>11</td>\n",
              "      <td>16</td>\n",
              "      <td>5</td>\n",
              "      <td>3783</td>\n",
              "      <td>136.2425</td>\n",
              "      <td>0.075920</td>\n",
              "      <td>42</td>\n",
              "      <td>1.5126</td>\n",
              "      <td>13</td>\n",
              "      <td>66.0</td>\n",
              "      <td>2.3770</td>\n",
              "      <td>6444</td>\n",
              "      <td>99.7599</td>\n",
              "      <td>0.079193</td>\n",
              "      <td>33.0</td>\n",
              "      <td>1.1885</td>\n",
              "    </tr>\n",
              "    <tr>\n",
              "      <th>3</th>\n",
              "      <td>LCK</td>\n",
              "      <td>2020</td>\n",
              "      <td>2020-06-19 08:49:01</td>\n",
              "      <td>10.11</td>\n",
              "      <td>Blue</td>\n",
              "      <td>mid</td>\n",
              "      <td>Dove</td>\n",
              "      <td>SANDBOX Gaming</td>\n",
              "      <td>Azir</td>\n",
              "      <td>1449</td>\n",
              "      <td>0</td>\n",
              "      <td>3</td>\n",
              "      <td>7</td>\n",
              "      <td>0</td>\n",
              "      <td>7</td>\n",
              "      <td>24</td>\n",
              "      <td>12578</td>\n",
              "      <td>520.8282</td>\n",
              "      <td>0.300959</td>\n",
              "      <td>11</td>\n",
              "      <td>0.4555</td>\n",
              "      <td>3</td>\n",
              "      <td>22.0</td>\n",
              "      <td>0.9110</td>\n",
              "      <td>9966</td>\n",
              "      <td>278.8406</td>\n",
              "      <td>0.305636</td>\n",
              "      <td>231.0</td>\n",
              "      <td>9.5652</td>\n",
              "    </tr>\n",
              "    <tr>\n",
              "      <th>4</th>\n",
              "      <td>LCK</td>\n",
              "      <td>2020</td>\n",
              "      <td>2020-06-19 08:49:01</td>\n",
              "      <td>10.11</td>\n",
              "      <td>Blue</td>\n",
              "      <td>sup</td>\n",
              "      <td>GorillA</td>\n",
              "      <td>SANDBOX Gaming</td>\n",
              "      <td>Thresh</td>\n",
              "      <td>1449</td>\n",
              "      <td>0</td>\n",
              "      <td>0</td>\n",
              "      <td>6</td>\n",
              "      <td>6</td>\n",
              "      <td>7</td>\n",
              "      <td>24</td>\n",
              "      <td>2218</td>\n",
              "      <td>91.8427</td>\n",
              "      <td>0.053071</td>\n",
              "      <td>34</td>\n",
              "      <td>1.4079</td>\n",
              "      <td>4</td>\n",
              "      <td>48.0</td>\n",
              "      <td>1.9876</td>\n",
              "      <td>5160</td>\n",
              "      <td>79.8344</td>\n",
              "      <td>0.087520</td>\n",
              "      <td>24.0</td>\n",
              "      <td>0.9938</td>\n",
              "    </tr>\n",
              "  </tbody>\n",
              "</table>\n",
              "</div>"
            ],
            "text/plain": [
              "  league  year                 date  ...  earnedgoldshare total cs    cspm\n",
              "0    LPL  2020  2020-06-07 12:59:00  ...         0.200811    202.0  6.6998\n",
              "1    LCK  2020  2020-07-01 08:47:25  ...         0.087776     47.0  0.9553\n",
              "2    LPL  2020  2020-01-14 11:21:00  ...         0.079193     33.0  1.1885\n",
              "3    LCK  2020  2020-06-19 08:49:01  ...         0.305636    231.0  9.5652\n",
              "4    LCK  2020  2020-06-19 08:49:01  ...         0.087520     24.0  0.9938\n",
              "\n",
              "[5 rows x 29 columns]"
            ]
          },
          "metadata": {
            "tags": []
          },
          "execution_count": 7
        }
      ]
    },
    {
      "cell_type": "markdown",
      "metadata": {
        "id": "CXp8CbrhhLlD"
      },
      "source": [
        "# Descripción de los datos"
      ]
    },
    {
      "cell_type": "markdown",
      "metadata": {
        "id": "-mjCuo3diOnR"
      },
      "source": [
        "Para este proyecto hemos elegido un conjunto de datos del famoso videojuego del género multijugador de arena de batalla en línea League of Legends.\r\n",
        "El juego se basa en que dos equipos de 5 jugadores se enfrentan en una batalla la cual termina cuando uno de los dos equipos destruye todas las defensas enemigas.\r\n",
        "\r\n",
        "Nosotros vamos a centrarnos en las diferencias que podemos encontrar entre las diferentes grandes ligas a nivel internacional y las diferencias en estilo de juego de estos en cada uno de las versiones del juego (el juego recibe cambios cada cierto tiempo en lo que se conocen como parches/versiones).\r\n",
        "\r\n",
        "Para realizar todo esto hemos seleccionado un conjunto de datos con todas las partidas jugadas en 2020 en las grandes ligas China (LPL), Coreana (LCK), Europea (LEC) y Norteamericana (LCS). Estos datos fueron extraidos de (https://oracleselixir.com/) y preparados para su uso.\r\n",
        "\r\n",
        "Las variables aleatorias utilizadas para esto son:\r\n",
        "\r\n",
        "\r\n",
        "*   league (liga) [categórica]\r\n",
        "*   position (rol en partida) [categórica]\r\n",
        "*   gamelength (duración de la partida) [continua]\r\n",
        "*   vspm (puntuación de visión por minuto, calculada por la suma de los minutos que ha otorgado a su equipo o denegado visión al enemigo entre todos los minutos de partida) [continua]\r\n",
        "*   dpm (daño inflingido por minuto) [continua]\r\n",
        "*   total cs (subditos eliminados en partida) [discreta]\r\n",
        "\r\n"
      ]
    },
    {
      "cell_type": "code",
      "metadata": {
        "colab": {
          "base_uri": "https://localhost:8080/",
          "height": 776
        },
        "id": "OqlUBhggjKex",
        "outputId": "7bb39671-d15b-4ae8-c7a6-1556ca7f486a"
      },
      "source": [
        "games_sample"
      ],
      "execution_count": null,
      "outputs": [
        {
          "output_type": "execute_result",
          "data": {
            "text/html": [
              "<div>\n",
              "<style scoped>\n",
              "    .dataframe tbody tr th:only-of-type {\n",
              "        vertical-align: middle;\n",
              "    }\n",
              "\n",
              "    .dataframe tbody tr th {\n",
              "        vertical-align: top;\n",
              "    }\n",
              "\n",
              "    .dataframe thead th {\n",
              "        text-align: right;\n",
              "    }\n",
              "</style>\n",
              "<table border=\"1\" class=\"dataframe\">\n",
              "  <thead>\n",
              "    <tr style=\"text-align: right;\">\n",
              "      <th></th>\n",
              "      <th>league</th>\n",
              "      <th>year</th>\n",
              "      <th>date</th>\n",
              "      <th>patch</th>\n",
              "      <th>side</th>\n",
              "      <th>position</th>\n",
              "      <th>player</th>\n",
              "      <th>team</th>\n",
              "      <th>champion</th>\n",
              "      <th>gamelength</th>\n",
              "      <th>result</th>\n",
              "      <th>kills</th>\n",
              "      <th>deaths</th>\n",
              "      <th>assists</th>\n",
              "      <th>teamkills</th>\n",
              "      <th>teamdeaths</th>\n",
              "      <th>damagetochampions</th>\n",
              "      <th>dpm</th>\n",
              "      <th>damageshare</th>\n",
              "      <th>wardsplaced</th>\n",
              "      <th>wpm</th>\n",
              "      <th>wardskilled</th>\n",
              "      <th>visionscore</th>\n",
              "      <th>vspm</th>\n",
              "      <th>totalgold</th>\n",
              "      <th>earned gpm</th>\n",
              "      <th>earnedgoldshare</th>\n",
              "      <th>total cs</th>\n",
              "      <th>cspm</th>\n",
              "    </tr>\n",
              "  </thead>\n",
              "  <tbody>\n",
              "    <tr>\n",
              "      <th>0</th>\n",
              "      <td>LPL</td>\n",
              "      <td>2020</td>\n",
              "      <td>2020-06-07 12:59:00</td>\n",
              "      <td>10.11</td>\n",
              "      <td>Red</td>\n",
              "      <td>mid</td>\n",
              "      <td>FoFo</td>\n",
              "      <td>Bilibili Gaming</td>\n",
              "      <td>Twisted Fate</td>\n",
              "      <td>1809</td>\n",
              "      <td>0</td>\n",
              "      <td>0</td>\n",
              "      <td>4</td>\n",
              "      <td>6</td>\n",
              "      <td>6</td>\n",
              "      <td>15</td>\n",
              "      <td>12864</td>\n",
              "      <td>426.6667</td>\n",
              "      <td>0.228669</td>\n",
              "      <td>16</td>\n",
              "      <td>0.5307</td>\n",
              "      <td>2</td>\n",
              "      <td>16.0</td>\n",
              "      <td>0.5307</td>\n",
              "      <td>9714</td>\n",
              "      <td>190.6468</td>\n",
              "      <td>0.200811</td>\n",
              "      <td>202.0</td>\n",
              "      <td>6.6998</td>\n",
              "    </tr>\n",
              "    <tr>\n",
              "      <th>1</th>\n",
              "      <td>LCK</td>\n",
              "      <td>2020</td>\n",
              "      <td>2020-07-01 08:47:25</td>\n",
              "      <td>10.12</td>\n",
              "      <td>Blue</td>\n",
              "      <td>sup</td>\n",
              "      <td>BeryL</td>\n",
              "      <td>DAMWON Gaming</td>\n",
              "      <td>Thresh</td>\n",
              "      <td>2952</td>\n",
              "      <td>1</td>\n",
              "      <td>3</td>\n",
              "      <td>2</td>\n",
              "      <td>6</td>\n",
              "      <td>12</td>\n",
              "      <td>8</td>\n",
              "      <td>2951</td>\n",
              "      <td>59.9797</td>\n",
              "      <td>0.032232</td>\n",
              "      <td>94</td>\n",
              "      <td>1.9106</td>\n",
              "      <td>26</td>\n",
              "      <td>160.0</td>\n",
              "      <td>3.2520</td>\n",
              "      <td>11104</td>\n",
              "      <td>97.6829</td>\n",
              "      <td>0.087776</td>\n",
              "      <td>47.0</td>\n",
              "      <td>0.9553</td>\n",
              "    </tr>\n",
              "    <tr>\n",
              "      <th>2</th>\n",
              "      <td>LPL</td>\n",
              "      <td>2020</td>\n",
              "      <td>2020-01-14 11:21:00</td>\n",
              "      <td>10.01</td>\n",
              "      <td>Red</td>\n",
              "      <td>sup</td>\n",
              "      <td>LvMao</td>\n",
              "      <td>JD Gaming</td>\n",
              "      <td>Nautilus</td>\n",
              "      <td>1666</td>\n",
              "      <td>1</td>\n",
              "      <td>0</td>\n",
              "      <td>2</td>\n",
              "      <td>11</td>\n",
              "      <td>16</td>\n",
              "      <td>5</td>\n",
              "      <td>3783</td>\n",
              "      <td>136.2425</td>\n",
              "      <td>0.075920</td>\n",
              "      <td>42</td>\n",
              "      <td>1.5126</td>\n",
              "      <td>13</td>\n",
              "      <td>66.0</td>\n",
              "      <td>2.3770</td>\n",
              "      <td>6444</td>\n",
              "      <td>99.7599</td>\n",
              "      <td>0.079193</td>\n",
              "      <td>33.0</td>\n",
              "      <td>1.1885</td>\n",
              "    </tr>\n",
              "    <tr>\n",
              "      <th>3</th>\n",
              "      <td>LCK</td>\n",
              "      <td>2020</td>\n",
              "      <td>2020-06-19 08:49:01</td>\n",
              "      <td>10.11</td>\n",
              "      <td>Blue</td>\n",
              "      <td>mid</td>\n",
              "      <td>Dove</td>\n",
              "      <td>SANDBOX Gaming</td>\n",
              "      <td>Azir</td>\n",
              "      <td>1449</td>\n",
              "      <td>0</td>\n",
              "      <td>3</td>\n",
              "      <td>7</td>\n",
              "      <td>0</td>\n",
              "      <td>7</td>\n",
              "      <td>24</td>\n",
              "      <td>12578</td>\n",
              "      <td>520.8282</td>\n",
              "      <td>0.300959</td>\n",
              "      <td>11</td>\n",
              "      <td>0.4555</td>\n",
              "      <td>3</td>\n",
              "      <td>22.0</td>\n",
              "      <td>0.9110</td>\n",
              "      <td>9966</td>\n",
              "      <td>278.8406</td>\n",
              "      <td>0.305636</td>\n",
              "      <td>231.0</td>\n",
              "      <td>9.5652</td>\n",
              "    </tr>\n",
              "    <tr>\n",
              "      <th>4</th>\n",
              "      <td>LCK</td>\n",
              "      <td>2020</td>\n",
              "      <td>2020-06-19 08:49:01</td>\n",
              "      <td>10.11</td>\n",
              "      <td>Blue</td>\n",
              "      <td>sup</td>\n",
              "      <td>GorillA</td>\n",
              "      <td>SANDBOX Gaming</td>\n",
              "      <td>Thresh</td>\n",
              "      <td>1449</td>\n",
              "      <td>0</td>\n",
              "      <td>0</td>\n",
              "      <td>6</td>\n",
              "      <td>6</td>\n",
              "      <td>7</td>\n",
              "      <td>24</td>\n",
              "      <td>2218</td>\n",
              "      <td>91.8427</td>\n",
              "      <td>0.053071</td>\n",
              "      <td>34</td>\n",
              "      <td>1.4079</td>\n",
              "      <td>4</td>\n",
              "      <td>48.0</td>\n",
              "      <td>1.9876</td>\n",
              "      <td>5160</td>\n",
              "      <td>79.8344</td>\n",
              "      <td>0.087520</td>\n",
              "      <td>24.0</td>\n",
              "      <td>0.9938</td>\n",
              "    </tr>\n",
              "    <tr>\n",
              "      <th>...</th>\n",
              "      <td>...</td>\n",
              "      <td>...</td>\n",
              "      <td>...</td>\n",
              "      <td>...</td>\n",
              "      <td>...</td>\n",
              "      <td>...</td>\n",
              "      <td>...</td>\n",
              "      <td>...</td>\n",
              "      <td>...</td>\n",
              "      <td>...</td>\n",
              "      <td>...</td>\n",
              "      <td>...</td>\n",
              "      <td>...</td>\n",
              "      <td>...</td>\n",
              "      <td>...</td>\n",
              "      <td>...</td>\n",
              "      <td>...</td>\n",
              "      <td>...</td>\n",
              "      <td>...</td>\n",
              "      <td>...</td>\n",
              "      <td>...</td>\n",
              "      <td>...</td>\n",
              "      <td>...</td>\n",
              "      <td>...</td>\n",
              "      <td>...</td>\n",
              "      <td>...</td>\n",
              "      <td>...</td>\n",
              "      <td>...</td>\n",
              "      <td>...</td>\n",
              "    </tr>\n",
              "    <tr>\n",
              "      <th>996</th>\n",
              "      <td>LEC</td>\n",
              "      <td>2020</td>\n",
              "      <td>2020-08-01 14:53:06</td>\n",
              "      <td>10.15</td>\n",
              "      <td>Blue</td>\n",
              "      <td>mid</td>\n",
              "      <td>Special</td>\n",
              "      <td>Excel Esports</td>\n",
              "      <td>Orianna</td>\n",
              "      <td>1995</td>\n",
              "      <td>1</td>\n",
              "      <td>0</td>\n",
              "      <td>2</td>\n",
              "      <td>5</td>\n",
              "      <td>10</td>\n",
              "      <td>5</td>\n",
              "      <td>12561</td>\n",
              "      <td>377.7744</td>\n",
              "      <td>0.235728</td>\n",
              "      <td>18</td>\n",
              "      <td>0.5414</td>\n",
              "      <td>4</td>\n",
              "      <td>32.0</td>\n",
              "      <td>0.9624</td>\n",
              "      <td>13454</td>\n",
              "      <td>273.9549</td>\n",
              "      <td>0.220446</td>\n",
              "      <td>315.0</td>\n",
              "      <td>9.4737</td>\n",
              "    </tr>\n",
              "    <tr>\n",
              "      <th>997</th>\n",
              "      <td>LPL</td>\n",
              "      <td>2020</td>\n",
              "      <td>2020-08-25 10:24:00</td>\n",
              "      <td>10.16</td>\n",
              "      <td>Red</td>\n",
              "      <td>sup</td>\n",
              "      <td>SwordArt</td>\n",
              "      <td>Suning</td>\n",
              "      <td>Thresh</td>\n",
              "      <td>2066</td>\n",
              "      <td>1</td>\n",
              "      <td>0</td>\n",
              "      <td>1</td>\n",
              "      <td>12</td>\n",
              "      <td>20</td>\n",
              "      <td>10</td>\n",
              "      <td>3572</td>\n",
              "      <td>103.7367</td>\n",
              "      <td>0.040083</td>\n",
              "      <td>49</td>\n",
              "      <td>1.4230</td>\n",
              "      <td>12</td>\n",
              "      <td>95.0</td>\n",
              "      <td>2.7590</td>\n",
              "      <td>7998</td>\n",
              "      <td>101.8780</td>\n",
              "      <td>0.081917</td>\n",
              "      <td>33.0</td>\n",
              "      <td>0.9584</td>\n",
              "    </tr>\n",
              "    <tr>\n",
              "      <th>998</th>\n",
              "      <td>LCK</td>\n",
              "      <td>2020</td>\n",
              "      <td>2020-07-30 08:34:35</td>\n",
              "      <td>10.14</td>\n",
              "      <td>Blue</td>\n",
              "      <td>jng</td>\n",
              "      <td>Haru</td>\n",
              "      <td>Hanwha Life Esports</td>\n",
              "      <td>Nidalee</td>\n",
              "      <td>1476</td>\n",
              "      <td>0</td>\n",
              "      <td>1</td>\n",
              "      <td>6</td>\n",
              "      <td>2</td>\n",
              "      <td>4</td>\n",
              "      <td>16</td>\n",
              "      <td>7652</td>\n",
              "      <td>311.0569</td>\n",
              "      <td>0.226003</td>\n",
              "      <td>22</td>\n",
              "      <td>0.8943</td>\n",
              "      <td>6</td>\n",
              "      <td>39.0</td>\n",
              "      <td>1.5854</td>\n",
              "      <td>7268</td>\n",
              "      <td>161.8293</td>\n",
              "      <td>0.190780</td>\n",
              "      <td>136.0</td>\n",
              "      <td>5.5285</td>\n",
              "    </tr>\n",
              "    <tr>\n",
              "      <th>999</th>\n",
              "      <td>LPL</td>\n",
              "      <td>2020</td>\n",
              "      <td>2020-08-05 09:19:00</td>\n",
              "      <td>10.15</td>\n",
              "      <td>Red</td>\n",
              "      <td>sup</td>\n",
              "      <td>Mark</td>\n",
              "      <td>LGD Gaming</td>\n",
              "      <td>Bard</td>\n",
              "      <td>1684</td>\n",
              "      <td>0</td>\n",
              "      <td>0</td>\n",
              "      <td>2</td>\n",
              "      <td>2</td>\n",
              "      <td>3</td>\n",
              "      <td>19</td>\n",
              "      <td>2530</td>\n",
              "      <td>90.1425</td>\n",
              "      <td>0.062860</td>\n",
              "      <td>64</td>\n",
              "      <td>2.2803</td>\n",
              "      <td>12</td>\n",
              "      <td>95.0</td>\n",
              "      <td>3.3848</td>\n",
              "      <td>5795</td>\n",
              "      <td>74.2518</td>\n",
              "      <td>0.088314</td>\n",
              "      <td>35.0</td>\n",
              "      <td>1.2470</td>\n",
              "    </tr>\n",
              "    <tr>\n",
              "      <th>1000</th>\n",
              "      <td>LPL</td>\n",
              "      <td>2020</td>\n",
              "      <td>2020-03-30 11:20:00</td>\n",
              "      <td>10.05</td>\n",
              "      <td>Red</td>\n",
              "      <td>jng</td>\n",
              "      <td>Kanavi</td>\n",
              "      <td>JD Gaming</td>\n",
              "      <td>Sylas</td>\n",
              "      <td>2098</td>\n",
              "      <td>0</td>\n",
              "      <td>2</td>\n",
              "      <td>2</td>\n",
              "      <td>2</td>\n",
              "      <td>7</td>\n",
              "      <td>9</td>\n",
              "      <td>7509</td>\n",
              "      <td>214.7474</td>\n",
              "      <td>0.141301</td>\n",
              "      <td>34</td>\n",
              "      <td>0.9724</td>\n",
              "      <td>22</td>\n",
              "      <td>79.0</td>\n",
              "      <td>2.2593</td>\n",
              "      <td>12998</td>\n",
              "      <td>241.4299</td>\n",
              "      <td>0.233318</td>\n",
              "      <td>243.0</td>\n",
              "      <td>6.9495</td>\n",
              "    </tr>\n",
              "  </tbody>\n",
              "</table>\n",
              "<p>1001 rows × 29 columns</p>\n",
              "</div>"
            ],
            "text/plain": [
              "     league  year                 date  ...  earnedgoldshare total cs    cspm\n",
              "0       LPL  2020  2020-06-07 12:59:00  ...         0.200811    202.0  6.6998\n",
              "1       LCK  2020  2020-07-01 08:47:25  ...         0.087776     47.0  0.9553\n",
              "2       LPL  2020  2020-01-14 11:21:00  ...         0.079193     33.0  1.1885\n",
              "3       LCK  2020  2020-06-19 08:49:01  ...         0.305636    231.0  9.5652\n",
              "4       LCK  2020  2020-06-19 08:49:01  ...         0.087520     24.0  0.9938\n",
              "...     ...   ...                  ...  ...              ...      ...     ...\n",
              "996     LEC  2020  2020-08-01 14:53:06  ...         0.220446    315.0  9.4737\n",
              "997     LPL  2020  2020-08-25 10:24:00  ...         0.081917     33.0  0.9584\n",
              "998     LCK  2020  2020-07-30 08:34:35  ...         0.190780    136.0  5.5285\n",
              "999     LPL  2020  2020-08-05 09:19:00  ...         0.088314     35.0  1.2470\n",
              "1000    LPL  2020  2020-03-30 11:20:00  ...         0.233318    243.0  6.9495\n",
              "\n",
              "[1001 rows x 29 columns]"
            ]
          },
          "metadata": {
            "tags": []
          },
          "execution_count": 8
        }
      ]
    },
    {
      "cell_type": "markdown",
      "metadata": {
        "id": "vSPEXY3bmwgs"
      },
      "source": [
        "# Análisis descriptivo"
      ]
    },
    {
      "cell_type": "markdown",
      "metadata": {
        "id": "55UIeazGm092"
      },
      "source": [
        "Para el análisis descriptivo vamos a comenzar observando las variables continuas y discretas que hemos elegido:"
      ]
    },
    {
      "cell_type": "markdown",
      "metadata": {
        "id": "1yarhTZDcA77"
      },
      "source": [
        "## Duración de partidas (variable continua)"
      ]
    },
    {
      "cell_type": "markdown",
      "metadata": {
        "id": "h60u7yVAiNUZ"
      },
      "source": [
        "Comenzamos con la duración de las partidas, podemos observar que la media de duración está en 1972.5 segundos (unos 33 minutos), bastante coherente ya que gran parte de la temporada ha tenido un estilo de juego muy lento ya que la mayoria de personajes necesitaba de muchos recursos para poder llegar a tener un buen impacto en partida.\r\n",
        "\r\n",
        "Encontramos que la mayoria de las muestras se encuentran entre 1727.5 (28.8 minutos) y 2157 (35.95 minutos) (primer y tercer percentil), cosa que tiene sentido como hemos comentado anteriormente.\r\n",
        "\r\n",
        "Si nos fijamos en la asimetría, el coeficiente de asimetría estandarizado y la cercania de la mediana con la media que se trata de una distribución bastante simétrica.\r\n",
        "\r\n",
        "Por otro lado, si observamos la curtosis estandarizada, vemos que se trata de una distribución un tanto leptocúrtica y que segun la curtosis se desvia un poco de la normal.\r\n",
        "\r\n",
        "Mirando el histograma, parece que la distribución que se asemeja a una normal, cosa que con la asimetría y curtosis nos dice tambien."
      ]
    },
    {
      "cell_type": "code",
      "metadata": {
        "id": "LCbUxkjFm1Rp",
        "colab": {
          "base_uri": "https://localhost:8080/",
          "height": 480
        },
        "outputId": "a73c14db-3b1a-4bda-c1e3-03be7271c8ec"
      },
      "source": [
        "# gamelength\r\n",
        "print(\"Asimetría -> \",games_sample['gamelength'].skew())\r\n",
        "print(\"Curtosis -> \",games_sample['gamelength'].kurt())\r\n",
        "print(games_sample['gamelength'].describe())\r\n",
        "sns.histplot(data=games_sample, x=\"gamelength\", bins=30)"
      ],
      "execution_count": null,
      "outputs": [
        {
          "output_type": "stream",
          "text": [
            "Asimetría ->  0.7419445199597708\n",
            "Curtosis ->  0.9051695326268128\n",
            "count    1001.000000\n",
            "mean     1983.048951\n",
            "std       356.736433\n",
            "min      1014.000000\n",
            "25%      1738.000000\n",
            "50%      1950.000000\n",
            "75%      2176.000000\n",
            "max      3680.000000\n",
            "Name: gamelength, dtype: float64\n"
          ],
          "name": "stdout"
        },
        {
          "output_type": "execute_result",
          "data": {
            "text/plain": [
              "<matplotlib.axes._subplots.AxesSubplot at 0x7f52d2b7c860>"
            ]
          },
          "metadata": {
            "tags": []
          },
          "execution_count": 9
        },
        {
          "output_type": "display_data",
          "data": {
            "image/png": "[encoded data removed]",
            "text/plain": [
              "<Figure size 432x288 with 1 Axes>"
            ]
          },
          "metadata": {
            "tags": [],
            "needs_background": "light"
          }
        }
      ]
    },
    {
      "cell_type": "markdown",
      "metadata": {
        "id": "NMDuVa2ifToW"
      },
      "source": [
        "Observando el diagrama Box-Whisker, parece ser que es una distribución simétrica y con una cierta normalidad, de todas formas se observan ciertos valores un tanto alejados.\r\n",
        "\r\n",
        "De todas formas, estos datos que vemos simplemente deben tratarse de partidas con composiciones que escalaban muy lento con el tiempo, como por ejemplo pasa con el mayor valor que encontramos, partida de Inmortals que está catalogada como la partida más larga de la LCS Norteamericana en 2020 con 61.20 minutos, esto nos dice que todos estos valores más perifericos simplemente se deben partidas un tanto peculiares, de hecho en ningun caso estas muestras superan el 5% del total de muestras (menos en la LCS norteamericana, la cual llega a contar con un 10% de partidas más largas, una de tantas razones por las que se considera esta liga como inferior respecto a las demas)."
      ]
    },
    {
      "cell_type": "code",
      "metadata": {
        "colab": {
          "base_uri": "https://localhost:8080/",
          "height": 824
        },
        "id": "EX_D39YBSh6h",
        "outputId": "c9b3fbcc-a7b2-49ce-ca10-1ed75bb23701"
      },
      "source": [
        "sns.boxplot( x=games_sample.gamelength )\r\n",
        "\r\n",
        "print(\"muestras totales: \",games_sample['gamelength'].count())\r\n",
        "for x in list(pd.unique(games_sample['league'])):\r\n",
        "  print(x, \": \", games_sample[(games_sample['league'] == x)]['gamelength'].count())\r\n",
        "\r\n",
        "print(\"\")\r\n",
        "print(\"muestras < 1200: \", games_sample[games_sample['gamelength'] < 1200]['gamelength'].count())\r\n",
        "# print(pd.unique(games_sample[games_sample['gamelength'] < 1200]['league']))\r\n",
        "for x in list(pd.unique(games_sample[games_sample['gamelength'] < 1200]['league'])):\r\n",
        "  print(x, \": \", games_sample[(games_sample['league'] == x) & (games_sample['gamelength'] < 1200)]['gamelength'].count())\r\n",
        "\r\n",
        "print(\"\")\r\n",
        "print(\"muestras > 2700: \",games_sample[games_sample['gamelength'] > 2700]['gamelength'].count())\r\n",
        "# print(pd.unique(games_sample[games_sample['gamelength'] > 2700]['league']))\r\n",
        "for x in list(pd.unique(games_sample[games_sample['gamelength'] > 2700]['league'])):\r\n",
        "  print(x, \": \", games_sample[(games_sample['league'] == x) & (games_sample['gamelength'] > 2700)]['gamelength'].count())\r\n",
        "\r\n",
        "print(\"\")\r\n",
        "print(\"muestras (>1200) & (<2700): \",games_sample[(games_sample['gamelength'] < 2700) & (games_sample['gamelength'] > 1200)]['gamelength'].count())\r\n",
        "for x in list(pd.unique(games_sample[(games_sample['gamelength'] < 2700) & (games_sample['gamelength'] > 1200)]['league'])):\r\n",
        "  print(x, \": \", games_sample[(games_sample['league'] == x) & (games_sample['gamelength'] < 2700) & (games_sample['gamelength'] > 1200)]['gamelength'].count())\r\n",
        "\r\n",
        "games_sample[(games_sample['gamelength'] > 3400)]"
      ],
      "execution_count": null,
      "outputs": [
        {
          "output_type": "stream",
          "text": [
            "muestras totales:  1001\n",
            "LPL :  424\n",
            "LCK :  282\n",
            "LCS :  154\n",
            "LEC :  141\n",
            "\n",
            "muestras < 1200:  2\n",
            "LCK :  1\n",
            "LPL :  1\n",
            "\n",
            "muestras > 2700:  48\n",
            "LCK :  14\n",
            "LCS :  12\n",
            "LPL :  12\n",
            "LEC :  10\n",
            "\n",
            "muestras (>1200) & (<2700):  951\n",
            "LPL :  411\n",
            "LCK :  267\n",
            "LCS :  142\n",
            "LEC :  131\n"
          ],
          "name": "stdout"
        },
        {
          "output_type": "execute_result",
          "data": {
            "text/html": [
              "<div>\n",
              "<style scoped>\n",
              "    .dataframe tbody tr th:only-of-type {\n",
              "        vertical-align: middle;\n",
              "    }\n",
              "\n",
              "    .dataframe tbody tr th {\n",
              "        vertical-align: top;\n",
              "    }\n",
              "\n",
              "    .dataframe thead th {\n",
              "        text-align: right;\n",
              "    }\n",
              "</style>\n",
              "<table border=\"1\" class=\"dataframe\">\n",
              "  <thead>\n",
              "    <tr style=\"text-align: right;\">\n",
              "      <th></th>\n",
              "      <th>league</th>\n",
              "      <th>year</th>\n",
              "      <th>date</th>\n",
              "      <th>patch</th>\n",
              "      <th>side</th>\n",
              "      <th>position</th>\n",
              "      <th>player</th>\n",
              "      <th>team</th>\n",
              "      <th>champion</th>\n",
              "      <th>gamelength</th>\n",
              "      <th>result</th>\n",
              "      <th>kills</th>\n",
              "      <th>deaths</th>\n",
              "      <th>assists</th>\n",
              "      <th>teamkills</th>\n",
              "      <th>teamdeaths</th>\n",
              "      <th>damagetochampions</th>\n",
              "      <th>dpm</th>\n",
              "      <th>damageshare</th>\n",
              "      <th>wardsplaced</th>\n",
              "      <th>wpm</th>\n",
              "      <th>wardskilled</th>\n",
              "      <th>visionscore</th>\n",
              "      <th>vspm</th>\n",
              "      <th>totalgold</th>\n",
              "      <th>earned gpm</th>\n",
              "      <th>earnedgoldshare</th>\n",
              "      <th>total cs</th>\n",
              "      <th>cspm</th>\n",
              "    </tr>\n",
              "  </thead>\n",
              "  <tbody>\n",
              "    <tr>\n",
              "      <th>248</th>\n",
              "      <td>LCS</td>\n",
              "      <td>2020</td>\n",
              "      <td>2020-01-26 20:35:10</td>\n",
              "      <td>10.01</td>\n",
              "      <td>Red</td>\n",
              "      <td>bot</td>\n",
              "      <td>Altec</td>\n",
              "      <td>Immortals</td>\n",
              "      <td>Ezreal</td>\n",
              "      <td>3680</td>\n",
              "      <td>1</td>\n",
              "      <td>4</td>\n",
              "      <td>0</td>\n",
              "      <td>2</td>\n",
              "      <td>9</td>\n",
              "      <td>9</td>\n",
              "      <td>49118</td>\n",
              "      <td>800.8370</td>\n",
              "      <td>0.387708</td>\n",
              "      <td>26</td>\n",
              "      <td>0.4239</td>\n",
              "      <td>24</td>\n",
              "      <td>69.0</td>\n",
              "      <td>1.125</td>\n",
              "      <td>24942</td>\n",
              "      <td>279.7663</td>\n",
              "      <td>0.297675</td>\n",
              "      <td>556.0</td>\n",
              "      <td>9.0652</td>\n",
              "    </tr>\n",
              "    <tr>\n",
              "      <th>928</th>\n",
              "      <td>LCS</td>\n",
              "      <td>2020</td>\n",
              "      <td>2020-03-29 00:41:46</td>\n",
              "      <td>10.06</td>\n",
              "      <td>Red</td>\n",
              "      <td>sup</td>\n",
              "      <td>aphromoo</td>\n",
              "      <td>Dignitas</td>\n",
              "      <td>Nautilus</td>\n",
              "      <td>3406</td>\n",
              "      <td>1</td>\n",
              "      <td>2</td>\n",
              "      <td>5</td>\n",
              "      <td>8</td>\n",
              "      <td>13</td>\n",
              "      <td>15</td>\n",
              "      <td>9108</td>\n",
              "      <td>160.4463</td>\n",
              "      <td>0.072761</td>\n",
              "      <td>82</td>\n",
              "      <td>1.4445</td>\n",
              "      <td>16</td>\n",
              "      <td>138.0</td>\n",
              "      <td>2.431</td>\n",
              "      <td>12628</td>\n",
              "      <td>95.1967</td>\n",
              "      <td>0.093293</td>\n",
              "      <td>50.0</td>\n",
              "      <td>0.8808</td>\n",
              "    </tr>\n",
              "  </tbody>\n",
              "</table>\n",
              "</div>"
            ],
            "text/plain": [
              "    league  year                 date  ...  earnedgoldshare total cs    cspm\n",
              "248    LCS  2020  2020-01-26 20:35:10  ...         0.297675    556.0  9.0652\n",
              "928    LCS  2020  2020-03-29 00:41:46  ...         0.093293     50.0  0.8808\n",
              "\n",
              "[2 rows x 29 columns]"
            ]
          },
          "metadata": {
            "tags": []
          },
          "execution_count": 10
        },
        {
          "output_type": "display_data",
          "data": {
            "image/png": "[encoded data removed]",
            "text/plain": [
              "<Figure size 432x288 with 1 Axes>"
            ]
          },
          "metadata": {
            "tags": [],
            "needs_background": "light"
          }
        }
      ]
    },
    {
      "cell_type": "markdown",
      "metadata": {
        "id": "sW_n6f1Sp4TJ"
      },
      "source": [
        "## Puntuación de visión por minuto (variable continua)"
      ]
    },
    {
      "cell_type": "markdown",
      "metadata": {
        "id": "18M3Hp6miGMp"
      },
      "source": [
        "Al observar la puntuación de visión por minuto podemos ver que la mayor parte de los valores se encuentran en [0.97 - 1.94], la media se encuentra en 1.5, bastante coherente ya que en partidas de este nivel todas las jugadas se basan en la visión sobre objetivos lo que hace que todos tengan un impacto de visión en partida.\r\n",
        "\r\n",
        "Si analizamos el coeficiente de asimetría estandarizado, podemos ver que posiblemente se trate de una distribución similar a una normal segun este factor. También puede verse que aunque se trate de una distribución simétrica, con el histograma parece tener una ligera asimetría positiva.\r\n",
        "\r\n",
        "En lo que a la Curtosis estandarizada respecta, parece que tambien se parece a una distribución normal, cercana a una mesocúrtica aunque tendiendo hacia una distribución platicúrtica."
      ]
    },
    {
      "cell_type": "code",
      "metadata": {
        "colab": {
          "base_uri": "https://localhost:8080/",
          "height": 480
        },
        "id": "root_PCzRgJ7",
        "outputId": "38fc9bc7-ba74-474c-a179-d7daf54f39f6"
      },
      "source": [
        "# vspm\r\n",
        "print(\"Asimetría -> \",games_sample['vspm'].skew())\r\n",
        "print(\"Curtosis -> \",games_sample['vspm'].kurt())\r\n",
        "print(games_sample['vspm'].describe())\r\n",
        "sns.histplot(data=games_sample, x=\"vspm\", bins=30)"
      ],
      "execution_count": null,
      "outputs": [
        {
          "output_type": "stream",
          "text": [
            "Asimetría ->  1.0789199303866994\n",
            "Curtosis ->  0.879271645371468\n",
            "count    1001.000000\n",
            "mean        1.569091\n",
            "std         0.778968\n",
            "min         0.354700\n",
            "25%         0.990800\n",
            "50%         1.330400\n",
            "75%         2.027400\n",
            "max         5.205000\n",
            "Name: vspm, dtype: float64\n"
          ],
          "name": "stdout"
        },
        {
          "output_type": "execute_result",
          "data": {
            "text/plain": [
              "<matplotlib.axes._subplots.AxesSubplot at 0x7f52d27b7630>"
            ]
          },
          "metadata": {
            "tags": []
          },
          "execution_count": 11
        },
        {
          "output_type": "display_data",
          "data": {
            "image/png": "[encoded data removed]",
            "text/plain": [
              "<Figure size 432x288 with 1 Axes>"
            ]
          },
          "metadata": {
            "tags": [],
            "needs_background": "light"
          }
        }
      ]
    },
    {
      "cell_type": "markdown",
      "metadata": {
        "id": "iSsTCTN509OA"
      },
      "source": [
        "Con el diagrama de Box-Whisker parece que tiene una ligera asimetría positiva como comentabamos, ademas de que se observan unos outliers en valores superiores a 3.3 aproximadamente.\r\n",
        "Analizando estos outliers podemos ver que se trata de supports principalmente, este rol comple una función principalmente de utilidad en partida, lo que es bastante coherente para algo como la visión.\r\n",
        "De todas maneras, estos outliers son simplemente algo puntual de partidas concretas, ya que estos no suman ni el 5% de las muestras totales."
      ]
    },
    {
      "cell_type": "code",
      "metadata": {
        "colab": {
          "base_uri": "https://localhost:8080/",
          "height": 564
        },
        "id": "fI3QiGf1oTxW",
        "outputId": "8e1bc99a-6549-4635-e2c0-a22849fc1eb3"
      },
      "source": [
        "sns.boxplot( x=games_sample.vspm )\r\n",
        "\r\n",
        "print(\"muestras totales: \",games_sample['vspm'].count())\r\n",
        "for x in list(pd.unique(games_sample['league'])):\r\n",
        "  print(x, \": \", games_sample[(games_sample['league'] == x)]['vspm'].count())\r\n",
        "\r\n",
        "\r\n",
        "print(\"\")\r\n",
        "print(\"muestras > 3.3: \",games_sample[games_sample['vspm'] > 3.3]['vspm'].count())\r\n",
        "# print(pd.unique(games_sample[games_sample['vspm'] > 3.3]['league']))\r\n",
        "for x in list(pd.unique(games_sample[games_sample['vspm'] > 3.3]['league'])):\r\n",
        "  print(x, \": \", games_sample[(games_sample['league'] == x) & (games_sample['vspm'] > 3.3)]['vspm'].count())\r\n",
        "\r\n",
        "print(\"\")\r\n",
        "print(\"muestras < 3.3: \",games_sample[(games_sample['vspm'] < 3.3)]['vspm'].count())\r\n",
        "for x in list(pd.unique(games_sample[(games_sample['vspm'] < 3.3)]['league'])):\r\n",
        "  print(x, \": \", games_sample[(games_sample['league'] == x) & (games_sample['vspm'] < 3.3)]['vspm'].count())"
      ],
      "execution_count": null,
      "outputs": [
        {
          "output_type": "stream",
          "text": [
            "muestras totales:  1001\n",
            "LPL :  424\n",
            "LCK :  282\n",
            "LCS :  154\n",
            "LEC :  141\n",
            "\n",
            "muestras > 3.3:  28\n",
            "LEC :  3\n",
            "LCS :  4\n",
            "LPL :  12\n",
            "LCK :  9\n",
            "\n",
            "muestras < 3.3:  973\n",
            "LPL :  412\n",
            "LCK :  273\n",
            "LCS :  150\n",
            "LEC :  138\n"
          ],
          "name": "stdout"
        },
        {
          "output_type": "display_data",
          "data": {
            "image/png": "[encoded data removed]",
            "text/plain": [
              "<Figure size 432x288 with 1 Axes>"
            ]
          },
          "metadata": {
            "tags": [],
            "needs_background": "light"
          }
        }
      ]
    },
    {
      "cell_type": "code",
      "metadata": {
        "colab": {
          "base_uri": "https://localhost:8080/",
          "height": 1000
        },
        "id": "pyx0KS-2ffEW",
        "outputId": "d04f0269-90d1-472c-9f4f-d20c69848556"
      },
      "source": [
        "games_sample[(games_sample['vspm'] > 3.3)]"
      ],
      "execution_count": null,
      "outputs": [
        {
          "output_type": "execute_result",
          "data": {
            "text/html": [
              "<div>\n",
              "<style scoped>\n",
              "    .dataframe tbody tr th:only-of-type {\n",
              "        vertical-align: middle;\n",
              "    }\n",
              "\n",
              "    .dataframe tbody tr th {\n",
              "        vertical-align: top;\n",
              "    }\n",
              "\n",
              "    .dataframe thead th {\n",
              "        text-align: right;\n",
              "    }\n",
              "</style>\n",
              "<table border=\"1\" class=\"dataframe\">\n",
              "  <thead>\n",
              "    <tr style=\"text-align: right;\">\n",
              "      <th></th>\n",
              "      <th>league</th>\n",
              "      <th>year</th>\n",
              "      <th>date</th>\n",
              "      <th>patch</th>\n",
              "      <th>side</th>\n",
              "      <th>position</th>\n",
              "      <th>player</th>\n",
              "      <th>team</th>\n",
              "      <th>champion</th>\n",
              "      <th>gamelength</th>\n",
              "      <th>result</th>\n",
              "      <th>kills</th>\n",
              "      <th>deaths</th>\n",
              "      <th>assists</th>\n",
              "      <th>teamkills</th>\n",
              "      <th>teamdeaths</th>\n",
              "      <th>damagetochampions</th>\n",
              "      <th>dpm</th>\n",
              "      <th>damageshare</th>\n",
              "      <th>wardsplaced</th>\n",
              "      <th>wpm</th>\n",
              "      <th>wardskilled</th>\n",
              "      <th>visionscore</th>\n",
              "      <th>vspm</th>\n",
              "      <th>totalgold</th>\n",
              "      <th>earned gpm</th>\n",
              "      <th>earnedgoldshare</th>\n",
              "      <th>total cs</th>\n",
              "      <th>cspm</th>\n",
              "    </tr>\n",
              "  </thead>\n",
              "  <tbody>\n",
              "    <tr>\n",
              "      <th>36</th>\n",
              "      <td>LEC</td>\n",
              "      <td>2020</td>\n",
              "      <td>2020-09-05 14:03:49</td>\n",
              "      <td>10.16</td>\n",
              "      <td>Red</td>\n",
              "      <td>sup</td>\n",
              "      <td>Mikyx</td>\n",
              "      <td>G2 Esports</td>\n",
              "      <td>Leona</td>\n",
              "      <td>2188</td>\n",
              "      <td>0</td>\n",
              "      <td>0</td>\n",
              "      <td>4</td>\n",
              "      <td>1</td>\n",
              "      <td>7</td>\n",
              "      <td>23</td>\n",
              "      <td>5255</td>\n",
              "      <td>144.1042</td>\n",
              "      <td>0.075914</td>\n",
              "      <td>72</td>\n",
              "      <td>1.9744</td>\n",
              "      <td>14</td>\n",
              "      <td>124.0</td>\n",
              "      <td>3.4004</td>\n",
              "      <td>7201</td>\n",
              "      <td>67.5137</td>\n",
              "      <td>0.070804</td>\n",
              "      <td>39.0</td>\n",
              "      <td>1.0695</td>\n",
              "    </tr>\n",
              "    <tr>\n",
              "      <th>59</th>\n",
              "      <td>LCS</td>\n",
              "      <td>2020</td>\n",
              "      <td>2020-03-08 01:10:53</td>\n",
              "      <td>10.04</td>\n",
              "      <td>Blue</td>\n",
              "      <td>bot</td>\n",
              "      <td>Bang</td>\n",
              "      <td>Evil Geniuses</td>\n",
              "      <td>Senna</td>\n",
              "      <td>1850</td>\n",
              "      <td>1</td>\n",
              "      <td>6</td>\n",
              "      <td>0</td>\n",
              "      <td>9</td>\n",
              "      <td>18</td>\n",
              "      <td>3</td>\n",
              "      <td>13278</td>\n",
              "      <td>430.6378</td>\n",
              "      <td>0.245072</td>\n",
              "      <td>50</td>\n",
              "      <td>1.6216</td>\n",
              "      <td>30</td>\n",
              "      <td>128.0</td>\n",
              "      <td>4.1514</td>\n",
              "      <td>10323</td>\n",
              "      <td>203.4486</td>\n",
              "      <td>0.183648</td>\n",
              "      <td>68.0</td>\n",
              "      <td>2.2054</td>\n",
              "    </tr>\n",
              "    <tr>\n",
              "      <th>141</th>\n",
              "      <td>LPL</td>\n",
              "      <td>2020</td>\n",
              "      <td>2020-07-10 12:16:00</td>\n",
              "      <td>10.13</td>\n",
              "      <td>Red</td>\n",
              "      <td>jng</td>\n",
              "      <td>Wei</td>\n",
              "      <td>eStar</td>\n",
              "      <td>Graves</td>\n",
              "      <td>1985</td>\n",
              "      <td>0</td>\n",
              "      <td>2</td>\n",
              "      <td>3</td>\n",
              "      <td>1</td>\n",
              "      <td>5</td>\n",
              "      <td>15</td>\n",
              "      <td>13617</td>\n",
              "      <td>411.5970</td>\n",
              "      <td>0.242974</td>\n",
              "      <td>50</td>\n",
              "      <td>1.5113</td>\n",
              "      <td>43</td>\n",
              "      <td>122.0</td>\n",
              "      <td>3.6877</td>\n",
              "      <td>10419</td>\n",
              "      <td>184.2015</td>\n",
              "      <td>0.206345</td>\n",
              "      <td>216.0</td>\n",
              "      <td>6.5290</td>\n",
              "    </tr>\n",
              "    <tr>\n",
              "      <th>163</th>\n",
              "      <td>LCK</td>\n",
              "      <td>2020</td>\n",
              "      <td>2020-03-05 08:02:36</td>\n",
              "      <td>10.04</td>\n",
              "      <td>Red</td>\n",
              "      <td>jng</td>\n",
              "      <td>Clid</td>\n",
              "      <td>Gen.G</td>\n",
              "      <td>Rek'Sai</td>\n",
              "      <td>2854</td>\n",
              "      <td>1</td>\n",
              "      <td>3</td>\n",
              "      <td>4</td>\n",
              "      <td>12</td>\n",
              "      <td>28</td>\n",
              "      <td>18</td>\n",
              "      <td>12317</td>\n",
              "      <td>258.9418</td>\n",
              "      <td>0.104841</td>\n",
              "      <td>77</td>\n",
              "      <td>1.6188</td>\n",
              "      <td>38</td>\n",
              "      <td>170.0</td>\n",
              "      <td>3.5739</td>\n",
              "      <td>16099</td>\n",
              "      <td>210.2523</td>\n",
              "      <td>0.164494</td>\n",
              "      <td>257.0</td>\n",
              "      <td>5.4029</td>\n",
              "    </tr>\n",
              "    <tr>\n",
              "      <th>204</th>\n",
              "      <td>LCK</td>\n",
              "      <td>2020</td>\n",
              "      <td>2020-08-14 08:41:27</td>\n",
              "      <td>10.15</td>\n",
              "      <td>Blue</td>\n",
              "      <td>sup</td>\n",
              "      <td>TusiN</td>\n",
              "      <td>KT Rolster</td>\n",
              "      <td>Bard</td>\n",
              "      <td>1853</td>\n",
              "      <td>1</td>\n",
              "      <td>0</td>\n",
              "      <td>7</td>\n",
              "      <td>21</td>\n",
              "      <td>33</td>\n",
              "      <td>20</td>\n",
              "      <td>6152</td>\n",
              "      <td>199.2013</td>\n",
              "      <td>0.060657</td>\n",
              "      <td>72</td>\n",
              "      <td>2.3314</td>\n",
              "      <td>18</td>\n",
              "      <td>106.0</td>\n",
              "      <td>3.4323</td>\n",
              "      <td>8445</td>\n",
              "      <td>142.1155</td>\n",
              "      <td>0.108752</td>\n",
              "      <td>46.0</td>\n",
              "      <td>1.4895</td>\n",
              "    </tr>\n",
              "    <tr>\n",
              "      <th>212</th>\n",
              "      <td>LCK</td>\n",
              "      <td>2020</td>\n",
              "      <td>2020-08-20 11:42:47</td>\n",
              "      <td>10.16</td>\n",
              "      <td>Blue</td>\n",
              "      <td>sup</td>\n",
              "      <td>TusiN</td>\n",
              "      <td>KT Rolster</td>\n",
              "      <td>Bard</td>\n",
              "      <td>2673</td>\n",
              "      <td>0</td>\n",
              "      <td>0</td>\n",
              "      <td>5</td>\n",
              "      <td>9</td>\n",
              "      <td>13</td>\n",
              "      <td>22</td>\n",
              "      <td>6693</td>\n",
              "      <td>150.2357</td>\n",
              "      <td>0.080982</td>\n",
              "      <td>133</td>\n",
              "      <td>2.9854</td>\n",
              "      <td>29</td>\n",
              "      <td>191.0</td>\n",
              "      <td>4.2873</td>\n",
              "      <td>9387</td>\n",
              "      <td>82.1100</td>\n",
              "      <td>0.074088</td>\n",
              "      <td>62.0</td>\n",
              "      <td>1.3917</td>\n",
              "    </tr>\n",
              "    <tr>\n",
              "      <th>221</th>\n",
              "      <td>LPL</td>\n",
              "      <td>2020</td>\n",
              "      <td>2020-03-18 07:09:00</td>\n",
              "      <td>10.04</td>\n",
              "      <td>Red</td>\n",
              "      <td>bot</td>\n",
              "      <td>y4</td>\n",
              "      <td>Victory Five</td>\n",
              "      <td>Bard</td>\n",
              "      <td>2097</td>\n",
              "      <td>1</td>\n",
              "      <td>1</td>\n",
              "      <td>1</td>\n",
              "      <td>15</td>\n",
              "      <td>21</td>\n",
              "      <td>5</td>\n",
              "      <td>8212</td>\n",
              "      <td>234.9642</td>\n",
              "      <td>0.106997</td>\n",
              "      <td>69</td>\n",
              "      <td>1.9742</td>\n",
              "      <td>22</td>\n",
              "      <td>127.0</td>\n",
              "      <td>3.6338</td>\n",
              "      <td>8509</td>\n",
              "      <td>113.1903</td>\n",
              "      <td>0.097286</td>\n",
              "      <td>34.0</td>\n",
              "      <td>0.9728</td>\n",
              "    </tr>\n",
              "    <tr>\n",
              "      <th>241</th>\n",
              "      <td>LEC</td>\n",
              "      <td>2020</td>\n",
              "      <td>2020-02-22 16:48:53</td>\n",
              "      <td>10.03</td>\n",
              "      <td>Blue</td>\n",
              "      <td>sup</td>\n",
              "      <td>Tore</td>\n",
              "      <td>Excel Esports</td>\n",
              "      <td>Rakan</td>\n",
              "      <td>2845</td>\n",
              "      <td>1</td>\n",
              "      <td>0</td>\n",
              "      <td>3</td>\n",
              "      <td>6</td>\n",
              "      <td>10</td>\n",
              "      <td>13</td>\n",
              "      <td>6621</td>\n",
              "      <td>139.6344</td>\n",
              "      <td>0.062461</td>\n",
              "      <td>72</td>\n",
              "      <td>1.5185</td>\n",
              "      <td>43</td>\n",
              "      <td>183.0</td>\n",
              "      <td>3.8594</td>\n",
              "      <td>10842</td>\n",
              "      <td>100.4499</td>\n",
              "      <td>0.086468</td>\n",
              "      <td>47.0</td>\n",
              "      <td>0.9912</td>\n",
              "    </tr>\n",
              "    <tr>\n",
              "      <th>288</th>\n",
              "      <td>LPL</td>\n",
              "      <td>2020</td>\n",
              "      <td>2020-06-29 13:15:00</td>\n",
              "      <td>10.12</td>\n",
              "      <td>Red</td>\n",
              "      <td>sup</td>\n",
              "      <td>ppgod</td>\n",
              "      <td>Victory Five</td>\n",
              "      <td>Bard</td>\n",
              "      <td>1711</td>\n",
              "      <td>0</td>\n",
              "      <td>0</td>\n",
              "      <td>5</td>\n",
              "      <td>5</td>\n",
              "      <td>7</td>\n",
              "      <td>16</td>\n",
              "      <td>3840</td>\n",
              "      <td>134.6581</td>\n",
              "      <td>0.087773</td>\n",
              "      <td>63</td>\n",
              "      <td>2.2092</td>\n",
              "      <td>15</td>\n",
              "      <td>102.0</td>\n",
              "      <td>3.5769</td>\n",
              "      <td>6088</td>\n",
              "      <td>81.4261</td>\n",
              "      <td>0.089135</td>\n",
              "      <td>32.0</td>\n",
              "      <td>1.1222</td>\n",
              "    </tr>\n",
              "    <tr>\n",
              "      <th>323</th>\n",
              "      <td>LPL</td>\n",
              "      <td>2020</td>\n",
              "      <td>2020-07-29 12:59:00</td>\n",
              "      <td>10.14</td>\n",
              "      <td>Red</td>\n",
              "      <td>sup</td>\n",
              "      <td>Mark</td>\n",
              "      <td>LGD Gaming</td>\n",
              "      <td>Bard</td>\n",
              "      <td>1809</td>\n",
              "      <td>0</td>\n",
              "      <td>0</td>\n",
              "      <td>2</td>\n",
              "      <td>6</td>\n",
              "      <td>8</td>\n",
              "      <td>14</td>\n",
              "      <td>5077</td>\n",
              "      <td>168.3914</td>\n",
              "      <td>0.117602</td>\n",
              "      <td>72</td>\n",
              "      <td>2.3881</td>\n",
              "      <td>17</td>\n",
              "      <td>122.0</td>\n",
              "      <td>4.0464</td>\n",
              "      <td>6566</td>\n",
              "      <td>86.2355</td>\n",
              "      <td>0.089671</td>\n",
              "      <td>44.0</td>\n",
              "      <td>1.4594</td>\n",
              "    </tr>\n",
              "    <tr>\n",
              "      <th>351</th>\n",
              "      <td>LCK</td>\n",
              "      <td>2020</td>\n",
              "      <td>2020-07-18 09:54:59</td>\n",
              "      <td>10.13</td>\n",
              "      <td>Blue</td>\n",
              "      <td>sup</td>\n",
              "      <td>Effort</td>\n",
              "      <td>T1</td>\n",
              "      <td>Rakan</td>\n",
              "      <td>2159</td>\n",
              "      <td>0</td>\n",
              "      <td>0</td>\n",
              "      <td>3</td>\n",
              "      <td>5</td>\n",
              "      <td>8</td>\n",
              "      <td>16</td>\n",
              "      <td>3923</td>\n",
              "      <td>109.0227</td>\n",
              "      <td>0.072880</td>\n",
              "      <td>105</td>\n",
              "      <td>2.9180</td>\n",
              "      <td>23</td>\n",
              "      <td>155.0</td>\n",
              "      <td>4.3075</td>\n",
              "      <td>7580</td>\n",
              "      <td>80.5929</td>\n",
              "      <td>0.085546</td>\n",
              "      <td>43.0</td>\n",
              "      <td>1.1950</td>\n",
              "    </tr>\n",
              "    <tr>\n",
              "      <th>352</th>\n",
              "      <td>LPL</td>\n",
              "      <td>2020</td>\n",
              "      <td>2020-06-10 11:52:00</td>\n",
              "      <td>10.11</td>\n",
              "      <td>Red</td>\n",
              "      <td>sup</td>\n",
              "      <td>SwordArt</td>\n",
              "      <td>Suning</td>\n",
              "      <td>Bard</td>\n",
              "      <td>2431</td>\n",
              "      <td>0</td>\n",
              "      <td>1</td>\n",
              "      <td>2</td>\n",
              "      <td>11</td>\n",
              "      <td>13</td>\n",
              "      <td>23</td>\n",
              "      <td>15023</td>\n",
              "      <td>370.7857</td>\n",
              "      <td>0.152670</td>\n",
              "      <td>111</td>\n",
              "      <td>2.7396</td>\n",
              "      <td>22</td>\n",
              "      <td>170.0</td>\n",
              "      <td>4.1958</td>\n",
              "      <td>9347</td>\n",
              "      <td>101.4891</td>\n",
              "      <td>0.098476</td>\n",
              "      <td>54.0</td>\n",
              "      <td>1.3328</td>\n",
              "    </tr>\n",
              "    <tr>\n",
              "      <th>360</th>\n",
              "      <td>LPL</td>\n",
              "      <td>2020</td>\n",
              "      <td>2020-07-09 11:56:00</td>\n",
              "      <td>10.13</td>\n",
              "      <td>Red</td>\n",
              "      <td>sup</td>\n",
              "      <td>LvMao</td>\n",
              "      <td>JD Gaming</td>\n",
              "      <td>Bard</td>\n",
              "      <td>2230</td>\n",
              "      <td>1</td>\n",
              "      <td>0</td>\n",
              "      <td>1</td>\n",
              "      <td>6</td>\n",
              "      <td>11</td>\n",
              "      <td>3</td>\n",
              "      <td>5068</td>\n",
              "      <td>136.3587</td>\n",
              "      <td>0.059163</td>\n",
              "      <td>96</td>\n",
              "      <td>2.5830</td>\n",
              "      <td>18</td>\n",
              "      <td>142.0</td>\n",
              "      <td>3.8206</td>\n",
              "      <td>8469</td>\n",
              "      <td>98.0448</td>\n",
              "      <td>0.076374</td>\n",
              "      <td>51.0</td>\n",
              "      <td>1.3722</td>\n",
              "    </tr>\n",
              "    <tr>\n",
              "      <th>366</th>\n",
              "      <td>LCS</td>\n",
              "      <td>2020</td>\n",
              "      <td>2020-06-27 00:39:52</td>\n",
              "      <td>10.12</td>\n",
              "      <td>Blue</td>\n",
              "      <td>sup</td>\n",
              "      <td>IgNar</td>\n",
              "      <td>FlyQuest</td>\n",
              "      <td>Pantheon</td>\n",
              "      <td>2151</td>\n",
              "      <td>1</td>\n",
              "      <td>1</td>\n",
              "      <td>5</td>\n",
              "      <td>6</td>\n",
              "      <td>17</td>\n",
              "      <td>12</td>\n",
              "      <td>5840</td>\n",
              "      <td>162.9010</td>\n",
              "      <td>0.077877</td>\n",
              "      <td>52</td>\n",
              "      <td>1.4505</td>\n",
              "      <td>39</td>\n",
              "      <td>126.0</td>\n",
              "      <td>3.5146</td>\n",
              "      <td>8985</td>\n",
              "      <td>120.5300</td>\n",
              "      <td>0.096114</td>\n",
              "      <td>70.0</td>\n",
              "      <td>1.9526</td>\n",
              "    </tr>\n",
              "    <tr>\n",
              "      <th>384</th>\n",
              "      <td>LCK</td>\n",
              "      <td>2020</td>\n",
              "      <td>2020-07-12 08:44:51</td>\n",
              "      <td>10.13</td>\n",
              "      <td>Blue</td>\n",
              "      <td>sup</td>\n",
              "      <td>GuGer</td>\n",
              "      <td>Team Dynamics</td>\n",
              "      <td>Bard</td>\n",
              "      <td>1715</td>\n",
              "      <td>1</td>\n",
              "      <td>0</td>\n",
              "      <td>0</td>\n",
              "      <td>6</td>\n",
              "      <td>10</td>\n",
              "      <td>1</td>\n",
              "      <td>2067</td>\n",
              "      <td>72.3149</td>\n",
              "      <td>0.050841</td>\n",
              "      <td>84</td>\n",
              "      <td>2.9388</td>\n",
              "      <td>17</td>\n",
              "      <td>116.0</td>\n",
              "      <td>4.0583</td>\n",
              "      <td>6668</td>\n",
              "      <td>101.2478</td>\n",
              "      <td>0.082810</td>\n",
              "      <td>49.0</td>\n",
              "      <td>1.7143</td>\n",
              "    </tr>\n",
              "    <tr>\n",
              "      <th>399</th>\n",
              "      <td>LEC</td>\n",
              "      <td>2020</td>\n",
              "      <td>2020-07-04 15:21:13</td>\n",
              "      <td>10.13</td>\n",
              "      <td>Blue</td>\n",
              "      <td>sup</td>\n",
              "      <td>Labrov</td>\n",
              "      <td>Team Vitality</td>\n",
              "      <td>Bard</td>\n",
              "      <td>1902</td>\n",
              "      <td>1</td>\n",
              "      <td>0</td>\n",
              "      <td>0</td>\n",
              "      <td>9</td>\n",
              "      <td>12</td>\n",
              "      <td>4</td>\n",
              "      <td>5377</td>\n",
              "      <td>169.6215</td>\n",
              "      <td>0.106296</td>\n",
              "      <td>88</td>\n",
              "      <td>2.7760</td>\n",
              "      <td>36</td>\n",
              "      <td>165.0</td>\n",
              "      <td>5.2050</td>\n",
              "      <td>8030</td>\n",
              "      <td>122.2082</td>\n",
              "      <td>0.107930</td>\n",
              "      <td>70.0</td>\n",
              "      <td>2.2082</td>\n",
              "    </tr>\n",
              "    <tr>\n",
              "      <th>435</th>\n",
              "      <td>LPL</td>\n",
              "      <td>2020</td>\n",
              "      <td>2020-03-28 09:02:00</td>\n",
              "      <td>10.05</td>\n",
              "      <td>Red</td>\n",
              "      <td>jng</td>\n",
              "      <td>Meteor</td>\n",
              "      <td>Bilibili Gaming</td>\n",
              "      <td>Jarvan IV</td>\n",
              "      <td>1772</td>\n",
              "      <td>1</td>\n",
              "      <td>1</td>\n",
              "      <td>0</td>\n",
              "      <td>13</td>\n",
              "      <td>15</td>\n",
              "      <td>4</td>\n",
              "      <td>7589</td>\n",
              "      <td>256.9639</td>\n",
              "      <td>0.110743</td>\n",
              "      <td>48</td>\n",
              "      <td>1.6253</td>\n",
              "      <td>27</td>\n",
              "      <td>119.0</td>\n",
              "      <td>4.0293</td>\n",
              "      <td>10394</td>\n",
              "      <td>220.2257</td>\n",
              "      <td>0.176254</td>\n",
              "      <td>159.0</td>\n",
              "      <td>5.3837</td>\n",
              "    </tr>\n",
              "    <tr>\n",
              "      <th>550</th>\n",
              "      <td>LCK</td>\n",
              "      <td>2020</td>\n",
              "      <td>2020-08-20 06:43:58</td>\n",
              "      <td>10.16</td>\n",
              "      <td>Blue</td>\n",
              "      <td>sup</td>\n",
              "      <td>BeryL</td>\n",
              "      <td>DAMWON Gaming</td>\n",
              "      <td>Leona</td>\n",
              "      <td>1757</td>\n",
              "      <td>1</td>\n",
              "      <td>0</td>\n",
              "      <td>1</td>\n",
              "      <td>8</td>\n",
              "      <td>17</td>\n",
              "      <td>4</td>\n",
              "      <td>1235</td>\n",
              "      <td>42.1742</td>\n",
              "      <td>0.022990</td>\n",
              "      <td>50</td>\n",
              "      <td>1.7075</td>\n",
              "      <td>28</td>\n",
              "      <td>113.0</td>\n",
              "      <td>3.8589</td>\n",
              "      <td>7218</td>\n",
              "      <td>114.6727</td>\n",
              "      <td>0.081280</td>\n",
              "      <td>47.0</td>\n",
              "      <td>1.6050</td>\n",
              "    </tr>\n",
              "    <tr>\n",
              "      <th>617</th>\n",
              "      <td>LCK</td>\n",
              "      <td>2020</td>\n",
              "      <td>2020-08-08 09:49:03</td>\n",
              "      <td>10.15</td>\n",
              "      <td>Blue</td>\n",
              "      <td>sup</td>\n",
              "      <td>BeryL</td>\n",
              "      <td>DAMWON Gaming</td>\n",
              "      <td>Bard</td>\n",
              "      <td>1790</td>\n",
              "      <td>1</td>\n",
              "      <td>2</td>\n",
              "      <td>0</td>\n",
              "      <td>13</td>\n",
              "      <td>19</td>\n",
              "      <td>7</td>\n",
              "      <td>5094</td>\n",
              "      <td>170.7486</td>\n",
              "      <td>0.071293</td>\n",
              "      <td>73</td>\n",
              "      <td>2.4469</td>\n",
              "      <td>29</td>\n",
              "      <td>126.0</td>\n",
              "      <td>4.2235</td>\n",
              "      <td>8107</td>\n",
              "      <td>140.1117</td>\n",
              "      <td>0.105110</td>\n",
              "      <td>53.0</td>\n",
              "      <td>1.7765</td>\n",
              "    </tr>\n",
              "    <tr>\n",
              "      <th>636</th>\n",
              "      <td>LCK</td>\n",
              "      <td>2020</td>\n",
              "      <td>2020-04-11 09:52:27</td>\n",
              "      <td>10.06</td>\n",
              "      <td>Blue</td>\n",
              "      <td>jng</td>\n",
              "      <td>Flawless</td>\n",
              "      <td>SeolHaeOne Prince</td>\n",
              "      <td>Trundle</td>\n",
              "      <td>2327</td>\n",
              "      <td>1</td>\n",
              "      <td>0</td>\n",
              "      <td>1</td>\n",
              "      <td>6</td>\n",
              "      <td>9</td>\n",
              "      <td>5</td>\n",
              "      <td>2849</td>\n",
              "      <td>73.4594</td>\n",
              "      <td>0.055371</td>\n",
              "      <td>54</td>\n",
              "      <td>1.3924</td>\n",
              "      <td>37</td>\n",
              "      <td>133.0</td>\n",
              "      <td>3.4293</td>\n",
              "      <td>11617</td>\n",
              "      <td>170.0215</td>\n",
              "      <td>0.152004</td>\n",
              "      <td>217.0</td>\n",
              "      <td>5.5952</td>\n",
              "    </tr>\n",
              "    <tr>\n",
              "      <th>701</th>\n",
              "      <td>LPL</td>\n",
              "      <td>2020</td>\n",
              "      <td>2020-08-15 09:18:00</td>\n",
              "      <td>10.16</td>\n",
              "      <td>Red</td>\n",
              "      <td>sup</td>\n",
              "      <td>ppgod</td>\n",
              "      <td>Victory Five</td>\n",
              "      <td>Bard</td>\n",
              "      <td>1966</td>\n",
              "      <td>1</td>\n",
              "      <td>2</td>\n",
              "      <td>0</td>\n",
              "      <td>8</td>\n",
              "      <td>14</td>\n",
              "      <td>9</td>\n",
              "      <td>3426</td>\n",
              "      <td>104.5575</td>\n",
              "      <td>0.064928</td>\n",
              "      <td>71</td>\n",
              "      <td>2.1668</td>\n",
              "      <td>15</td>\n",
              "      <td>111.0</td>\n",
              "      <td>3.3876</td>\n",
              "      <td>8126</td>\n",
              "      <td>117.1923</td>\n",
              "      <td>0.097994</td>\n",
              "      <td>40.0</td>\n",
              "      <td>1.2208</td>\n",
              "    </tr>\n",
              "    <tr>\n",
              "      <th>747</th>\n",
              "      <td>LPL</td>\n",
              "      <td>2020</td>\n",
              "      <td>2020-07-20 11:17:00</td>\n",
              "      <td>10.14</td>\n",
              "      <td>Red</td>\n",
              "      <td>sup</td>\n",
              "      <td>ppgod</td>\n",
              "      <td>Victory Five</td>\n",
              "      <td>Bard</td>\n",
              "      <td>1432</td>\n",
              "      <td>1</td>\n",
              "      <td>0</td>\n",
              "      <td>2</td>\n",
              "      <td>13</td>\n",
              "      <td>16</td>\n",
              "      <td>6</td>\n",
              "      <td>2763</td>\n",
              "      <td>115.7682</td>\n",
              "      <td>0.071595</td>\n",
              "      <td>45</td>\n",
              "      <td>1.8855</td>\n",
              "      <td>13</td>\n",
              "      <td>83.0</td>\n",
              "      <td>3.4777</td>\n",
              "      <td>7176</td>\n",
              "      <td>166.7179</td>\n",
              "      <td>0.120845</td>\n",
              "      <td>40.0</td>\n",
              "      <td>1.6760</td>\n",
              "    </tr>\n",
              "    <tr>\n",
              "      <th>750</th>\n",
              "      <td>LCS</td>\n",
              "      <td>2020</td>\n",
              "      <td>2020-08-30 23:55:50</td>\n",
              "      <td>10.16</td>\n",
              "      <td>Red</td>\n",
              "      <td>sup</td>\n",
              "      <td>CoreJJ</td>\n",
              "      <td>Team Liquid</td>\n",
              "      <td>Bard</td>\n",
              "      <td>2104</td>\n",
              "      <td>0</td>\n",
              "      <td>0</td>\n",
              "      <td>3</td>\n",
              "      <td>1</td>\n",
              "      <td>1</td>\n",
              "      <td>14</td>\n",
              "      <td>2302</td>\n",
              "      <td>65.6464</td>\n",
              "      <td>0.057804</td>\n",
              "      <td>79</td>\n",
              "      <td>2.2529</td>\n",
              "      <td>22</td>\n",
              "      <td>131.0</td>\n",
              "      <td>3.7357</td>\n",
              "      <td>6672</td>\n",
              "      <td>60.0000</td>\n",
              "      <td>0.071441</td>\n",
              "      <td>45.0</td>\n",
              "      <td>1.2833</td>\n",
              "    </tr>\n",
              "    <tr>\n",
              "      <th>837</th>\n",
              "      <td>LCS</td>\n",
              "      <td>2020</td>\n",
              "      <td>2020-08-30 21:51:36</td>\n",
              "      <td>10.16</td>\n",
              "      <td>Red</td>\n",
              "      <td>sup</td>\n",
              "      <td>CoreJJ</td>\n",
              "      <td>Team Liquid</td>\n",
              "      <td>Zyra</td>\n",
              "      <td>1873</td>\n",
              "      <td>0</td>\n",
              "      <td>0</td>\n",
              "      <td>5</td>\n",
              "      <td>2</td>\n",
              "      <td>5</td>\n",
              "      <td>15</td>\n",
              "      <td>9877</td>\n",
              "      <td>316.4015</td>\n",
              "      <td>0.168030</td>\n",
              "      <td>63</td>\n",
              "      <td>2.0182</td>\n",
              "      <td>17</td>\n",
              "      <td>105.0</td>\n",
              "      <td>3.3636</td>\n",
              "      <td>6242</td>\n",
              "      <td>68.7133</td>\n",
              "      <td>0.081074</td>\n",
              "      <td>26.0</td>\n",
              "      <td>0.8329</td>\n",
              "    </tr>\n",
              "    <tr>\n",
              "      <th>864</th>\n",
              "      <td>LPL</td>\n",
              "      <td>2020</td>\n",
              "      <td>2020-07-03 11:04:00</td>\n",
              "      <td>10.13</td>\n",
              "      <td>Red</td>\n",
              "      <td>sup</td>\n",
              "      <td>ShiauC</td>\n",
              "      <td>eStar</td>\n",
              "      <td>Shen</td>\n",
              "      <td>2338</td>\n",
              "      <td>1</td>\n",
              "      <td>1</td>\n",
              "      <td>4</td>\n",
              "      <td>18</td>\n",
              "      <td>22</td>\n",
              "      <td>21</td>\n",
              "      <td>8277</td>\n",
              "      <td>212.4123</td>\n",
              "      <td>0.077096</td>\n",
              "      <td>111</td>\n",
              "      <td>2.8486</td>\n",
              "      <td>24</td>\n",
              "      <td>162.0</td>\n",
              "      <td>4.1574</td>\n",
              "      <td>9127</td>\n",
              "      <td>104.7562</td>\n",
              "      <td>0.089593</td>\n",
              "      <td>49.0</td>\n",
              "      <td>1.2575</td>\n",
              "    </tr>\n",
              "    <tr>\n",
              "      <th>871</th>\n",
              "      <td>LPL</td>\n",
              "      <td>2020</td>\n",
              "      <td>2020-08-02 10:00:00</td>\n",
              "      <td>10.15</td>\n",
              "      <td>Red</td>\n",
              "      <td>sup</td>\n",
              "      <td>Missing</td>\n",
              "      <td>Team WE</td>\n",
              "      <td>Bard</td>\n",
              "      <td>2118</td>\n",
              "      <td>1</td>\n",
              "      <td>3</td>\n",
              "      <td>6</td>\n",
              "      <td>21</td>\n",
              "      <td>27</td>\n",
              "      <td>20</td>\n",
              "      <td>13803</td>\n",
              "      <td>391.0198</td>\n",
              "      <td>0.168051</td>\n",
              "      <td>92</td>\n",
              "      <td>2.6062</td>\n",
              "      <td>26</td>\n",
              "      <td>151.0</td>\n",
              "      <td>4.2776</td>\n",
              "      <td>9706</td>\n",
              "      <td>144.7592</td>\n",
              "      <td>0.114774</td>\n",
              "      <td>52.0</td>\n",
              "      <td>1.4731</td>\n",
              "    </tr>\n",
              "    <tr>\n",
              "      <th>982</th>\n",
              "      <td>LCK</td>\n",
              "      <td>2020</td>\n",
              "      <td>2020-02-21 11:26:23</td>\n",
              "      <td>10.03</td>\n",
              "      <td>Red</td>\n",
              "      <td>sup</td>\n",
              "      <td>Life</td>\n",
              "      <td>Gen.G</td>\n",
              "      <td>Braum</td>\n",
              "      <td>2211</td>\n",
              "      <td>0</td>\n",
              "      <td>0</td>\n",
              "      <td>3</td>\n",
              "      <td>1</td>\n",
              "      <td>2</td>\n",
              "      <td>11</td>\n",
              "      <td>3891</td>\n",
              "      <td>105.5902</td>\n",
              "      <td>0.069294</td>\n",
              "      <td>68</td>\n",
              "      <td>1.8453</td>\n",
              "      <td>23</td>\n",
              "      <td>123.0</td>\n",
              "      <td>3.3379</td>\n",
              "      <td>7216</td>\n",
              "      <td>65.9430</td>\n",
              "      <td>0.072738</td>\n",
              "      <td>43.0</td>\n",
              "      <td>1.1669</td>\n",
              "    </tr>\n",
              "    <tr>\n",
              "      <th>999</th>\n",
              "      <td>LPL</td>\n",
              "      <td>2020</td>\n",
              "      <td>2020-08-05 09:19:00</td>\n",
              "      <td>10.15</td>\n",
              "      <td>Red</td>\n",
              "      <td>sup</td>\n",
              "      <td>Mark</td>\n",
              "      <td>LGD Gaming</td>\n",
              "      <td>Bard</td>\n",
              "      <td>1684</td>\n",
              "      <td>0</td>\n",
              "      <td>0</td>\n",
              "      <td>2</td>\n",
              "      <td>2</td>\n",
              "      <td>3</td>\n",
              "      <td>19</td>\n",
              "      <td>2530</td>\n",
              "      <td>90.1425</td>\n",
              "      <td>0.062860</td>\n",
              "      <td>64</td>\n",
              "      <td>2.2803</td>\n",
              "      <td>12</td>\n",
              "      <td>95.0</td>\n",
              "      <td>3.3848</td>\n",
              "      <td>5795</td>\n",
              "      <td>74.2518</td>\n",
              "      <td>0.088314</td>\n",
              "      <td>35.0</td>\n",
              "      <td>1.2470</td>\n",
              "    </tr>\n",
              "  </tbody>\n",
              "</table>\n",
              "</div>"
            ],
            "text/plain": [
              "    league  year                 date  ...  earnedgoldshare total cs    cspm\n",
              "36     LEC  2020  2020-09-05 14:03:49  ...         0.070804     39.0  1.0695\n",
              "59     LCS  2020  2020-03-08 01:10:53  ...         0.183648     68.0  2.2054\n",
              "141    LPL  2020  2020-07-10 12:16:00  ...         0.206345    216.0  6.5290\n",
              "163    LCK  2020  2020-03-05 08:02:36  ...         0.164494    257.0  5.4029\n",
              "204    LCK  2020  2020-08-14 08:41:27  ...         0.108752     46.0  1.4895\n",
              "212    LCK  2020  2020-08-20 11:42:47  ...         0.074088     62.0  1.3917\n",
              "221    LPL  2020  2020-03-18 07:09:00  ...         0.097286     34.0  0.9728\n",
              "241    LEC  2020  2020-02-22 16:48:53  ...         0.086468     47.0  0.9912\n",
              "288    LPL  2020  2020-06-29 13:15:00  ...         0.089135     32.0  1.1222\n",
              "323    LPL  2020  2020-07-29 12:59:00  ...         0.089671     44.0  1.4594\n",
              "351    LCK  2020  2020-07-18 09:54:59  ...         0.085546     43.0  1.1950\n",
              "352    LPL  2020  2020-06-10 11:52:00  ...         0.098476     54.0  1.3328\n",
              "360    LPL  2020  2020-07-09 11:56:00  ...         0.076374     51.0  1.3722\n",
              "366    LCS  2020  2020-06-27 00:39:52  ...         0.096114     70.0  1.9526\n",
              "384    LCK  2020  2020-07-12 08:44:51  ...         0.082810     49.0  1.7143\n",
              "399    LEC  2020  2020-07-04 15:21:13  ...         0.107930     70.0  2.2082\n",
              "435    LPL  2020  2020-03-28 09:02:00  ...         0.176254    159.0  5.3837\n",
              "550    LCK  2020  2020-08-20 06:43:58  ...         0.081280     47.0  1.6050\n",
              "617    LCK  2020  2020-08-08 09:49:03  ...         0.105110     53.0  1.7765\n",
              "636    LCK  2020  2020-04-11 09:52:27  ...         0.152004    217.0  5.5952\n",
              "701    LPL  2020  2020-08-15 09:18:00  ...         0.097994     40.0  1.2208\n",
              "747    LPL  2020  2020-07-20 11:17:00  ...         0.120845     40.0  1.6760\n",
              "750    LCS  2020  2020-08-30 23:55:50  ...         0.071441     45.0  1.2833\n",
              "837    LCS  2020  2020-08-30 21:51:36  ...         0.081074     26.0  0.8329\n",
              "864    LPL  2020  2020-07-03 11:04:00  ...         0.089593     49.0  1.2575\n",
              "871    LPL  2020  2020-08-02 10:00:00  ...         0.114774     52.0  1.4731\n",
              "982    LCK  2020  2020-02-21 11:26:23  ...         0.072738     43.0  1.1669\n",
              "999    LPL  2020  2020-08-05 09:19:00  ...         0.088314     35.0  1.2470\n",
              "\n",
              "[28 rows x 29 columns]"
            ]
          },
          "metadata": {
            "tags": []
          },
          "execution_count": 13
        }
      ]
    },
    {
      "cell_type": "markdown",
      "metadata": {
        "id": "b7UM-NU6qA3S"
      },
      "source": [
        "## Daño infligido por minuto (variable continua)"
      ]
    },
    {
      "cell_type": "markdown",
      "metadata": {
        "id": "5HvpmIroiA9A"
      },
      "source": [
        "Para empezar observamos la media y el rango en el que se encuentran la mayoria de las muestras [197.6 - 501.87] con media 366.5, bastante coherente dado que la media de daño base ronda los 60 de daño de ataque, y que hasta el minuto 10/15 solo ocurren peleas esporadicas y los jugadores se centran en dar el último golpe a los subditos para obtener oro pero no están peleando. Teniendo un autoataque cada 5 segundos de media serian unos (371.4/(60/5)) = 30.95, bastante coherente pensando que para asegurar el último golpe a un subdito deben asestar un autoataque que el daño inflingido excede por bastante su daño de ataque.\r\n",
        "\r\n",
        "En cuanto a el coeficiente de asimetria estandarizado y la curtosis estandarizada, parece que se trata de una distribución similar a una normal, aunque con una muy ligera asimetría positiva y un poco leptocúrtica."
      ]
    },
    {
      "cell_type": "code",
      "metadata": {
        "colab": {
          "base_uri": "https://localhost:8080/",
          "height": 480
        },
        "id": "6Gqh8Kt3Rkv-",
        "outputId": "a1028271-95d8-437e-c975-5581ba3dafa3"
      },
      "source": [
        "# dpm\r\n",
        "print(\"Asimetría -> \",games_sample['dpm'].skew())\r\n",
        "print(\"Curtosis -> \",games_sample['dpm'].kurt())\r\n",
        "print(games_sample['dpm'].describe())\r\n",
        "sns.histplot(data=games_sample, x=\"dpm\", bins=30)"
      ],
      "execution_count": null,
      "outputs": [
        {
          "output_type": "stream",
          "text": [
            "Asimetría ->  0.7383540518021628\n",
            "Curtosis ->  0.19424475679569841\n",
            "count    1001.000000\n",
            "mean      360.370830\n",
            "std       218.525826\n",
            "min        28.027000\n",
            "25%       170.179500\n",
            "50%       328.503300\n",
            "75%       501.193700\n",
            "max      1198.813300\n",
            "Name: dpm, dtype: float64\n"
          ],
          "name": "stdout"
        },
        {
          "output_type": "execute_result",
          "data": {
            "text/plain": [
              "<matplotlib.axes._subplots.AxesSubplot at 0x7f52d21e63c8>"
            ]
          },
          "metadata": {
            "tags": []
          },
          "execution_count": 14
        },
        {
          "output_type": "display_data",
          "data": {
            "image/png": "[encoded data removed]",
            "text/plain": [
              "<Figure size 432x288 with 1 Axes>"
            ]
          },
          "metadata": {
            "tags": [],
            "needs_background": "light"
          }
        }
      ]
    },
    {
      "cell_type": "markdown",
      "metadata": {
        "id": "klF-RbVITLz0"
      },
      "source": [
        "En el diagrama de Box-Whisker podemos ver lo que parece ser una distribución similar a una normal aunque tiene una leve asimetría positiva, ademas se observan unos outliers con valores superiores a 900.\r\n",
        "\r\n",
        "Estos valores parecen ser unos pocos correspondientes a las lineas de top, mid y bot (refiriendose este último a la posición de ad carry), tiene sentido que sean estas lineas debido a que son los roles donde se focaliza tener campeones con gran daño, suelen ser las principales fuentes de ataque del equipo. Ademas, si nos fijamos en que campeones son, vemos que son personajes que al inicio de la partida son más debiles, pero a partir del minuto 10 de partida empiezan a tener una gran cantidad de daño, más factores para entender porque encontramos estos outliers."
      ]
    },
    {
      "cell_type": "code",
      "metadata": {
        "colab": {
          "base_uri": "https://localhost:8080/",
          "height": 748
        },
        "id": "oOpbcwtprzSp",
        "outputId": "bc945a84-888e-4985-8ddf-d0c9b1ccf5be"
      },
      "source": [
        "sns.boxplot( x=games_sample.dpm )\r\n",
        "\r\n",
        "print(\"muestras totales: \",games_sample['dpm'].count())\r\n",
        "for x in list(pd.unique(games_sample['league'])):\r\n",
        "  print(x, \": \", games_sample[(games_sample['league'] == x)]['dpm'].count())\r\n",
        "\r\n",
        "print(\"\")\r\n",
        "print(\"muestras > 900: \",games_sample[games_sample['dpm'] > 900]['dpm'].count())\r\n",
        "# print(pd.unique(games_sample[games_sample['dpm'] > 900]['league']))\r\n",
        "for x in list(pd.unique(games_sample[games_sample['dpm'] > 900]['league'])):\r\n",
        "  print(x, \": \", games_sample[(games_sample['league'] == x) & (games_sample['dpm'] > 900)]['dpm'].count())\r\n",
        "print(\"\")\r\n",
        "\r\n",
        "dpm_outliers = games_sample[(games_sample['dpm'] > 900)]\r\n",
        "dpm_outliers_roles = list(pd.unique(dpm_outliers['position']))\r\n",
        "for role in dpm_outliers_roles:\r\n",
        "  print(role, \" games (>900 dpm): \", (dpm_outliers[dpm_outliers['position'] == role])['position'].count())\r\n",
        "  print(list(pd.unique(dpm_outliers[dpm_outliers['position'] == role]['champion'])),\"\\n\")\r\n",
        "\r\n",
        "print(\"\")\r\n",
        "print(\"muestras < 900: \",games_sample[(games_sample['dpm'] < 900)]['dpm'].count())\r\n",
        "for x in list(pd.unique(games_sample[(games_sample['dpm'] < 900)]['league'])):\r\n",
        "  print(x, \": \", games_sample[(games_sample['league'] == x) & (games_sample['dpm'] < 900)]['dpm'].count())\r\n",
        "print(\"\")\r\n"
      ],
      "execution_count": null,
      "outputs": [
        {
          "output_type": "stream",
          "text": [
            "muestras totales:  1001\n",
            "LPL :  424\n",
            "LCK :  282\n",
            "LCS :  154\n",
            "LEC :  141\n",
            "\n",
            "muestras > 900:  16\n",
            "LPL :  7\n",
            "LEC :  6\n",
            "LCS :  1\n",
            "LCK :  2\n",
            "\n",
            "bot  games (>900 dpm):  10\n",
            "['Varus', 'Vayne', 'Miss Fortune', 'Caitlyn', 'Kalista', 'Aphelios', 'Ezreal'] \n",
            "\n",
            "mid  games (>900 dpm):  5\n",
            "['Kassadin', 'Rumble', 'Corki'] \n",
            "\n",
            "top  games (>900 dpm):  1\n",
            "['Kennen'] \n",
            "\n",
            "\n",
            "muestras < 900:  985\n",
            "LPL :  417\n",
            "LCK :  280\n",
            "LCS :  153\n",
            "LEC :  135\n",
            "\n"
          ],
          "name": "stdout"
        },
        {
          "output_type": "display_data",
          "data": {
            "image/png": "[encoded data removed]",
            "text/plain": [
              "<Figure size 432x288 with 1 Axes>"
            ]
          },
          "metadata": {
            "tags": [],
            "needs_background": "light"
          }
        }
      ]
    },
    {
      "cell_type": "markdown",
      "metadata": {
        "id": "b3eMIOLWhzTw"
      },
      "source": [
        "## Total de Subditos eliminados (variable discreta)\r\n"
      ]
    },
    {
      "cell_type": "code",
      "metadata": {
        "colab": {
          "base_uri": "https://localhost:8080/",
          "height": 480
        },
        "id": "UBMd8Rr2h_FO",
        "outputId": "498e4bad-01c8-46bf-dbe8-054083b4c242"
      },
      "source": [
        "# total cs\r\n",
        "print(\"Asimetría -> \",games_sample['total cs'].skew())\r\n",
        "print(\"Curtosis -> \",games_sample['total cs'].kurt())\r\n",
        "print(games_sample['total cs'].describe())\r\n",
        "sns.histplot(data=games_sample, x=\"total cs\", bins=30)"
      ],
      "execution_count": null,
      "outputs": [
        {
          "output_type": "stream",
          "text": [
            "Asimetría ->  -0.09921599367157831\n",
            "Curtosis ->  -0.8476600953914497\n",
            "count    1001.000000\n",
            "mean      202.848152\n",
            "std       116.671303\n",
            "min         4.000000\n",
            "25%       115.000000\n",
            "50%       219.000000\n",
            "75%       283.000000\n",
            "max       556.000000\n",
            "Name: total cs, dtype: float64\n"
          ],
          "name": "stdout"
        },
        {
          "output_type": "execute_result",
          "data": {
            "text/plain": [
              "<matplotlib.axes._subplots.AxesSubplot at 0x7f52d21325f8>"
            ]
          },
          "metadata": {
            "tags": []
          },
          "execution_count": 16
        },
        {
          "output_type": "display_data",
          "data": {
            "image/png": "[encoded data removed]",
            "text/plain": [
              "<Figure size 432x288 with 1 Axes>"
            ]
          },
          "metadata": {
            "tags": [],
            "needs_background": "light"
          }
        }
      ]
    },
    {
      "cell_type": "code",
      "metadata": {
        "colab": {
          "base_uri": "https://localhost:8080/",
          "height": 724
        },
        "id": "KXPgKF6K1OSq",
        "outputId": "73adfca1-7afb-4b45-92b4-f5b27951dd42"
      },
      "source": [
        "sns.boxplot( x=games_sample[\"total cs\"] )\r\n",
        "\r\n",
        "print(\"muestras totales: \",games_sample['total cs'].count())\r\n",
        "for x in list(pd.unique(games_sample['league'])):\r\n",
        "  print(x, \": \", games_sample[(games_sample['league'] == x)]['total cs'].count())\r\n",
        "\r\n",
        "print(\"\")\r\n",
        "print(\"muestras > 500: \",games_sample[games_sample['total cs'] > 500]['total cs'].count())\r\n",
        "# print(pd.unique(games_sample[games_sample['total cs'] > 500]['league']))\r\n",
        "for x in list(pd.unique(games_sample[games_sample['total cs'] > 500]['league'])):\r\n",
        "  print(x, \": \", games_sample[(games_sample['league'] == x) & (games_sample['total cs'] > 500)]['total cs'].count())\r\n",
        "\r\n",
        "print(\"\")\r\n",
        "print(\"muestras < 500: \",games_sample[(games_sample['total cs'] < 500)]['total cs'].count())\r\n",
        "for x in list(pd.unique(games_sample[(games_sample['total cs'] < 500)]['league'])):\r\n",
        "  print(x, \": \", games_sample[(games_sample['league'] == x) & (games_sample['total cs'] < 500)]['total cs'].count())\r\n",
        "\r\n",
        "games_sample[(games_sample['total cs'] > 500)]"
      ],
      "execution_count": null,
      "outputs": [
        {
          "output_type": "stream",
          "text": [
            "muestras totales:  1001\n",
            "LPL :  424\n",
            "LCK :  282\n",
            "LCS :  154\n",
            "LEC :  141\n",
            "\n",
            "muestras > 500:  2\n",
            "LCK :  1\n",
            "LCS :  1\n",
            "\n",
            "muestras < 500:  999\n",
            "LPL :  424\n",
            "LCK :  281\n",
            "LCS :  153\n",
            "LEC :  141\n"
          ],
          "name": "stdout"
        },
        {
          "output_type": "execute_result",
          "data": {
            "text/html": [
              "<div>\n",
              "<style scoped>\n",
              "    .dataframe tbody tr th:only-of-type {\n",
              "        vertical-align: middle;\n",
              "    }\n",
              "\n",
              "    .dataframe tbody tr th {\n",
              "        vertical-align: top;\n",
              "    }\n",
              "\n",
              "    .dataframe thead th {\n",
              "        text-align: right;\n",
              "    }\n",
              "</style>\n",
              "<table border=\"1\" class=\"dataframe\">\n",
              "  <thead>\n",
              "    <tr style=\"text-align: right;\">\n",
              "      <th></th>\n",
              "      <th>league</th>\n",
              "      <th>year</th>\n",
              "      <th>date</th>\n",
              "      <th>patch</th>\n",
              "      <th>side</th>\n",
              "      <th>position</th>\n",
              "      <th>player</th>\n",
              "      <th>team</th>\n",
              "      <th>champion</th>\n",
              "      <th>gamelength</th>\n",
              "      <th>result</th>\n",
              "      <th>kills</th>\n",
              "      <th>deaths</th>\n",
              "      <th>assists</th>\n",
              "      <th>teamkills</th>\n",
              "      <th>teamdeaths</th>\n",
              "      <th>damagetochampions</th>\n",
              "      <th>dpm</th>\n",
              "      <th>damageshare</th>\n",
              "      <th>wardsplaced</th>\n",
              "      <th>wpm</th>\n",
              "      <th>wardskilled</th>\n",
              "      <th>visionscore</th>\n",
              "      <th>vspm</th>\n",
              "      <th>totalgold</th>\n",
              "      <th>earned gpm</th>\n",
              "      <th>earnedgoldshare</th>\n",
              "      <th>total cs</th>\n",
              "      <th>cspm</th>\n",
              "    </tr>\n",
              "  </thead>\n",
              "  <tbody>\n",
              "    <tr>\n",
              "      <th>23</th>\n",
              "      <td>LCK</td>\n",
              "      <td>2020</td>\n",
              "      <td>2020-07-26 08:34:44</td>\n",
              "      <td>10.14</td>\n",
              "      <td>Blue</td>\n",
              "      <td>bot</td>\n",
              "      <td>HyBriD</td>\n",
              "      <td>SeolHaeOne Prince</td>\n",
              "      <td>Kai'Sa</td>\n",
              "      <td>2729</td>\n",
              "      <td>0</td>\n",
              "      <td>6</td>\n",
              "      <td>2</td>\n",
              "      <td>7</td>\n",
              "      <td>16</td>\n",
              "      <td>21</td>\n",
              "      <td>29258</td>\n",
              "      <td>643.2686</td>\n",
              "      <td>0.263959</td>\n",
              "      <td>16</td>\n",
              "      <td>0.3518</td>\n",
              "      <td>16</td>\n",
              "      <td>45.0</td>\n",
              "      <td>0.9894</td>\n",
              "      <td>21231</td>\n",
              "      <td>338.3217</td>\n",
              "      <td>0.323485</td>\n",
              "      <td>501.0</td>\n",
              "      <td>11.0150</td>\n",
              "    </tr>\n",
              "    <tr>\n",
              "      <th>248</th>\n",
              "      <td>LCS</td>\n",
              "      <td>2020</td>\n",
              "      <td>2020-01-26 20:35:10</td>\n",
              "      <td>10.01</td>\n",
              "      <td>Red</td>\n",
              "      <td>bot</td>\n",
              "      <td>Altec</td>\n",
              "      <td>Immortals</td>\n",
              "      <td>Ezreal</td>\n",
              "      <td>3680</td>\n",
              "      <td>1</td>\n",
              "      <td>4</td>\n",
              "      <td>0</td>\n",
              "      <td>2</td>\n",
              "      <td>9</td>\n",
              "      <td>9</td>\n",
              "      <td>49118</td>\n",
              "      <td>800.8370</td>\n",
              "      <td>0.387708</td>\n",
              "      <td>26</td>\n",
              "      <td>0.4239</td>\n",
              "      <td>24</td>\n",
              "      <td>69.0</td>\n",
              "      <td>1.1250</td>\n",
              "      <td>24942</td>\n",
              "      <td>279.7663</td>\n",
              "      <td>0.297675</td>\n",
              "      <td>556.0</td>\n",
              "      <td>9.0652</td>\n",
              "    </tr>\n",
              "  </tbody>\n",
              "</table>\n",
              "</div>"
            ],
            "text/plain": [
              "    league  year                 date  ...  earnedgoldshare total cs     cspm\n",
              "23     LCK  2020  2020-07-26 08:34:44  ...         0.323485    501.0  11.0150\n",
              "248    LCS  2020  2020-01-26 20:35:10  ...         0.297675    556.0   9.0652\n",
              "\n",
              "[2 rows x 29 columns]"
            ]
          },
          "metadata": {
            "tags": []
          },
          "execution_count": 17
        },
        {
          "output_type": "display_data",
          "data": {
            "image/png": "[encoded data removed]",
            "text/plain": [
              "<Figure size 432x288 with 1 Axes>"
            ]
          },
          "metadata": {
            "tags": [],
            "needs_background": "light"
          }
        }
      ]
    },
    {
      "cell_type": "markdown",
      "metadata": {
        "id": "PY-EZoZN2f0T"
      },
      "source": [
        "## Variables categóricas"
      ]
    },
    {
      "cell_type": "markdown",
      "metadata": {
        "id": "9V3B12Micosv"
      },
      "source": [
        "Para las variables categóricas hemos elegido primero la de ligas, en esta observamos que la LPL (liga china) es la que más partidas tiene, seguida de la LCK (liga coreana). Este repunte de la LPL se debe a que esta liga cuenta con 17 equipos que juegan todas las semanas con un formato de 6 partidas por jornada, la LCK cuenta con el mismo tipo de formato de 6 partidas semanales, pero solo cuenta con 10 equipos (razón por la que tiene menos partidas). Por último la LEC (liga Europea) y la LCS (liga Norteamericana) cuentan con 10 equipos y 2 partidos semanales.\r\n",
        "\r\n",
        "Por lo cual, debido a el numero de partidos que tiene cada liga semanalmente y el numero de equipos, es coherente el balance de muestras por liga."
      ]
    },
    {
      "cell_type": "code",
      "metadata": {
        "colab": {
          "base_uri": "https://localhost:8080/",
          "height": 659
        },
        "id": "75ATHHGr2f_v",
        "outputId": "988ea1a0-3c0d-4699-c832-616da7d440c7"
      },
      "source": [
        "count_data = games_sample.league.value_counts()\r\n",
        "plt.figure(figsize=(10, 10))\r\n",
        "fig = plt.pie( count_data, labels = count_data.index, autopct=\"%.2f\", textprops={\"fontsize\":14} )\r\n",
        "print(games_sample.league.value_counts(normalize=True))"
      ],
      "execution_count": null,
      "outputs": [
        {
          "output_type": "stream",
          "text": [
            "LPL    0.423576\n",
            "LCK    0.281718\n",
            "LCS    0.153846\n",
            "LEC    0.140859\n",
            "Name: league, dtype: float64\n"
          ],
          "name": "stdout"
        },
        {
          "output_type": "display_data",
          "data": {
            "image/png": "[encoded data removed]",
            "text/plain": [
              "<Figure size 720x720 with 1 Axes>"
            ]
          },
          "metadata": {
            "tags": []
          }
        }
      ]
    },
    {
      "cell_type": "markdown",
      "metadata": {
        "id": "6Br9Y-fMexuc"
      },
      "source": [
        "La segunda variable categórica que vamos a analizar es la posición en partida, vemos que están bastante repartidas las muestras, y esto es algo normal dado que en una partida juegan 2 personas de cada posición. La ligera diferencia que se encuentra más notoriamente entre bot y las demas posiciones se debe a que hay datos que se han perdido al limpiar y reducir los datos."
      ]
    },
    {
      "cell_type": "code",
      "metadata": {
        "colab": {
          "base_uri": "https://localhost:8080/",
          "height": 676
        },
        "id": "LbKv7yoD28bg",
        "outputId": "db682815-237c-4e32-b433-734424aac397"
      },
      "source": [
        "count_data = games_sample.position.value_counts()\r\n",
        "plt.figure(figsize=(10, 10))\r\n",
        "fig = plt.pie( count_data, labels = count_data.index, autopct=\"%.2f\", textprops={\"fontsize\":14} )\r\n",
        "print(games_sample.position.value_counts(normalize=True))"
      ],
      "execution_count": null,
      "outputs": [
        {
          "output_type": "stream",
          "text": [
            "sup    0.234765\n",
            "bot    0.195804\n",
            "mid    0.193806\n",
            "top    0.190809\n",
            "jng    0.184815\n",
            "Name: position, dtype: float64\n"
          ],
          "name": "stdout"
        },
        {
          "output_type": "display_data",
          "data": {
            "image/png": "[encoded data removed]",
            "text/plain": [
              "<Figure size 720x720 with 1 Axes>"
            ]
          },
          "metadata": {
            "tags": []
          }
        }
      ]
    },
    {
      "cell_type": "markdown",
      "metadata": {
        "id": "Hd3XqGe9m1tM"
      },
      "source": [
        "# Normalidad de los datos e inferencia"
      ]
    },
    {
      "cell_type": "markdown",
      "metadata": {
        "id": "Juj9tIATm5N8"
      },
      "source": [
        "## Duración de partidas\r\n",
        "\r\n",
        "Vamos a ver si la variable de duración de cada partida sigue una distribución normal o parecida a una normal:"
      ]
    },
    {
      "cell_type": "code",
      "metadata": {
        "id": "0bwfv690m5TH",
        "colab": {
          "base_uri": "https://localhost:8080/"
        },
        "outputId": "0c2bb04a-5d67-4566-b87c-c8056143a327"
      },
      "source": [
        "sample = games_sample.sample(n=100)\r\n",
        "print( stats.skewtest( sample['gamelength'] ) , \"\\n -> H1:  El coeficiente de asimetría (CA) de la población sigue una asimetría diferente de una población normal (CA != 0)\\n\" )\r\n",
        "print( stats.kurtosistest( sample['gamelength'] ) , \"\\n -> H0:  El coeficiente de curtosis (CC) de la población sigue una curtosis propia de una población normal (CC=0)\\n\")\r\n",
        "print( stats.kstest( (sample['gamelength']-sample['gamelength'].mean())/sample['gamelength'].std(), 'norm'  ) , \"\\n -> H0:  La función de distribución acumulada se comporta como la función de distribución acumulada de una distribución normal.\\n\")\r\n",
        "print( stats.shapiro( sample['gamelength'] ) , \"\\n -> H1: La variable aleatoria estudiada no procede de una población normal\\n\")"
      ],
      "execution_count": null,
      "outputs": [
        {
          "output_type": "stream",
          "text": [
            "SkewtestResult(statistic=1.7189950389605877, pvalue=0.08561527526920458) \n",
            " -> H1:  El coeficiente de asimetría (CA) de la población sigue una asimetría diferente de una población normal (CA != 0)\n",
            "\n",
            "KurtosistestResult(statistic=-0.08793056532513183, pvalue=0.9299318630698733) \n",
            " -> H0:  El coeficiente de curtosis (CC) de la población sigue una curtosis propia de una población normal (CC=0)\n",
            "\n",
            "KstestResult(statistic=0.09163051026048552, pvalue=0.3511097091966066) \n",
            " -> H0:  La función de distribución acumulada se comporta como la función de distribución acumulada de una distribución normal.\n",
            "\n",
            "(0.9824097752571106, 0.20388764142990112) \n",
            " -> H1: La variable aleatoria estudiada no procede de una población normal\n",
            "\n"
          ],
          "name": "stdout"
        }
      ]
    },
    {
      "cell_type": "code",
      "metadata": {
        "colab": {
          "base_uri": "https://localhost:8080/",
          "height": 296
        },
        "id": "WqRTyrxHZhGE",
        "outputId": "d56864c3-db25-4610-89f4-41b458336ff6"
      },
      "source": [
        "sns.histplot(x=sample.gamelength, stat=\"density\", common_norm=False, bins=30)"
      ],
      "execution_count": null,
      "outputs": [
        {
          "output_type": "execute_result",
          "data": {
            "text/plain": [
              "<matplotlib.axes._subplots.AxesSubplot at 0x7f52d2045e80>"
            ]
          },
          "metadata": {
            "tags": []
          },
          "execution_count": 21
        },
        {
          "output_type": "display_data",
          "data": {
            "image/png": "[encoded data removed]",
            "text/plain": [
              "<Figure size 432x288 with 1 Axes>"
            ]
          },
          "metadata": {
            "tags": [],
            "needs_background": "light"
          }
        }
      ]
    },
    {
      "cell_type": "code",
      "metadata": {
        "colab": {
          "base_uri": "https://localhost:8080/",
          "height": 561
        },
        "id": "hGNaeAmZsGTK",
        "outputId": "855d9d2a-fe98-4a5b-8796-de2a7490acf0"
      },
      "source": [
        "# papel probabilistico\r\n",
        "plot = sm.ProbPlot( sample['gamelength'], dist=\"norm\" )\r\n",
        "plot.probplot(line=\"r\")"
      ],
      "execution_count": null,
      "outputs": [
        {
          "output_type": "execute_result",
          "data": {
            "image/png": "[encoded data removed]",
            "text/plain": [
              "<Figure size 432x288 with 1 Axes>"
            ]
          },
          "metadata": {
            "tags": []
          },
          "execution_count": 22
        },
        {
          "output_type": "display_data",
          "data": {
            "image/png": "[encoded data removed]",
            "text/plain": [
              "<Figure size 432x288 with 1 Axes>"
            ]
          },
          "metadata": {
            "tags": [],
            "needs_background": "light"
          }
        }
      ]
    },
    {
      "cell_type": "markdown",
      "metadata": {
        "id": "CE-xDFUYZcra"
      },
      "source": [
        "Aunque no parece que se trate de una distribución normal, se aproxima a la normal, mientras que los test de normalidad nos dicen que no se trata de una normal, observando el histograma y el papel probabilistico, deducimos que se trata de una distribución aproximadamente normal aunque tiene una asimetria por la derecha."
      ]
    },
    {
      "cell_type": "markdown",
      "metadata": {
        "id": "HW3gsWsOaxtk"
      },
      "source": [
        "## Puntuación de visión por minuto"
      ]
    },
    {
      "cell_type": "markdown",
      "metadata": {
        "id": "GJfF53ECa12K"
      },
      "source": [
        "Ahora vamos a analizar la normalidad en la distribución de vspm (puntuación de visión por minuto):"
      ]
    },
    {
      "cell_type": "code",
      "metadata": {
        "colab": {
          "base_uri": "https://localhost:8080/"
        },
        "id": "TlFMBEfabADB",
        "outputId": "6e2bd630-3870-4a06-d1e8-889c994424f3"
      },
      "source": [
        "print( stats.skewtest( sample['vspm'] ) , \"\\n -> H1:  El coeficiente de asimetría (CA) de la población sigue una asimetría diferente de una población normal (CA != 0)\\n\" )\r\n",
        "print( stats.kurtosistest( sample['vspm'] ) , \"\\n -> H1:  El coeficiente de curtosis (CC) de la población tiene una curtosis diferente a la de una población normal (CC!=0)\\n\")\r\n",
        "print( stats.kstest( (sample['vspm']-sample['vspm'].mean())/sample['vspm'].std(), 'norm'  ) , \"\\n -> H1: La función de distribución acumulada difiere de la función de distribución acumulada de una distribución normal.\\n\")\r\n",
        "print( stats.shapiro( sample['vspm'] ) , \"\\n -> H1: La variable aleatoria estudiada no procede de una población normal\\n\")"
      ],
      "execution_count": null,
      "outputs": [
        {
          "output_type": "stream",
          "text": [
            "SkewtestResult(statistic=3.509103402728969, pvalue=0.00044962006442107613) \n",
            " -> H1:  El coeficiente de asimetría (CA) de la población sigue una asimetría diferente de una población normal (CA != 0)\n",
            "\n",
            "KurtosistestResult(statistic=0.2767546673228197, pvalue=0.7819684921871456) \n",
            " -> H1:  El coeficiente de curtosis (CC) de la población tiene una curtosis diferente a la de una población normal (CC!=0)\n",
            "\n",
            "KstestResult(statistic=0.14972158455686424, pvalue=0.020179616388326962) \n",
            " -> H1: La función de distribución acumulada difiere de la función de distribución acumulada de una distribución normal.\n",
            "\n",
            "(0.9102839827537537, 4.451768290891778e-06) \n",
            " -> H1: La variable aleatoria estudiada no procede de una población normal\n",
            "\n"
          ],
          "name": "stdout"
        }
      ]
    },
    {
      "cell_type": "code",
      "metadata": {
        "colab": {
          "base_uri": "https://localhost:8080/",
          "height": 296
        },
        "id": "1HPFzCFQb8NH",
        "outputId": "b89ce8d4-c6d7-477a-dbce-f3896cf97e49"
      },
      "source": [
        "sns.histplot(x=sample.vspm, stat=\"density\", common_norm=False, bins=30)"
      ],
      "execution_count": null,
      "outputs": [
        {
          "output_type": "execute_result",
          "data": {
            "text/plain": [
              "<matplotlib.axes._subplots.AxesSubplot at 0x7f52d2054048>"
            ]
          },
          "metadata": {
            "tags": []
          },
          "execution_count": 24
        },
        {
          "output_type": "display_data",
          "data": {
            "image/png": "[encoded data removed]",
            "text/plain": [
              "<Figure size 432x288 with 1 Axes>"
            ]
          },
          "metadata": {
            "tags": [],
            "needs_background": "light"
          }
        }
      ]
    },
    {
      "cell_type": "code",
      "metadata": {
        "colab": {
          "base_uri": "https://localhost:8080/",
          "height": 561
        },
        "id": "hmCfVrY5cA-l",
        "outputId": "368982f0-2786-4e11-cb08-fc229b9ee678"
      },
      "source": [
        "# papel probabilistico\r\n",
        "plot = sm.ProbPlot( sample['vspm'], dist=\"norm\" )\r\n",
        "plot.probplot(line=\"r\")"
      ],
      "execution_count": null,
      "outputs": [
        {
          "output_type": "execute_result",
          "data": {
            "image/png": "[encoded data removed]",
            "text/plain": [
              "<Figure size 432x288 with 1 Axes>"
            ]
          },
          "metadata": {
            "tags": []
          },
          "execution_count": 25
        },
        {
          "output_type": "display_data",
          "data": {
            "image/png": "[encoded data removed]",
            "text/plain": [
              "<Figure size 432x288 with 1 Axes>"
            ]
          },
          "metadata": {
            "tags": [],
            "needs_background": "light"
          }
        }
      ]
    },
    {
      "cell_type": "markdown",
      "metadata": {
        "id": "xkE7E_JlfmiQ"
      },
      "source": [
        "Después de observar los test de normalidad y el papel probabilistico, concluimos que la distribución no sigue una normal, por lo que vamos a tratar de aproximarla haciendo uso de una transformación:"
      ]
    },
    {
      "cell_type": "code",
      "metadata": {
        "colab": {
          "base_uri": "https://localhost:8080/"
        },
        "id": "JckrFSEAre0T",
        "outputId": "310c15c3-f84b-430a-c06b-371025dbc327"
      },
      "source": [
        "log_sample = sample.apply(lambda x: np.log10(x) if np.issubdtype(x.dtype, np.number) else x)\r\n",
        "square_sample = sample.apply(lambda x: np.square(x) if np.issubdtype(x.dtype, np.number) else x)\r\n",
        "reciproco_sample = sample.apply(lambda x: (1/x) if np.issubdtype(x.dtype, np.number) else x)"
      ],
      "execution_count": null,
      "outputs": [
        {
          "output_type": "stream",
          "text": [
            "/usr/local/lib/python3.6/dist-packages/pandas/core/series.py:726: RuntimeWarning: divide by zero encountered in log10\n",
            "  result = getattr(ufunc, method)(*inputs, **kwargs)\n"
          ],
          "name": "stderr"
        }
      ]
    },
    {
      "cell_type": "code",
      "metadata": {
        "colab": {
          "base_uri": "https://localhost:8080/",
          "height": 694
        },
        "id": "za6L-zd_tgca",
        "outputId": "fc0bfda1-e2e0-45d2-c19a-da3f590d9e52"
      },
      "source": [
        "fig, axes = plt.subplots(nrows=2,ncols=2,figsize=(15,10))\r\n",
        "plt.subplots_adjust(wspace=0.5)\r\n",
        "fig.suptitle(\"Transformaciones para Visión por minuto\")\r\n",
        "\r\n",
        "sns.histplot(x=log_sample.vspm, stat=\"density\", common_norm=False, bins=30,ax=axes[0,0])\r\n",
        "axes[0,0].set_title(\"Transformación Logaritmica\")\r\n",
        "sns.histplot(x=square_sample.vspm, stat=\"density\", common_norm=False, bins=30,ax=axes[0,1])\r\n",
        "axes[0,1].set_title(\"Transformación Raiz cuadrada\")\r\n",
        "sns.histplot(x=reciproco_sample.vspm, stat=\"density\", common_norm=False, bins=30,ax=axes[1,0])\r\n",
        "axes[1,0].set_title(\"Transformación Reciproca\")\r\n"
      ],
      "execution_count": null,
      "outputs": [
        {
          "output_type": "execute_result",
          "data": {
            "text/plain": [
              "Text(0.5, 1.0, 'Transformación Reciproca')"
            ]
          },
          "metadata": {
            "tags": []
          },
          "execution_count": 27
        },
        {
          "output_type": "display_data",
          "data": {
            "image/png": "[encoded data removed]",
            "text/plain": [
              "<Figure size 1080x720 with 4 Axes>"
            ]
          },
          "metadata": {
            "tags": [],
            "needs_background": "light"
          }
        }
      ]
    },
    {
      "cell_type": "markdown",
      "metadata": {
        "id": "0uS20wi2v9D1"
      },
      "source": [
        "Después de hacer las transformaciones y analizar los histogramas, vemos que la transformación logaritmica es la única que parece acercarse más a una normal que la distribución original, vamos a ver si realmente se aproxima a una normal por el papel probabilístico:"
      ]
    },
    {
      "cell_type": "code",
      "metadata": {
        "colab": {
          "base_uri": "https://localhost:8080/",
          "height": 561
        },
        "id": "4L-0i9J9wjOn",
        "outputId": "1caffdc6-428c-47d9-fccd-fe08c172ac0a"
      },
      "source": [
        "# papel probabilistico\r\n",
        "plot = sm.ProbPlot( log_sample['vspm'], dist=\"norm\" )\r\n",
        "plot.probplot(line=\"r\")"
      ],
      "execution_count": null,
      "outputs": [
        {
          "output_type": "execute_result",
          "data": {
            "image/png": "[encoded data removed]",
            "text/plain": [
              "<Figure size 432x288 with 1 Axes>"
            ]
          },
          "metadata": {
            "tags": []
          },
          "execution_count": 28
        },
        {
          "output_type": "display_data",
          "data": {
            "image/png": "[encoded data removed]",
            "text/plain": [
              "<Figure size 432x288 with 1 Axes>"
            ]
          },
          "metadata": {
            "tags": [],
            "needs_background": "light"
          }
        }
      ]
    },
    {
      "cell_type": "markdown",
      "metadata": {
        "id": "1ALNcDI0wtlJ"
      },
      "source": [
        "Podemos concluir que despues de realizar una transformación logaritmica, nuestra distribución si que se aproxima bastante a una normal."
      ]
    },
    {
      "cell_type": "markdown",
      "metadata": {
        "id": "uJiO2Ho1gmPF"
      },
      "source": [
        "## Daño inflingido por minuto"
      ]
    },
    {
      "cell_type": "markdown",
      "metadata": {
        "id": "hKrYtmgWgqJd"
      },
      "source": [
        "Por último vamos a analizar la normalidad de la distribución de daño inflingido por minuto (dpm):"
      ]
    },
    {
      "cell_type": "code",
      "metadata": {
        "colab": {
          "base_uri": "https://localhost:8080/"
        },
        "id": "8dirDqAFg2w0",
        "outputId": "8f621a78-b4b8-43d0-e7d8-4d9fe4020a5e"
      },
      "source": [
        "print( stats.skewtest( sample['dpm'] ) , \"\\n -> H1:  El coeficiente de asimetría (CA) de la población sigue una asimetría diferente de una población normal (CA != 0)\\n\" )\r\n",
        "print( stats.kurtosistest( sample['dpm'] ) , \"\\n -> H0:  El coeficiente de curtosis (CC) de la población sigue una curtosis propia de una población normal (CC=0)\\n\")\r\n",
        "print( stats.kstest( (sample['dpm']-sample['dpm'].mean())/sample['dpm'].std(), 'norm'  ) , \"\\n -> H0:  La función de distribución acumulada se comporta como la función de distribución acumulada de una distribución normal.\\n\")\r\n",
        "print( stats.shapiro( sample['dpm'] ) , \"\\n -> H1: La variable aleatoria estudiada no procede de una población normal\\n\")"
      ],
      "execution_count": null,
      "outputs": [
        {
          "output_type": "stream",
          "text": [
            "SkewtestResult(statistic=2.430440787119344, pvalue=0.015080469977718822) \n",
            " -> H1:  El coeficiente de asimetría (CA) de la población sigue una asimetría diferente de una población normal (CA != 0)\n",
            "\n",
            "KurtosistestResult(statistic=-1.007515204813949, pvalue=0.31368725472297887) \n",
            " -> H0:  El coeficiente de curtosis (CC) de la población sigue una curtosis propia de una población normal (CC=0)\n",
            "\n",
            "KstestResult(statistic=0.10463336463761091, pvalue=0.20869998043891305) \n",
            " -> H0:  La función de distribución acumulada se comporta como la función de distribución acumulada de una distribución normal.\n",
            "\n",
            "(0.9441318511962891, 0.0003475842531770468) \n",
            " -> H1: La variable aleatoria estudiada no procede de una población normal\n",
            "\n"
          ],
          "name": "stdout"
        }
      ]
    },
    {
      "cell_type": "code",
      "metadata": {
        "colab": {
          "base_uri": "https://localhost:8080/",
          "height": 296
        },
        "id": "lgHzHWVAhF7S",
        "outputId": "22d42c6f-5d27-465c-e912-f4da546cf018"
      },
      "source": [
        "sns.histplot(x=sample.dpm, stat=\"density\", common_norm=False, bins=30)"
      ],
      "execution_count": null,
      "outputs": [
        {
          "output_type": "execute_result",
          "data": {
            "text/plain": [
              "<matplotlib.axes._subplots.AxesSubplot at 0x7f52d1b29f60>"
            ]
          },
          "metadata": {
            "tags": []
          },
          "execution_count": 30
        },
        {
          "output_type": "display_data",
          "data": {
            "image/png": "[encoded data removed]",
            "text/plain": [
              "<Figure size 432x288 with 1 Axes>"
            ]
          },
          "metadata": {
            "tags": [],
            "needs_background": "light"
          }
        }
      ]
    },
    {
      "cell_type": "code",
      "metadata": {
        "colab": {
          "base_uri": "https://localhost:8080/",
          "height": 561
        },
        "id": "HcCmc1iwhL_V",
        "outputId": "35ab851e-e697-428f-80d2-442a6e65d158"
      },
      "source": [
        "# papel probabilistico\r\n",
        "plot = sm.ProbPlot( sample['dpm'], dist=\"norm\" )\r\n",
        "plot.probplot(line=\"r\")"
      ],
      "execution_count": null,
      "outputs": [
        {
          "output_type": "execute_result",
          "data": {
            "image/png": "[encoded data removed]",
            "text/plain": [
              "<Figure size 432x288 with 1 Axes>"
            ]
          },
          "metadata": {
            "tags": []
          },
          "execution_count": 31
        },
        {
          "output_type": "display_data",
          "data": {
            "image/png": "[encoded data removed]",
            "text/plain": [
              "<Figure size 432x288 with 1 Axes>"
            ]
          },
          "metadata": {
            "tags": [],
            "needs_background": "light"
          }
        }
      ]
    },
    {
      "cell_type": "markdown",
      "metadata": {
        "id": "QLnsjOLPhOwD"
      },
      "source": [
        "Después de observar el histograma, el papel probabilístico y los test de normalidad, asumiendo el hecho que hemos visto en el analisis descriptivo, se trata de una distribución aproximadamente normal."
      ]
    },
    {
      "cell_type": "markdown",
      "metadata": {
        "id": "mC3c3X_mhyO1"
      },
      "source": [
        "## Construir Intervalos de Confianza de la media (Daño inflingido por minuto)\r\n",
        "\r\n"
      ]
    },
    {
      "cell_type": "code",
      "metadata": {
        "colab": {
          "base_uri": "https://localhost:8080/",
          "height": 398
        },
        "id": "q6KvjDWXx7I8",
        "outputId": "05d71723-3035-42bc-d70d-78e3bf2ad4a8"
      },
      "source": [
        "x = sample.dpm.mean()\r\n",
        "n = sample.shape[0]\r\n",
        "s = sample.dpm.std()\r\n",
        "\r\n",
        "# intervalo del 95%\r\n",
        "lower_bound_95 = 0\r\n",
        "upper_bound_95 = 0\r\n",
        "t_95 = stats.t.ppf(0.975, n-1 )\r\n",
        "lower_bound_95 = x - t_95 * s/math.sqrt(n)\r\n",
        "upper_bound_95 = x + t_95 * s/math.sqrt(n)\r\n",
        "print(\"Intervalo del 95%: ( \" , lower_bound_95, upper_bound_95 , \")\")\r\n",
        "\r\n",
        "# intervalo del 90%\r\n",
        "lower_bound_90 = 0\r\n",
        "upper_bound_90 = 0\r\n",
        "t_90 = stats.t.ppf(0.95, n-1 )\r\n",
        "lower_bound_90 = x - t_90 * s/math.sqrt(n)\r\n",
        "upper_bound_90 = x + t_90 * s/math.sqrt(n)\r\n",
        "print(\"Intervalo del 90%: ( \" , lower_bound_90, upper_bound_90 , \")\")\r\n",
        "\r\n",
        "# intervalo del 70%\r\n",
        "lower_bound_70 = 0\r\n",
        "upper_bound_70 = 0\r\n",
        "t_70 = stats.t.ppf(0.85, n-1 )\r\n",
        "lower_bound_70 = x - t_70 * s/math.sqrt(n)\r\n",
        "upper_bound_70 = x + t_70 * s/math.sqrt(n)\r\n",
        "print(\"Intervalo del 70%: ( \" , lower_bound_70, upper_bound_70 , \")\")\r\n",
        "print(\"\")\r\n",
        "\r\n",
        "data_dict = {}\r\n",
        "data_dict['category'] = ['95%','90%','70%']\r\n",
        "data_dict['lower'] = [lower_bound_95,lower_bound_90,lower_bound_70]\r\n",
        "data_dict['upper'] = [upper_bound_95,upper_bound_90,upper_bound_70]\r\n",
        "intervalos = pd.DataFrame(data_dict)\r\n",
        "\r\n",
        "plots = {}\r\n",
        "count = 0\r\n",
        "for lower,upper,y in zip(intervalos['lower'],intervalos['upper'],range(len(intervalos))):\r\n",
        "    plots[count] = plt.plot((lower,upper),(y,y),'ro-',color='blue')\r\n",
        "    count += 1\r\n",
        "plt.yticks(range(len(intervalos)),list(intervalos['category']))"
      ],
      "execution_count": null,
      "outputs": [
        {
          "output_type": "stream",
          "text": [
            "Intervalo del 95%: (  324.92683931201844 411.6668126879816 )\n",
            "Intervalo del 90%: (  332.0048558716062 404.5887961283938 )\n",
            "Intervalo del 70%: (  345.5237172809627 391.0699347190373 )\n",
            "\n"
          ],
          "name": "stdout"
        },
        {
          "output_type": "execute_result",
          "data": {
            "text/plain": [
              "([<matplotlib.axis.YTick at 0x7f52d19b1a20>,\n",
              "  <matplotlib.axis.YTick at 0x7f52d19b1400>,\n",
              "  <matplotlib.axis.YTick at 0x7f52d19c4b38>],\n",
              " [Text(0, 0, '95%'), Text(0, 0, '90%'), Text(0, 0, '70%')])"
            ]
          },
          "metadata": {
            "tags": []
          },
          "execution_count": 32
        },
        {
          "output_type": "display_data",
          "data": {
            "image/png": "[encoded data removed]",
            "text/plain": [
              "<Figure size 432x288 with 1 Axes>"
            ]
          },
          "metadata": {
            "tags": [],
            "needs_background": "light"
          }
        }
      ]
    },
    {
      "cell_type": "markdown",
      "metadata": {
        "id": "K-zel8HX0Y_N"
      },
      "source": [
        "Después de analizar el intervalo de confianza para un nivel de significancia de 95%, 90% y 70%. Podemos ver como en un nivel del 70%, como tiene que encontrarse la media el 70% de las veces en este intervalo, se trata de un intervalo más estrecho que el de 90% o 95%."
      ]
    },
    {
      "cell_type": "markdown",
      "metadata": {
        "id": "INMLFfZm52Po"
      },
      "source": [
        "## Construir Intervalos de Confianza de la varianza (Daño inflingido por minuto)"
      ]
    },
    {
      "cell_type": "markdown",
      "metadata": {
        "id": "CZH8ZXgP51Kb"
      },
      "source": [
        "Vamos a realizar un analisis de los intervalos de confianza de la varianza haciendo uso de chi-cuadrado:\r\n"
      ]
    },
    {
      "cell_type": "code",
      "metadata": {
        "colab": {
          "base_uri": "https://localhost:8080/",
          "height": 348
        },
        "id": "pF0IcME_6OoV",
        "outputId": "ce3a0ea0-1f76-49da-9f0f-47fc3623f319"
      },
      "source": [
        "x = sample.dpm.mean()\r\n",
        "n = sample.shape[0]\r\n",
        "s = sample.dpm.std()\r\n",
        "\r\n",
        "# intervalo del 95%\r\n",
        "lower_bound_95 = 0\r\n",
        "upper_bound_95 = 0\r\n",
        "chi1_95 = stats.chi2.ppf(1-0.05/2, n - 1 )\r\n",
        "chi2_95 = stats.chi2.ppf(0.05/2, n - 1 )\r\n",
        "lower_bound_95 = (n-1)*s/chi1_95\r\n",
        "upper_bound_95 = (n-1)*s/chi2_95\r\n",
        "print(\"Intervalo de varianza del 95%: ( \" , lower_bound_95, upper_bound_95 , \")\")\r\n",
        "\r\n",
        "# intervalo del 90%\r\n",
        "lower_bound_90 = 0\r\n",
        "upper_bound_90 = 0\r\n",
        "chi1_90 = stats.chi2.ppf(1-0.5/2, n - 1 )\r\n",
        "chi2_90 = stats.chi2.ppf(0.5/2, n - 1 )\r\n",
        "lower_bound_90 = (n-1)*s/chi1_90\r\n",
        "upper_bound_90 = (n-1)*s/chi2_90\r\n",
        "print(\"Intervalo de varianza del 90%: ( \" , lower_bound_90, upper_bound_90 , \")\")\r\n",
        "\r\n",
        "data_dict = {}\r\n",
        "data_dict['category'] = ['95%','90%']\r\n",
        "data_dict['lower'] = [lower_bound_95,lower_bound_90]\r\n",
        "data_dict['upper'] = [upper_bound_95,upper_bound_90]\r\n",
        "intervalos = pd.DataFrame(data_dict)\r\n",
        "\r\n",
        "plots = {}\r\n",
        "count = 0\r\n",
        "for lower,upper,y in zip(intervalos['lower'],intervalos['upper'],range(len(intervalos))):\r\n",
        "    plots[count] = plt.plot((lower,upper),(y,y),'ro-',color='black')\r\n",
        "    count += 1\r\n",
        "plt.yticks(range(len(intervalos)),list(intervalos['category']))\r\n"
      ],
      "execution_count": null,
      "outputs": [
        {
          "output_type": "stream",
          "text": [
            "Intervalo de varianza del 95%: (  168.49846043690167 294.96440505388534 )\n",
            "Intervalo de varianza del 90%: (  200.18739057374518 242.6397473719607 )\n"
          ],
          "name": "stdout"
        },
        {
          "output_type": "execute_result",
          "data": {
            "text/plain": [
              "([<matplotlib.axis.YTick at 0x7f52d212a198>,\n",
              "  <matplotlib.axis.YTick at 0x7f52d20145f8>],\n",
              " [Text(0, 0, '95%'), Text(0, 0, '90%')])"
            ]
          },
          "metadata": {
            "tags": []
          },
          "execution_count": 33
        },
        {
          "output_type": "display_data",
          "data": {
            "image/png": "[encoded data removed]",
            "text/plain": [
              "<Figure size 432x288 with 1 Axes>"
            ]
          },
          "metadata": {
            "tags": [],
            "needs_background": "light"
          }
        }
      ]
    },
    {
      "cell_type": "markdown",
      "metadata": {
        "id": "KFgEY7em83FA"
      },
      "source": [
        "En el intervalo de confianza de varianza, podemos ver como el intervalo del 90%, dado que tiene menos precisión que el del 95%, se trata de un intervalo más pequeño."
      ]
    },
    {
      "cell_type": "markdown",
      "metadata": {
        "id": "6R127B5_m5p8"
      },
      "source": [
        "# ANOVA"
      ]
    },
    {
      "cell_type": "markdown",
      "metadata": {
        "id": "XpoKkj4kVf6-"
      },
      "source": [
        "## ANOVA con un factor"
      ]
    },
    {
      "cell_type": "markdown",
      "metadata": {
        "id": "YSXMk9tom7sT"
      },
      "source": [
        "Ahora vamos a realizar un analisis de varianza para ver las diferencias en la duración de las partidas entre cada una de las ligas:\r\n",
        " - Primero vamos a crear columnas binarias para cada una de las ligas y vamos a ver como se distribuyen estas ("
      ]
    },
    {
      "cell_type": "code",
      "metadata": {
        "id": "4goG8uUMm7wC",
        "colab": {
          "base_uri": "https://localhost:8080/",
          "height": 400
        },
        "outputId": "a9a5b6ab-202e-41b4-c60e-cda0129cc046"
      },
      "source": [
        "ligas = list(pd.unique(games_sample['league']))\r\n",
        "for liga in ligas:\r\n",
        "  r = games_sample.league.apply(lambda x: liga in x)\r\n",
        "  games_sample=games_sample.assign( **{liga: r} )\r\n",
        "games_sample.head(5)"
      ],
      "execution_count": null,
      "outputs": [
        {
          "output_type": "execute_result",
          "data": {
            "text/html": [
              "<div>\n",
              "<style scoped>\n",
              "    .dataframe tbody tr th:only-of-type {\n",
              "        vertical-align: middle;\n",
              "    }\n",
              "\n",
              "    .dataframe tbody tr th {\n",
              "        vertical-align: top;\n",
              "    }\n",
              "\n",
              "    .dataframe thead th {\n",
              "        text-align: right;\n",
              "    }\n",
              "</style>\n",
              "<table border=\"1\" class=\"dataframe\">\n",
              "  <thead>\n",
              "    <tr style=\"text-align: right;\">\n",
              "      <th></th>\n",
              "      <th>league</th>\n",
              "      <th>year</th>\n",
              "      <th>date</th>\n",
              "      <th>patch</th>\n",
              "      <th>side</th>\n",
              "      <th>position</th>\n",
              "      <th>player</th>\n",
              "      <th>team</th>\n",
              "      <th>champion</th>\n",
              "      <th>gamelength</th>\n",
              "      <th>result</th>\n",
              "      <th>kills</th>\n",
              "      <th>deaths</th>\n",
              "      <th>assists</th>\n",
              "      <th>teamkills</th>\n",
              "      <th>teamdeaths</th>\n",
              "      <th>damagetochampions</th>\n",
              "      <th>dpm</th>\n",
              "      <th>damageshare</th>\n",
              "      <th>wardsplaced</th>\n",
              "      <th>wpm</th>\n",
              "      <th>wardskilled</th>\n",
              "      <th>visionscore</th>\n",
              "      <th>vspm</th>\n",
              "      <th>totalgold</th>\n",
              "      <th>earned gpm</th>\n",
              "      <th>earnedgoldshare</th>\n",
              "      <th>total cs</th>\n",
              "      <th>cspm</th>\n",
              "      <th>LPL</th>\n",
              "      <th>LCK</th>\n",
              "      <th>LCS</th>\n",
              "      <th>LEC</th>\n",
              "    </tr>\n",
              "  </thead>\n",
              "  <tbody>\n",
              "    <tr>\n",
              "      <th>0</th>\n",
              "      <td>LPL</td>\n",
              "      <td>2020</td>\n",
              "      <td>2020-06-07 12:59:00</td>\n",
              "      <td>10.11</td>\n",
              "      <td>Red</td>\n",
              "      <td>mid</td>\n",
              "      <td>FoFo</td>\n",
              "      <td>Bilibili Gaming</td>\n",
              "      <td>Twisted Fate</td>\n",
              "      <td>1809</td>\n",
              "      <td>0</td>\n",
              "      <td>0</td>\n",
              "      <td>4</td>\n",
              "      <td>6</td>\n",
              "      <td>6</td>\n",
              "      <td>15</td>\n",
              "      <td>12864</td>\n",
              "      <td>426.6667</td>\n",
              "      <td>0.228669</td>\n",
              "      <td>16</td>\n",
              "      <td>0.5307</td>\n",
              "      <td>2</td>\n",
              "      <td>16.0</td>\n",
              "      <td>0.5307</td>\n",
              "      <td>9714</td>\n",
              "      <td>190.6468</td>\n",
              "      <td>0.200811</td>\n",
              "      <td>202.0</td>\n",
              "      <td>6.6998</td>\n",
              "      <td>True</td>\n",
              "      <td>False</td>\n",
              "      <td>False</td>\n",
              "      <td>False</td>\n",
              "    </tr>\n",
              "    <tr>\n",
              "      <th>1</th>\n",
              "      <td>LCK</td>\n",
              "      <td>2020</td>\n",
              "      <td>2020-07-01 08:47:25</td>\n",
              "      <td>10.12</td>\n",
              "      <td>Blue</td>\n",
              "      <td>sup</td>\n",
              "      <td>BeryL</td>\n",
              "      <td>DAMWON Gaming</td>\n",
              "      <td>Thresh</td>\n",
              "      <td>2952</td>\n",
              "      <td>1</td>\n",
              "      <td>3</td>\n",
              "      <td>2</td>\n",
              "      <td>6</td>\n",
              "      <td>12</td>\n",
              "      <td>8</td>\n",
              "      <td>2951</td>\n",
              "      <td>59.9797</td>\n",
              "      <td>0.032232</td>\n",
              "      <td>94</td>\n",
              "      <td>1.9106</td>\n",
              "      <td>26</td>\n",
              "      <td>160.0</td>\n",
              "      <td>3.2520</td>\n",
              "      <td>11104</td>\n",
              "      <td>97.6829</td>\n",
              "      <td>0.087776</td>\n",
              "      <td>47.0</td>\n",
              "      <td>0.9553</td>\n",
              "      <td>False</td>\n",
              "      <td>True</td>\n",
              "      <td>False</td>\n",
              "      <td>False</td>\n",
              "    </tr>\n",
              "    <tr>\n",
              "      <th>2</th>\n",
              "      <td>LPL</td>\n",
              "      <td>2020</td>\n",
              "      <td>2020-01-14 11:21:00</td>\n",
              "      <td>10.01</td>\n",
              "      <td>Red</td>\n",
              "      <td>sup</td>\n",
              "      <td>LvMao</td>\n",
              "      <td>JD Gaming</td>\n",
              "      <td>Nautilus</td>\n",
              "      <td>1666</td>\n",
              "      <td>1</td>\n",
              "      <td>0</td>\n",
              "      <td>2</td>\n",
              "      <td>11</td>\n",
              "      <td>16</td>\n",
              "      <td>5</td>\n",
              "      <td>3783</td>\n",
              "      <td>136.2425</td>\n",
              "      <td>0.075920</td>\n",
              "      <td>42</td>\n",
              "      <td>1.5126</td>\n",
              "      <td>13</td>\n",
              "      <td>66.0</td>\n",
              "      <td>2.3770</td>\n",
              "      <td>6444</td>\n",
              "      <td>99.7599</td>\n",
              "      <td>0.079193</td>\n",
              "      <td>33.0</td>\n",
              "      <td>1.1885</td>\n",
              "      <td>True</td>\n",
              "      <td>False</td>\n",
              "      <td>False</td>\n",
              "      <td>False</td>\n",
              "    </tr>\n",
              "    <tr>\n",
              "      <th>3</th>\n",
              "      <td>LCK</td>\n",
              "      <td>2020</td>\n",
              "      <td>2020-06-19 08:49:01</td>\n",
              "      <td>10.11</td>\n",
              "      <td>Blue</td>\n",
              "      <td>mid</td>\n",
              "      <td>Dove</td>\n",
              "      <td>SANDBOX Gaming</td>\n",
              "      <td>Azir</td>\n",
              "      <td>1449</td>\n",
              "      <td>0</td>\n",
              "      <td>3</td>\n",
              "      <td>7</td>\n",
              "      <td>0</td>\n",
              "      <td>7</td>\n",
              "      <td>24</td>\n",
              "      <td>12578</td>\n",
              "      <td>520.8282</td>\n",
              "      <td>0.300959</td>\n",
              "      <td>11</td>\n",
              "      <td>0.4555</td>\n",
              "      <td>3</td>\n",
              "      <td>22.0</td>\n",
              "      <td>0.9110</td>\n",
              "      <td>9966</td>\n",
              "      <td>278.8406</td>\n",
              "      <td>0.305636</td>\n",
              "      <td>231.0</td>\n",
              "      <td>9.5652</td>\n",
              "      <td>False</td>\n",
              "      <td>True</td>\n",
              "      <td>False</td>\n",
              "      <td>False</td>\n",
              "    </tr>\n",
              "    <tr>\n",
              "      <th>4</th>\n",
              "      <td>LCK</td>\n",
              "      <td>2020</td>\n",
              "      <td>2020-06-19 08:49:01</td>\n",
              "      <td>10.11</td>\n",
              "      <td>Blue</td>\n",
              "      <td>sup</td>\n",
              "      <td>GorillA</td>\n",
              "      <td>SANDBOX Gaming</td>\n",
              "      <td>Thresh</td>\n",
              "      <td>1449</td>\n",
              "      <td>0</td>\n",
              "      <td>0</td>\n",
              "      <td>6</td>\n",
              "      <td>6</td>\n",
              "      <td>7</td>\n",
              "      <td>24</td>\n",
              "      <td>2218</td>\n",
              "      <td>91.8427</td>\n",
              "      <td>0.053071</td>\n",
              "      <td>34</td>\n",
              "      <td>1.4079</td>\n",
              "      <td>4</td>\n",
              "      <td>48.0</td>\n",
              "      <td>1.9876</td>\n",
              "      <td>5160</td>\n",
              "      <td>79.8344</td>\n",
              "      <td>0.087520</td>\n",
              "      <td>24.0</td>\n",
              "      <td>0.9938</td>\n",
              "      <td>False</td>\n",
              "      <td>True</td>\n",
              "      <td>False</td>\n",
              "      <td>False</td>\n",
              "    </tr>\n",
              "  </tbody>\n",
              "</table>\n",
              "</div>"
            ],
            "text/plain": [
              "  league  year                 date  patch  ...    LPL    LCK    LCS    LEC\n",
              "0    LPL  2020  2020-06-07 12:59:00  10.11  ...   True  False  False  False\n",
              "1    LCK  2020  2020-07-01 08:47:25  10.12  ...  False   True  False  False\n",
              "2    LPL  2020  2020-01-14 11:21:00  10.01  ...   True  False  False  False\n",
              "3    LCK  2020  2020-06-19 08:49:01  10.11  ...  False   True  False  False\n",
              "4    LCK  2020  2020-06-19 08:49:01  10.11  ...  False   True  False  False\n",
              "\n",
              "[5 rows x 33 columns]"
            ]
          },
          "metadata": {
            "tags": []
          },
          "execution_count": 34
        }
      ]
    },
    {
      "cell_type": "code",
      "metadata": {
        "colab": {
          "base_uri": "https://localhost:8080/",
          "height": 694
        },
        "id": "ReK00lw2Dv87",
        "outputId": "b3c17a58-1630-4a06-efb8-269293f85a61"
      },
      "source": [
        "fig_leagues, axes_leagues = plt.subplots(nrows=2,ncols=2,figsize=(15,10))\r\n",
        "plt.subplots_adjust(wspace=0.5)\r\n",
        "fig_leagues.suptitle(\"Histograma por liga\")\r\n",
        "\r\n",
        "lck_gamelength = games_sample[games_sample['LCK']].gamelength\r\n",
        "lpl_gamelength = games_sample[games_sample['LPL']].gamelength\r\n",
        "lec_gamelength = games_sample[games_sample['LEC']].gamelength\r\n",
        "lcs_gamelength = games_sample[games_sample['LCS']].gamelength\r\n",
        "\r\n",
        "sns.histplot(x=lck_gamelength, ax=axes_leagues[0,0])\r\n",
        "axes_leagues[0,0].set_title(\"LCK\")\r\n",
        "sns.histplot(x=lpl_gamelength, bins=30,ax=axes_leagues[0,1])\r\n",
        "axes_leagues[0,1].set_title(\"LPL\")\r\n",
        "sns.histplot(x=lec_gamelength, bins=30,ax=axes_leagues[1,0])\r\n",
        "axes_leagues[1,0].set_title(\"LEC\")\r\n",
        "sns.histplot(x=lcs_gamelength, bins=30,ax=axes_leagues[1,1])\r\n",
        "axes_leagues[1,1].set_title(\"LCS\")"
      ],
      "execution_count": null,
      "outputs": [
        {
          "output_type": "execute_result",
          "data": {
            "text/plain": [
              "Text(0.5, 1.0, 'LCS')"
            ]
          },
          "metadata": {
            "tags": []
          },
          "execution_count": 35
        },
        {
          "output_type": "display_data",
          "data": {
            "image/png": "[encoded data removed]",
            "text/plain": [
              "<Figure size 1080x720 with 4 Axes>"
            ]
          },
          "metadata": {
            "tags": [],
            "needs_background": "light"
          }
        }
      ]
    },
    {
      "cell_type": "code",
      "metadata": {
        "colab": {
          "base_uri": "https://localhost:8080/",
          "height": 704
        },
        "id": "56NdtenjGGJt",
        "outputId": "e288de55-ae63-477a-f45e-7decd343f9f7"
      },
      "source": [
        "fig_leagues, axes_leagues = plt.subplots(nrows=2,ncols=2,figsize=(15,10))\r\n",
        "plt.subplots_adjust(wspace=0.5,hspace=0.3)\r\n",
        "fig_leagues.suptitle(\"Papel probabilístico por liga\")\r\n",
        "\r\n",
        "lck_gamelength = games_sample[games_sample['LCK']].gamelength\r\n",
        "lpl_gamelength = games_sample[games_sample['LPL']].gamelength\r\n",
        "lec_gamelength = games_sample[games_sample['LEC']].gamelength\r\n",
        "lcs_gamelength = games_sample[games_sample['LCS']].gamelength\r\n",
        "\r\n",
        "sm.ProbPlot(lck_gamelength,dist=\"norm\").probplot(line=\"r\",ax=axes_leagues[0,0])\r\n",
        "axes_leagues[0,0].set_title(\"LCK\")\r\n",
        "sm.ProbPlot(lpl_gamelength,dist=\"norm\").probplot(line=\"r\",ax=axes_leagues[0,1])\r\n",
        "axes_leagues[0,1].set_title(\"LPL\")\r\n",
        "sm.ProbPlot(lec_gamelength,dist=\"norm\").probplot(line=\"r\",ax=axes_leagues[1,0])\r\n",
        "axes_leagues[1,0].set_title(\"LEC\")\r\n",
        "sm.ProbPlot(lcs_gamelength,dist=\"norm\").probplot(line=\"r\",ax=axes_leagues[1,1])\r\n",
        "axes_leagues[1,1].set_title(\"LCS\")"
      ],
      "execution_count": null,
      "outputs": [
        {
          "output_type": "execute_result",
          "data": {
            "text/plain": [
              "Text(0.5, 1.0, 'LCS')"
            ]
          },
          "metadata": {
            "tags": []
          },
          "execution_count": 36
        },
        {
          "output_type": "display_data",
          "data": {
            "image/png": "[encoded data removed]",
            "text/plain": [
              "<Figure size 1080x720 with 4 Axes>"
            ]
          },
          "metadata": {
            "tags": [],
            "needs_background": "light"
          }
        }
      ]
    },
    {
      "cell_type": "markdown",
      "metadata": {
        "id": "bRSAPKNUbwKX"
      },
      "source": [
        "Como podemos ver que las distribuciones para cada una de las variables siguen lo que parece ser una normal.\r\n",
        "\r\n",
        "Vamos a comprobar que se cumple la hipótesis de homocedasticidad y posteriormente haremos una comparación de las medias entre cada una de las ligas haciendo uso de ANOVA (ANalysis Of VAriance).\r\n",
        "\r\n",
        "Usaremos la prueba de **Levene** ya que es una prueba relativamente robusta ante desviaciones de la normal. Este contraste de hipotesis establece las siguientes hipótesis:\r\n",
        "\r\n",
        "$H_0: \\sigma_1 = \\sigma_2 = \\dots = \\sigma_k$\r\n",
        "\r\n",
        "$H_1: \\exists i,j , \\; \\sigma_i \\neq \\sigma_k$"
      ]
    },
    {
      "cell_type": "code",
      "metadata": {
        "colab": {
          "base_uri": "https://localhost:8080/"
        },
        "id": "uTS49k7TfkA_",
        "outputId": "cf55a7e9-40dd-47f5-c6f3-b1f78ab597b1"
      },
      "source": [
        "lck_gamelength = games_sample[games_sample['LCK']].gamelength\r\n",
        "lpl_gamelength = games_sample[games_sample['LPL']].gamelength\r\n",
        "lec_gamelength = games_sample[games_sample['LEC']].gamelength\r\n",
        "lcs_gamelength = games_sample[games_sample['LCS']].gamelength\r\n",
        "\r\n",
        "stats.levene(lck_gamelength,lpl_gamelength,lec_gamelength,lcs_gamelength)\r\n",
        "print(\"[\", lck_gamelength.std(), \" - \", lpl_gamelength.std(), \" - \", lec_gamelength.std(), \" - \", lcs_gamelength.std(),\"]\")\r\n",
        "print(\"La prueba de Levene nos dice que parece que las varianzas son distintas\")"
      ],
      "execution_count": null,
      "outputs": [
        {
          "output_type": "stream",
          "text": [
            "[ 370.9200040141474  -  319.0693705272607  -  366.12362269075  -  393.4203950057991 ]\n",
            "La prueba de Levene nos dice que parece que las varianzas son distintas\n"
          ],
          "name": "stdout"
        }
      ]
    },
    {
      "cell_type": "markdown",
      "metadata": {
        "id": "cp0g2bhT3mnB"
      },
      "source": [
        "Aunque la normalidad de las poblaciones no es demasiado precisa y que la prueba de levene nos dice que parece que al menos hay 2 varianzas distintas (aunque vemos que las diferencias son leves si nos fijamos que 3 de las varianzas son bastante similares), pero ANOVA es relativamente robusto ante estas pequeñas variaciones por lo que no hay problema.\r\n",
        "\r\n",
        "Ahora vamos a realizar un **ANOVA** con la liga como factor para encontrar las diferencias significativas en la media de las diferentes poblaciones, las hipotesis que establece ANOVA son:\r\n",
        "\r\n",
        "$H_0: \\mu_1 = \\mu_2 = \\dots = \\mu_k$ (provienen de la misma población)\r\n",
        "\r\n",
        "$H_1: \\exists i,j \\;\\; \\mu_i\\neq \\mu_j$ (provienen de poblaciones diferentes)\r\n",
        "\r\n"
      ]
    },
    {
      "cell_type": "code",
      "metadata": {
        "colab": {
          "base_uri": "https://localhost:8080/",
          "height": 107
        },
        "id": "WJOE1OYW60SL",
        "outputId": "31a82ba2-227b-4eb0-d0da-f534631aab68"
      },
      "source": [
        "lm = ols( 'gamelength ~ C(league)', data=games_sample ).fit(cov_type=\"HC3\")\r\n",
        "anova_table = sm.stats.anova_lm(lm, typ=1,  robust=\"HC3\")\r\n",
        "anova_table"
      ],
      "execution_count": null,
      "outputs": [
        {
          "output_type": "execute_result",
          "data": {
            "text/html": [
              "<div>\n",
              "<style scoped>\n",
              "    .dataframe tbody tr th:only-of-type {\n",
              "        vertical-align: middle;\n",
              "    }\n",
              "\n",
              "    .dataframe tbody tr th {\n",
              "        vertical-align: top;\n",
              "    }\n",
              "\n",
              "    .dataframe thead th {\n",
              "        text-align: right;\n",
              "    }\n",
              "</style>\n",
              "<table border=\"1\" class=\"dataframe\">\n",
              "  <thead>\n",
              "    <tr style=\"text-align: right;\">\n",
              "      <th></th>\n",
              "      <th>df</th>\n",
              "      <th>sum_sq</th>\n",
              "      <th>mean_sq</th>\n",
              "      <th>F</th>\n",
              "      <th>PR(&gt;F)</th>\n",
              "    </tr>\n",
              "  </thead>\n",
              "  <tbody>\n",
              "    <tr>\n",
              "      <th>C(league)</th>\n",
              "      <td>3.0</td>\n",
              "      <td>3.089022e+06</td>\n",
              "      <td>1.029674e+06</td>\n",
              "      <td>8.267452</td>\n",
              "      <td>0.00002</td>\n",
              "    </tr>\n",
              "    <tr>\n",
              "      <th>Residual</th>\n",
              "      <td>997.0</td>\n",
              "      <td>1.241719e+08</td>\n",
              "      <td>1.245455e+05</td>\n",
              "      <td>NaN</td>\n",
              "      <td>NaN</td>\n",
              "    </tr>\n",
              "  </tbody>\n",
              "</table>\n",
              "</div>"
            ],
            "text/plain": [
              "              df        sum_sq       mean_sq         F   PR(>F)\n",
              "C(league)    3.0  3.089022e+06  1.029674e+06  8.267452  0.00002\n",
              "Residual   997.0  1.241719e+08  1.245455e+05       NaN      NaN"
            ]
          },
          "metadata": {
            "tags": []
          },
          "execution_count": 38
        }
      ]
    },
    {
      "cell_type": "markdown",
      "metadata": {
        "id": "9gfMx630AwcU"
      },
      "source": [
        "El análisis de ANOVA nos devuelve un p-value que indica que para el nivel de significancia de 0.05 se acepta la hipotesis alternativa, por lo que consideramos que las medias son diferentes."
      ]
    },
    {
      "cell_type": "markdown",
      "metadata": {
        "id": "S_HDkdwrDKww"
      },
      "source": [
        "Después de realizar el ANOVA y que nos diga que al menos una media poblacional es diferente, vamos a analizar cual es, para esto usaremos los intervalos de Tukey:"
      ]
    },
    {
      "cell_type": "code",
      "metadata": {
        "colab": {
          "base_uri": "https://localhost:8080/",
          "height": 390
        },
        "id": "34A1Ix0qDcEj",
        "outputId": "5fb4760b-193e-4336-da5b-17924af9eb2f"
      },
      "source": [
        "tukey = sm.stats.multicomp.pairwise_tukeyhsd(games_sample.gamelength, games_sample.league, alpha=0.01).plot_simultaneous(comparison_name=\"LPL\")"
      ],
      "execution_count": null,
      "outputs": [
        {
          "output_type": "display_data",
          "data": {
            "image/png": "[encoded data removed]",
            "text/plain": [
              "<Figure size 720x432 with 1 Axes>"
            ]
          },
          "metadata": {
            "tags": [],
            "needs_background": "light"
          }
        }
      ]
    },
    {
      "cell_type": "code",
      "metadata": {
        "colab": {
          "base_uri": "https://localhost:8080/"
        },
        "id": "UYgazX-zHe_U",
        "outputId": "69ed43fc-a27a-47a4-86b7-c2eae0a6450f"
      },
      "source": [
        "print(\"LCK -> \",len(lck_gamelength))\r\n",
        "print(\"LPL -> \", len(lpl_gamelength))\r\n",
        "print(\"LEC -> \", len(lec_gamelength))\r\n",
        "print(\"LCS -> \", len(lcs_gamelength))"
      ],
      "execution_count": null,
      "outputs": [
        {
          "output_type": "stream",
          "text": [
            "LCK ->  282\n",
            "LPL ->  424\n",
            "LEC ->  141\n",
            "LCS ->  154\n"
          ],
          "name": "stdout"
        }
      ]
    },
    {
      "cell_type": "code",
      "metadata": {
        "colab": {
          "base_uri": "https://localhost:8080/"
        },
        "id": "vb_-7eNZIjmM",
        "outputId": "88ae1e1d-5450-49f6-e479-63067207b1e2"
      },
      "source": [
        "# levene para comprobar el ANOVA\r\n",
        "lck_gamelength = games_sample[games_sample['LCK']].gamelength\r\n",
        "lpl_gamelength = games_sample[games_sample['LPL']].gamelength\r\n",
        "lec_gamelength = games_sample[games_sample['LEC']].gamelength\r\n",
        "lcs_gamelength = games_sample[games_sample['LCS']].gamelength\r\n",
        "\r\n",
        "stats.levene(lck_gamelength,lpl_gamelength,lec_gamelength,lcs_gamelength)\r\n",
        "print(\"[\", lck_gamelength.std(), \" - \", lpl_gamelength.std(), \" - \", lec_gamelength.std(), \" - \", lcs_gamelength.std(),\"]\")\r\n",
        "print(\"La prueba de Levene nos dice que parece que las varianzas son distintas\")"
      ],
      "execution_count": null,
      "outputs": [
        {
          "output_type": "stream",
          "text": [
            "[ 370.9200040141474  -  319.0693705272607  -  366.12362269075  -  393.4203950057991 ]\n",
            "La prueba de Levene nos dice que parece que las varianzas son distintas\n"
          ],
          "name": "stdout"
        }
      ]
    },
    {
      "cell_type": "markdown",
      "metadata": {
        "id": "M_uG0Qa9Jk22"
      },
      "source": [
        "Según la prueba de levene tambien dice que se trata de varianzas diferentes, pero si nos fijamos en el tamaño de cada muestra podemos ver que la LPL (liga china) tiene un gran número de muestras en comparación con las demás poblaciones, si nos fijamos en los intervalos de tukey y en las diferencias que hay al analizar las varianzas, podemos concluir que el alto número de muestras con las que cuenta la LPL cause que se generen unas diferencias tan exageradas."
      ]
    },
    {
      "cell_type": "markdown",
      "metadata": {
        "id": "0I0e2yTLVX1v"
      },
      "source": [
        "## ANOVA con múltiples factores"
      ]
    },
    {
      "cell_type": "markdown",
      "metadata": {
        "id": "t4tpUZxIVjdG"
      },
      "source": [
        "Para el ANOVA con múltiples factores vamos a analizar el efecto de la posición de los jugadores (top, jungla, mid, adc y support) y de la liga en la que se juega (LCK, LPL, LEC, LCS) en el daño inflingido por minuto."
      ]
    },
    {
      "cell_type": "code",
      "metadata": {
        "colab": {
          "base_uri": "https://localhost:8080/",
          "height": 166
        },
        "id": "jbc330PRWjCo",
        "outputId": "f9076d23-a2b4-4cea-9ce3-8c0d04e0c265"
      },
      "source": [
        "lm = ols( 'dpm ~ C(league) + C(position) + C(league)*C(position)', data=games_sample ).fit(cov_type=\"HC3\")\r\n",
        "anova_table = sm.stats.anova_lm(lm, typ=2, robust=\"HC3\")\r\n",
        "anova_table"
      ],
      "execution_count": null,
      "outputs": [
        {
          "output_type": "execute_result",
          "data": {
            "text/html": [
              "<div>\n",
              "<style scoped>\n",
              "    .dataframe tbody tr th:only-of-type {\n",
              "        vertical-align: middle;\n",
              "    }\n",
              "\n",
              "    .dataframe tbody tr th {\n",
              "        vertical-align: top;\n",
              "    }\n",
              "\n",
              "    .dataframe thead th {\n",
              "        text-align: right;\n",
              "    }\n",
              "</style>\n",
              "<table border=\"1\" class=\"dataframe\">\n",
              "  <thead>\n",
              "    <tr style=\"text-align: right;\">\n",
              "      <th></th>\n",
              "      <th>sum_sq</th>\n",
              "      <th>df</th>\n",
              "      <th>F</th>\n",
              "      <th>PR(&gt;F)</th>\n",
              "    </tr>\n",
              "  </thead>\n",
              "  <tbody>\n",
              "    <tr>\n",
              "      <th>C(league)</th>\n",
              "      <td>5.357507e+04</td>\n",
              "      <td>3.0</td>\n",
              "      <td>0.784126</td>\n",
              "      <td>5.028669e-01</td>\n",
              "    </tr>\n",
              "    <tr>\n",
              "      <th>C(position)</th>\n",
              "      <td>3.609560e+07</td>\n",
              "      <td>4.0</td>\n",
              "      <td>396.221736</td>\n",
              "      <td>4.628890e-203</td>\n",
              "    </tr>\n",
              "    <tr>\n",
              "      <th>C(league):C(position)</th>\n",
              "      <td>6.210768e+05</td>\n",
              "      <td>12.0</td>\n",
              "      <td>2.272522</td>\n",
              "      <td>7.638721e-03</td>\n",
              "    </tr>\n",
              "    <tr>\n",
              "      <th>Residual</th>\n",
              "      <td>2.234215e+07</td>\n",
              "      <td>981.0</td>\n",
              "      <td>NaN</td>\n",
              "      <td>NaN</td>\n",
              "    </tr>\n",
              "  </tbody>\n",
              "</table>\n",
              "</div>"
            ],
            "text/plain": [
              "                             sum_sq     df           F         PR(>F)\n",
              "C(league)              5.357507e+04    3.0    0.784126   5.028669e-01\n",
              "C(position)            3.609560e+07    4.0  396.221736  4.628890e-203\n",
              "C(league):C(position)  6.210768e+05   12.0    2.272522   7.638721e-03\n",
              "Residual               2.234215e+07  981.0         NaN            NaN"
            ]
          },
          "metadata": {
            "tags": []
          },
          "execution_count": 42
        }
      ]
    },
    {
      "cell_type": "markdown",
      "metadata": {
        "id": "g0LXXL5NIYS8"
      },
      "source": [
        "Tras analizar los resultados, podemos ver que si existe una significancia en la interacción si consideramos un nivel de significancia de $\\alpha=0.05$, ademas podemos ver que la variable de ligas si es significativa igual de las posiciones.\r\n",
        "\r\n",
        "Como hemos obtenido que las interacciones SI son significativas, vamos a analizar los gráficos de interacción:"
      ]
    },
    {
      "cell_type": "code",
      "metadata": {
        "colab": {
          "base_uri": "https://localhost:8080/",
          "height": 541
        },
        "id": "U-rufhkDXhow",
        "outputId": "321cda48-672d-4519-881d-3b3b337c8454"
      },
      "source": [
        "sm.graphics.interaction_plot(x=games_sample.position, trace=games_sample.league, response=games_sample.dpm)"
      ],
      "execution_count": null,
      "outputs": [
        {
          "output_type": "execute_result",
          "data": {
            "image/png": "[encoded data removed]",
            "text/plain": [
              "<Figure size 432x288 with 1 Axes>"
            ]
          },
          "metadata": {
            "tags": []
          },
          "execution_count": 43
        },
        {
          "output_type": "display_data",
          "data": {
            "image/png": "[encoded data removed]",
            "text/plain": [
              "<Figure size 432x288 with 1 Axes>"
            ]
          },
          "metadata": {
            "tags": [],
            "needs_background": "light"
          }
        }
      ]
    },
    {
      "cell_type": "markdown",
      "metadata": {
        "id": "53TyCQDeOHf6"
      },
      "source": [
        "Con los gráficos de interacciones podemos observar ciertas cosas:\r\n",
        "  - La interacción como se puede ver en las lineas es de una fuerte significancia ya que las lineas se cruzan.\r\n",
        "  - Existe una gran similitud entre la LCK y la LPL, se denota una fuerte relación entre estas en todos los roles, esto tiene sentido ya que ambas son ligas asiaticas que destacan por un estilo de juego similar.\r\n",
        "  - Los roles de bot, mid y top son notablemente más altos que los demas, esto tiene sentido ya que son los roles que cuentan con los objetos más poderosos de la partida."
      ]
    },
    {
      "cell_type": "code",
      "metadata": {
        "colab": {
          "base_uri": "https://localhost:8080/",
          "height": 393
        },
        "id": "OL_nEA_tUKRr",
        "outputId": "d11efc65-f527-4a11-ce6f-9e7b17b560fe"
      },
      "source": [
        "residuals = lm.resid\r\n",
        "plt.figure( figsize=(10, 5) )\r\n",
        "sns.pointplot( data=games_sample.assign(residuals=residuals, factor=games_sample.apply(lambda row: str(row.position)+\"-\"+str(row.league), axis=1)), x=\"factor\", y=\"residuals\", ci=\"sd\", join=False )\r\n",
        "plt.xticks(rotation=45)"
      ],
      "execution_count": null,
      "outputs": [
        {
          "output_type": "execute_result",
          "data": {
            "text/plain": [
              "(array([ 0,  1,  2,  3,  4,  5,  6,  7,  8,  9, 10, 11, 12, 13, 14, 15, 16,\n",
              "        17, 18, 19]), <a list of 20 Text major ticklabel objects>)"
            ]
          },
          "metadata": {
            "tags": []
          },
          "execution_count": 44
        },
        {
          "output_type": "display_data",
          "data": {
            "image/png": "[encoded data removed]",
            "text/plain": [
              "<Figure size 720x360 with 1 Axes>"
            ]
          },
          "metadata": {
            "tags": [],
            "needs_background": "light"
          }
        }
      ]
    },
    {
      "cell_type": "code",
      "metadata": {
        "colab": {
          "base_uri": "https://localhost:8080/",
          "height": 822
        },
        "id": "4s9dn6E2UbW2",
        "outputId": "60a6096c-f433-45b8-f1e8-512a8cafc882"
      },
      "source": [
        "plot = sm.ProbPlot(residuals, dist=\"norm\")\r\n",
        "plt.figure()\r\n",
        "plot.probplot(line=\"r\")\r\n",
        "plt.figure()\r\n",
        "sns.histplot(residuals)\r\n",
        "plt.figure()\r\n",
        "axes = sns.kdeplot( (residuals - residuals.mean() )/(residuals.std()), common_norm=False  )\r\n",
        "sns.lineplot( y=[ stats.norm.pdf(x) for x in np.arange(-3, 3, 0.01) ], x= [x for x in np.arange(-3, 3, 0.01)] )"
      ],
      "execution_count": null,
      "outputs": [
        {
          "output_type": "execute_result",
          "data": {
            "text/plain": [
              "<matplotlib.axes._subplots.AxesSubplot at 0x7f52c72d1358>"
            ]
          },
          "metadata": {
            "tags": []
          },
          "execution_count": 45
        },
        {
          "output_type": "display_data",
          "data": {
            "text/plain": [
              "<Figure size 432x288 with 0 Axes>"
            ]
          },
          "metadata": {
            "tags": []
          }
        },
        {
          "output_type": "display_data",
          "data": {
            "image/png": "[encoded data removed]",
            "text/plain": [
              "<Figure size 432x288 with 1 Axes>"
            ]
          },
          "metadata": {
            "tags": [],
            "needs_background": "light"
          }
        },
        {
          "output_type": "display_data",
          "data": {
            "image/png": "[encoded data removed]",
            "text/plain": [
              "<Figure size 432x288 with 1 Axes>"
            ]
          },
          "metadata": {
            "tags": [],
            "needs_background": "light"
          }
        },
        {
          "output_type": "display_data",
          "data": {
            "image/png": "[encoded data removed]",
            "text/plain": [
              "<Figure size 432x288 with 1 Axes>"
            ]
          },
          "metadata": {
            "tags": [],
            "needs_background": "light"
          }
        }
      ]
    },
    {
      "cell_type": "markdown",
      "metadata": {
        "id": "j7Dcn8NDUuVv"
      },
      "source": [
        "Después de analizar los residuos podemos ver que estos tienen un comportamiendo aproximadamente normal y las subpoblaciones son lo suficientemente grandes como para fiarnos, por lo que podemos asegurarnos del ANOVA realizado."
      ]
    },
    {
      "cell_type": "markdown",
      "metadata": {
        "id": "o_WEUPWem8Aw"
      },
      "source": [
        "# Regresión lineal"
      ]
    },
    {
      "cell_type": "markdown",
      "metadata": {
        "id": "sw9SjHB1m--E"
      },
      "source": [
        "## Regresión Lineal Simple"
      ]
    },
    {
      "cell_type": "markdown",
      "metadata": {
        "id": "aCrxkJXG35TG"
      },
      "source": [
        "Vamos a realizar una regresión lineal con variable predictora X=duración de partidas y una variable dependiente (a predecir) Y=daño por minuto."
      ]
    },
    {
      "cell_type": "code",
      "metadata": {
        "id": "hLqviyDNm_CA",
        "colab": {
          "base_uri": "https://localhost:8080/",
          "height": 296
        },
        "outputId": "1a0897bf-8650-4bc5-f449-d2861905d5bc"
      },
      "source": [
        "# X = games_sample[ (games_sample['position'] == 'top') & (games_sample['league'] == 'LCK')].dpm\r\n",
        "# Y = games_sample[ (games_sample['position'] == 'top') & (games_sample['league'] == 'LCK')].gamelength\r\n",
        "# sample_regression = games_sample.sample(n=100)\r\n",
        "X = games_sample.gamelength\r\n",
        "Y = games_sample.dpm\r\n",
        "sns.regplot( x=X, y=Y )"
      ],
      "execution_count": null,
      "outputs": [
        {
          "output_type": "execute_result",
          "data": {
            "text/plain": [
              "<matplotlib.axes._subplots.AxesSubplot at 0x7f52bdc42c88>"
            ]
          },
          "metadata": {
            "tags": []
          },
          "execution_count": 125
        },
        {
          "output_type": "display_data",
          "data": {
            "image/png": "[encoded data removed]",
            "text/plain": [
              "<Figure size 432x288 with 1 Axes>"
            ]
          },
          "metadata": {
            "tags": [],
            "needs_background": "light"
          }
        }
      ]
    },
    {
      "cell_type": "code",
      "metadata": {
        "colab": {
          "base_uri": "https://localhost:8080/"
        },
        "id": "8EwzATFJ3Hrv",
        "outputId": "cde29424-4419-4f9e-f461-45dc0e7cc6af"
      },
      "source": [
        "simple_r = stats.pearsonr(X,Y)\r\n",
        "print(\"Coeficiente de Correlación: \", simple_r[0])\r\n",
        "print(\"p-value: \", simple_r[1])"
      ],
      "execution_count": null,
      "outputs": [
        {
          "output_type": "stream",
          "text": [
            "Coeficiente de Correlación:  0.07437762804524178\n",
            "p-value:  0.01859645430688625\n"
          ],
          "name": "stdout"
        }
      ]
    },
    {
      "cell_type": "markdown",
      "metadata": {
        "id": "Xa9i6IRc3eYe"
      },
      "source": [
        "Obtenemos un coeficiente de correlación de 0.074 con un p-value de 0.018.\r\n",
        "\r\n",
        "Observando el gráfico de dispersión y el coeficiente de correlación, estos muestran que existe relación lineal, con una intensidad de (r = 0.074) y significancia (p-value = 0.018). Vamos a generar un modelo de regresión lineal simple, aunque observando el gráfico de dispersión no parece dar buenas señales."
      ]
    },
    {
      "cell_type": "code",
      "metadata": {
        "colab": {
          "base_uri": "https://localhost:8080/"
        },
        "id": "Yr8f0j0VsN87",
        "outputId": "a955b3e3-9624-44c3-ed47-d49587e31881"
      },
      "source": [
        "lm = ols('Y ~ X', data=pd.DataFrame().assign(X=X, Y=Y) )\r\n",
        "fitted_model = lm.fit()\r\n",
        "print(fitted_model.summary())"
      ],
      "execution_count": null,
      "outputs": [
        {
          "output_type": "stream",
          "text": [
            "                            OLS Regression Results                            \n",
            "==============================================================================\n",
            "Dep. Variable:                      Y   R-squared:                       0.006\n",
            "Model:                            OLS   Adj. R-squared:                  0.005\n",
            "Method:                 Least Squares   F-statistic:                     5.557\n",
            "Date:                Thu, 21 Jan 2021   Prob (F-statistic):             0.0186\n",
            "Time:                        18:03:24   Log-Likelihood:                -6809.4\n",
            "No. Observations:                1001   AIC:                         1.362e+04\n",
            "Df Residuals:                     999   BIC:                         1.363e+04\n",
            "Df Model:                           1                                         \n",
            "Covariance Type:            nonrobust                                         \n",
            "==============================================================================\n",
            "                 coef    std err          t      P>|t|      [0.025      0.975]\n",
            "------------------------------------------------------------------------------\n",
            "Intercept    270.0202     38.941      6.934      0.000     193.604     346.436\n",
            "X              0.0456      0.019      2.357      0.019       0.008       0.083\n",
            "==============================================================================\n",
            "Omnibus:                       72.817   Durbin-Watson:                   2.015\n",
            "Prob(Omnibus):                  0.000   Jarque-Bera (JB):               87.427\n",
            "Skew:                           0.718   Prob(JB):                     1.04e-19\n",
            "Kurtosis:                       3.188   Cond. No.                     1.14e+04\n",
            "==============================================================================\n",
            "\n",
            "Warnings:\n",
            "[1] Standard Errors assume that the covariance matrix of the errors is correctly specified.\n",
            "[2] The condition number is large, 1.14e+04. This might indicate that there are\n",
            "strong multicollinearity or other numerical problems.\n"
          ],
          "name": "stdout"
        }
      ]
    },
    {
      "cell_type": "markdown",
      "metadata": {
        "id": "d-HwfTDG5wba"
      },
      "source": [
        "Depués de realizar el análisis de regresión, podemos ver, como anteriormente que existe relación lineal entre las variables analizadas, aunque esto tambien puede deberse a que estamos trabajando con 1000 muestras y cabe la posibilidad de que esté introduciendo ruido en el analisis. \r\n",
        "\r\n",
        "Tambien se observa una $r^2$ de 0.005, lo que nos dice que el 0.5% de los datos de daño por minuto son explicados por la duración de las partidas, esto nos hace entender que se trata de un modelo con una capacidad predictiva casi nula.\r\n",
        "\r\n",
        "La ecuación resultante es:\r\n",
        "$y = 106.18 + 0.11x $\r\n",
        "\r\n",
        "Ahora vamos a analizar los residuos para contrastar las hipotesis del analisis de regresión:"
      ]
    },
    {
      "cell_type": "code",
      "metadata": {
        "colab": {
          "base_uri": "https://localhost:8080/",
          "height": 293
        },
        "id": "ZpEjJvCL7uYb",
        "outputId": "0fde2eee-f900-41ab-d6ac-79d32b535d40"
      },
      "source": [
        "# normalidad de los residuos\r\n",
        "plot = sm.ProbPlot(data=fitted_model.resid).probplot(line=\"r\")"
      ],
      "execution_count": null,
      "outputs": [
        {
          "output_type": "display_data",
          "data": {
            "image/png": "[encoded data removed]",
            "text/plain": [
              "<Figure size 432x288 with 1 Axes>"
            ]
          },
          "metadata": {
            "tags": [],
            "needs_background": "light"
          }
        }
      ]
    },
    {
      "cell_type": "code",
      "metadata": {
        "colab": {
          "base_uri": "https://localhost:8080/",
          "height": 296
        },
        "id": "VrSMXw528DOa",
        "outputId": "9c75b4ab-9256-45dc-8fbf-3b42d7d46015"
      },
      "source": [
        "# analisis del error (comprobar homocedasticidad)\r\n",
        "f=sns.scatterplot(x=fitted_model.predict(), y=fitted_model.resid)\r\n",
        "f.set_xlabel(\"Fitted value\")\r\n",
        "f.set_ylabel(\"Residual\")"
      ],
      "execution_count": null,
      "outputs": [
        {
          "output_type": "execute_result",
          "data": {
            "text/plain": [
              "Text(0, 0.5, 'Residual')"
            ]
          },
          "metadata": {
            "tags": []
          },
          "execution_count": 129
        },
        {
          "output_type": "display_data",
          "data": {
            "image/png": "[encoded data removed]",
            "text/plain": [
              "<Figure size 432x288 with 1 Axes>"
            ]
          },
          "metadata": {
            "tags": [],
            "needs_background": "light"
          }
        }
      ]
    },
    {
      "cell_type": "code",
      "metadata": {
        "colab": {
          "base_uri": "https://localhost:8080/",
          "height": 265
        },
        "id": "zlK5kcns8WNr",
        "outputId": "2e35b666-bd1d-4143-a4c1-d8e9eb0d4243"
      },
      "source": [
        "f=sns.scatterplot(x=[i for i in range(len(X))], y=fitted_model.resid)"
      ],
      "execution_count": null,
      "outputs": [
        {
          "output_type": "display_data",
          "data": {
            "image/png": "[encoded data removed]",
            "text/plain": [
              "<Figure size 432x288 with 1 Axes>"
            ]
          },
          "metadata": {
            "tags": [],
            "needs_background": "light"
          }
        }
      ]
    },
    {
      "cell_type": "markdown",
      "metadata": {
        "id": "SZCPbHX382SY"
      },
      "source": [
        "Después de observar los residuos, podemos ver que:\r\n",
        " - Parece que los residuos no siguen bien una normal ya que parece que se están acercando a una ecuación cuadratica o a otra forma diferente de una normal.\r\n",
        " - Observamos tambien que al observar la predicción realizada para los datos de la muestra con respecto al residuo (error cometido en la prediccón) se puede ver que los residuos tienen un comportamiento heterocedastico.\r\n",
        " - Parece que tambien hay cierta independencia al observar los errores.\r\n",
        "\r\n",
        "Después de observar los residuos, podemos contrastar, como esperabamos, que el modelo nos ofrece unas predicciones bastante pobres."
      ]
    },
    {
      "cell_type": "markdown",
      "metadata": {
        "id": "S1dXSHqF-H8U"
      },
      "source": [
        "## Regresión Múltiple"
      ]
    },
    {
      "cell_type": "markdown",
      "metadata": {
        "id": "0lEbENl3BzVS"
      },
      "source": [
        "Ahora vamos a realizar un analisis de regresión similar pero añadiendo otra variable predictora de manera que quedará:\r\n",
        " - X1 = duración de partidas (predictora 1)\r\n",
        " - X2 = visión por minuto (predictora 2)\r\n",
        " - Y = daño por minuto (dependiente)\r\n"
      ]
    },
    {
      "cell_type": "code",
      "metadata": {
        "colab": {
          "base_uri": "https://localhost:8080/"
        },
        "id": "I28bp63sC_o7",
        "outputId": "e16f1ee8-0f69-42ed-b62e-d305b2cc3fcd"
      },
      "source": [
        "X1 = games_sample.gamelength\r\n",
        "X2 = games_sample.vspm\r\n",
        "Y = games_sample.dpm\r\n",
        "\r\n",
        "# analisis de regresión\r\n",
        "lm = ols('Y ~ X1 + X2', data=pd.DataFrame().assign(X1=X1, X2=X2, Y=Y) )\r\n",
        "fitted_model = lm.fit()\r\n",
        "print(fitted_model.summary())"
      ],
      "execution_count": null,
      "outputs": [
        {
          "output_type": "stream",
          "text": [
            "                            OLS Regression Results                            \n",
            "==============================================================================\n",
            "Dep. Variable:                      Y   R-squared:                       0.248\n",
            "Model:                            OLS   Adj. R-squared:                  0.247\n",
            "Method:                 Least Squares   F-statistic:                     164.7\n",
            "Date:                Thu, 21 Jan 2021   Prob (F-statistic):           1.57e-62\n",
            "Time:                        18:10:19   Log-Likelihood:                -6669.4\n",
            "No. Observations:                1001   AIC:                         1.334e+04\n",
            "Df Residuals:                     998   BIC:                         1.336e+04\n",
            "Df Model:                           2                                         \n",
            "Covariance Type:            nonrobust                                         \n",
            "==============================================================================\n",
            "                 coef    std err          t      P>|t|      [0.025      0.975]\n",
            "------------------------------------------------------------------------------\n",
            "Intercept    398.4427     34.625     11.507      0.000     330.497     466.388\n",
            "X1             0.0914      0.017      5.373      0.000       0.058       0.125\n",
            "X2          -139.7569      7.788    -17.944      0.000    -155.040    -124.474\n",
            "==============================================================================\n",
            "Omnibus:                      124.822   Durbin-Watson:                   1.963\n",
            "Prob(Omnibus):                  0.000   Jarque-Bera (JB):              178.199\n",
            "Skew:                           0.907   Prob(JB):                     2.02e-39\n",
            "Kurtosis:                       3.990   Cond. No.                     1.17e+04\n",
            "==============================================================================\n",
            "\n",
            "Warnings:\n",
            "[1] Standard Errors assume that the covariance matrix of the errors is correctly specified.\n",
            "[2] The condition number is large, 1.17e+04. This might indicate that there are\n",
            "strong multicollinearity or other numerical problems.\n"
          ],
          "name": "stdout"
        }
      ]
    },
    {
      "cell_type": "markdown",
      "metadata": {
        "id": "mW8vf-9MD2p0"
      },
      "source": [
        "Observando el analisis de regresión múltiple, podemos ver que esta vez si que parece existir una relación lineal significante, con un nivel de significancia aceptable (p-value = $ 1.57 * 10^-62 $)\r\n",
        "\r\n",
        "En cuanto a las variables independientes introducidas, parece que ambas demuestran significancia en la relación lineal a nivel poblacional.\r\n",
        "\r\n",
        "Observando la $r^2$ de ambos modelos:\r\n",
        " - regresión simple = 0.005\r\n",
        " - regresión múltiple = 0.247\r\n",
        "Podemos concluir que el nuevo modelo tiene más predición que el anterior, ya que este explica un 24.7% del daño por minuto a partir de la duración de partidas junto con la visión por minuto.\r\n",
        "\r\n",
        "\r\n",
        "\r\n",
        "\r\n",
        "`author: Carlos María Canut Domínguez`"
      ]
    }
  ]
}